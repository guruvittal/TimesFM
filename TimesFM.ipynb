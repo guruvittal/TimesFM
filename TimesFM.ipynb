{
  "nbformat": 4,
  "nbformat_minor": 0,
  "metadata": {
    "colab": {
      "provenance": [],
      "mount_file_id": "1pF1j5D0B8ehW_5KZZTtG4ZVJW_aBseyB",
      "authorship_tag": "ABX9TyP9m63Szj4UxNDXfyBbmtbe",
      "include_colab_link": true
    },
    "kernelspec": {
      "name": "python3",
      "display_name": "Python 3"
    },
    "language_info": {
      "name": "python"
    },
    "widgets": {
      "application/vnd.jupyter.widget-state+json": {
        "dfd13d86fd884a998f83c467bb4f0ebd": {
          "model_module": "@jupyter-widgets/controls",
          "model_name": "HBoxModel",
          "model_module_version": "1.5.0",
          "state": {
            "_dom_classes": [],
            "_model_module": "@jupyter-widgets/controls",
            "_model_module_version": "1.5.0",
            "_model_name": "HBoxModel",
            "_view_count": null,
            "_view_module": "@jupyter-widgets/controls",
            "_view_module_version": "1.5.0",
            "_view_name": "HBoxView",
            "box_style": "",
            "children": [
              "IPY_MODEL_d95b0787fe914221b85c074b8063f26f",
              "IPY_MODEL_5856951de2fc4489ab13d022cfd308d0",
              "IPY_MODEL_cbe4ba5e8b5448caababe9978579c365"
            ],
            "layout": "IPY_MODEL_6048680688ae440eae9a15c97d41a89f"
          }
        },
        "d95b0787fe914221b85c074b8063f26f": {
          "model_module": "@jupyter-widgets/controls",
          "model_name": "HTMLModel",
          "model_module_version": "1.5.0",
          "state": {
            "_dom_classes": [],
            "_model_module": "@jupyter-widgets/controls",
            "_model_module_version": "1.5.0",
            "_model_name": "HTMLModel",
            "_view_count": null,
            "_view_module": "@jupyter-widgets/controls",
            "_view_module_version": "1.5.0",
            "_view_name": "HTMLView",
            "description": "",
            "description_tooltip": null,
            "layout": "IPY_MODEL_9989d5181a83408b9863f7a9f35e90a9",
            "placeholder": "​",
            "style": "IPY_MODEL_768ee4f70ff3452d8fb20e5a081b2834",
            "value": "Fetching 5 files: 100%"
          }
        },
        "5856951de2fc4489ab13d022cfd308d0": {
          "model_module": "@jupyter-widgets/controls",
          "model_name": "FloatProgressModel",
          "model_module_version": "1.5.0",
          "state": {
            "_dom_classes": [],
            "_model_module": "@jupyter-widgets/controls",
            "_model_module_version": "1.5.0",
            "_model_name": "FloatProgressModel",
            "_view_count": null,
            "_view_module": "@jupyter-widgets/controls",
            "_view_module_version": "1.5.0",
            "_view_name": "ProgressView",
            "bar_style": "success",
            "description": "",
            "description_tooltip": null,
            "layout": "IPY_MODEL_46e976374d974f6e8f5f49a41600c575",
            "max": 5,
            "min": 0,
            "orientation": "horizontal",
            "style": "IPY_MODEL_8fc608bce88c4e7496fc32c342ea2174",
            "value": 5
          }
        },
        "cbe4ba5e8b5448caababe9978579c365": {
          "model_module": "@jupyter-widgets/controls",
          "model_name": "HTMLModel",
          "model_module_version": "1.5.0",
          "state": {
            "_dom_classes": [],
            "_model_module": "@jupyter-widgets/controls",
            "_model_module_version": "1.5.0",
            "_model_name": "HTMLModel",
            "_view_count": null,
            "_view_module": "@jupyter-widgets/controls",
            "_view_module_version": "1.5.0",
            "_view_name": "HTMLView",
            "description": "",
            "description_tooltip": null,
            "layout": "IPY_MODEL_c1a125d226414cd18b213878b5c71ebb",
            "placeholder": "​",
            "style": "IPY_MODEL_a0ef489538b645678e0c79ceff6de775",
            "value": " 5/5 [00:00&lt;00:00, 160.48it/s]"
          }
        },
        "6048680688ae440eae9a15c97d41a89f": {
          "model_module": "@jupyter-widgets/base",
          "model_name": "LayoutModel",
          "model_module_version": "1.2.0",
          "state": {
            "_model_module": "@jupyter-widgets/base",
            "_model_module_version": "1.2.0",
            "_model_name": "LayoutModel",
            "_view_count": null,
            "_view_module": "@jupyter-widgets/base",
            "_view_module_version": "1.2.0",
            "_view_name": "LayoutView",
            "align_content": null,
            "align_items": null,
            "align_self": null,
            "border": null,
            "bottom": null,
            "display": null,
            "flex": null,
            "flex_flow": null,
            "grid_area": null,
            "grid_auto_columns": null,
            "grid_auto_flow": null,
            "grid_auto_rows": null,
            "grid_column": null,
            "grid_gap": null,
            "grid_row": null,
            "grid_template_areas": null,
            "grid_template_columns": null,
            "grid_template_rows": null,
            "height": null,
            "justify_content": null,
            "justify_items": null,
            "left": null,
            "margin": null,
            "max_height": null,
            "max_width": null,
            "min_height": null,
            "min_width": null,
            "object_fit": null,
            "object_position": null,
            "order": null,
            "overflow": null,
            "overflow_x": null,
            "overflow_y": null,
            "padding": null,
            "right": null,
            "top": null,
            "visibility": null,
            "width": null
          }
        },
        "9989d5181a83408b9863f7a9f35e90a9": {
          "model_module": "@jupyter-widgets/base",
          "model_name": "LayoutModel",
          "model_module_version": "1.2.0",
          "state": {
            "_model_module": "@jupyter-widgets/base",
            "_model_module_version": "1.2.0",
            "_model_name": "LayoutModel",
            "_view_count": null,
            "_view_module": "@jupyter-widgets/base",
            "_view_module_version": "1.2.0",
            "_view_name": "LayoutView",
            "align_content": null,
            "align_items": null,
            "align_self": null,
            "border": null,
            "bottom": null,
            "display": null,
            "flex": null,
            "flex_flow": null,
            "grid_area": null,
            "grid_auto_columns": null,
            "grid_auto_flow": null,
            "grid_auto_rows": null,
            "grid_column": null,
            "grid_gap": null,
            "grid_row": null,
            "grid_template_areas": null,
            "grid_template_columns": null,
            "grid_template_rows": null,
            "height": null,
            "justify_content": null,
            "justify_items": null,
            "left": null,
            "margin": null,
            "max_height": null,
            "max_width": null,
            "min_height": null,
            "min_width": null,
            "object_fit": null,
            "object_position": null,
            "order": null,
            "overflow": null,
            "overflow_x": null,
            "overflow_y": null,
            "padding": null,
            "right": null,
            "top": null,
            "visibility": null,
            "width": null
          }
        },
        "768ee4f70ff3452d8fb20e5a081b2834": {
          "model_module": "@jupyter-widgets/controls",
          "model_name": "DescriptionStyleModel",
          "model_module_version": "1.5.0",
          "state": {
            "_model_module": "@jupyter-widgets/controls",
            "_model_module_version": "1.5.0",
            "_model_name": "DescriptionStyleModel",
            "_view_count": null,
            "_view_module": "@jupyter-widgets/base",
            "_view_module_version": "1.2.0",
            "_view_name": "StyleView",
            "description_width": ""
          }
        },
        "46e976374d974f6e8f5f49a41600c575": {
          "model_module": "@jupyter-widgets/base",
          "model_name": "LayoutModel",
          "model_module_version": "1.2.0",
          "state": {
            "_model_module": "@jupyter-widgets/base",
            "_model_module_version": "1.2.0",
            "_model_name": "LayoutModel",
            "_view_count": null,
            "_view_module": "@jupyter-widgets/base",
            "_view_module_version": "1.2.0",
            "_view_name": "LayoutView",
            "align_content": null,
            "align_items": null,
            "align_self": null,
            "border": null,
            "bottom": null,
            "display": null,
            "flex": null,
            "flex_flow": null,
            "grid_area": null,
            "grid_auto_columns": null,
            "grid_auto_flow": null,
            "grid_auto_rows": null,
            "grid_column": null,
            "grid_gap": null,
            "grid_row": null,
            "grid_template_areas": null,
            "grid_template_columns": null,
            "grid_template_rows": null,
            "height": null,
            "justify_content": null,
            "justify_items": null,
            "left": null,
            "margin": null,
            "max_height": null,
            "max_width": null,
            "min_height": null,
            "min_width": null,
            "object_fit": null,
            "object_position": null,
            "order": null,
            "overflow": null,
            "overflow_x": null,
            "overflow_y": null,
            "padding": null,
            "right": null,
            "top": null,
            "visibility": null,
            "width": null
          }
        },
        "8fc608bce88c4e7496fc32c342ea2174": {
          "model_module": "@jupyter-widgets/controls",
          "model_name": "ProgressStyleModel",
          "model_module_version": "1.5.0",
          "state": {
            "_model_module": "@jupyter-widgets/controls",
            "_model_module_version": "1.5.0",
            "_model_name": "ProgressStyleModel",
            "_view_count": null,
            "_view_module": "@jupyter-widgets/base",
            "_view_module_version": "1.2.0",
            "_view_name": "StyleView",
            "bar_color": null,
            "description_width": ""
          }
        },
        "c1a125d226414cd18b213878b5c71ebb": {
          "model_module": "@jupyter-widgets/base",
          "model_name": "LayoutModel",
          "model_module_version": "1.2.0",
          "state": {
            "_model_module": "@jupyter-widgets/base",
            "_model_module_version": "1.2.0",
            "_model_name": "LayoutModel",
            "_view_count": null,
            "_view_module": "@jupyter-widgets/base",
            "_view_module_version": "1.2.0",
            "_view_name": "LayoutView",
            "align_content": null,
            "align_items": null,
            "align_self": null,
            "border": null,
            "bottom": null,
            "display": null,
            "flex": null,
            "flex_flow": null,
            "grid_area": null,
            "grid_auto_columns": null,
            "grid_auto_flow": null,
            "grid_auto_rows": null,
            "grid_column": null,
            "grid_gap": null,
            "grid_row": null,
            "grid_template_areas": null,
            "grid_template_columns": null,
            "grid_template_rows": null,
            "height": null,
            "justify_content": null,
            "justify_items": null,
            "left": null,
            "margin": null,
            "max_height": null,
            "max_width": null,
            "min_height": null,
            "min_width": null,
            "object_fit": null,
            "object_position": null,
            "order": null,
            "overflow": null,
            "overflow_x": null,
            "overflow_y": null,
            "padding": null,
            "right": null,
            "top": null,
            "visibility": null,
            "width": null
          }
        },
        "a0ef489538b645678e0c79ceff6de775": {
          "model_module": "@jupyter-widgets/controls",
          "model_name": "DescriptionStyleModel",
          "model_module_version": "1.5.0",
          "state": {
            "_model_module": "@jupyter-widgets/controls",
            "_model_module_version": "1.5.0",
            "_model_name": "DescriptionStyleModel",
            "_view_count": null,
            "_view_module": "@jupyter-widgets/base",
            "_view_module_version": "1.2.0",
            "_view_name": "StyleView",
            "description_width": ""
          }
        }
      }
    }
  },
  "cells": [
    {
      "cell_type": "markdown",
      "metadata": {
        "id": "view-in-github",
        "colab_type": "text"
      },
      "source": [
        "<a href=\"https://colab.research.google.com/github/guruvittal/TimesFM/blob/main/TimesFM.ipynb\" target=\"_parent\"><img src=\"https://colab.research.google.com/assets/colab-badge.svg\" alt=\"Open In Colab\"/></a>"
      ]
    },
    {
      "cell_type": "code",
      "execution_count": 1,
      "metadata": {
        "id": "rAGkxuhNaYst",
        "colab": {
          "base_uri": "https://localhost:8080/"
        },
        "outputId": "54f0944f-16bd-4542-d4ba-a8657b99f1fa"
      },
      "outputs": [
        {
          "output_type": "stream",
          "name": "stdout",
          "text": [
            "installing package einshape\n",
            "installing package paxml\n",
            "\u001b[2K     \u001b[90m━━━━━━━━━━━━━━━━━━━━━━━━━━━━━━━━━━━━━━━━\u001b[0m \u001b[32m440.2/440.2 kB\u001b[0m \u001b[31m7.0 MB/s\u001b[0m eta \u001b[36m0:00:00\u001b[0m\n",
            "\u001b[2K     \u001b[90m━━━━━━━━━━━━━━━━━━━━━━━━━━━━━━━━━━━━━━━━\u001b[0m \u001b[32m101.4/101.4 kB\u001b[0m \u001b[31m7.1 MB/s\u001b[0m eta \u001b[36m0:00:00\u001b[0m\n",
            "\u001b[2K     \u001b[90m━━━━━━━━━━━━━━━━━━━━━━━━━━━━━━━━━━━━━━━━\u001b[0m \u001b[32m686.8/686.8 kB\u001b[0m \u001b[31m14.3 MB/s\u001b[0m eta \u001b[36m0:00:00\u001b[0m\n",
            "\u001b[2K     \u001b[90m━━━━━━━━━━━━━━━━━━━━━━━━━━━━━━━━━━━━━━━━\u001b[0m \u001b[32m47.0/47.0 kB\u001b[0m \u001b[31m5.2 MB/s\u001b[0m eta \u001b[36m0:00:00\u001b[0m\n",
            "\u001b[2K     \u001b[90m━━━━━━━━━━━━━━━━━━━━━━━━━━━━━━━━━━━━━━━━\u001b[0m \u001b[32m18.0/18.0 MB\u001b[0m \u001b[31m27.8 MB/s\u001b[0m eta \u001b[36m0:00:00\u001b[0m\n",
            "\u001b[2K     \u001b[90m━━━━━━━━━━━━━━━━━━━━━━━━━━━━━━━━━━━━━━━━\u001b[0m \u001b[32m18.2/18.2 MB\u001b[0m \u001b[31m31.6 MB/s\u001b[0m eta \u001b[36m0:00:00\u001b[0m\n",
            "\u001b[2K     \u001b[90m━━━━━━━━━━━━━━━━━━━━━━━━━━━━━━━━━━━━━━━━\u001b[0m \u001b[32m168.0/168.0 kB\u001b[0m \u001b[31m12.2 MB/s\u001b[0m eta \u001b[36m0:00:00\u001b[0m\n",
            "\u001b[2K     \u001b[90m━━━━━━━━━━━━━━━━━━━━━━━━━━━━━━━━━━━━━━━━\u001b[0m \u001b[32m772.5/772.5 kB\u001b[0m \u001b[31m24.7 MB/s\u001b[0m eta \u001b[36m0:00:00\u001b[0m\n",
            "\u001b[2K     \u001b[90m━━━━━━━━━━━━━━━━━━━━━━━━━━━━━━━━━━━━━━━━\u001b[0m \u001b[32m1.1/1.1 MB\u001b[0m \u001b[31m22.0 MB/s\u001b[0m eta \u001b[36m0:00:00\u001b[0m\n",
            "\u001b[2K     \u001b[90m━━━━━━━━━━━━━━━━━━━━━━━━━━━━━━━━━━━━━━━━\u001b[0m \u001b[32m577.8/577.8 kB\u001b[0m \u001b[31m12.0 MB/s\u001b[0m eta \u001b[36m0:00:00\u001b[0m\n",
            "\u001b[2K     \u001b[90m━━━━━━━━━━━━━━━━━━━━━━━━━━━━━━━━━━━━━━━━\u001b[0m \u001b[32m353.1/353.1 kB\u001b[0m \u001b[31m16.2 MB/s\u001b[0m eta \u001b[36m0:00:00\u001b[0m\n",
            "\u001b[2K     \u001b[90m━━━━━━━━━━━━━━━━━━━━━━━━━━━━━━━━━━━━━━━━\u001b[0m \u001b[32m164.5/164.5 kB\u001b[0m \u001b[31m12.5 MB/s\u001b[0m eta \u001b[36m0:00:00\u001b[0m\n",
            "\u001b[2K     \u001b[90m━━━━━━━━━━━━━━━━━━━━━━━━━━━━━━━━━━━━━━━━\u001b[0m \u001b[32m5.4/5.4 MB\u001b[0m \u001b[31m22.6 MB/s\u001b[0m eta \u001b[36m0:00:00\u001b[0m\n",
            "\u001b[2K     \u001b[90m━━━━━━━━━━━━━━━━━━━━━━━━━━━━━━━━━━━━━━━━\u001b[0m \u001b[32m52.3/52.3 kB\u001b[0m \u001b[31m3.8 MB/s\u001b[0m eta \u001b[36m0:00:00\u001b[0m\n",
            "\u001b[2K     \u001b[90m━━━━━━━━━━━━━━━━━━━━━━━━━━━━━━━━━━━━━━━━\u001b[0m \u001b[32m4.6/4.6 MB\u001b[0m \u001b[31m25.2 MB/s\u001b[0m eta \u001b[36m0:00:00\u001b[0m\n",
            "\u001b[2K     \u001b[90m━━━━━━━━━━━━━━━━━━━━━━━━━━━━━━━━━━━━━━━━\u001b[0m \u001b[32m511.8/511.8 MB\u001b[0m \u001b[31m2.8 MB/s\u001b[0m eta \u001b[36m0:00:00\u001b[0m\n",
            "\u001b[2K     \u001b[90m━━━━━━━━━━━━━━━━━━━━━━━━━━━━━━━━━━━━━━━━\u001b[0m \u001b[32m14.3/14.3 MB\u001b[0m \u001b[31m39.2 MB/s\u001b[0m eta \u001b[36m0:00:00\u001b[0m\n",
            "\u001b[2K     \u001b[90m━━━━━━━━━━━━━━━━━━━━━━━━━━━━━━━━━━━━━━━━\u001b[0m \u001b[32m5.4/5.4 MB\u001b[0m \u001b[31m74.3 MB/s\u001b[0m eta \u001b[36m0:00:00\u001b[0m\n",
            "\u001b[2K     \u001b[90m━━━━━━━━━━━━━━━━━━━━━━━━━━━━━━━━━━━━━━━━\u001b[0m \u001b[32m77.9/77.9 kB\u001b[0m \u001b[31m6.6 MB/s\u001b[0m eta \u001b[36m0:00:00\u001b[0m\n",
            "\u001b[?25h  Preparing metadata (setup.py) ... \u001b[?25l\u001b[?25hdone\n",
            "\u001b[2K     \u001b[90m━━━━━━━━━━━━━━━━━━━━━━━━━━━━━━━━━━━━━━━━\u001b[0m \u001b[32m90.0/90.0 kB\u001b[0m \u001b[31m9.0 MB/s\u001b[0m eta \u001b[36m0:00:00\u001b[0m\n",
            "\u001b[2K     \u001b[90m━━━━━━━━━━━━━━━━━━━━━━━━━━━━━━━━━━━━━━━━\u001b[0m \u001b[32m52.6/52.6 kB\u001b[0m \u001b[31m4.7 MB/s\u001b[0m eta \u001b[36m0:00:00\u001b[0m\n",
            "\u001b[2K     \u001b[90m━━━━━━━━━━━━━━━━━━━━━━━━━━━━━━━━━━━━━━━━\u001b[0m \u001b[32m44.6/44.6 kB\u001b[0m \u001b[31m4.4 MB/s\u001b[0m eta \u001b[36m0:00:00\u001b[0m\n",
            "\u001b[2K     \u001b[90m━━━━━━━━━━━━━━━━━━━━━━━━━━━━━━━━━━━━━━━━\u001b[0m \u001b[32m419.8/419.8 kB\u001b[0m \u001b[31m27.2 MB/s\u001b[0m eta \u001b[36m0:00:00\u001b[0m\n",
            "\u001b[2K     \u001b[90m━━━━━━━━━━━━━━━━━━━━━━━━━━━━━━━━━━━━━━━━\u001b[0m \u001b[32m40.7/40.7 kB\u001b[0m \u001b[31m3.8 MB/s\u001b[0m eta \u001b[36m0:00:00\u001b[0m\n",
            "\u001b[2K     \u001b[90m━━━━━━━━━━━━━━━━━━━━━━━━━━━━━━━━━━━━━━━━\u001b[0m \u001b[32m385.2/385.2 kB\u001b[0m \u001b[31m34.2 MB/s\u001b[0m eta \u001b[36m0:00:00\u001b[0m\n",
            "\u001b[?25h  Preparing metadata (setup.py) ... \u001b[?25l\u001b[?25hdone\n",
            "\u001b[2K     \u001b[90m━━━━━━━━━━━━━━━━━━━━━━━━━━━━━━━━━━━━━━━━\u001b[0m \u001b[32m106.7/106.7 kB\u001b[0m \u001b[31m11.5 MB/s\u001b[0m eta \u001b[36m0:00:00\u001b[0m\n",
            "\u001b[2K     \u001b[90m━━━━━━━━━━━━━━━━━━━━━━━━━━━━━━━━━━━━━━━━\u001b[0m \u001b[32m2.2/2.2 MB\u001b[0m \u001b[31m53.3 MB/s\u001b[0m eta \u001b[36m0:00:00\u001b[0m\n",
            "\u001b[2K     \u001b[90m━━━━━━━━━━━━━━━━━━━━━━━━━━━━━━━━━━━━━━━━\u001b[0m \u001b[32m2.3/2.3 MB\u001b[0m \u001b[31m40.1 MB/s\u001b[0m eta \u001b[36m0:00:00\u001b[0m\n",
            "\u001b[2K     \u001b[90m━━━━━━━━━━━━━━━━━━━━━━━━━━━━━━━━━━━━━━━━\u001b[0m \u001b[32m1.6/1.6 MB\u001b[0m \u001b[31m44.8 MB/s\u001b[0m eta \u001b[36m0:00:00\u001b[0m\n",
            "\u001b[2K     \u001b[90m━━━━━━━━━━━━━━━━━━━━━━━━━━━━━━━━━━━━━━━━\u001b[0m \u001b[32m42.6/42.6 kB\u001b[0m \u001b[31m3.7 MB/s\u001b[0m eta \u001b[36m0:00:00\u001b[0m\n",
            "\u001b[2K     \u001b[90m━━━━━━━━━━━━━━━━━━━━━━━━━━━━━━━━━━━━━━━━\u001b[0m \u001b[32m5.8/5.8 MB\u001b[0m \u001b[31m68.0 MB/s\u001b[0m eta \u001b[36m0:00:00\u001b[0m\n",
            "\u001b[2K     \u001b[90m━━━━━━━━━━━━━━━━━━━━━━━━━━━━━━━━━━━━━━━━\u001b[0m \u001b[32m438.7/438.7 kB\u001b[0m \u001b[31m25.0 MB/s\u001b[0m eta \u001b[36m0:00:00\u001b[0m\n",
            "\u001b[2K     \u001b[90m━━━━━━━━━━━━━━━━━━━━━━━━━━━━━━━━━━━━━━━━\u001b[0m \u001b[32m4.9/4.9 MB\u001b[0m \u001b[31m63.9 MB/s\u001b[0m eta \u001b[36m0:00:00\u001b[0m\n",
            "\u001b[2K     \u001b[90m━━━━━━━━━━━━━━━━━━━━━━━━━━━━━━━━━━━━━━━━\u001b[0m \u001b[32m781.3/781.3 kB\u001b[0m \u001b[31m37.3 MB/s\u001b[0m eta \u001b[36m0:00:00\u001b[0m\n",
            "\u001b[2K     \u001b[90m━━━━━━━━━━━━━━━━━━━━━━━━━━━━━━━━━━━━━━━━\u001b[0m \u001b[32m123.4/123.4 kB\u001b[0m \u001b[31m11.2 MB/s\u001b[0m eta \u001b[36m0:00:00\u001b[0m\n",
            "\u001b[2K     \u001b[90m━━━━━━━━━━━━━━━━━━━━━━━━━━━━━━━━━━━━━━━━\u001b[0m \u001b[32m1.6/1.6 MB\u001b[0m \u001b[31m20.0 MB/s\u001b[0m eta \u001b[36m0:00:00\u001b[0m\n",
            "\u001b[2K     \u001b[90m━━━━━━━━━━━━━━━━━━━━━━━━━━━━━━━━━━━━━━━━\u001b[0m \u001b[32m1.7/1.7 MB\u001b[0m \u001b[31m72.0 MB/s\u001b[0m eta \u001b[36m0:00:00\u001b[0m\n",
            "\u001b[2K     \u001b[90m━━━━━━━━━━━━━━━━━━━━━━━━━━━━━━━━━━━━━━━━\u001b[0m \u001b[32m1.7/1.7 MB\u001b[0m \u001b[31m74.5 MB/s\u001b[0m eta \u001b[36m0:00:00\u001b[0m\n",
            "\u001b[2K     \u001b[90m━━━━━━━━━━━━━━━━━━━━━━━━━━━━━━━━━━━━━━━━\u001b[0m \u001b[32m93.5/93.5 kB\u001b[0m \u001b[31m10.6 MB/s\u001b[0m eta \u001b[36m0:00:00\u001b[0m\n",
            "\u001b[?25h  Building wheel for rouge-score (setup.py) ... \u001b[?25l\u001b[?25hdone\n",
            "  Building wheel for ml-collections (setup.py) ... \u001b[?25l\u001b[?25hdone\n",
            "\u001b[33m  WARNING: The script qtpy is installed in '/root/.local/bin' which is not on PATH.\n",
            "  Consider adding this directory to PATH or, if you prefer to suppress this warning, use --no-warn-script-location.\u001b[0m\u001b[33m\n",
            "\u001b[0m\u001b[33m  WARNING: The script f2py is installed in '/root/.local/bin' which is not on PATH.\n",
            "  Consider adding this directory to PATH or, if you prefer to suppress this warning, use --no-warn-script-location.\u001b[0m\u001b[33m\n",
            "\u001b[0m\u001b[33m  WARNING: The script sacrebleu is installed in '/root/.local/bin' which is not on PATH.\n",
            "  Consider adding this directory to PATH or, if you prefer to suppress this warning, use --no-warn-script-location.\u001b[0m\u001b[33m\n",
            "\u001b[0m\u001b[33m  WARNING: The script google-oauthlib-tool is installed in '/root/.local/bin' which is not on PATH.\n",
            "  Consider adding this directory to PATH or, if you prefer to suppress this warning, use --no-warn-script-location.\u001b[0m\u001b[33m\n",
            "\u001b[0m\u001b[33m  WARNING: The script tfds is installed in '/root/.local/bin' which is not on PATH.\n",
            "  Consider adding this directory to PATH or, if you prefer to suppress this warning, use --no-warn-script-location.\u001b[0m\u001b[33m\n",
            "\u001b[0m\u001b[33m  WARNING: The script tfds is installed in '/root/.local/bin' which is not on PATH.\n",
            "  Consider adding this directory to PATH or, if you prefer to suppress this warning, use --no-warn-script-location.\u001b[0m\u001b[33m\n",
            "\u001b[0m\u001b[33m  WARNING: The script tensorboard is installed in '/root/.local/bin' which is not on PATH.\n",
            "  Consider adding this directory to PATH or, if you prefer to suppress this warning, use --no-warn-script-location.\u001b[0m\u001b[33m\n",
            "\u001b[0m\u001b[33m  WARNING: The scripts estimator_ckpt_converter, import_pb_to_tensorboard, saved_model_cli, tensorboard, tf_upgrade_v2, tflite_convert, toco and toco_from_protos are installed in '/root/.local/bin' which is not on PATH.\n",
            "  Consider adding this directory to PATH or, if you prefer to suppress this warning, use --no-warn-script-location.\u001b[0m\u001b[33m\n",
            "\u001b[0m\u001b[33m  WARNING: The script seqio_cache_tasks is installed in '/root/.local/bin' which is not on PATH.\n",
            "  Consider adding this directory to PATH or, if you prefer to suppress this warning, use --no-warn-script-location.\u001b[0m\u001b[33m\n",
            "\u001b[0m\u001b[33m  WARNING: The scripts t5_cache_tasks, t5_inspect_tasks and t5_mesh_transformer are installed in '/root/.local/bin' which is not on PATH.\n",
            "  Consider adding this directory to PATH or, if you prefer to suppress this warning, use --no-warn-script-location.\u001b[0m\u001b[33m\n",
            "\u001b[0m\u001b[31mERROR: pip's dependency resolver does not currently take into account all the packages that are installed. This behaviour is the source of the following dependency conflicts.\n",
            "cudf-cu12 24.4.1 requires protobuf<5,>=3.20, but you have protobuf 3.19.6 which is incompatible.\n",
            "pandas-gbq 0.19.2 requires google-auth-oauthlib>=0.7.0, but you have google-auth-oauthlib 0.4.6 which is incompatible.\u001b[0m\u001b[31m\n",
            "\u001b[0minstalling package praxis\n",
            "installing package fastapi\n",
            "\u001b[2K     \u001b[90m━━━━━━━━━━━━━━━━━━━━━━━━━━━━━━━━━━━━━━━━\u001b[0m \u001b[32m92.0/92.0 kB\u001b[0m \u001b[31m3.0 MB/s\u001b[0m eta \u001b[36m0:00:00\u001b[0m\n",
            "\u001b[2K     \u001b[90m━━━━━━━━━━━━━━━━━━━━━━━━━━━━━━━━━━━━━━━━\u001b[0m \u001b[32m71.9/71.9 kB\u001b[0m \u001b[31m6.6 MB/s\u001b[0m eta \u001b[36m0:00:00\u001b[0m\n",
            "\u001b[2K     \u001b[90m━━━━━━━━━━━━━━━━━━━━━━━━━━━━━━━━━━━━━━━━\u001b[0m \u001b[32m75.6/75.6 kB\u001b[0m \u001b[31m7.8 MB/s\u001b[0m eta \u001b[36m0:00:00\u001b[0m\n",
            "\u001b[2K     \u001b[90m━━━━━━━━━━━━━━━━━━━━━━━━━━━━━━━━━━━━━━━━\u001b[0m \u001b[32m53.6/53.6 kB\u001b[0m \u001b[31m6.7 MB/s\u001b[0m eta \u001b[36m0:00:00\u001b[0m\n",
            "\u001b[2K     \u001b[90m━━━━━━━━━━━━━━━━━━━━━━━━━━━━━━━━━━━━━━━━\u001b[0m \u001b[32m142.5/142.5 kB\u001b[0m \u001b[31m8.6 MB/s\u001b[0m eta \u001b[36m0:00:00\u001b[0m\n",
            "\u001b[2K     \u001b[90m━━━━━━━━━━━━━━━━━━━━━━━━━━━━━━━━━━━━━━━━\u001b[0m \u001b[32m60.8/60.8 kB\u001b[0m \u001b[31m3.8 MB/s\u001b[0m eta \u001b[36m0:00:00\u001b[0m\n",
            "\u001b[2K     \u001b[90m━━━━━━━━━━━━━━━━━━━━━━━━━━━━━━━━━━━━━━━━\u001b[0m \u001b[32m307.7/307.7 kB\u001b[0m \u001b[31m10.6 MB/s\u001b[0m eta \u001b[36m0:00:00\u001b[0m\n",
            "\u001b[2K     \u001b[90m━━━━━━━━━━━━━━━━━━━━━━━━━━━━━━━━━━━━━━━━\u001b[0m \u001b[32m47.2/47.2 kB\u001b[0m \u001b[31m4.3 MB/s\u001b[0m eta \u001b[36m0:00:00\u001b[0m\n",
            "\u001b[2K     \u001b[90m━━━━━━━━━━━━━━━━━━━━━━━━━━━━━━━━━━━━━━━━\u001b[0m \u001b[32m77.9/77.9 kB\u001b[0m \u001b[31m5.1 MB/s\u001b[0m eta \u001b[36m0:00:00\u001b[0m\n",
            "\u001b[2K     \u001b[90m━━━━━━━━━━━━━━━━━━━━━━━━━━━━━━━━━━━━━━━━\u001b[0m \u001b[32m58.3/58.3 kB\u001b[0m \u001b[31m6.3 MB/s\u001b[0m eta \u001b[36m0:00:00\u001b[0m\n",
            "\u001b[2K     \u001b[90m━━━━━━━━━━━━━━━━━━━━━━━━━━━━━━━━━━━━━━━━\u001b[0m \u001b[32m341.4/341.4 kB\u001b[0m \u001b[31m14.7 MB/s\u001b[0m eta \u001b[36m0:00:00\u001b[0m\n",
            "\u001b[2K     \u001b[90m━━━━━━━━━━━━━━━━━━━━━━━━━━━━━━━━━━━━━━━━\u001b[0m \u001b[32m3.4/3.4 MB\u001b[0m \u001b[31m29.8 MB/s\u001b[0m eta \u001b[36m0:00:00\u001b[0m\n",
            "\u001b[2K     \u001b[90m━━━━━━━━━━━━━━━━━━━━━━━━━━━━━━━━━━━━━━━━\u001b[0m \u001b[32m1.3/1.3 MB\u001b[0m \u001b[31m43.4 MB/s\u001b[0m eta \u001b[36m0:00:00\u001b[0m\n",
            "\u001b[2K     \u001b[90m━━━━━━━━━━━━━━━━━━━━━━━━━━━━━━━━━━━━━━━━\u001b[0m \u001b[32m130.2/130.2 kB\u001b[0m \u001b[31m12.0 MB/s\u001b[0m eta \u001b[36m0:00:00\u001b[0m\n",
            "\u001b[?25h\u001b[33m  WARNING: The script dotenv is installed in '/root/.local/bin' which is not on PATH.\n",
            "  Consider adding this directory to PATH or, if you prefer to suppress this warning, use --no-warn-script-location.\u001b[0m\u001b[33m\n",
            "\u001b[0m\u001b[33m  WARNING: The script watchfiles is installed in '/root/.local/bin' which is not on PATH.\n",
            "  Consider adding this directory to PATH or, if you prefer to suppress this warning, use --no-warn-script-location.\u001b[0m\u001b[33m\n",
            "\u001b[0m\u001b[33m  WARNING: The script uvicorn is installed in '/root/.local/bin' which is not on PATH.\n",
            "  Consider adding this directory to PATH or, if you prefer to suppress this warning, use --no-warn-script-location.\u001b[0m\u001b[33m\n",
            "\u001b[0m\u001b[33m  WARNING: The script email_validator is installed in '/root/.local/bin' which is not on PATH.\n",
            "  Consider adding this directory to PATH or, if you prefer to suppress this warning, use --no-warn-script-location.\u001b[0m\u001b[33m\n",
            "\u001b[0m\u001b[33m  WARNING: The script typer is installed in '/root/.local/bin' which is not on PATH.\n",
            "  Consider adding this directory to PATH or, if you prefer to suppress this warning, use --no-warn-script-location.\u001b[0m\u001b[33m\n",
            "\u001b[0m\u001b[33m  WARNING: The script httpx is installed in '/root/.local/bin' which is not on PATH.\n",
            "  Consider adding this directory to PATH or, if you prefer to suppress this warning, use --no-warn-script-location.\u001b[0m\u001b[33m\n",
            "\u001b[0m\u001b[33m  WARNING: The script fastapi is installed in '/root/.local/bin' which is not on PATH.\n",
            "  Consider adding this directory to PATH or, if you prefer to suppress this warning, use --no-warn-script-location.\u001b[0m\u001b[33m\n",
            "\u001b[0m\u001b[31mERROR: pip's dependency resolver does not currently take into account all the packages that are installed. This behaviour is the source of the following dependency conflicts.\n",
            "spacy 3.7.4 requires typer<0.10.0,>=0.3.0, but you have typer 0.12.3 which is incompatible.\n",
            "weasel 0.3.4 requires typer<0.10.0,>=0.3.0, but you have typer 0.12.3 which is incompatible.\u001b[0m\u001b[31m\n",
            "\u001b[0minstalling package docker\n",
            "\u001b[2K     \u001b[90m━━━━━━━━━━━━━━━━━━━━━━━━━━━━━━━━━━━━━━━━\u001b[0m \u001b[32m147.8/147.8 kB\u001b[0m \u001b[31m3.8 MB/s\u001b[0m eta \u001b[36m0:00:00\u001b[0m\n",
            "\u001b[?25hinstalling package utilsforecast\n",
            "\u001b[2K     \u001b[90m━━━━━━━━━━━━━━━━━━━━━━━━━━━━━━━━━━━━━━━━\u001b[0m \u001b[32m40.5/40.5 kB\u001b[0m \u001b[31m1.3 MB/s\u001b[0m eta \u001b[36m0:00:00\u001b[0m\n",
            "\u001b[?25h"
          ]
        }
      ],
      "source": [
        "#@title Install Libraries\n",
        "packages = [\n",
        "    ('einshape', 'einshape'),\n",
        "    ('paxml', 'paxml'),\n",
        "    ('praxis','praxis'),\n",
        "    ('jax','jax'),\n",
        "    ('fastapi','fastapi'),\n",
        "    ('docker','docker'),\n",
        "    ('utilsforecast','utilsforecast'),\n",
        "    ('numpy','numpy'),\n",
        "    ('pandas', 'pandas')\n",
        "]\n",
        "\n",
        "import importlib\n",
        "install = False\n",
        "for package in packages:\n",
        "    if not importlib.util.find_spec(package[0]):\n",
        "        print(f'installing package {package[1]}')\n",
        "        install = True\n",
        "        !pip install {package[1]} -U --quiet --user\n",
        "\n"
      ]
    },
    {
      "cell_type": "code",
      "source": [
        "#@title GCP Constants\n",
        "PROJECT_ID = \"argolis-project-340214\"   # @param {type: \"string\"}\n",
        "LOCATION = 'us-central1' # @param {type: \"string\"}\n",
        "STAGING_BUCKET = 'firstargolisbucket' # @param {type: \"string\"}"
      ],
      "metadata": {
        "id": "RGH50Bi6Kf3L"
      },
      "execution_count": 1,
      "outputs": []
    },
    {
      "cell_type": "code",
      "source": [
        "#@title Auth\n",
        "import sys\n",
        "\n",
        "if 'google.colab' in sys.modules:\n",
        "  from google.colab import auth as google_auth\n",
        "  google_auth.authenticate_user()"
      ],
      "metadata": {
        "id": "3v7_HmtKLbVM"
      },
      "execution_count": 2,
      "outputs": []
    },
    {
      "cell_type": "code",
      "source": [
        "!pwd\n",
        "from google.colab import files\n",
        "files.view('/content')"
      ],
      "metadata": {
        "colab": {
          "base_uri": "https://localhost:8080/",
          "height": 34
        },
        "id": "FAv9z42Bzs0q",
        "outputId": "7fa441e9-b6ef-4278-cf84-f2cc9a2bd431"
      },
      "execution_count": 3,
      "outputs": [
        {
          "output_type": "stream",
          "name": "stdout",
          "text": [
            "/content\n"
          ]
        },
        {
          "output_type": "display_data",
          "data": {
            "text/plain": [
              "<IPython.core.display.Javascript object>"
            ],
            "application/javascript": [
              "\n",
              "      ((filepath) => {{\n",
              "        if (!google.colab.kernel.accessAllowed) {{\n",
              "          return;\n",
              "        }}\n",
              "        google.colab.files.view(filepath);\n",
              "      }})(\"/content\")"
            ]
          },
          "metadata": {}
        }
      ]
    },
    {
      "cell_type": "code",
      "source": [
        "!pip install git+https://github.com/google-research/timesfm"
      ],
      "metadata": {
        "id": "tSARdejt7XnX"
      },
      "execution_count": null,
      "outputs": []
    },
    {
      "cell_type": "code",
      "source": [
        "!pip list -v\n"
      ],
      "metadata": {
        "id": "Fy0IgJUuwf9t"
      },
      "execution_count": null,
      "outputs": []
    },
    {
      "cell_type": "code",
      "source": [
        "import json\n",
        "import numpy as np\n",
        "import pandas as pd\n",
        "import logging\n",
        "\n",
        "from google.cloud import aiplatform\n",
        "from google.cloud.aiplatform.prediction import LocalModel\n",
        "from google.cloud.aiplatform.docker_utils import build\n",
        "from huggingface_hub.hf_api import HfFolder\n",
        "from huggingface_hub import snapshot_download\n",
        "\n",
        "import configparser\n",
        "logging.basicConfig(level=logging.INFO)\n",
        "aiplatform.init(project=PROJECT_ID,location=LOCATION, staging_bucket=STAGING_BUCKET)\n",
        "\n",
        "config = configparser.ConfigParser()\n",
        "config.read('config.ini')"
      ],
      "metadata": {
        "colab": {
          "base_uri": "https://localhost:8080/"
        },
        "id": "BHe3CZTSI7ys",
        "outputId": "a1332da6-220c-46ff-80b2-8b3156a091af"
      },
      "execution_count": 3,
      "outputs": [
        {
          "output_type": "execute_result",
          "data": {
            "text/plain": [
              "[]"
            ]
          },
          "metadata": {},
          "execution_count": 3
        }
      ]
    },
    {
      "cell_type": "code",
      "source": [
        "\n",
        "#@title Setup HuggingFace (TimesFM)\n",
        "\n",
        "from google.colab import userdata\n",
        "from huggingface_hub import HfFolder\n",
        "from huggingface_hub import login\n",
        "\n",
        "# You will need to change these variables\n",
        "token = userdata.get('HF_TOKEN') #@param\n",
        "\n",
        "login(token)\n",
        "\n",
        "repo_id = \"google/timesfm-1.0-200m\"\n",
        "folder = HfFolder()\n",
        "\n",
        "# Authenticate with parameters\n"
      ],
      "metadata": {
        "colab": {
          "base_uri": "https://localhost:8080/"
        },
        "id": "zeMop-fCvCoF",
        "outputId": "597209eb-cbd7-4d11-80b0-514677bd14c3"
      },
      "execution_count": 4,
      "outputs": [
        {
          "output_type": "stream",
          "name": "stdout",
          "text": [
            "The token has not been saved to the git credentials helper. Pass `add_to_git_credential=True` in this function directly or `--add-to-git-credential` if using via `huggingface-cli` if you want to set the git credential as well.\n",
            "Token is valid (permission: read).\n",
            "Your token has been saved to /root/.cache/huggingface/token\n",
            "Login successful\n"
          ]
        }
      ]
    },
    {
      "cell_type": "code",
      "source": [
        "# Add the structure to the file we will create\n",
        "config.add_section('HuggingFace')\n",
        "config.set('HuggingFace', 'hf_access_token', token)\n",
        "with open(r\"config.ini\", 'w') as configfile:\n",
        "    config.write(configfile)"
      ],
      "metadata": {
        "id": "KQkjQQqUOi3y"
      },
      "execution_count": 5,
      "outputs": []
    },
    {
      "cell_type": "code",
      "source": [
        "HfFolder.save_token(config['HuggingFace']['hf_access_token'])"
      ],
      "metadata": {
        "id": "2Og4mqvdNVOJ"
      },
      "execution_count": 6,
      "outputs": []
    },
    {
      "cell_type": "code",
      "source": [
        "HF_TIMESFM_MODEL_NAME = \"google/timesfm-1.0-200m\"\n",
        "GCS_TIMESFM_CKPT_PATH = f\"{STAGING_BUCKET}/googleio24/models/timesfm/\"\n",
        "\n",
        "LOCAL_TIMESFM_CKPT_PATH = \"models/timesfm/checkpoints_flax/\"\n",
        "PATH_TO_THE_SOURCE_DIR = \"src/timesfm_serving\"\n",
        "\n",
        "PATH_TO_REQUIREMENTS_TXT = f\"{PATH_TO_THE_SOURCE_DIR}/requirements.txt\"\n",
        "\n",
        "ARTIFACT_REPOSITORY = \"googleio24\"\n",
        "TIMESFM_IMAGE = \"timesfm-001-200m\"\n",
        "\n",
        "TIMESFM_IMAGE_URI = f\"{LOCATION}-docker.pkg.dev/{PROJECT_ID}/{ARTIFACT_REPOSITORY}/{TIMESFM_IMAGE}\"\n",
        "TIMESFM_MODEL_DISPLAY_NAME = \"io24-timesfm-001-200m\"\n",
        "\n",
        "TIMESFM_ENDPOINT_DISPLAY_NAME = f\"{TIMESFM_MODEL_DISPLAY_NAME}_endpoint\"\n",
        "\n",
        "BASE_IMAGE = \"python:3.10\"\n",
        "DEFAULT_HTTP_PORT = 8501\n",
        "\n",
        "DEFAULT_PREDICT_ROUTE = \"/predict\"\n",
        "DEFAULT_HEALTH_ROUTE = \"/health\""
      ],
      "metadata": {
        "id": "J__AurC2Qt93"
      },
      "execution_count": 7,
      "outputs": []
    },
    {
      "cell_type": "code",
      "source": [
        "!echo $PATH_TO_THE_SOURCE_DIR"
      ],
      "metadata": {
        "colab": {
          "base_uri": "https://localhost:8080/"
        },
        "id": "dpZvGUdr14G5",
        "outputId": "975e1f38-10d4-452d-a96b-da2d88d7df14"
      },
      "execution_count": 18,
      "outputs": [
        {
          "output_type": "stream",
          "name": "stdout",
          "text": [
            "src/timesfm_serving\n"
          ]
        }
      ]
    },
    {
      "cell_type": "code",
      "source": [
        "!mkdir -p $PATH_TO_THE_SOURCE_DIR\n",
        "!touch $PATH_TO_THE_SOURCE_DIR/__init__.py\n",
        "\n",
        "#Set project\n",
        "!gcloud config set project $PROJECT_ID\n",
        "\n",
        "# enable artifact registry service\n",
        "!gcloud services enable artifactregistry.googleapis.com\n",
        "\n",
        "# create docker repository in artifact registry\n",
        "!gcloud artifacts repositories create $ARTIFACT_REPOSITORY \\\n",
        "    --repository-format=docker \\\n",
        "    --location=$LOCATION \\\n",
        "    --description=\"Artifact repository with TimesFM\"\n",
        "\n",
        "# configure auth for docker\n",
        "!gcloud auth configure-docker $LOCATION-docker.pkg.dev --quiet"
      ],
      "metadata": {
        "colab": {
          "base_uri": "https://localhost:8080/"
        },
        "id": "bxKw_0_jRbMN",
        "outputId": "e2c4d44a-b01b-470e-f0e7-8d174eb236a1"
      },
      "execution_count": 9,
      "outputs": [
        {
          "output_type": "stream",
          "name": "stdout",
          "text": [
            "Updated property [core/project].\n",
            "\u001b[1;31mERROR:\u001b[0m (gcloud.artifacts.repositories.create) ALREADY_EXISTS: the repository already exists\n",
            "\u001b[1;33mWARNING:\u001b[0m `docker` not in system PATH.\n",
            "`docker` and `docker-credential-gcloud` need to be in the same PATH in order to work correctly together.\n",
            "gcloud's Docker credential helper can be configured but it will not work until this is corrected.\n",
            "Adding credentials for: us-central1-docker.pkg.dev\n",
            "Docker configuration file updated.\n"
          ]
        }
      ]
    },
    {
      "cell_type": "code",
      "source": [
        "print(GCS_TIMESFM_CKPT_PATH)"
      ],
      "metadata": {
        "colab": {
          "base_uri": "https://localhost:8080/"
        },
        "id": "k_JnomX1fHrL",
        "outputId": "57d840b5-eb3b-4101-d0f8-95d40219b5c5"
      },
      "execution_count": 19,
      "outputs": [
        {
          "output_type": "stream",
          "name": "stdout",
          "text": [
            "gs://firstargolisbucket/models/timesfm\n"
          ]
        }
      ]
    },
    {
      "cell_type": "code",
      "source": [
        "# Sync the 'checkpoints' subdirectory to Google Cloud Storage (GCS)\n",
        "GCS_TIMESFM_CKPT_PATH = f\"gs://{STAGING_BUCKET}/models/timesfm\"  # Replace with your GCS bucket\n"
      ],
      "metadata": {
        "id": "lB_qEypmqg60"
      },
      "execution_count": 12,
      "outputs": []
    },
    {
      "cell_type": "code",
      "source": [
        "print(\"Getting HF model:\", HF_TIMESFM_MODEL_NAME)\n",
        "# Create a local directory to store the model checkpoint files\n",
        "LOCAL_TIMESFM_CKPT_PATH=\"models/timesfm/checkpoints_flax\"\n",
        "!mkdir -p $LOCAL_TIMESFM_CKPT_PATH\n",
        "\n",
        "# Download the model checkpoint files from the Hugging Face Hub\n",
        "#HF_TIMESFM_MODEL_NAME = \"google/timesfm-1.0-200m\"  # Hugging Face model identifier\n",
        "snapshot_download(\n",
        "    repo_id=HF_TIMESFM_MODEL_NAME,\n",
        "    local_dir=LOCAL_TIMESFM_CKPT_PATH,\n",
        "    token=True  # Set to True if the model requires authentication\n",
        ")\n",
        "\n",
        "!gsutil -m cp -r $LOCAL_TIMESFM_CKPT_PATH/checkpoints $GCS_TIMESFM_CKPT_PATH\n",
        "\n",
        "# Verify that the files were uploaded to GCS\n",
        "!gsutil ls -r $GCS_TIMESFM_CKPT_PATH"
      ],
      "metadata": {
        "colab": {
          "base_uri": "https://localhost:8080/",
          "height": 815,
          "referenced_widgets": [
            "dfd13d86fd884a998f83c467bb4f0ebd",
            "d95b0787fe914221b85c074b8063f26f",
            "5856951de2fc4489ab13d022cfd308d0",
            "cbe4ba5e8b5448caababe9978579c365",
            "6048680688ae440eae9a15c97d41a89f",
            "9989d5181a83408b9863f7a9f35e90a9",
            "768ee4f70ff3452d8fb20e5a081b2834",
            "46e976374d974f6e8f5f49a41600c575",
            "8fc608bce88c4e7496fc32c342ea2174",
            "c1a125d226414cd18b213878b5c71ebb",
            "a0ef489538b645678e0c79ceff6de775"
          ]
        },
        "id": "k-Hi6goQYn5a",
        "outputId": "7db77796-59a2-4d24-ed55-b4dff7d6f84a"
      },
      "execution_count": 13,
      "outputs": [
        {
          "output_type": "stream",
          "name": "stdout",
          "text": [
            "Getting HF model: google/timesfm-1.0-200m\n"
          ]
        },
        {
          "output_type": "display_data",
          "data": {
            "text/plain": [
              "Fetching 5 files:   0%|          | 0/5 [00:00<?, ?it/s]"
            ],
            "application/vnd.jupyter.widget-view+json": {
              "version_major": 2,
              "version_minor": 0,
              "model_id": "dfd13d86fd884a998f83c467bb4f0ebd"
            }
          },
          "metadata": {}
        },
        {
          "output_type": "stream",
          "name": "stdout",
          "text": [
            "Copying file://models/timesfm/checkpoints_flax/checkpoints/checkpoint_1100000/metadata/metadata [Content-Type=application/octet-stream]...\n",
            "Copying file://models/timesfm/checkpoints_flax/checkpoints/checkpoint_1100000/descriptor/descriptor.pbtxt [Content-Type=application/octet-stream]...\n",
            "/ [0/3 files][    0.0 B/776.6 MiB]   0% Done                                    \r/ [0/3 files][    0.0 B/776.6 MiB]   0% Done                                    \rCopying file://models/timesfm/checkpoints_flax/checkpoints/checkpoint_1100000/state/checkpoint [Content-Type=application/octet-stream]...\n",
            "/ [0/3 files][    0.0 B/776.6 MiB]   0% Done                                    \r==> NOTE: You are uploading one or more large file(s), which would run\n",
            "significantly faster if you enable parallel composite uploads. This\n",
            "feature can be enabled by editing the\n",
            "\"parallel_composite_upload_threshold\" value in your .boto\n",
            "configuration file. However, note that if you do this large files will\n",
            "be uploaded as `composite objects\n",
            "<https://cloud.google.com/storage/docs/composite-objects>`_,which\n",
            "means that any user who downloads such objects will need to have a\n",
            "compiled crcmod installed (see \"gsutil help crcmod\"). This is because\n",
            "without a compiled crcmod, computing checksums on composite objects is\n",
            "so slow that gsutil disables downloads of composite objects.\n",
            "\n",
            "-\n",
            "Operation completed over 3 objects/776.6 MiB.                                    \n",
            "gs://firstargolisbucket/models/timesfm/:\n",
            "\n",
            "gs://firstargolisbucket/models/timesfm/checkpoint_1100000/:\n",
            "\n",
            "gs://firstargolisbucket/models/timesfm/checkpoint_1100000/descriptor/:\n",
            "gs://firstargolisbucket/models/timesfm/checkpoint_1100000/descriptor/descriptor.pbtxt\n",
            "\n",
            "gs://firstargolisbucket/models/timesfm/checkpoint_1100000/metadata/:\n",
            "gs://firstargolisbucket/models/timesfm/checkpoint_1100000/metadata/metadata\n",
            "\n",
            "gs://firstargolisbucket/models/timesfm/checkpoint_1100000/state/:\n",
            "gs://firstargolisbucket/models/timesfm/checkpoint_1100000/state/checkpoint\n",
            "\n",
            "gs://firstargolisbucket/models/timesfm/checkpoints/:\n",
            "\n",
            "gs://firstargolisbucket/models/timesfm/checkpoints/checkpoint_1100000/:\n",
            "\n",
            "gs://firstargolisbucket/models/timesfm/checkpoints/checkpoint_1100000/descriptor/:\n",
            "gs://firstargolisbucket/models/timesfm/checkpoints/checkpoint_1100000/descriptor/descriptor.pbtxt\n",
            "\n",
            "gs://firstargolisbucket/models/timesfm/checkpoints/checkpoint_1100000/metadata/:\n",
            "gs://firstargolisbucket/models/timesfm/checkpoints/checkpoint_1100000/metadata/metadata\n",
            "\n",
            "gs://firstargolisbucket/models/timesfm/checkpoints/checkpoint_1100000/state/:\n",
            "gs://firstargolisbucket/models/timesfm/checkpoints/checkpoint_1100000/state/checkpoint\n"
          ]
        }
      ]
    },
    {
      "cell_type": "code",
      "source": [
        "#@title Create a Custom Predictor\n",
        "\n",
        "%%writefile $PATH_TO_THE_SOURCE_DIR/predictor.py\n",
        "\"\"\"Adapts a pretrained time-series foundation model TimesFM to the CPR framework.\n",
        "Documentation for the model is here:\n",
        "                           https://github.com/google-research/timesfm\n",
        "\n",
        "Model checkpoints can be found here:\n",
        "                           https://huggingface.co/google/timesfm-1.0-200m\n",
        "\"\"\"\n",
        "\n",
        "import os\n",
        "from typing import Sequence, Any, Tuple, List, Dict, Union\n",
        "\n",
        "from fastapi import HTTPException  # For handling API errors\n",
        "from google.cloud.aiplatform.utils import prediction_utils  # Google Cloud AI Platform utilities\n",
        "\n",
        "# from google.cloud.aiplatform import prediction as cpr  # Commented out, might be used later\n",
        "\n",
        "import pandas as pd  # For data manipulation\n",
        "import numpy as np   # For numerical operations\n",
        "\n",
        "from paxml import checkpoints  # For loading model checkpoints\n",
        "import timesfm  # The TimesFM model library\n",
        "import jax.numpy as jnp\n",
        "\n",
        "# JAX Configuration (Accelerated Linear Algebra)\n",
        "from jax._src import config\n",
        "config.update(\"jax_platforms\", \"\")  # Configures JAX to use available hardware accelerators (GPUs, TPUs)\n",
        "\n",
        "\n",
        "# --- PREDICTION CLASS ---\n",
        "# (Code likely continues from here, defining the predictor class and its methods)\n",
        "\n",
        "class TimesFMPredictor:\n",
        "    \"\"\"Predictor class for Time Series Foundation Model (TimesFM).\"\"\"\n",
        "    TIMESFM_MODEL_NAME = os.getenv(\"TIMESFM_MODEL_NAME\", default=\"timesfm-1.0-200m\")\n",
        "    CONTEXT_LEN = 512\n",
        "    HORIZON_LEN = 128\n",
        "    INPUT_PATCH_LEN = 32\n",
        "    OUTPUT_PATCH_LEN = 128\n",
        "    NUM_LAYERS = 20\n",
        "    MODEL_DIMS = 1280\n",
        "    BACKEND = \"cpu\"  # or \"gpu\" if available\n",
        "\n",
        "    def __init__(self):\n",
        "        \"\"\"Initialize the predictor class.\"\"\"\n",
        "        pass\n",
        "\n",
        "    def load(self, artifacts_uri: str = \"\"):\n",
        "        \"\"\"Initializes the model and preprocessing transforms.\n",
        "\n",
        "        Args:\n",
        "            artifacts_uri: Directory where state dict is stored. Can be a\n",
        "                GCS URI or local path.\n",
        "        \"\"\"\n",
        "        if not (os.path.isdir(artifacts_uri) or artifacts_uri.startswith(\"gs://\")):\n",
        "            raise ValueError(\"Provided artifact_uri is not a directory.\")\n",
        "\n",
        "        print(f\"Downloading checkpoints from {artifacts_uri}\")\n",
        "        prediction_utils.download_model_artifacts(artifacts_uri)\n",
        "\n",
        "        artifact_path = os.getcwd()  # Assuming model is downloaded to current working directory\n",
        "\n",
        "\n",
        "        print(f\"Loading checkpoints from {artifact_path}\")\n",
        "\n",
        "        self._model = timesfm.TimesFm(\n",
        "            context_len=self.CONTEXT_LEN,\n",
        "            horizon_len=self.HORIZON_LEN,\n",
        "            input_patch_len=self.INPUT_PATCH_LEN,\n",
        "            output_patch_len=self.OUTPUT_PATCH_LEN,\n",
        "            num_layers=self.NUM_LAYERS,\n",
        "            model_dims=self.MODEL_DIMS,\n",
        "            backend=self.BACKEND,\n",
        "        )\n",
        "\n",
        "        self._model.load_from_checkpoint(artifact_path, checkpoint_type=checkpoints.CheckpointType.FLAX)\n",
        "        print(f\"Loaded TimesFM model from {artifact_path}\")\n",
        "\n",
        "    def preprocess(self, request_dict: Dict[str, Dict]) -> Sequence[Any]:\n",
        "          \"\"\"Performs preprocessing.\n",
        "\n",
        "          By default, the server expects a request body consisting of a valid JSON\n",
        "          object. This will be parsed by the handler before it's evaluated by the\n",
        "          preprocess method.\n",
        "\n",
        "          Args:\n",
        "              request_dict: Parsed request body. We expect that the input consists of\n",
        "                  a list of time-series forecast contexts. Each context should be in\n",
        "                  a format convertible to JTensor by `jnp.array`.\n",
        "\n",
        "          Returns:\n",
        "              Time-series forecast contexts are passed as is from the input as a list.\n",
        "          \"\"\"\n",
        "\n",
        "          format = \"\"\"\n",
        "          {\n",
        "              \"instances\": [\n",
        "                  {\n",
        "                      \"inputs\": [\n",
        "                          [...],\n",
        "                          [...]\n",
        "                      ],\n",
        "                      \"freq\": [\n",
        "                          \"0/1/2\",\n",
        "                          \"0/1/2\"\n",
        "                      ]\n",
        "                  }\n",
        "              ]\n",
        "          }\n",
        "          \"\"\"\n",
        "\n",
        "\n",
        "          # Check for 'instances' key at the top level\n",
        "          if \"instances\" not in request_dict:\n",
        "              raise HTTPException(status_code=400, detail='Request must contain \"instances\" as a top-level key.')\n",
        "\n",
        "          result = request_dict[\"instances\"]\n",
        "          # Check if 'instances' is a sequence (list or tuple) and is not empty\n",
        "          if  isinstance(result, Sequence) and len(result) == 0:  # Simplified this condition\n",
        "              raise HTTPException(\n",
        "                  status_code=400,\n",
        "                  detail=f\"Invalid payload. Expected format is {format}. Received {type(result)}\"\n",
        "              )\n",
        "          print(\"Result is:\", result)\n",
        "\n",
        "          result = result[0]\n",
        "\n",
        "          print(\"Result[0] is:\", result)\n",
        "\n",
        "\n",
        "          if \"inputs\" in result:\n",
        "              inputs = result[\"inputs\"]  # Extract 'inputs'\n",
        "              print(\"inputs is:\", inputs)\n",
        "              # Check if 'inputs' is a list or tuple, and each element is also a list or tuple.\n",
        "              if not isinstance(inputs, Sequence) or not all(isinstance(x, Sequence) for x in inputs):\n",
        "                  raise HTTPException(\n",
        "                      status_code=400,\n",
        "                      detail=f\"Invalid datatype. Expected a list of time series forecast contexts. Received {type(inputs)}\"\n",
        "                  )\n",
        "          else:\n",
        "              raise HTTPException(\n",
        "                  status_code=400,\n",
        "                  detail=f\"Invalid payload. Expected format is {format} with keys 'inputs' and 'freq' (frequencies).\"\n",
        "                  f\"Received payload with type:{type(result)}\",\n",
        "              )\n",
        "          print(\"Result is:\", result)\n",
        "          return result\n",
        "\n",
        "\n",
        "\n",
        "\n",
        "    def predict(self, instances: Dict[str, List]) -> Tuple[List, List]:\n",
        "        \"\"\"Performs time series forecasting using the TimesFM model.\n",
        "\n",
        "        Args:\n",
        "            instances: A dictionary with two keys:\n",
        "                - \"inputs\": List of time series forecast contexts. Each context should be convertible to a JAX NumPy array (jnp.array).\n",
        "                - \"freq\": (Optional) Frequencies of each forecast context with values 0 (high), 1 (medium), or 2 (low).\n",
        "\n",
        "        Returns:\n",
        "            A tuple containing two lists:\n",
        "                - point_forecast: Mean forecast of size (number of inputs, forecast horizon).\n",
        "                - quantile_forecast: Full forecast (mean + quantiles) of size (number of inputs, forecast horizon, 1 + number of quantiles).\n",
        "\n",
        "        Raises:\n",
        "            ValueError: If the \"inputs\" key is missing in the input dictionary.\n",
        "        \"\"\"\n",
        "\n",
        "        # Extract inputs\n",
        "        inputs = instances[\"inputs\"]\n",
        "\n",
        "        \"\"\"\n",
        "        if inputs is None:\n",
        "            raise ValueError(\"Missing 'inputs' key in the request data.\")\n",
        "\n",
        "        # Convert inputs to JAX arrays for efficient computation\n",
        "        inputs = [jnp.array(ts_input) for ts_input in inputs]\n",
        "        \"\"\"\n",
        "\n",
        "        # Extract frequencies (if provided) or use default (None)\n",
        "        freq = None\n",
        "        if \"freq\" in instances:\n",
        "          freq = instances[\"freq\"]\n",
        "\n",
        "        # Generate forecasts using the TimesFM model\n",
        "        point_forecast, quantile_forecast = self._model.forecast(inputs, freq)\n",
        "        # Convert forecasts to standard Python lists for serialization\n",
        "        point_forecast = point_forecast.tolist()\n",
        "        quantile_forecast = quantile_forecast.tolist()\n",
        "\n",
        "        return point_forecast, quantile_forecast\n",
        "\n",
        "    def postprocess(self, forecasts: Tuple[List, List]) -> Dict[str, List[Dict[str, Union[int, float]]]]:\n",
        "        \"\"\"Translate the model output\n",
        "\n",
        "        Args:\n",
        "            forecasts: A tuple of List\n",
        "                - the mean forecast of size (# inputs, # forecast horizon),\n",
        "                - the full forecast (mean + quantiles) of size\n",
        "                    (#inputs, # forecast horizon, 1 + # quantiles).\n",
        "\n",
        "        Returns:\n",
        "            Dictionary containing the list of point forecasts and quantile forecasts\n",
        "            for each of the input time-series context.\n",
        "        \"\"\"\n",
        "        point_forecasts, quantile_forecasts = forecasts\n",
        "        predictions = [\n",
        "            dict(\n",
        "                point_forecast=points,\n",
        "                quantile_forecast=quantiles,\n",
        "            )\n",
        "            for (points, quantiles) in zip(point_forecasts, quantile_forecasts)\n",
        "        ]\n",
        "\n",
        "        print(\"Quantile forecasts:\", quantile_forecasts)\n",
        "\n",
        "        return {\"predictions\": predictions}\n"
      ],
      "metadata": {
        "colab": {
          "base_uri": "https://localhost:8080/"
        },
        "id": "VIMrEAGAZhmo",
        "outputId": "e29b803b-9e20-4a2c-e339-f52a747b8a62"
      },
      "execution_count": 20,
      "outputs": [
        {
          "output_type": "stream",
          "name": "stdout",
          "text": [
            "Overwriting src/timesfm_serving/predictor.py\n"
          ]
        }
      ]
    },
    {
      "cell_type": "code",
      "source": [
        "!git clone https://github.com/google-research/timesfm"
      ],
      "metadata": {
        "colab": {
          "base_uri": "https://localhost:8080/"
        },
        "id": "2s4JRwbtcgLn",
        "outputId": "c857da47-57ef-4879-e2df-c096352e1af2"
      },
      "execution_count": 15,
      "outputs": [
        {
          "output_type": "stream",
          "name": "stdout",
          "text": [
            "Cloning into 'timesfm'...\n",
            "remote: Enumerating objects: 121, done.\u001b[K\n",
            "remote: Counting objects: 100% (120/120), done.\u001b[K\n",
            "remote: Compressing objects: 100% (72/72), done.\u001b[K\n",
            "remote: Total 121 (delta 55), reused 102 (delta 46), pack-reused 1\u001b[K\n",
            "Receiving objects: 100% (121/121), 547.21 KiB | 12.73 MiB/s, done.\n",
            "Resolving deltas: 100% (55/55), done.\n"
          ]
        }
      ]
    },
    {
      "cell_type": "code",
      "source": [
        "!echo $GCS_TIMESFM_CKPT_PATH\n",
        "print(\"HF Model:\", HF_TIMESFM_MODEL_NAME)"
      ],
      "metadata": {
        "colab": {
          "base_uri": "https://localhost:8080/"
        },
        "id": "BZtFTgUuCNfR",
        "outputId": "a39b55b0-e186-4760-99f5-8392cf811b48"
      },
      "execution_count": 21,
      "outputs": [
        {
          "output_type": "stream",
          "name": "stdout",
          "text": [
            "gs://firstargolisbucket/models/timesfm\n",
            "HF Model: google/timesfm-1.0-200m\n"
          ]
        }
      ]
    },
    {
      "cell_type": "code",
      "source": [
        "#@title Simple Unit test with Predictor\n",
        "\n",
        "# 4. Run simple unit test to ensure predictor works [Optional]\n",
        "from praxis.layers import transformers\n",
        "import sys\n",
        "\n",
        "import timesfm\n",
        "from src.timesfm_serving.predictor import TimesFMPredictor\n",
        "\n",
        "# define predictor\n",
        "predictor = TimesFMPredictor()\n",
        "\n",
        "# Load model checkpoint\n",
        "predictor.load(f\"{GCS_TIMESFM_CKPT_PATH}/checkpoints\")\n",
        "\n",
        "# create payload\n",
        "inputs = [list(np.linspace(0, 1, 100)), list(np.sin(np.linspace(0, 20, 200)))]\n",
        "payload = {\"instances\": [{\"inputs\": inputs}]}\n",
        "\n",
        "print(payload)"
      ],
      "metadata": {
        "colab": {
          "base_uri": "https://localhost:8080/"
        },
        "id": "gT2kH7sVlhGK",
        "outputId": "722842d1-b19f-4d7d-c4eb-26a5a543080f"
      },
      "execution_count": 23,
      "outputs": [
        {
          "output_type": "stream",
          "name": "stdout",
          "text": [
            "Downloading checkpoints from gs://firstargolisbucket/models/timesfm/checkpoints\n",
            "Loading checkpoints from /content\n",
            "Multiprocessing context has already been set.\n",
            "Constructing model weights.\n"
          ]
        },
        {
          "output_type": "stream",
          "name": "stderr",
          "text": [
            "WARNING:absl:No registered CheckpointArgs found for handler type: <class 'paxml.checkpoints.FlaxCheckpointHandler'>\n",
            "WARNING:absl:Configured `CheckpointManager` using deprecated legacy API. Please follow the instructions at https://orbax.readthedocs.io/en/latest/api_refactor.html to migrate by May 1st, 2024.\n",
            "WARNING:absl:train_state_unpadded_shape_dtype_struct is not provided. We assume `train_state` is unpadded.\n"
          ]
        },
        {
          "output_type": "stream",
          "name": "stdout",
          "text": [
            "Constructed model weights in 7.99 seconds.\n",
            "Restoring checkpoint from /content.\n"
          ]
        },
        {
          "output_type": "stream",
          "name": "stderr",
          "text": [
            "ERROR:absl:For checkpoint version > 1.0, we require users to provide\n",
            "          `train_state_unpadded_shape_dtype_struct` during checkpoint\n",
            "          saving/restoring, to avoid potential silent bugs when loading\n",
            "          checkpoints to incompatible unpadded shapes of TrainState.\n"
          ]
        },
        {
          "output_type": "stream",
          "name": "stdout",
          "text": [
            "Restored checkpoint in 5.49 seconds.\n",
            "Jitting decoding.\n",
            "Jitted decoding in 60.58 seconds.\n",
            "Loaded TimesFM model from /content\n",
            "{'instances': [{'inputs': [[0.0, 0.010101010101010102, 0.020202020202020204, 0.030303030303030304, 0.04040404040404041, 0.05050505050505051, 0.06060606060606061, 0.07070707070707072, 0.08080808080808081, 0.09090909090909091, 0.10101010101010102, 0.11111111111111112, 0.12121212121212122, 0.13131313131313133, 0.14141414141414144, 0.15151515151515152, 0.16161616161616163, 0.17171717171717174, 0.18181818181818182, 0.19191919191919193, 0.20202020202020204, 0.21212121212121213, 0.22222222222222224, 0.23232323232323235, 0.24242424242424243, 0.25252525252525254, 0.26262626262626265, 0.27272727272727276, 0.2828282828282829, 0.29292929292929293, 0.30303030303030304, 0.31313131313131315, 0.32323232323232326, 0.33333333333333337, 0.3434343434343435, 0.3535353535353536, 0.36363636363636365, 0.37373737373737376, 0.38383838383838387, 0.393939393939394, 0.4040404040404041, 0.4141414141414142, 0.42424242424242425, 0.43434343434343436, 0.4444444444444445, 0.4545454545454546, 0.4646464646464647, 0.4747474747474748, 0.48484848484848486, 0.494949494949495, 0.5050505050505051, 0.5151515151515152, 0.5252525252525253, 0.5353535353535354, 0.5454545454545455, 0.5555555555555556, 0.5656565656565657, 0.5757575757575758, 0.5858585858585859, 0.595959595959596, 0.6060606060606061, 0.6161616161616162, 0.6262626262626263, 0.6363636363636365, 0.6464646464646465, 0.6565656565656566, 0.6666666666666667, 0.6767676767676768, 0.686868686868687, 0.696969696969697, 0.7070707070707072, 0.7171717171717172, 0.7272727272727273, 0.7373737373737375, 0.7474747474747475, 0.7575757575757577, 0.7676767676767677, 0.7777777777777778, 0.787878787878788, 0.797979797979798, 0.8080808080808082, 0.8181818181818182, 0.8282828282828284, 0.8383838383838385, 0.8484848484848485, 0.8585858585858587, 0.8686868686868687, 0.8787878787878789, 0.888888888888889, 0.8989898989898991, 0.9090909090909092, 0.9191919191919192, 0.9292929292929294, 0.9393939393939394, 0.9494949494949496, 0.9595959595959597, 0.9696969696969697, 0.9797979797979799, 0.98989898989899, 1.0], [0.0, 0.10033340611397856, 0.19965422182925707, 0.2969600760684489, 0.3912689332607891, 0.48162900429630934, 0.5671283522249922, 0.6469040957577351, 0.720151117685035, 0.7861301903258074, 0.84417543600223, 0.8937010472475914, 0.9342071989250891, 0.9652850925909591, 0.9866210821929372, 0.9979998394664454, 0.9993065270825165, 0.9905279576154928, 0.9717527266338982, 0.9431703185712997, 0.9050691944009351, 0.8578338804137864, 0.8019410874808932, 0.737954899965305, 0.6665210828384021, 0.5883605644546255, 0.5042621607581176, 0.4150746143504438, 0.32169802876315795, 0.22507478438272543, 0.12618002770661219, 0.0260118299154004, -0.07441888591686176, -0.17409854731690655, -0.2720211616449078, -0.3671984688295239, -0.45866991514132416, -0.5455123473467255, -0.6268493294065579, -0.7018599876927554, -0.7697872954549804, -0.8299457129282269, -0.8817281059754842, -0.9246118734407446, -0.9581642213735454, -0.9820465308962223, -0.9960177756322361, -0.9999369542060184, -0.9937645132649188, -0.9775627466617587, -0.9514951667693332, -0.9158248542717212, -0.8709118030867279, -0.8172092872151839, -0.7552592861837865, -0.6856870152490829, -0.6091946155651793, -0.5265540679956123, -0.43859940208501036, -0.3462182788195934, -0.250343032125446, -0.15194125951605447, -0.05200605685069962, 0.048454004242978146, 0.1484250551318267, 0.2468981623987645, 0.34287951025690017, 0.43540043039266096, 0.5235271780141882, 0.6063703554426186, 0.6830938881409576, 0.7529234625921656, 0.8151543408692327, 0.8691584730306025, 0.9143908355608308, 0.9503949318873145, 0.9768073994604692, 0.9933616769015238, 0.9998906942081381, 0.9963285588676023, 0.9827112208609282, 0.959176109846447, 0.9259607481845431, 0.8834003538012378, 0.8319244570831352, 0.7720525659468906, 0.7043889228324319, 0.6296164065336968, 0.5484896404111711, 0.46182737653991096, 0.37050423265417287, 0.27544186528152204, 0.17759966814940648, 0.07796508973825698, -0.02245633230115589, -0.1226511192908991, -0.22160807981193165, -0.3183285149065574, -0.4118362972037624, -0.5011877222463261, -0.5854810325975929, -0.6638655186081827, -0.7355501039953746, -0.7998113295873013, -0.8560006546579639, -0.903551002166129, -0.9419824818418809, -0.9709072333619758, -0.990033340735435, -0.9991677783943945, -0.9982183592575101, -0.9871946651055623, -0.966207949879674, -0.9354700168780792, -0.8952910811830599, -0.8460766388909868, -0.7883233747419922, -0.7226141494505268, -0.6496121173259396, -0.5700540335495606, -0.4847428186529565, -0.39453945523854783, -0.3003542987229555, -0.203137889797277, -0.103871361327294, -0.0035565365096275887, 0.09679418178421748, 0.19616802843659367, 0.29356209716833237, 0.3879934621254457, 0.4785090978182669, 0.5641954972984654, 0.644187891504835, 0.7176789767338575, 0.7839270621551785, 0.8422635551451839, 0.8920997088947761, 0.932932564192766, 0.9643500254188847, 0.9860350195181922, 0.9977686959834515, 0.9994326355504284, 0.9910100453153949, 0.9725859282134105, 0.9443462251469577, 0.9065759384227932, 0.8596562554357671, 0.804060701628131, 0.7403503615496515, 0.6691682162488151, 0.591232654143619, 0.5073302208619009, 0.4183076812216731, 0.32506347346398523, 0.2285386419843857, 0.12970734007217227, 0.029566998506218765, -0.07087174077157724, -0.17059522431328336, -0.26859701721481055, -0.36388806031440185, -0.45550665203067525, -0.5425281541009939, -0.6240743232673008, -0.6993221747317495, -0.7675122879297704, -0.8279564707966823, -0.8800447051780209, -0.9232513032888079, -0.9571402130891266, -0.9813694190328588, -0.9956943937760503, -0.9999705660094207, -0.9941547795089919, -0.978305728679741, -0.9525833661966533, -0.9172472887214079, -0.8726541169864731, -0.8192538966874446, -0.7575855565067815, -0.6882714691076758, -0.6120111699899564, -0.5295742975988719, -0.4417928259370572, -0.3495526680700663, -0.2537847352651319, -0.15545554199651387, -0.05555745163422786, 0.04490133874094826, 0.14490697332027141, 0.2434501696592168, 0.3395364046140433, 0.43219595132377603, 0.5204936659417063, 0.6035384253463179, 0.680492120583744, 0.750578115277733, 0.8130890836425904, 0.8673941489959544, 0.9129452507276277]]}]}\n"
          ]
        }
      ]
    },
    {
      "cell_type": "code",
      "source": [
        "#@title Preprocess Payload, Predict & Generate output\n",
        "\n",
        "# preprocess, predict and post-process\n",
        "preprocessed_inputs = predictor.preprocess(payload)\n",
        "print(\"Preprocessed inputs:\", preprocessed_inputs)\n",
        "pt_forecast, quantil_forecast = predictor.predict(preprocessed_inputs)\n",
        "print(\"Predict output:\", pt_forecast, quantil_forecast)\n",
        "result = pt_forecast, quantil_forecast\n",
        "preprocessed_outputs = predictor.postprocess(result)\n",
        "print(preprocessed_outputs)\n"
      ],
      "metadata": {
        "colab": {
          "base_uri": "https://localhost:8080/"
        },
        "id": "o_IL_vqPj0NJ",
        "outputId": "81bdbbd9-1a8a-48f2-a236-e3bfa4cac793"
      },
      "execution_count": 24,
      "outputs": [
        {
          "output_type": "stream",
          "name": "stdout",
          "text": [
            "Result is: [{'inputs': [[0.0, 0.010101010101010102, 0.020202020202020204, 0.030303030303030304, 0.04040404040404041, 0.05050505050505051, 0.06060606060606061, 0.07070707070707072, 0.08080808080808081, 0.09090909090909091, 0.10101010101010102, 0.11111111111111112, 0.12121212121212122, 0.13131313131313133, 0.14141414141414144, 0.15151515151515152, 0.16161616161616163, 0.17171717171717174, 0.18181818181818182, 0.19191919191919193, 0.20202020202020204, 0.21212121212121213, 0.22222222222222224, 0.23232323232323235, 0.24242424242424243, 0.25252525252525254, 0.26262626262626265, 0.27272727272727276, 0.2828282828282829, 0.29292929292929293, 0.30303030303030304, 0.31313131313131315, 0.32323232323232326, 0.33333333333333337, 0.3434343434343435, 0.3535353535353536, 0.36363636363636365, 0.37373737373737376, 0.38383838383838387, 0.393939393939394, 0.4040404040404041, 0.4141414141414142, 0.42424242424242425, 0.43434343434343436, 0.4444444444444445, 0.4545454545454546, 0.4646464646464647, 0.4747474747474748, 0.48484848484848486, 0.494949494949495, 0.5050505050505051, 0.5151515151515152, 0.5252525252525253, 0.5353535353535354, 0.5454545454545455, 0.5555555555555556, 0.5656565656565657, 0.5757575757575758, 0.5858585858585859, 0.595959595959596, 0.6060606060606061, 0.6161616161616162, 0.6262626262626263, 0.6363636363636365, 0.6464646464646465, 0.6565656565656566, 0.6666666666666667, 0.6767676767676768, 0.686868686868687, 0.696969696969697, 0.7070707070707072, 0.7171717171717172, 0.7272727272727273, 0.7373737373737375, 0.7474747474747475, 0.7575757575757577, 0.7676767676767677, 0.7777777777777778, 0.787878787878788, 0.797979797979798, 0.8080808080808082, 0.8181818181818182, 0.8282828282828284, 0.8383838383838385, 0.8484848484848485, 0.8585858585858587, 0.8686868686868687, 0.8787878787878789, 0.888888888888889, 0.8989898989898991, 0.9090909090909092, 0.9191919191919192, 0.9292929292929294, 0.9393939393939394, 0.9494949494949496, 0.9595959595959597, 0.9696969696969697, 0.9797979797979799, 0.98989898989899, 1.0], [0.0, 0.10033340611397856, 0.19965422182925707, 0.2969600760684489, 0.3912689332607891, 0.48162900429630934, 0.5671283522249922, 0.6469040957577351, 0.720151117685035, 0.7861301903258074, 0.84417543600223, 0.8937010472475914, 0.9342071989250891, 0.9652850925909591, 0.9866210821929372, 0.9979998394664454, 0.9993065270825165, 0.9905279576154928, 0.9717527266338982, 0.9431703185712997, 0.9050691944009351, 0.8578338804137864, 0.8019410874808932, 0.737954899965305, 0.6665210828384021, 0.5883605644546255, 0.5042621607581176, 0.4150746143504438, 0.32169802876315795, 0.22507478438272543, 0.12618002770661219, 0.0260118299154004, -0.07441888591686176, -0.17409854731690655, -0.2720211616449078, -0.3671984688295239, -0.45866991514132416, -0.5455123473467255, -0.6268493294065579, -0.7018599876927554, -0.7697872954549804, -0.8299457129282269, -0.8817281059754842, -0.9246118734407446, -0.9581642213735454, -0.9820465308962223, -0.9960177756322361, -0.9999369542060184, -0.9937645132649188, -0.9775627466617587, -0.9514951667693332, -0.9158248542717212, -0.8709118030867279, -0.8172092872151839, -0.7552592861837865, -0.6856870152490829, -0.6091946155651793, -0.5265540679956123, -0.43859940208501036, -0.3462182788195934, -0.250343032125446, -0.15194125951605447, -0.05200605685069962, 0.048454004242978146, 0.1484250551318267, 0.2468981623987645, 0.34287951025690017, 0.43540043039266096, 0.5235271780141882, 0.6063703554426186, 0.6830938881409576, 0.7529234625921656, 0.8151543408692327, 0.8691584730306025, 0.9143908355608308, 0.9503949318873145, 0.9768073994604692, 0.9933616769015238, 0.9998906942081381, 0.9963285588676023, 0.9827112208609282, 0.959176109846447, 0.9259607481845431, 0.8834003538012378, 0.8319244570831352, 0.7720525659468906, 0.7043889228324319, 0.6296164065336968, 0.5484896404111711, 0.46182737653991096, 0.37050423265417287, 0.27544186528152204, 0.17759966814940648, 0.07796508973825698, -0.02245633230115589, -0.1226511192908991, -0.22160807981193165, -0.3183285149065574, -0.4118362972037624, -0.5011877222463261, -0.5854810325975929, -0.6638655186081827, -0.7355501039953746, -0.7998113295873013, -0.8560006546579639, -0.903551002166129, -0.9419824818418809, -0.9709072333619758, -0.990033340735435, -0.9991677783943945, -0.9982183592575101, -0.9871946651055623, -0.966207949879674, -0.9354700168780792, -0.8952910811830599, -0.8460766388909868, -0.7883233747419922, -0.7226141494505268, -0.6496121173259396, -0.5700540335495606, -0.4847428186529565, -0.39453945523854783, -0.3003542987229555, -0.203137889797277, -0.103871361327294, -0.0035565365096275887, 0.09679418178421748, 0.19616802843659367, 0.29356209716833237, 0.3879934621254457, 0.4785090978182669, 0.5641954972984654, 0.644187891504835, 0.7176789767338575, 0.7839270621551785, 0.8422635551451839, 0.8920997088947761, 0.932932564192766, 0.9643500254188847, 0.9860350195181922, 0.9977686959834515, 0.9994326355504284, 0.9910100453153949, 0.9725859282134105, 0.9443462251469577, 0.9065759384227932, 0.8596562554357671, 0.804060701628131, 0.7403503615496515, 0.6691682162488151, 0.591232654143619, 0.5073302208619009, 0.4183076812216731, 0.32506347346398523, 0.2285386419843857, 0.12970734007217227, 0.029566998506218765, -0.07087174077157724, -0.17059522431328336, -0.26859701721481055, -0.36388806031440185, -0.45550665203067525, -0.5425281541009939, -0.6240743232673008, -0.6993221747317495, -0.7675122879297704, -0.8279564707966823, -0.8800447051780209, -0.9232513032888079, -0.9571402130891266, -0.9813694190328588, -0.9956943937760503, -0.9999705660094207, -0.9941547795089919, -0.978305728679741, -0.9525833661966533, -0.9172472887214079, -0.8726541169864731, -0.8192538966874446, -0.7575855565067815, -0.6882714691076758, -0.6120111699899564, -0.5295742975988719, -0.4417928259370572, -0.3495526680700663, -0.2537847352651319, -0.15545554199651387, -0.05555745163422786, 0.04490133874094826, 0.14490697332027141, 0.2434501696592168, 0.3395364046140433, 0.43219595132377603, 0.5204936659417063, 0.6035384253463179, 0.680492120583744, 0.750578115277733, 0.8130890836425904, 0.8673941489959544, 0.9129452507276277]]}]\n",
            "Result[0] is: {'inputs': [[0.0, 0.010101010101010102, 0.020202020202020204, 0.030303030303030304, 0.04040404040404041, 0.05050505050505051, 0.06060606060606061, 0.07070707070707072, 0.08080808080808081, 0.09090909090909091, 0.10101010101010102, 0.11111111111111112, 0.12121212121212122, 0.13131313131313133, 0.14141414141414144, 0.15151515151515152, 0.16161616161616163, 0.17171717171717174, 0.18181818181818182, 0.19191919191919193, 0.20202020202020204, 0.21212121212121213, 0.22222222222222224, 0.23232323232323235, 0.24242424242424243, 0.25252525252525254, 0.26262626262626265, 0.27272727272727276, 0.2828282828282829, 0.29292929292929293, 0.30303030303030304, 0.31313131313131315, 0.32323232323232326, 0.33333333333333337, 0.3434343434343435, 0.3535353535353536, 0.36363636363636365, 0.37373737373737376, 0.38383838383838387, 0.393939393939394, 0.4040404040404041, 0.4141414141414142, 0.42424242424242425, 0.43434343434343436, 0.4444444444444445, 0.4545454545454546, 0.4646464646464647, 0.4747474747474748, 0.48484848484848486, 0.494949494949495, 0.5050505050505051, 0.5151515151515152, 0.5252525252525253, 0.5353535353535354, 0.5454545454545455, 0.5555555555555556, 0.5656565656565657, 0.5757575757575758, 0.5858585858585859, 0.595959595959596, 0.6060606060606061, 0.6161616161616162, 0.6262626262626263, 0.6363636363636365, 0.6464646464646465, 0.6565656565656566, 0.6666666666666667, 0.6767676767676768, 0.686868686868687, 0.696969696969697, 0.7070707070707072, 0.7171717171717172, 0.7272727272727273, 0.7373737373737375, 0.7474747474747475, 0.7575757575757577, 0.7676767676767677, 0.7777777777777778, 0.787878787878788, 0.797979797979798, 0.8080808080808082, 0.8181818181818182, 0.8282828282828284, 0.8383838383838385, 0.8484848484848485, 0.8585858585858587, 0.8686868686868687, 0.8787878787878789, 0.888888888888889, 0.8989898989898991, 0.9090909090909092, 0.9191919191919192, 0.9292929292929294, 0.9393939393939394, 0.9494949494949496, 0.9595959595959597, 0.9696969696969697, 0.9797979797979799, 0.98989898989899, 1.0], [0.0, 0.10033340611397856, 0.19965422182925707, 0.2969600760684489, 0.3912689332607891, 0.48162900429630934, 0.5671283522249922, 0.6469040957577351, 0.720151117685035, 0.7861301903258074, 0.84417543600223, 0.8937010472475914, 0.9342071989250891, 0.9652850925909591, 0.9866210821929372, 0.9979998394664454, 0.9993065270825165, 0.9905279576154928, 0.9717527266338982, 0.9431703185712997, 0.9050691944009351, 0.8578338804137864, 0.8019410874808932, 0.737954899965305, 0.6665210828384021, 0.5883605644546255, 0.5042621607581176, 0.4150746143504438, 0.32169802876315795, 0.22507478438272543, 0.12618002770661219, 0.0260118299154004, -0.07441888591686176, -0.17409854731690655, -0.2720211616449078, -0.3671984688295239, -0.45866991514132416, -0.5455123473467255, -0.6268493294065579, -0.7018599876927554, -0.7697872954549804, -0.8299457129282269, -0.8817281059754842, -0.9246118734407446, -0.9581642213735454, -0.9820465308962223, -0.9960177756322361, -0.9999369542060184, -0.9937645132649188, -0.9775627466617587, -0.9514951667693332, -0.9158248542717212, -0.8709118030867279, -0.8172092872151839, -0.7552592861837865, -0.6856870152490829, -0.6091946155651793, -0.5265540679956123, -0.43859940208501036, -0.3462182788195934, -0.250343032125446, -0.15194125951605447, -0.05200605685069962, 0.048454004242978146, 0.1484250551318267, 0.2468981623987645, 0.34287951025690017, 0.43540043039266096, 0.5235271780141882, 0.6063703554426186, 0.6830938881409576, 0.7529234625921656, 0.8151543408692327, 0.8691584730306025, 0.9143908355608308, 0.9503949318873145, 0.9768073994604692, 0.9933616769015238, 0.9998906942081381, 0.9963285588676023, 0.9827112208609282, 0.959176109846447, 0.9259607481845431, 0.8834003538012378, 0.8319244570831352, 0.7720525659468906, 0.7043889228324319, 0.6296164065336968, 0.5484896404111711, 0.46182737653991096, 0.37050423265417287, 0.27544186528152204, 0.17759966814940648, 0.07796508973825698, -0.02245633230115589, -0.1226511192908991, -0.22160807981193165, -0.3183285149065574, -0.4118362972037624, -0.5011877222463261, -0.5854810325975929, -0.6638655186081827, -0.7355501039953746, -0.7998113295873013, -0.8560006546579639, -0.903551002166129, -0.9419824818418809, -0.9709072333619758, -0.990033340735435, -0.9991677783943945, -0.9982183592575101, -0.9871946651055623, -0.966207949879674, -0.9354700168780792, -0.8952910811830599, -0.8460766388909868, -0.7883233747419922, -0.7226141494505268, -0.6496121173259396, -0.5700540335495606, -0.4847428186529565, -0.39453945523854783, -0.3003542987229555, -0.203137889797277, -0.103871361327294, -0.0035565365096275887, 0.09679418178421748, 0.19616802843659367, 0.29356209716833237, 0.3879934621254457, 0.4785090978182669, 0.5641954972984654, 0.644187891504835, 0.7176789767338575, 0.7839270621551785, 0.8422635551451839, 0.8920997088947761, 0.932932564192766, 0.9643500254188847, 0.9860350195181922, 0.9977686959834515, 0.9994326355504284, 0.9910100453153949, 0.9725859282134105, 0.9443462251469577, 0.9065759384227932, 0.8596562554357671, 0.804060701628131, 0.7403503615496515, 0.6691682162488151, 0.591232654143619, 0.5073302208619009, 0.4183076812216731, 0.32506347346398523, 0.2285386419843857, 0.12970734007217227, 0.029566998506218765, -0.07087174077157724, -0.17059522431328336, -0.26859701721481055, -0.36388806031440185, -0.45550665203067525, -0.5425281541009939, -0.6240743232673008, -0.6993221747317495, -0.7675122879297704, -0.8279564707966823, -0.8800447051780209, -0.9232513032888079, -0.9571402130891266, -0.9813694190328588, -0.9956943937760503, -0.9999705660094207, -0.9941547795089919, -0.978305728679741, -0.9525833661966533, -0.9172472887214079, -0.8726541169864731, -0.8192538966874446, -0.7575855565067815, -0.6882714691076758, -0.6120111699899564, -0.5295742975988719, -0.4417928259370572, -0.3495526680700663, -0.2537847352651319, -0.15545554199651387, -0.05555745163422786, 0.04490133874094826, 0.14490697332027141, 0.2434501696592168, 0.3395364046140433, 0.43219595132377603, 0.5204936659417063, 0.6035384253463179, 0.680492120583744, 0.750578115277733, 0.8130890836425904, 0.8673941489959544, 0.9129452507276277]]}\n",
            "inputs is: [[0.0, 0.010101010101010102, 0.020202020202020204, 0.030303030303030304, 0.04040404040404041, 0.05050505050505051, 0.06060606060606061, 0.07070707070707072, 0.08080808080808081, 0.09090909090909091, 0.10101010101010102, 0.11111111111111112, 0.12121212121212122, 0.13131313131313133, 0.14141414141414144, 0.15151515151515152, 0.16161616161616163, 0.17171717171717174, 0.18181818181818182, 0.19191919191919193, 0.20202020202020204, 0.21212121212121213, 0.22222222222222224, 0.23232323232323235, 0.24242424242424243, 0.25252525252525254, 0.26262626262626265, 0.27272727272727276, 0.2828282828282829, 0.29292929292929293, 0.30303030303030304, 0.31313131313131315, 0.32323232323232326, 0.33333333333333337, 0.3434343434343435, 0.3535353535353536, 0.36363636363636365, 0.37373737373737376, 0.38383838383838387, 0.393939393939394, 0.4040404040404041, 0.4141414141414142, 0.42424242424242425, 0.43434343434343436, 0.4444444444444445, 0.4545454545454546, 0.4646464646464647, 0.4747474747474748, 0.48484848484848486, 0.494949494949495, 0.5050505050505051, 0.5151515151515152, 0.5252525252525253, 0.5353535353535354, 0.5454545454545455, 0.5555555555555556, 0.5656565656565657, 0.5757575757575758, 0.5858585858585859, 0.595959595959596, 0.6060606060606061, 0.6161616161616162, 0.6262626262626263, 0.6363636363636365, 0.6464646464646465, 0.6565656565656566, 0.6666666666666667, 0.6767676767676768, 0.686868686868687, 0.696969696969697, 0.7070707070707072, 0.7171717171717172, 0.7272727272727273, 0.7373737373737375, 0.7474747474747475, 0.7575757575757577, 0.7676767676767677, 0.7777777777777778, 0.787878787878788, 0.797979797979798, 0.8080808080808082, 0.8181818181818182, 0.8282828282828284, 0.8383838383838385, 0.8484848484848485, 0.8585858585858587, 0.8686868686868687, 0.8787878787878789, 0.888888888888889, 0.8989898989898991, 0.9090909090909092, 0.9191919191919192, 0.9292929292929294, 0.9393939393939394, 0.9494949494949496, 0.9595959595959597, 0.9696969696969697, 0.9797979797979799, 0.98989898989899, 1.0], [0.0, 0.10033340611397856, 0.19965422182925707, 0.2969600760684489, 0.3912689332607891, 0.48162900429630934, 0.5671283522249922, 0.6469040957577351, 0.720151117685035, 0.7861301903258074, 0.84417543600223, 0.8937010472475914, 0.9342071989250891, 0.9652850925909591, 0.9866210821929372, 0.9979998394664454, 0.9993065270825165, 0.9905279576154928, 0.9717527266338982, 0.9431703185712997, 0.9050691944009351, 0.8578338804137864, 0.8019410874808932, 0.737954899965305, 0.6665210828384021, 0.5883605644546255, 0.5042621607581176, 0.4150746143504438, 0.32169802876315795, 0.22507478438272543, 0.12618002770661219, 0.0260118299154004, -0.07441888591686176, -0.17409854731690655, -0.2720211616449078, -0.3671984688295239, -0.45866991514132416, -0.5455123473467255, -0.6268493294065579, -0.7018599876927554, -0.7697872954549804, -0.8299457129282269, -0.8817281059754842, -0.9246118734407446, -0.9581642213735454, -0.9820465308962223, -0.9960177756322361, -0.9999369542060184, -0.9937645132649188, -0.9775627466617587, -0.9514951667693332, -0.9158248542717212, -0.8709118030867279, -0.8172092872151839, -0.7552592861837865, -0.6856870152490829, -0.6091946155651793, -0.5265540679956123, -0.43859940208501036, -0.3462182788195934, -0.250343032125446, -0.15194125951605447, -0.05200605685069962, 0.048454004242978146, 0.1484250551318267, 0.2468981623987645, 0.34287951025690017, 0.43540043039266096, 0.5235271780141882, 0.6063703554426186, 0.6830938881409576, 0.7529234625921656, 0.8151543408692327, 0.8691584730306025, 0.9143908355608308, 0.9503949318873145, 0.9768073994604692, 0.9933616769015238, 0.9998906942081381, 0.9963285588676023, 0.9827112208609282, 0.959176109846447, 0.9259607481845431, 0.8834003538012378, 0.8319244570831352, 0.7720525659468906, 0.7043889228324319, 0.6296164065336968, 0.5484896404111711, 0.46182737653991096, 0.37050423265417287, 0.27544186528152204, 0.17759966814940648, 0.07796508973825698, -0.02245633230115589, -0.1226511192908991, -0.22160807981193165, -0.3183285149065574, -0.4118362972037624, -0.5011877222463261, -0.5854810325975929, -0.6638655186081827, -0.7355501039953746, -0.7998113295873013, -0.8560006546579639, -0.903551002166129, -0.9419824818418809, -0.9709072333619758, -0.990033340735435, -0.9991677783943945, -0.9982183592575101, -0.9871946651055623, -0.966207949879674, -0.9354700168780792, -0.8952910811830599, -0.8460766388909868, -0.7883233747419922, -0.7226141494505268, -0.6496121173259396, -0.5700540335495606, -0.4847428186529565, -0.39453945523854783, -0.3003542987229555, -0.203137889797277, -0.103871361327294, -0.0035565365096275887, 0.09679418178421748, 0.19616802843659367, 0.29356209716833237, 0.3879934621254457, 0.4785090978182669, 0.5641954972984654, 0.644187891504835, 0.7176789767338575, 0.7839270621551785, 0.8422635551451839, 0.8920997088947761, 0.932932564192766, 0.9643500254188847, 0.9860350195181922, 0.9977686959834515, 0.9994326355504284, 0.9910100453153949, 0.9725859282134105, 0.9443462251469577, 0.9065759384227932, 0.8596562554357671, 0.804060701628131, 0.7403503615496515, 0.6691682162488151, 0.591232654143619, 0.5073302208619009, 0.4183076812216731, 0.32506347346398523, 0.2285386419843857, 0.12970734007217227, 0.029566998506218765, -0.07087174077157724, -0.17059522431328336, -0.26859701721481055, -0.36388806031440185, -0.45550665203067525, -0.5425281541009939, -0.6240743232673008, -0.6993221747317495, -0.7675122879297704, -0.8279564707966823, -0.8800447051780209, -0.9232513032888079, -0.9571402130891266, -0.9813694190328588, -0.9956943937760503, -0.9999705660094207, -0.9941547795089919, -0.978305728679741, -0.9525833661966533, -0.9172472887214079, -0.8726541169864731, -0.8192538966874446, -0.7575855565067815, -0.6882714691076758, -0.6120111699899564, -0.5295742975988719, -0.4417928259370572, -0.3495526680700663, -0.2537847352651319, -0.15545554199651387, -0.05555745163422786, 0.04490133874094826, 0.14490697332027141, 0.2434501696592168, 0.3395364046140433, 0.43219595132377603, 0.5204936659417063, 0.6035384253463179, 0.680492120583744, 0.750578115277733, 0.8130890836425904, 0.8673941489959544, 0.9129452507276277]]\n",
            "Result is: {'inputs': [[0.0, 0.010101010101010102, 0.020202020202020204, 0.030303030303030304, 0.04040404040404041, 0.05050505050505051, 0.06060606060606061, 0.07070707070707072, 0.08080808080808081, 0.09090909090909091, 0.10101010101010102, 0.11111111111111112, 0.12121212121212122, 0.13131313131313133, 0.14141414141414144, 0.15151515151515152, 0.16161616161616163, 0.17171717171717174, 0.18181818181818182, 0.19191919191919193, 0.20202020202020204, 0.21212121212121213, 0.22222222222222224, 0.23232323232323235, 0.24242424242424243, 0.25252525252525254, 0.26262626262626265, 0.27272727272727276, 0.2828282828282829, 0.29292929292929293, 0.30303030303030304, 0.31313131313131315, 0.32323232323232326, 0.33333333333333337, 0.3434343434343435, 0.3535353535353536, 0.36363636363636365, 0.37373737373737376, 0.38383838383838387, 0.393939393939394, 0.4040404040404041, 0.4141414141414142, 0.42424242424242425, 0.43434343434343436, 0.4444444444444445, 0.4545454545454546, 0.4646464646464647, 0.4747474747474748, 0.48484848484848486, 0.494949494949495, 0.5050505050505051, 0.5151515151515152, 0.5252525252525253, 0.5353535353535354, 0.5454545454545455, 0.5555555555555556, 0.5656565656565657, 0.5757575757575758, 0.5858585858585859, 0.595959595959596, 0.6060606060606061, 0.6161616161616162, 0.6262626262626263, 0.6363636363636365, 0.6464646464646465, 0.6565656565656566, 0.6666666666666667, 0.6767676767676768, 0.686868686868687, 0.696969696969697, 0.7070707070707072, 0.7171717171717172, 0.7272727272727273, 0.7373737373737375, 0.7474747474747475, 0.7575757575757577, 0.7676767676767677, 0.7777777777777778, 0.787878787878788, 0.797979797979798, 0.8080808080808082, 0.8181818181818182, 0.8282828282828284, 0.8383838383838385, 0.8484848484848485, 0.8585858585858587, 0.8686868686868687, 0.8787878787878789, 0.888888888888889, 0.8989898989898991, 0.9090909090909092, 0.9191919191919192, 0.9292929292929294, 0.9393939393939394, 0.9494949494949496, 0.9595959595959597, 0.9696969696969697, 0.9797979797979799, 0.98989898989899, 1.0], [0.0, 0.10033340611397856, 0.19965422182925707, 0.2969600760684489, 0.3912689332607891, 0.48162900429630934, 0.5671283522249922, 0.6469040957577351, 0.720151117685035, 0.7861301903258074, 0.84417543600223, 0.8937010472475914, 0.9342071989250891, 0.9652850925909591, 0.9866210821929372, 0.9979998394664454, 0.9993065270825165, 0.9905279576154928, 0.9717527266338982, 0.9431703185712997, 0.9050691944009351, 0.8578338804137864, 0.8019410874808932, 0.737954899965305, 0.6665210828384021, 0.5883605644546255, 0.5042621607581176, 0.4150746143504438, 0.32169802876315795, 0.22507478438272543, 0.12618002770661219, 0.0260118299154004, -0.07441888591686176, -0.17409854731690655, -0.2720211616449078, -0.3671984688295239, -0.45866991514132416, -0.5455123473467255, -0.6268493294065579, -0.7018599876927554, -0.7697872954549804, -0.8299457129282269, -0.8817281059754842, -0.9246118734407446, -0.9581642213735454, -0.9820465308962223, -0.9960177756322361, -0.9999369542060184, -0.9937645132649188, -0.9775627466617587, -0.9514951667693332, -0.9158248542717212, -0.8709118030867279, -0.8172092872151839, -0.7552592861837865, -0.6856870152490829, -0.6091946155651793, -0.5265540679956123, -0.43859940208501036, -0.3462182788195934, -0.250343032125446, -0.15194125951605447, -0.05200605685069962, 0.048454004242978146, 0.1484250551318267, 0.2468981623987645, 0.34287951025690017, 0.43540043039266096, 0.5235271780141882, 0.6063703554426186, 0.6830938881409576, 0.7529234625921656, 0.8151543408692327, 0.8691584730306025, 0.9143908355608308, 0.9503949318873145, 0.9768073994604692, 0.9933616769015238, 0.9998906942081381, 0.9963285588676023, 0.9827112208609282, 0.959176109846447, 0.9259607481845431, 0.8834003538012378, 0.8319244570831352, 0.7720525659468906, 0.7043889228324319, 0.6296164065336968, 0.5484896404111711, 0.46182737653991096, 0.37050423265417287, 0.27544186528152204, 0.17759966814940648, 0.07796508973825698, -0.02245633230115589, -0.1226511192908991, -0.22160807981193165, -0.3183285149065574, -0.4118362972037624, -0.5011877222463261, -0.5854810325975929, -0.6638655186081827, -0.7355501039953746, -0.7998113295873013, -0.8560006546579639, -0.903551002166129, -0.9419824818418809, -0.9709072333619758, -0.990033340735435, -0.9991677783943945, -0.9982183592575101, -0.9871946651055623, -0.966207949879674, -0.9354700168780792, -0.8952910811830599, -0.8460766388909868, -0.7883233747419922, -0.7226141494505268, -0.6496121173259396, -0.5700540335495606, -0.4847428186529565, -0.39453945523854783, -0.3003542987229555, -0.203137889797277, -0.103871361327294, -0.0035565365096275887, 0.09679418178421748, 0.19616802843659367, 0.29356209716833237, 0.3879934621254457, 0.4785090978182669, 0.5641954972984654, 0.644187891504835, 0.7176789767338575, 0.7839270621551785, 0.8422635551451839, 0.8920997088947761, 0.932932564192766, 0.9643500254188847, 0.9860350195181922, 0.9977686959834515, 0.9994326355504284, 0.9910100453153949, 0.9725859282134105, 0.9443462251469577, 0.9065759384227932, 0.8596562554357671, 0.804060701628131, 0.7403503615496515, 0.6691682162488151, 0.591232654143619, 0.5073302208619009, 0.4183076812216731, 0.32506347346398523, 0.2285386419843857, 0.12970734007217227, 0.029566998506218765, -0.07087174077157724, -0.17059522431328336, -0.26859701721481055, -0.36388806031440185, -0.45550665203067525, -0.5425281541009939, -0.6240743232673008, -0.6993221747317495, -0.7675122879297704, -0.8279564707966823, -0.8800447051780209, -0.9232513032888079, -0.9571402130891266, -0.9813694190328588, -0.9956943937760503, -0.9999705660094207, -0.9941547795089919, -0.978305728679741, -0.9525833661966533, -0.9172472887214079, -0.8726541169864731, -0.8192538966874446, -0.7575855565067815, -0.6882714691076758, -0.6120111699899564, -0.5295742975988719, -0.4417928259370572, -0.3495526680700663, -0.2537847352651319, -0.15545554199651387, -0.05555745163422786, 0.04490133874094826, 0.14490697332027141, 0.2434501696592168, 0.3395364046140433, 0.43219595132377603, 0.5204936659417063, 0.6035384253463179, 0.680492120583744, 0.750578115277733, 0.8130890836425904, 0.8673941489959544, 0.9129452507276277]]}\n",
            "Preprocessed inputs: {'inputs': [[0.0, 0.010101010101010102, 0.020202020202020204, 0.030303030303030304, 0.04040404040404041, 0.05050505050505051, 0.06060606060606061, 0.07070707070707072, 0.08080808080808081, 0.09090909090909091, 0.10101010101010102, 0.11111111111111112, 0.12121212121212122, 0.13131313131313133, 0.14141414141414144, 0.15151515151515152, 0.16161616161616163, 0.17171717171717174, 0.18181818181818182, 0.19191919191919193, 0.20202020202020204, 0.21212121212121213, 0.22222222222222224, 0.23232323232323235, 0.24242424242424243, 0.25252525252525254, 0.26262626262626265, 0.27272727272727276, 0.2828282828282829, 0.29292929292929293, 0.30303030303030304, 0.31313131313131315, 0.32323232323232326, 0.33333333333333337, 0.3434343434343435, 0.3535353535353536, 0.36363636363636365, 0.37373737373737376, 0.38383838383838387, 0.393939393939394, 0.4040404040404041, 0.4141414141414142, 0.42424242424242425, 0.43434343434343436, 0.4444444444444445, 0.4545454545454546, 0.4646464646464647, 0.4747474747474748, 0.48484848484848486, 0.494949494949495, 0.5050505050505051, 0.5151515151515152, 0.5252525252525253, 0.5353535353535354, 0.5454545454545455, 0.5555555555555556, 0.5656565656565657, 0.5757575757575758, 0.5858585858585859, 0.595959595959596, 0.6060606060606061, 0.6161616161616162, 0.6262626262626263, 0.6363636363636365, 0.6464646464646465, 0.6565656565656566, 0.6666666666666667, 0.6767676767676768, 0.686868686868687, 0.696969696969697, 0.7070707070707072, 0.7171717171717172, 0.7272727272727273, 0.7373737373737375, 0.7474747474747475, 0.7575757575757577, 0.7676767676767677, 0.7777777777777778, 0.787878787878788, 0.797979797979798, 0.8080808080808082, 0.8181818181818182, 0.8282828282828284, 0.8383838383838385, 0.8484848484848485, 0.8585858585858587, 0.8686868686868687, 0.8787878787878789, 0.888888888888889, 0.8989898989898991, 0.9090909090909092, 0.9191919191919192, 0.9292929292929294, 0.9393939393939394, 0.9494949494949496, 0.9595959595959597, 0.9696969696969697, 0.9797979797979799, 0.98989898989899, 1.0], [0.0, 0.10033340611397856, 0.19965422182925707, 0.2969600760684489, 0.3912689332607891, 0.48162900429630934, 0.5671283522249922, 0.6469040957577351, 0.720151117685035, 0.7861301903258074, 0.84417543600223, 0.8937010472475914, 0.9342071989250891, 0.9652850925909591, 0.9866210821929372, 0.9979998394664454, 0.9993065270825165, 0.9905279576154928, 0.9717527266338982, 0.9431703185712997, 0.9050691944009351, 0.8578338804137864, 0.8019410874808932, 0.737954899965305, 0.6665210828384021, 0.5883605644546255, 0.5042621607581176, 0.4150746143504438, 0.32169802876315795, 0.22507478438272543, 0.12618002770661219, 0.0260118299154004, -0.07441888591686176, -0.17409854731690655, -0.2720211616449078, -0.3671984688295239, -0.45866991514132416, -0.5455123473467255, -0.6268493294065579, -0.7018599876927554, -0.7697872954549804, -0.8299457129282269, -0.8817281059754842, -0.9246118734407446, -0.9581642213735454, -0.9820465308962223, -0.9960177756322361, -0.9999369542060184, -0.9937645132649188, -0.9775627466617587, -0.9514951667693332, -0.9158248542717212, -0.8709118030867279, -0.8172092872151839, -0.7552592861837865, -0.6856870152490829, -0.6091946155651793, -0.5265540679956123, -0.43859940208501036, -0.3462182788195934, -0.250343032125446, -0.15194125951605447, -0.05200605685069962, 0.048454004242978146, 0.1484250551318267, 0.2468981623987645, 0.34287951025690017, 0.43540043039266096, 0.5235271780141882, 0.6063703554426186, 0.6830938881409576, 0.7529234625921656, 0.8151543408692327, 0.8691584730306025, 0.9143908355608308, 0.9503949318873145, 0.9768073994604692, 0.9933616769015238, 0.9998906942081381, 0.9963285588676023, 0.9827112208609282, 0.959176109846447, 0.9259607481845431, 0.8834003538012378, 0.8319244570831352, 0.7720525659468906, 0.7043889228324319, 0.6296164065336968, 0.5484896404111711, 0.46182737653991096, 0.37050423265417287, 0.27544186528152204, 0.17759966814940648, 0.07796508973825698, -0.02245633230115589, -0.1226511192908991, -0.22160807981193165, -0.3183285149065574, -0.4118362972037624, -0.5011877222463261, -0.5854810325975929, -0.6638655186081827, -0.7355501039953746, -0.7998113295873013, -0.8560006546579639, -0.903551002166129, -0.9419824818418809, -0.9709072333619758, -0.990033340735435, -0.9991677783943945, -0.9982183592575101, -0.9871946651055623, -0.966207949879674, -0.9354700168780792, -0.8952910811830599, -0.8460766388909868, -0.7883233747419922, -0.7226141494505268, -0.6496121173259396, -0.5700540335495606, -0.4847428186529565, -0.39453945523854783, -0.3003542987229555, -0.203137889797277, -0.103871361327294, -0.0035565365096275887, 0.09679418178421748, 0.19616802843659367, 0.29356209716833237, 0.3879934621254457, 0.4785090978182669, 0.5641954972984654, 0.644187891504835, 0.7176789767338575, 0.7839270621551785, 0.8422635551451839, 0.8920997088947761, 0.932932564192766, 0.9643500254188847, 0.9860350195181922, 0.9977686959834515, 0.9994326355504284, 0.9910100453153949, 0.9725859282134105, 0.9443462251469577, 0.9065759384227932, 0.8596562554357671, 0.804060701628131, 0.7403503615496515, 0.6691682162488151, 0.591232654143619, 0.5073302208619009, 0.4183076812216731, 0.32506347346398523, 0.2285386419843857, 0.12970734007217227, 0.029566998506218765, -0.07087174077157724, -0.17059522431328336, -0.26859701721481055, -0.36388806031440185, -0.45550665203067525, -0.5425281541009939, -0.6240743232673008, -0.6993221747317495, -0.7675122879297704, -0.8279564707966823, -0.8800447051780209, -0.9232513032888079, -0.9571402130891266, -0.9813694190328588, -0.9956943937760503, -0.9999705660094207, -0.9941547795089919, -0.978305728679741, -0.9525833661966533, -0.9172472887214079, -0.8726541169864731, -0.8192538966874446, -0.7575855565067815, -0.6882714691076758, -0.6120111699899564, -0.5295742975988719, -0.4417928259370572, -0.3495526680700663, -0.2537847352651319, -0.15545554199651387, -0.05555745163422786, 0.04490133874094826, 0.14490697332027141, 0.2434501696592168, 0.3395364046140433, 0.43219595132377603, 0.5204936659417063, 0.6035384253463179, 0.680492120583744, 0.750578115277733, 0.8130890836425904, 0.8673941489959544, 0.9129452507276277]]}\n",
            "Predict output: [[1.0043781995773315, 1.0092754364013672, 1.0227643251419067, 1.0290114879608154, 1.042575716972351, 1.0458625555038452, 1.0602072477340698, 1.073277235031128, 1.079963207244873, 1.0858573913574219, 1.1012295484542847, 1.1140187978744507, 1.1229411363601685, 1.1302417516708374, 1.1442620754241943, 1.1492640972137451, 1.1576710939407349, 1.1708849668502808, 1.1724050045013428, 1.1844656467437744, 1.192319631576538, 1.2014856338500977, 1.2107980251312256, 1.2246273756027222, 1.2303953170776367, 1.2399992942810059, 1.25645911693573, 1.2656104564666748, 1.281044840812683, 1.2851701974868774, 1.2962744235992432, 1.307445764541626, 1.3179616928100586, 1.3209153413772583, 1.3350214958190918, 1.3493108749389648, 1.3600586652755737, 1.3627506494522095, 1.370786190032959, 1.375531554222107, 1.382254719734192, 1.3978770971298218, 1.4098271131515503, 1.4204648733139038, 1.4319243431091309, 1.4392064809799194, 1.4434936046600342, 1.4548120498657227, 1.4614330530166626, 1.4742146730422974, 1.4800151586532593, 1.4872852563858032, 1.4999523162841797, 1.509232521057129, 1.5120716094970703, 1.5250388383865356, 1.535513997077942, 1.5422911643981934, 1.5477027893066406, 1.5590629577636719, 1.5652592182159424, 1.5744000673294067, 1.5830588340759277, 1.591856598854065, 1.6006760597229004, 1.6114616394042969, 1.6216742992401123, 1.627734661102295, 1.6394544839859009, 1.644767165184021, 1.6542679071426392, 1.6669540405273438, 1.6724578142166138, 1.6829780340194702, 1.6970185041427612, 1.703606367111206, 1.7124449014663696, 1.724508285522461, 1.7268669605255127, 1.7412086725234985, 1.7492197751998901, 1.7539281845092773, 1.7606782913208008, 1.7700893878936768, 1.7792534828186035, 1.7860242128372192, 1.7960203886032104, 1.802981972694397, 1.808966040611267, 1.8156554698944092, 1.8211387395858765, 1.8300542831420898, 1.8391450643539429, 1.846596598625183, 1.8559911251068115, 1.8655413389205933, 1.8661037683486938, 1.8770958185195923, 1.8859964609146118, 1.8930383920669556, 1.9036734104156494, 1.9126991033554077, 1.9187463521957397, 1.9234896898269653, 1.9363824129104614, 1.9428141117095947, 1.9542028903961182, 1.9647477865219116, 1.9716122150421143, 1.976961612701416, 1.981932520866394, 1.9888893365859985, 1.9969871044158936, 2.0090184211730957, 2.0206453800201416, 2.0365664958953857, 2.048849105834961, 2.0562078952789307, 2.0660414695739746, 2.0779454708099365, 2.077317953109741, 2.0842065811157227, 2.09609317779541, 2.1015233993530273, 2.1107842922210693, 2.1178200244903564, 2.1197073459625244, 2.1255080699920654], [0.9735910892486572, 1.0024527311325073, 1.0195703506469727, 1.0256524085998535, 1.0168533325195312, 1.0073509216308594, 0.979281485080719, 0.9471696019172668, 0.9019151926040649, 0.8528010249137878, 0.790381669998169, 0.724743664264679, 0.6485754251480103, 0.56720370054245, 0.47890758514404297, 0.38198545575141907, 0.2821505069732666, 0.18920135498046875, 0.08537191897630692, -0.008927542716264725, -0.1021464541554451, -0.20491404831409454, -0.3009810149669647, -0.3947799503803253, -0.48819902539253235, -0.5671283006668091, -0.6520344018936157, -0.7237132787704468, -0.7849451899528503, -0.8413645029067993, -0.888508677482605, -0.9320813417434692, -0.9732257127761841, -0.9942431449890137, -1.0040332078933716, -1.0028421878814697, -0.9905840158462524, -0.9733614921569824, -0.9461737871170044, -0.911666989326477, -0.8579093217849731, -0.8020860552787781, -0.7366887927055359, -0.6639584898948669, -0.5763968825340271, -0.49701184034347534, -0.40419816970825195, -0.3018384277820587, -0.20715512335300446, -0.10307042300701141, -0.00524465087801218, 0.09973104298114777, 0.18970389664173126, 0.28932657837867737, 0.3874680995941162, 0.47816500067710876, 0.5636317729949951, 0.6424326300621033, 0.7135756611824036, 0.7830427885055542, 0.8411860466003418, 0.8932070136070251, 0.9391488432884216, 0.9717853665351868, 0.9958571195602417, 1.0132368803024292, 1.020599126815796, 1.0103111267089844, 0.998502790927887, 0.9613048434257507, 0.9277815222740173, 0.8890515565872192, 0.8333668112754822, 0.7776334881782532, 0.7056025862693787, 0.6261623501777649, 0.5375349521636963, 0.45057013630867004, 0.3583762049674988, 0.2619885802268982, 0.1573731154203415, 0.05235598608851433, -0.04753296077251434, -0.1520068645477295, -0.2501671314239502, -0.34496721625328064, -0.43800488114356995, -0.5267589688301086, -0.609660804271698, -0.6808998584747314, -0.7561715245246887, -0.823006808757782, -0.871015727519989, -0.9132642149925232, -0.9471878409385681, -0.9722622632980347, -0.993030309677124, -0.9983770251274109, -0.9951111674308777, -0.9751679301261902, -0.9523268938064575, -0.9239387512207031, -0.8778331875801086, -0.8221471309661865, -0.7614054083824158, -0.697418212890625, -0.6242297887802124, -0.542637825012207, -0.45279932022094727, -0.3571987450122833, -0.25580883026123047, -0.16068685054779053, -0.06773640960454941, 0.03952750936150551, 0.1372349113225937, 0.23905900120735168, 0.3390362858772278, 0.4334881007671356, 0.5224712491035461, 0.6034648418426514, 0.6778661608695984, 0.7549285292625427, 0.8238229155540466, 0.8786442875862122, 0.9279500842094421, 0.968464195728302, 0.9910354018211365, 1.0036978721618652]] [[[1.0043781995773315, 0.9964931607246399, 1.0003752708435059, 1.0008394718170166, 1.0039756298065186, 1.005436658859253, 1.0056800842285156, 1.0084688663482666, 1.0087385177612305, 1.010801911354065], [1.0092754364013672, 1.0070488452911377, 1.0083211660385132, 1.0102981328964233, 1.0114203691482544, 1.0125560760498047, 1.0135935544967651, 1.0146788358688354, 1.017307996749878, 1.019616961479187], [1.0227643251419067, 1.0190834999084473, 1.0224491357803345, 1.0227755308151245, 1.0232449769973755, 1.0257290601730347, 1.0263395309448242, 1.0293549299240112, 1.0302257537841797, 1.0338783264160156], [1.0290114879608154, 1.028061866760254, 1.0298761129379272, 1.0324273109436035, 1.0327552556991577, 1.032736897468567, 1.0354316234588623, 1.0374864339828491, 1.0396769046783447, 1.0435012578964233], [1.042575716972351, 1.0382112264633179, 1.0403856039047241, 1.0417512655258179, 1.0431783199310303, 1.0440962314605713, 1.0437211990356445, 1.047159194946289, 1.0487821102142334, 1.052635669708252], [1.0458625555038452, 1.04702627658844, 1.0496313571929932, 1.0509238243103027, 1.0517290830612183, 1.0516256093978882, 1.0531095266342163, 1.0544277429580688, 1.0580284595489502, 1.060739278793335], [1.0602072477340698, 1.0534920692443848, 1.057948112487793, 1.0589191913604736, 1.0606180429458618, 1.0619550943374634, 1.0630868673324585, 1.0647571086883545, 1.0668431520462036, 1.0708123445510864], [1.073277235031128, 1.0653102397918701, 1.0698243379592896, 1.070924997329712, 1.0740612745285034, 1.0755878686904907, 1.0777783393859863, 1.079472541809082, 1.0812495946884155, 1.084646224975586], [1.079963207244873, 1.0743534564971924, 1.0776889324188232, 1.0796699523925781, 1.0816909074783325, 1.0836820602416992, 1.083598017692566, 1.086469292640686, 1.088147521018982, 1.0921130180358887], [1.0858573913574219, 1.0824834108352661, 1.085818886756897, 1.088989496231079, 1.0887582302093506, 1.091368317604065, 1.0931129455566406, 1.0948593616485596, 1.0975556373596191, 1.1014127731323242], [1.1012295484542847, 1.092066764831543, 1.1004585027694702, 1.1017508506774902, 1.103019118309021, 1.1056382656097412, 1.1068880558013916, 1.1100077629089355, 1.1110808849334717, 1.1173455715179443], [1.1140187978744507, 1.1042264699935913, 1.1125929355621338, 1.114392638206482, 1.1158336400985718, 1.1172916889190674, 1.1194766759872437, 1.1221394538879395, 1.1241902112960815, 1.126995325088501], [1.1229411363601685, 1.115374207496643, 1.1205430030822754, 1.1237229108810425, 1.1255615949630737, 1.1275192499160767, 1.1291229724884033, 1.1308565139770508, 1.1335755586624146, 1.138120412826538], [1.1302417516708374, 1.1237791776657104, 1.1311651468276978, 1.134778618812561, 1.1350648403167725, 1.137439250946045, 1.141351342201233, 1.1430692672729492, 1.1435143947601318, 1.1492689847946167], [1.1442620754241943, 1.1357066631317139, 1.1408699750900269, 1.1442307233810425, 1.147107481956482, 1.1497234106063843, 1.1499114036560059, 1.1520799398422241, 1.1568251848220825, 1.1588308811187744], [1.1492640972137451, 1.1398990154266357, 1.1473770141601562, 1.1510086059570312, 1.1530144214630127, 1.1564586162567139, 1.157443642616272, 1.158780813217163, 1.1620965003967285, 1.1637232303619385], [1.1576710939407349, 1.152052879333496, 1.1594891548156738, 1.1640130281448364, 1.1651638746261597, 1.1667007207870483, 1.168892741203308, 1.1698307991027832, 1.1731243133544922, 1.1746361255645752], [1.1708849668502808, 1.1630629301071167, 1.1706475019454956, 1.1744906902313232, 1.177764892578125, 1.178046703338623, 1.1802780628204346, 1.1805769205093384, 1.1827056407928467, 1.1854279041290283], [1.1724050045013428, 1.1707004308700562, 1.1800744533538818, 1.1808665990829468, 1.1847095489501953, 1.1880041360855103, 1.187778353691101, 1.1871439218521118, 1.189985990524292, 1.1910966634750366], [1.1844656467437744, 1.1817175149917603, 1.1887731552124023, 1.1910048723220825, 1.1943238973617554, 1.195365071296692, 1.1966520547866821, 1.1993190050125122, 1.1975380182266235, 1.1990009546279907], [1.192319631576538, 1.1930676698684692, 1.1994752883911133, 1.202433466911316, 1.2074975967407227, 1.209064245223999, 1.2095762491226196, 1.2094148397445679, 1.2112219333648682, 1.2128924131393433], [1.2014856338500977, 1.197884202003479, 1.2077845335006714, 1.2118334770202637, 1.2141658067703247, 1.2166372537612915, 1.2171987295150757, 1.2194435596466064, 1.2207716703414917, 1.2209110260009766], [1.2107980251312256, 1.2079589366912842, 1.2180241346359253, 1.2236889600753784, 1.2253156900405884, 1.2276320457458496, 1.2289010286331177, 1.2312419414520264, 1.233473777770996, 1.2344731092453003], [1.2246273756027222, 1.2206392288208008, 1.2297966480255127, 1.2353308200836182, 1.2375602722167969, 1.240389108657837, 1.2409802675247192, 1.243191123008728, 1.2472418546676636, 1.2491648197174072], [1.2303953170776367, 1.2280118465423584, 1.2383922338485718, 1.2427173852920532, 1.246105432510376, 1.246800184249878, 1.2493513822555542, 1.2519023418426514, 1.2528735399246216, 1.2552754878997803], [1.2399992942810059, 1.2404457330703735, 1.2528350353240967, 1.2546597719192505, 1.256529688835144, 1.260288119316101, 1.2611929178237915, 1.261738896369934, 1.2642265558242798, 1.2659474611282349], [1.25645911693573, 1.2497316598892212, 1.2620638608932495, 1.267858624458313, 1.2700265645980835, 1.2710015773773193, 1.2729740142822266, 1.275451898574829, 1.2764021158218384, 1.2777705192565918], [1.2656104564666748, 1.2593802213668823, 1.2711036205291748, 1.2758833169937134, 1.2775046825408936, 1.2801157236099243, 1.2813613414764404, 1.2837796211242676, 1.2848809957504272, 1.286853313446045], [1.281044840812683, 1.2680646181106567, 1.2818667888641357, 1.2858600616455078, 1.2896426916122437, 1.2928930521011353, 1.29367995262146, 1.2952760457992554, 1.297086477279663, 1.2991769313812256], [1.2851701974868774, 1.2774633169174194, 1.2916115522384644, 1.295566439628601, 1.298352599143982, 1.3004082441329956, 1.3026533126831055, 1.3052597045898438, 1.3054105043411255, 1.3070015907287598], [1.2962744235992432, 1.2842925786972046, 1.298972725868225, 1.3048373460769653, 1.3080545663833618, 1.310219168663025, 1.3114314079284668, 1.314054012298584, 1.3155683279037476, 1.3180294036865234], [1.307445764541626, 1.2956379652023315, 1.312767505645752, 1.316454529762268, 1.3206064701080322, 1.3228610754013062, 1.3239617347717285, 1.3275201320648193, 1.329261064529419, 1.329240322113037], [1.3179616928100586, 1.3071340322494507, 1.3221666812896729, 1.3283474445343018, 1.3317680358886719, 1.3331902027130127, 1.3351993560791016, 1.3384889364242554, 1.3376781940460205, 1.3418400287628174], [1.3209153413772583, 1.310214877128601, 1.3275847434997559, 1.3337328433990479, 1.3379850387573242, 1.3388875722885132, 1.3417235612869263, 1.3439021110534668, 1.3450078964233398, 1.3478126525878906], [1.3350214958190918, 1.3220338821411133, 1.3404465913772583, 1.3477745056152344, 1.3499113321304321, 1.3511539697647095, 1.3542990684509277, 1.356640338897705, 1.3585205078125, 1.359687328338623], [1.3493108749389648, 1.3350223302841187, 1.3562928438186646, 1.359808325767517, 1.3640422821044922, 1.365325927734375, 1.3693211078643799, 1.3689830303192139, 1.3729099035263062, 1.3750660419464111], [1.3600586652755737, 1.3387601375579834, 1.3625212907791138, 1.369443655014038, 1.3736857175827026, 1.3754760026931763, 1.3757400512695312, 1.3797829151153564, 1.3813399076461792, 1.3821803331375122], [1.3627506494522095, 1.3458020687103271, 1.370304822921753, 1.3753825426101685, 1.379162073135376, 1.3823660612106323, 1.3842803239822388, 1.3865854740142822, 1.3869714736938477, 1.3895148038864136], [1.370786190032959, 1.351981282234192, 1.3789639472961426, 1.3853589296340942, 1.390209674835205, 1.3909459114074707, 1.394050121307373, 1.3947980403900146, 1.397088885307312, 1.3985579013824463], [1.375531554222107, 1.359522819519043, 1.3872995376586914, 1.393259048461914, 1.3950539827346802, 1.3984718322753906, 1.401564598083496, 1.4026789665222168, 1.4051917791366577, 1.4055838584899902], [1.382254719734192, 1.3678646087646484, 1.396485686302185, 1.405834436416626, 1.4081629514694214, 1.4103355407714844, 1.411853313446045, 1.4125131368637085, 1.4154192209243774, 1.4170253276824951], [1.3978770971298218, 1.3746172189712524, 1.4092780351638794, 1.4161391258239746, 1.4179844856262207, 1.4221991300582886, 1.424140453338623, 1.4243783950805664, 1.4264461994171143, 1.4269962310791016], [1.4098271131515503, 1.383914589881897, 1.4213926792144775, 1.4286587238311768, 1.4336317777633667, 1.4349530935287476, 1.4361313581466675, 1.437110424041748, 1.442253589630127, 1.442785620689392], [1.4204648733139038, 1.3971995115280151, 1.4328324794769287, 1.4395345449447632, 1.4448882341384888, 1.4465532302856445, 1.4470127820968628, 1.4499975442886353, 1.4513496160507202, 1.4518423080444336], [1.4319243431091309, 1.4025880098342896, 1.445078730583191, 1.453292965888977, 1.4547247886657715, 1.4602711200714111, 1.4600274562835693, 1.4624627828598022, 1.4655035734176636, 1.4665071964263916], [1.4392064809799194, 1.4018065929412842, 1.4484741687774658, 1.4560467004776, 1.4604957103729248, 1.4612494707107544, 1.4658160209655762, 1.4667502641677856, 1.468084454536438, 1.4711833000183105], [1.4434936046600342, 1.4094977378845215, 1.457119345664978, 1.4643508195877075, 1.4681211709976196, 1.4712436199188232, 1.4731507301330566, 1.4749892950057983, 1.4762054681777954, 1.480181336402893], [1.4548120498657227, 1.4222363233566284, 1.4700583219528198, 1.4766969680786133, 1.4810763597488403, 1.485863208770752, 1.486056923866272, 1.488142728805542, 1.4922195672988892, 1.4921133518218994], [1.4614330530166626, 1.4275013208389282, 1.4752891063690186, 1.4847193956375122, 1.489202857017517, 1.4921741485595703, 1.4918403625488281, 1.4942288398742676, 1.498425841331482, 1.4990824460983276], [1.4742146730422974, 1.4308578968048096, 1.485507607460022, 1.4952911138534546, 1.4992766380310059, 1.5024819374084473, 1.5056262016296387, 1.5069869756698608, 1.5104566812515259, 1.5121917724609375], [1.4800151586532593, 1.4351698160171509, 1.4928648471832275, 1.503680944442749, 1.5067863464355469, 1.5101957321166992, 1.5141819715499878, 1.515216588973999, 1.5184125900268555, 1.5221140384674072], [1.4872852563858032, 1.4383642673492432, 1.50015127658844, 1.5108733177185059, 1.5159516334533691, 1.5189974308013916, 1.5224148035049438, 1.5236061811447144, 1.5267421007156372, 1.5302523374557495], [1.4999523162841797, 1.4493883848190308, 1.5143766403198242, 1.5269888639450073, 1.5297921895980835, 1.5323060750961304, 1.5354830026626587, 1.5391465425491333, 1.541280746459961, 1.544922947883606], [1.509232521057129, 1.4552098512649536, 1.5247033834457397, 1.53440260887146, 1.537523627281189, 1.5417568683624268, 1.542424201965332, 1.544607162475586, 1.547881007194519, 1.5519583225250244], [1.5120716094970703, 1.4603883028030396, 1.5283738374710083, 1.54006028175354, 1.543670415878296, 1.5446380376815796, 1.5492680072784424, 1.5525238513946533, 1.5535728931427002, 1.556968331336975], [1.5250388383865356, 1.4679579734802246, 1.5408991575241089, 1.55141282081604, 1.5547138452529907, 1.5576651096343994, 1.5612467527389526, 1.5630797147750854, 1.5674808025360107, 1.5688320398330688], [1.535513997077942, 1.478294849395752, 1.5507358312606812, 1.5650668144226074, 1.5690079927444458, 1.5710347890853882, 1.5737379789352417, 1.5755995512008667, 1.5786089897155762, 1.5816470384597778], [1.5422911643981934, 1.47915518283844, 1.5568263530731201, 1.570392370223999, 1.5756720304489136, 1.5751402378082275, 1.5806026458740234, 1.5823564529418945, 1.5848710536956787, 1.590599536895752], [1.5477027893066406, 1.4833041429519653, 1.5645467042922974, 1.5773789882659912, 1.5820542573928833, 1.5856759548187256, 1.5894782543182373, 1.5904557704925537, 1.593850016593933, 1.597883939743042], [1.5590629577636719, 1.4874467849731445, 1.5756280422210693, 1.5908727645874023, 1.5947952270507812, 1.5992640256881714, 1.601973295211792, 1.6044726371765137, 1.6078804731369019, 1.6121957302093506], [1.5652592182159424, 1.4912810325622559, 1.5813437700271606, 1.5989104509353638, 1.603011965751648, 1.6070629358291626, 1.6110880374908447, 1.6134315729141235, 1.6174466609954834, 1.6242858171463013], [1.5744000673294067, 1.496427297592163, 1.5896140336990356, 1.6042983531951904, 1.6119556427001953, 1.615453839302063, 1.6189290285110474, 1.6214547157287598, 1.6270748376846313, 1.6307293176651], [1.5830588340759277, 1.5039979219436646, 1.5997008085250854, 1.6142501831054688, 1.6222292184829712, 1.6250834465026855, 1.6279288530349731, 1.6320297718048096, 1.6395033597946167, 1.6427189111709595], [1.591856598854065, 1.5077632665634155, 1.6053062677383423, 1.6257562637329102, 1.6317154169082642, 1.6359845399856567, 1.638923168182373, 1.6424148082733154, 1.648063063621521, 1.6527998447418213], [1.6006760597229004, 1.5154443979263306, 1.617747187614441, 1.6363898515701294, 1.644730567932129, 1.6478939056396484, 1.650830626487732, 1.6553868055343628, 1.6586710214614868, 1.6646298170089722], [1.6114616394042969, 1.5252933502197266, 1.629992961883545, 1.648308515548706, 1.6542625427246094, 1.6599124670028687, 1.6625083684921265, 1.664517879486084, 1.670252799987793, 1.6736847162246704], [1.6216742992401123, 1.5330970287322998, 1.6381866931915283, 1.6590391397476196, 1.6641886234283447, 1.6697560548782349, 1.672998070716858, 1.6751922369003296, 1.679155945777893, 1.6810418367385864], [1.627734661102295, 1.5430421829223633, 1.6499543190002441, 1.6705507040023804, 1.675134539604187, 1.6773781776428223, 1.6792865991592407, 1.6846128702163696, 1.687016248703003, 1.6896013021469116], [1.6394544839859009, 1.5520424842834473, 1.6605006456375122, 1.6808183193206787, 1.6870986223220825, 1.6912447214126587, 1.6936568021774292, 1.695855975151062, 1.6985057592391968, 1.7001911401748657], [1.644767165184021, 1.5562922954559326, 1.6684701442718506, 1.6892447471618652, 1.6934068202972412, 1.6988227367401123, 1.702358603477478, 1.7039679288864136, 1.7073543071746826, 1.7094014883041382], [1.6542679071426392, 1.5636714696884155, 1.6730866432189941, 1.6949362754821777, 1.7035614252090454, 1.7051782608032227, 1.7100164890289307, 1.7129778861999512, 1.7142630815505981, 1.717298984527588], [1.6669540405273438, 1.5696442127227783, 1.6859573125839233, 1.7060569524765015, 1.7115353345870972, 1.7163141965866089, 1.7206623554229736, 1.726169466972351, 1.7269299030303955, 1.7314552068710327], [1.6724578142166138, 1.5711369514465332, 1.6874005794525146, 1.715146541595459, 1.7208737134933472, 1.7244815826416016, 1.7285882234573364, 1.731562614440918, 1.7337702512741089, 1.739988923072815], [1.6829780340194702, 1.5809739828109741, 1.699701189994812, 1.7273573875427246, 1.7343446016311646, 1.7404015064239502, 1.7412298917770386, 1.7446463108062744, 1.7480111122131348, 1.7519102096557617], [1.6970185041427612, 1.5877857208251953, 1.7081868648529053, 1.7362391948699951, 1.7455335855484009, 1.7493053674697876, 1.7531808614730835, 1.7553672790527344, 1.7592488527297974, 1.7645618915557861], [1.703606367111206, 1.5909260511398315, 1.7180585861206055, 1.7431920766830444, 1.7538682222366333, 1.7560776472091675, 1.7591297626495361, 1.7621697187423706, 1.7661786079406738, 1.7692190408706665], [1.7124449014663696, 1.6020511388778687, 1.7279490232467651, 1.7548331022262573, 1.7632098197937012, 1.7689636945724487, 1.770314335823059, 1.775728464126587, 1.781009316444397, 1.7815231084823608], [1.724508285522461, 1.605554223060608, 1.7340883016586304, 1.7666524648666382, 1.7748662233352661, 1.7801178693771362, 1.781912922859192, 1.7844722270965576, 1.7912206649780273, 1.7925236225128174], [1.7268669605255127, 1.6079026460647583, 1.7404749393463135, 1.773292064666748, 1.7799078226089478, 1.7864192724227905, 1.7911922931671143, 1.792109727859497, 1.7961031198501587, 1.7986496686935425], [1.7412086725234985, 1.6163225173950195, 1.7513010501861572, 1.7839597463607788, 1.794594407081604, 1.8000938892364502, 1.8012834787368774, 1.8039610385894775, 1.8068994283676147, 1.8110142946243286], [1.7492197751998901, 1.6232973337173462, 1.761649489402771, 1.7970104217529297, 1.805781364440918, 1.8092360496520996, 1.8168606758117676, 1.8181654214859009, 1.8220523595809937, 1.8242279291152954], [1.7539281845092773, 1.6268539428710938, 1.766321063041687, 1.8032928705215454, 1.8111399412155151, 1.815946102142334, 1.8209208250045776, 1.8234691619873047, 1.8285919427871704, 1.8292686939239502], [1.7606782913208008, 1.629709005355835, 1.7718729972839355, 1.8122615814208984, 1.822526454925537, 1.8287566900253296, 1.8307297229766846, 1.8364112377166748, 1.8407074213027954, 1.843096137046814], [1.7700893878936768, 1.632942795753479, 1.7821611166000366, 1.823543906211853, 1.8334475755691528, 1.8380752801895142, 1.8435131311416626, 1.8475404977798462, 1.851364254951477, 1.8529609441757202], [1.7792534828186035, 1.6370669603347778, 1.7858508825302124, 1.8306703567504883, 1.8425167798995972, 1.849593997001648, 1.8536670207977295, 1.8574049472808838, 1.8641562461853027, 1.8704638481140137], [1.7860242128372192, 1.6398382186889648, 1.7939801216125488, 1.8395252227783203, 1.8501075506210327, 1.8580663204193115, 1.8612667322158813, 1.8665509223937988, 1.872664213180542, 1.876584529876709], [1.7960203886032104, 1.6438031196594238, 1.7967149019241333, 1.849008321762085, 1.8612315654754639, 1.867256999015808, 1.8731567859649658, 1.8781490325927734, 1.8822177648544312, 1.8897442817687988], [1.802981972694397, 1.6459864377975464, 1.8044087886810303, 1.8576663732528687, 1.8706660270690918, 1.8782985210418701, 1.8823140859603882, 1.8876665830612183, 1.8923242092132568, 1.8977562189102173], [1.808966040611267, 1.6529768705368042, 1.8121157884597778, 1.8687920570373535, 1.8818763494491577, 1.8896877765655518, 1.8945187330245972, 1.8964799642562866, 1.9015674591064453, 1.9069494009017944], [1.8156554698944092, 1.6607586145401, 1.8210066556930542, 1.8781102895736694, 1.8895965814590454, 1.8954843282699585, 1.9013231992721558, 1.90766179561615, 1.9095063209533691, 1.9137952327728271], [1.8211387395858765, 1.6585239171981812, 1.823292851448059, 1.8835369348526, 1.895446538925171, 1.9024548530578613, 1.9102500677108765, 1.913699746131897, 1.9170336723327637, 1.9219952821731567], [1.8300542831420898, 1.6669045686721802, 1.8286406993865967, 1.8903597593307495, 1.905844807624817, 1.912415623664856, 1.918266773223877, 1.9244908094406128, 1.9282466173171997, 1.931567907333374], [1.8391450643539429, 1.6712698936462402, 1.840659260749817, 1.9009312391281128, 1.918371319770813, 1.9266010522842407, 1.9321415424346924, 1.9344934225082397, 1.938647985458374, 1.9428538084030151], [1.846596598625183, 1.6686155796051025, 1.8372423648834229, 1.9090090990066528, 1.9252766370773315, 1.9359089136123657, 1.937116026878357, 1.9440608024597168, 1.9499986171722412, 1.9521186351776123], [1.8559911251068115, 1.675036072731018, 1.8476426601409912, 1.9218991994857788, 1.9360620975494385, 1.9454994201660156, 1.9505255222320557, 1.957109808921814, 1.9609397649765015, 1.9679994583129883], [1.8655413389205933, 1.6804429292678833, 1.8522785902023315, 1.9314056634902954, 1.9487156867980957, 1.9571152925491333, 1.9621721506118774, 1.9673712253570557, 1.9740921258926392, 1.9781533479690552], [1.8661037683486938, 1.6777827739715576, 1.8544061183929443, 1.9359558820724487, 1.9518887996673584, 1.960931420326233, 1.9677921533584595, 1.9727129936218262, 1.978637456893921, 1.9838522672653198], [1.8770958185195923, 1.6848201751708984, 1.866214394569397, 1.9470113515853882, 1.9628163576126099, 1.973885178565979, 1.981765627861023, 1.9861713647842407, 1.9924540519714355, 1.9997872114181519], [1.8859964609146118, 1.6885746717453003, 1.8694944381713867, 1.9537098407745361, 1.974874496459961, 1.9851961135864258, 1.992060661315918, 1.9988669157028198, 2.0073933601379395, 2.0126426219940186], [1.8930383920669556, 1.6882930994033813, 1.870566964149475, 1.9609994888305664, 1.9822874069213867, 1.992343783378601, 2.001868724822998, 2.0078887939453125, 2.015170097351074, 2.020620584487915], [1.9036734104156494, 1.6925034523010254, 1.8796831369400024, 1.9712355136871338, 1.9931445121765137, 2.0040810108184814, 2.0128538608551025, 2.0195553302764893, 2.0278286933898926, 2.034451961517334], [1.9126991033554077, 1.6934980154037476, 1.885505199432373, 1.9802526235580444, 2.006408929824829, 2.0172901153564453, 2.025751829147339, 2.033850908279419, 2.0427439212799072, 2.048466920852661], [1.9187463521957397, 1.6917815208435059, 1.8823145627975464, 1.9852278232574463, 2.0134634971618652, 2.0238842964172363, 2.0319113731384277, 2.040163516998291, 2.0488297939300537, 2.0585825443267822], [1.9234896898269653, 1.696030616760254, 1.8897578716278076, 1.9933573007583618, 2.022998094558716, 2.033365488052368, 2.04293155670166, 2.051791191101074, 2.059197187423706, 2.067780017852783], [1.9363824129104614, 1.7048254013061523, 1.8957594633102417, 2.0038163661956787, 2.035794258117676, 2.047189235687256, 2.0556318759918213, 2.064701557159424, 2.07155442237854, 2.079955816268921], [1.9428141117095947, 1.7103908061981201, 1.905563235282898, 2.0126750469207764, 2.043743133544922, 2.056255578994751, 2.0642433166503906, 2.0740275382995605, 2.0819084644317627, 2.092811346054077], [1.9542028903961182, 1.7161935567855835, 1.9094581604003906, 2.0236446857452393, 2.053361654281616, 2.0664734840393066, 2.0759694576263428, 2.083430290222168, 2.093222141265869, 2.0985376834869385], [1.9647477865219116, 1.722234845161438, 1.9175502061843872, 2.032463312149048, 2.067143440246582, 2.079864740371704, 2.0882480144500732, 2.0957753658294678, 2.104018449783325, 2.1124460697174072], [1.9716122150421143, 1.7274760007858276, 1.9231765270233154, 2.038295030593872, 2.074237108230591, 2.087190628051758, 2.093275785446167, 2.1038689613342285, 2.1112682819366455, 2.1219515800476074], [1.976961612701416, 1.7282148599624634, 1.9264658689498901, 2.0457775592803955, 2.080031394958496, 2.095013380050659, 2.1032907962799072, 2.111823797225952, 2.121171474456787, 2.126823663711548], [1.981932520866394, 1.7308192253112793, 1.9292742013931274, 2.0464584827423096, 2.085218667984009, 2.100736141204834, 2.1097631454467773, 2.119288206100464, 2.128445863723755, 2.1371636390686035], [1.9888893365859985, 1.7338775396347046, 1.9304161071777344, 2.057727098464966, 2.092783212661743, 2.1080219745635986, 2.118638277053833, 2.129053831100464, 2.1372296810150146, 2.1459689140319824], [1.9969871044158936, 1.736193060874939, 1.9389272928237915, 2.0631799697875977, 2.107131242752075, 2.121697425842285, 2.133593797683716, 2.1425297260284424, 2.152059316635132, 2.162473678588867], [2.0090184211730957, 1.7419660091400146, 1.9466685056686401, 2.0767452716827393, 2.120424509048462, 2.137742280960083, 2.1461455821990967, 2.1563875675201416, 2.1644411087036133, 2.1744654178619385], [2.0206453800201416, 1.7482331991195679, 1.9567409753799438, 2.0902137756347656, 2.134098529815674, 2.1513285636901855, 2.161973714828491, 2.170842409133911, 2.179103136062622, 2.1910059452056885], [2.0365664958953857, 1.7601960897445679, 1.9708658456802368, 2.1052072048187256, 2.1495659351348877, 2.167163372039795, 2.1782052516937256, 2.1860387325286865, 2.196837902069092, 2.208040952682495], [2.048849105834961, 1.7719948291778564, 1.980489730834961, 2.113696336746216, 2.16109299659729, 2.1805076599121094, 2.192356824874878, 2.2005715370178223, 2.211075782775879, 2.2239222526550293], [2.0562078952789307, 1.7763574123382568, 1.9889016151428223, 2.120368719100952, 2.1721150875091553, 2.1899218559265137, 2.200944662094116, 2.21073842048645, 2.2207446098327637, 2.229702949523926], [2.0660414695739746, 1.784997820854187, 1.9976553916931152, 2.1275603771209717, 2.1787452697753906, 2.199676752090454, 2.208219289779663, 2.2198867797851562, 2.2287416458129883, 2.2407097816467285], [2.0779454708099365, 1.791856288909912, 2.0001938343048096, 2.139404535293579, 2.190492630004883, 2.2090201377868652, 2.2227630615234375, 2.2335851192474365, 2.2432548999786377, 2.255460739135742], [2.077317953109741, 1.7949177026748657, 2.002469778060913, 2.139876365661621, 2.194981575012207, 2.2117350101470947, 2.226436138153076, 2.2353336811065674, 2.2453460693359375, 2.257242441177368], [2.0842065811157227, 1.7986369132995605, 2.009382963180542, 2.1454248428344727, 2.205183982849121, 2.2249886989593506, 2.2365870475769043, 2.2466044425964355, 2.257728338241577, 2.271113634109497], [2.09609317779541, 1.8044803142547607, 2.015805721282959, 2.1578381061553955, 2.2172892093658447, 2.2361016273498535, 2.2490220069885254, 2.2615606784820557, 2.2720706462860107, 2.284106492996216], [2.1015233993530273, 1.8066903352737427, 2.021355390548706, 2.160475254058838, 2.2238166332244873, 2.2437844276428223, 2.256406307220459, 2.2675418853759766, 2.2802798748016357, 2.2931013107299805], [2.1107842922210693, 1.807169795036316, 2.026935338973999, 2.1691627502441406, 2.2302443981170654, 2.2514841556549072, 2.266120672225952, 2.2788267135620117, 2.2900421619415283, 2.3055708408355713], [2.1178200244903564, 1.8099240064620972, 2.0277504920959473, 2.170454263687134, 2.2370359897613525, 2.259782552719116, 2.2761523723602295, 2.2885448932647705, 2.3002400398254395, 2.3149569034576416], [2.1197073459625244, 1.8091427087783813, 2.0289254188537598, 2.1723551750183105, 2.2452449798583984, 2.268606662750244, 2.2831435203552246, 2.2953908443450928, 2.3086464405059814, 2.326845645904541], [2.1255080699920654, 1.8055001497268677, 2.031975269317627, 2.182141065597534, 2.248746871948242, 2.2762534618377686, 2.293254852294922, 2.3078739643096924, 2.3213844299316406, 2.3398585319519043]], [[0.9735910892486572, 0.9500691890716553, 0.9576488733291626, 0.9589818120002747, 0.96272873878479, 0.9644877910614014, 0.9674175381660461, 0.9747830629348755, 0.9750398397445679, 0.9838906526565552], [1.0024527311325073, 0.9830749034881592, 0.9891871809959412, 0.9929514527320862, 0.9957160353660583, 0.9979663491249084, 1.0031499862670898, 1.0050076246261597, 1.0116419792175293, 1.0191972255706787], [1.0195703506469727, 0.9935184121131897, 1.001400351524353, 1.0054205656051636, 1.0085563659667969, 1.0137029886245728, 1.0160590410232544, 1.0219995975494385, 1.0272319316864014, 1.036623477935791], [1.0256524085998535, 0.9993587732315063, 1.006493330001831, 1.0134830474853516, 1.0164915323257446, 1.0197844505310059, 1.0254417657852173, 1.0283976793289185, 1.0333632230758667, 1.0455899238586426], [1.0168533325195312, 0.9968147277832031, 1.0023181438446045, 1.0072546005249023, 1.0107015371322632, 1.014594316482544, 1.0170481204986572, 1.0253362655639648, 1.0282410383224487, 1.040534257888794], [1.0073509216308594, 0.9843028783798218, 0.9931467175483704, 0.9960347414016724, 0.9996582865715027, 1.0009099245071411, 1.0103710889816284, 1.0125083923339844, 1.019891619682312, 1.027910590171814], [0.979281485080719, 0.9587151408195496, 0.9645711183547974, 0.9685037732124329, 0.9745202660560608, 0.9764014482498169, 0.9803972244262695, 0.9866121411323547, 0.9922677874565125, 1.0033435821533203], [0.9471696019172668, 0.924706757068634, 0.9344167709350586, 0.9375537037849426, 0.9423378705978394, 0.9484832286834717, 0.9497835040092468, 0.9535463452339172, 0.9577922224998474, 0.968323290348053], [0.9019151926040649, 0.8836467862129211, 0.8905214071273804, 0.8925436735153198, 0.8980107307434082, 0.9020283222198486, 0.903080940246582, 0.9075513482093811, 0.9122772812843323, 0.9233629703521729], [0.8528010249137878, 0.8349243998527527, 0.8417728543281555, 0.8459489941596985, 0.8474395275115967, 0.8527711033821106, 0.8550228476524353, 0.8551352024078369, 0.8628280162811279, 0.8685201406478882], [0.790381669998169, 0.7755953669548035, 0.7828577160835266, 0.7843318581581116, 0.7894676923751831, 0.7922325134277344, 0.7960575819015503, 0.7988077402114868, 0.8044923543930054, 0.8114556670188904], [0.724743664264679, 0.7076823115348816, 0.7139856219291687, 0.7159469723701477, 0.7205724716186523, 0.7192521691322327, 0.7251080274581909, 0.7285559177398682, 0.7317177653312683, 0.7370054721832275], [0.6485754251480103, 0.6349140405654907, 0.6392428278923035, 0.6416323184967041, 0.6469677090644836, 0.6481139659881592, 0.6520275473594666, 0.655646562576294, 0.6555234789848328, 0.6632044315338135], [0.56720370054245, 0.5524382591247559, 0.5575228929519653, 0.5607216358184814, 0.5645109415054321, 0.5676533579826355, 0.5718747973442078, 0.573824942111969, 0.5765730142593384, 0.5843124985694885], [0.47890758514404297, 0.45818600058555603, 0.4660146236419678, 0.46986818313598633, 0.47535616159439087, 0.4780575633049011, 0.47980570793151855, 0.4827542006969452, 0.4910772442817688, 0.4962797462940216], [0.38198545575141907, 0.36187684535980225, 0.3678843677043915, 0.3741317391395569, 0.3784485459327698, 0.3821779787540436, 0.3862653374671936, 0.3893073499202728, 0.3954896926879883, 0.40230488777160645], [0.2821505069732666, 0.260724812746048, 0.2694318890571594, 0.27302202582359314, 0.2801050841808319, 0.28050696849823, 0.28485870361328125, 0.2886196970939636, 0.2955471873283386, 0.3022942841053009], [0.18920135498046875, 0.1696574091911316, 0.17592459917068481, 0.1796511858701706, 0.1829116940498352, 0.18773655593395233, 0.18904848396778107, 0.19404205679893494, 0.19966016709804535, 0.20510800182819366], [0.08537191897630692, 0.06500452756881714, 0.07214878499507904, 0.0779741182923317, 0.08384032547473907, 0.08258562535047531, 0.08900243043899536, 0.0912896916270256, 0.09734850376844406, 0.10582730919122696], [-0.008927542716264725, -0.03169608861207962, -0.026921425014734268, -0.020307956263422966, -0.01865774393081665, -0.014916406013071537, -0.007908004336059093, -0.007292335387319326, -0.0012658449122682214, 0.006769611034542322], [-0.1021464541554451, -0.13358615338802338, -0.1196657344698906, -0.11891603469848633, -0.11398158967494965, -0.11017759144306183, -0.10694104433059692, -0.10096076875925064, -0.09308765083551407, -0.08767373114824295], [-0.20491404831409454, -0.2295226752758026, -0.22192737460136414, -0.21830399334430695, -0.21468117833137512, -0.2093811184167862, -0.20468245446681976, -0.20168665051460266, -0.19475045800209045, -0.1839389204978943], [-0.3009810149669647, -0.3238844871520996, -0.3181547522544861, -0.3144524097442627, -0.30870363116264343, -0.3068276643753052, -0.3000238835811615, -0.29387569427490234, -0.2894080579280853, -0.2783591151237488], [-0.3947799503803253, -0.4199380576610565, -0.4131315052509308, -0.40587398409843445, -0.4054425060749054, -0.3978023827075958, -0.39473477005958557, -0.3918767273426056, -0.3843853771686554, -0.3761557936668396], [-0.48819902539253235, -0.5093131065368652, -0.503764808177948, -0.4980688691139221, -0.4952601194381714, -0.4919091761112213, -0.4898501932621002, -0.4850759208202362, -0.47758588194847107, -0.4736252725124359], [-0.5671283006668091, -0.5887041687965393, -0.5833612084388733, -0.5827633142471313, -0.576621413230896, -0.5739080905914307, -0.5712020993232727, -0.5689951181411743, -0.563780665397644, -0.5551556348800659], [-0.6520344018936157, -0.6719245910644531, -0.6639873385429382, -0.6600809097290039, -0.6600227952003479, -0.6563572883605957, -0.6521305441856384, -0.6477779746055603, -0.6427052617073059, -0.6387820839881897], [-0.7237132787704468, -0.7483949661254883, -0.7396568059921265, -0.7345535159111023, -0.7312678694725037, -0.7275499105453491, -0.7244263291358948, -0.7214266061782837, -0.7143883109092712, -0.7075154185295105], [-0.7849451899528503, -0.8146324753761292, -0.8087254762649536, -0.802349865436554, -0.7994072437286377, -0.7953293919563293, -0.7891653180122375, -0.7885796427726746, -0.7832958102226257, -0.7703980803489685], [-0.8413645029067993, -0.861142098903656, -0.8558991551399231, -0.8533364534378052, -0.8489598035812378, -0.8428085446357727, -0.8404024839401245, -0.8383086323738098, -0.8330597281455994, -0.8225620985031128], [-0.888508677482605, -0.9102490544319153, -0.9035449028015137, -0.901478111743927, -0.8975810408592224, -0.8936829566955566, -0.8896567821502686, -0.8850703239440918, -0.879573404788971, -0.8715247511863708], [-0.9320813417434692, -0.9547977447509766, -0.9460425972938538, -0.9418695569038391, -0.9387328624725342, -0.935788094997406, -0.9309126734733582, -0.9260662794113159, -0.9249693155288696, -0.9152896404266357], [-0.9732257127761841, -0.9865279793739319, -0.9856392741203308, -0.9826255440711975, -0.9768402576446533, -0.9745588898658752, -0.9682350754737854, -0.967155396938324, -0.9650529026985168, -0.9570024609565735], [-0.9942431449890137, -1.0138866901397705, -1.0078060626983643, -1.0028517246246338, -0.999953031539917, -0.9978660941123962, -0.9958776235580444, -0.9918588399887085, -0.989112913608551, -0.982062578201294], [-1.0040332078933716, -1.026585340499878, -1.0202240943908691, -1.0134059190750122, -1.0100061893463135, -1.00653874874115, -1.0036476850509644, -1.0003668069839478, -0.9955505728721619, -0.9885785579681396], [-1.0028421878814697, -1.025280475616455, -1.016960859298706, -1.0127606391906738, -1.013124704360962, -1.0083335638046265, -1.0022227764129639, -1.0010125637054443, -0.9944140315055847, -0.9864389300346375], [-0.9905840158462524, -1.0176876783370972, -1.0080453157424927, -1.0050214529037476, -1.0037440061569214, -0.9996511936187744, -0.9935234785079956, -0.9879372119903564, -0.9840264916419983, -0.9751519560813904], [-0.9733614921569824, -0.9927958250045776, -0.9878796339035034, -0.9819475412368774, -0.9795249700546265, -0.9749004244804382, -0.9691469669342041, -0.9704067707061768, -0.9668818116188049, -0.953141450881958], [-0.9461737871170044, -0.9743313193321228, -0.9649204611778259, -0.9582971334457397, -0.9507491588592529, -0.9474185705184937, -0.9426168203353882, -0.9385859966278076, -0.9346424341201782, -0.9265201091766357], [-0.911666989326477, -0.9330295920372009, -0.9246693253517151, -0.9184754490852356, -0.9161911010742188, -0.9101365208625793, -0.9083250164985657, -0.9018795490264893, -0.8950839042663574, -0.8861836791038513], [-0.8579093217849731, -0.8885121941566467, -0.88019198179245, -0.8746376037597656, -0.8691682815551758, -0.8656967282295227, -0.8595897555351257, -0.8564447164535522, -0.8516586422920227, -0.8395172953605652], [-0.8020860552787781, -0.8280230760574341, -0.8207157850265503, -0.8144906163215637, -0.8102285265922546, -0.808198094367981, -0.8020915985107422, -0.7994787096977234, -0.7922943234443665, -0.7812896370887756], [-0.7366887927055359, -0.7657301425933838, -0.7547600865364075, -0.7489721179008484, -0.7448841333389282, -0.7419036626815796, -0.7361927628517151, -0.7329518795013428, -0.7229945659637451, -0.7140568494796753], [-0.6639584898948669, -0.693800151348114, -0.6870642304420471, -0.6809496879577637, -0.6756119132041931, -0.6689797043800354, -0.6644242405891418, -0.6595571637153625, -0.6521062850952148, -0.6405205726623535], [-0.5763968825340271, -0.6107290983200073, -0.6047349572181702, -0.5969366431236267, -0.5941891670227051, -0.5886331796646118, -0.583246111869812, -0.5755849480628967, -0.5698058605194092, -0.5572903156280518], [-0.49701184034347534, -0.5254330635070801, -0.5184771418571472, -0.5115783214569092, -0.5091226696968079, -0.5009027719497681, -0.49614205956459045, -0.4903213679790497, -0.4842773973941803, -0.4707346260547638], [-0.40419816970825195, -0.432358056306839, -0.42276254296302795, -0.422064870595932, -0.41747233271598816, -0.41167736053466797, -0.40713751316070557, -0.4040994644165039, -0.39465513825416565, -0.381175696849823], [-0.3018384277820587, -0.33095595240592957, -0.32637977600097656, -0.3199681341648102, -0.31572532653808594, -0.31310388445854187, -0.3100747764110565, -0.30414870381355286, -0.29598549008369446, -0.2861238718032837], [-0.20715512335300446, -0.23247461020946503, -0.22759105265140533, -0.22676725685596466, -0.21934902667999268, -0.21820944547653198, -0.21245862543582916, -0.2100982815027237, -0.2010309398174286, -0.19012179970741272], [-0.10307042300701141, -0.1302114874124527, -0.12532255053520203, -0.122466541826725, -0.11573996394872665, -0.111935555934906, -0.11149246245622635, -0.10430653393268585, -0.10106298327445984, -0.08751319348812103], [-0.00524465087801218, -0.029775353148579597, -0.0235324427485466, -0.02030823566019535, -0.017962809652090073, -0.01195107027888298, -0.009191085584461689, -0.002590260235592723, 0.0025158626958727837, 0.014693150296807289], [0.09973104298114777, 0.0707884430885315, 0.07547970861196518, 0.08021806180477142, 0.08504106849431992, 0.08572056144475937, 0.093216672539711, 0.0966126099228859, 0.10174613445997238, 0.11546499282121658], [0.18970389664173126, 0.16888810694217682, 0.17593668401241302, 0.17918717861175537, 0.18117523193359375, 0.18594428896903992, 0.19194677472114563, 0.19549381732940674, 0.20223115384578705, 0.21250754594802856], [0.28932657837867737, 0.2707892060279846, 0.27685782313346863, 0.27785253524780273, 0.2801453769207001, 0.2878473401069641, 0.28861328959465027, 0.291515052318573, 0.2975541651248932, 0.3069459795951843], [0.3874680995941162, 0.36550405621528625, 0.372528612613678, 0.37744662165641785, 0.3796074390411377, 0.3806905448436737, 0.39003488421440125, 0.3896164298057556, 0.393322616815567, 0.40678051114082336], [0.47816500067710876, 0.45657655596733093, 0.4628300964832306, 0.4668646454811096, 0.4714809060096741, 0.4773944318294525, 0.4768081605434418, 0.48558303713798523, 0.492159366607666, 0.5017699599266052], [0.5636317729949951, 0.5374100804328918, 0.5456149578094482, 0.5501967072486877, 0.5530795454978943, 0.5581281185150146, 0.5638718605041504, 0.565685510635376, 0.5722576975822449, 0.5812312364578247], [0.6424326300621033, 0.6200396418571472, 0.6256226301193237, 0.6278499364852905, 0.6350411176681519, 0.637018084526062, 0.6424634456634521, 0.6468324661254883, 0.6515606641769409, 0.6662984490394592], [0.7135756611824036, 0.6960691213607788, 0.7032281160354614, 0.7071578502655029, 0.7095880508422852, 0.7129719257354736, 0.712979257106781, 0.7199151515960693, 0.7259194254875183, 0.7354905009269714], [0.7830427885055542, 0.7598816156387329, 0.7708079218864441, 0.7744627594947815, 0.774321973323822, 0.7823538184165955, 0.7859284281730652, 0.7887043952941895, 0.7933050394058228, 0.8008905649185181], [0.8411860466003418, 0.8264003396034241, 0.8325443863868713, 0.8347621560096741, 0.8358808755874634, 0.8431210517883301, 0.8435733318328857, 0.845196008682251, 0.8550492525100708, 0.8610464334487915], [0.8932070136070251, 0.8781780004501343, 0.8851913809776306, 0.8867211937904358, 0.8895310163497925, 0.8936633467674255, 0.8979848623275757, 0.9007974863052368, 0.9072549343109131, 0.9148966073989868], [0.9391488432884216, 0.9154039621353149, 0.922663152217865, 0.9279353618621826, 0.9332857131958008, 0.9357128739356995, 0.9405708909034729, 0.9452442526817322, 0.9500864148139954, 0.9634901881217957], [0.9717853665351868, 0.9466623067855835, 0.9533323645591736, 0.9594293832778931, 0.9621840715408325, 0.9711698293685913, 0.9713294506072998, 0.9777826070785522, 0.9827188849449158, 0.9982373714447021], [0.9958571195602417, 0.9657987356185913, 0.9761071801185608, 0.9816049933433533, 0.985993504524231, 0.9912031888961792, 0.9949365854263306, 1.0034788846969604, 1.0107460021972656, 1.0283348560333252], [1.0132368803024292, 0.985660195350647, 0.9968224167823792, 1.000128149986267, 1.0082833766937256, 1.0127933025360107, 1.0207185745239258, 1.0210939645767212, 1.029529333114624, 1.0445599555969238], [1.020599126815796, 0.9879456162452698, 0.9998126029968262, 1.0055688619613647, 1.012316346168518, 1.0187803506851196, 1.0215214490890503, 1.0288527011871338, 1.0401352643966675, 1.0508430004119873], [1.0103111267089844, 0.9838654398918152, 0.9936470985412598, 1.0015760660171509, 1.0051064491271973, 1.0096646547317505, 1.0147043466567993, 1.020857810974121, 1.0311402082443237, 1.0479722023010254], [0.998502790927887, 0.9629355072975159, 0.9733726382255554, 0.9798374772071838, 0.9861059784889221, 0.9959586262702942, 0.9998266696929932, 1.004170298576355, 1.0159993171691895, 1.0313628911972046], [0.9613048434257507, 0.9333656430244446, 0.9436357617378235, 0.9484175443649292, 0.9554433822631836, 0.9601373672485352, 0.96340012550354, 0.9721359014511108, 0.9830024838447571, 1.0016738176345825], [0.9277815222740173, 0.8945762515068054, 0.9020222425460815, 0.9109387397766113, 0.9147462248802185, 0.9226893186569214, 0.9282004237174988, 0.9337375164031982, 0.942834734916687, 0.9630703330039978], [0.8890515565872192, 0.8499776124954224, 0.8612425327301025, 0.8650891780853271, 0.8710736632347107, 0.8802896738052368, 0.8871328830718994, 0.8934153318405151, 0.9040877819061279, 0.9199406504631042], [0.8333668112754822, 0.8008101582527161, 0.8089900612831116, 0.8173605799674988, 0.8236958980560303, 0.8266205191612244, 0.8373203277587891, 0.8381842970848083, 0.8487160205841064, 0.870094895362854], [0.7776334881782532, 0.739902138710022, 0.7494836449623108, 0.7565405368804932, 0.7601244449615479, 0.7694203853607178, 0.7761996388435364, 0.7813180088996887, 0.7939075827598572, 0.8118483424186707], [0.7056025862693787, 0.6677505373954773, 0.6777242422103882, 0.6825472116470337, 0.6893308162689209, 0.7005825042724609, 0.7063267230987549, 0.7118043303489685, 0.7239195108413696, 0.7396066188812256], [0.6261623501777649, 0.5828713178634644, 0.5946119427680969, 0.6035665273666382, 0.611615777015686, 0.6195927262306213, 0.6271933913230896, 0.6354665160179138, 0.6455816030502319, 0.6667830348014832], [0.5375349521636963, 0.49314576387405396, 0.5094773173332214, 0.5161195993423462, 0.5219868421554565, 0.5320071578025818, 0.5379724502563477, 0.5480039715766907, 0.5572195649147034, 0.5827444195747375], [0.45057013630867004, 0.40677955746650696, 0.4219001531600952, 0.4290785789489746, 0.4381411671638489, 0.4434712827205658, 0.4503234326839447, 0.46105679869651794, 0.4728434085845947, 0.49457287788391113], [0.3583762049674988, 0.31290873885154724, 0.32751980423927307, 0.33701837062835693, 0.3418938219547272, 0.3538701832294464, 0.35926371812820435, 0.3706875741481781, 0.37945371866226196, 0.40319696068763733], [0.2619885802268982, 0.2162199169397354, 0.22869178652763367, 0.23673267662525177, 0.2462412267923355, 0.25422564148902893, 0.2609183192253113, 0.2685209810733795, 0.27915555238723755, 0.2990018427371979], [0.1573731154203415, 0.1160128191113472, 0.13211777806282043, 0.13677261769771576, 0.14287637174129486, 0.15307483077049255, 0.160519078373909, 0.16622960567474365, 0.1773427128791809, 0.19879594445228577], [0.05235598608851433, 0.011013228446245193, 0.025793366134166718, 0.031512897461652756, 0.040505994111299515, 0.04571270942687988, 0.05241204425692558, 0.062305551022291183, 0.07191748917102814, 0.09239400178194046], [-0.04753296077251434, -0.09123340994119644, -0.08021174371242523, -0.06994090229272842, -0.06151566654443741, -0.05629899725317955, -0.04844154790043831, -0.03888528794050217, -0.030444897711277008, -0.010545485652983189], [-0.1520068645477295, -0.198968306183815, -0.18288281559944153, -0.17397208511829376, -0.16858485341072083, -0.1601969450712204, -0.15184350311756134, -0.14517070353031158, -0.13396140933036804, -0.11620895564556122], [-0.2501671314239502, -0.2935773730278015, -0.28191810846328735, -0.2729928195476532, -0.2664158344268799, -0.26099807024002075, -0.25183171033859253, -0.24918177723884583, -0.23384177684783936, -0.21391090750694275], [-0.34496721625328064, -0.38924354314804077, -0.3754359781742096, -0.36826637387275696, -0.3588046431541443, -0.3563089370727539, -0.34691739082336426, -0.33896002173423767, -0.3240348994731903, -0.3073212206363678], [-0.43800488114356995, -0.4883645474910736, -0.47226473689079285, -0.46466293931007385, -0.45788314938545227, -0.4491879642009735, -0.44004151225090027, -0.4329036772251129, -0.42155733704566956, -0.3969162404537201], [-0.5267589688301086, -0.5767347812652588, -0.5597904324531555, -0.5565723180770874, -0.5432851910591125, -0.5364742875099182, -0.5323851704597473, -0.5225388407707214, -0.5087743997573853, -0.487699031829834], [-0.609660804271698, -0.6586393713951111, -0.6457995772361755, -0.6358709335327148, -0.6290690302848816, -0.6211658716201782, -0.6133109927177429, -0.6052488684654236, -0.5931163430213928, -0.568920910358429], [-0.6808998584747314, -0.7324433922767639, -0.7183749675750732, -0.7101686000823975, -0.704512357711792, -0.695906937122345, -0.686689555644989, -0.6780508756637573, -0.6661470532417297, -0.6428034901618958], [-0.7561715245246887, -0.8092892169952393, -0.7960225939750671, -0.7849832773208618, -0.7780853509902954, -0.770775556564331, -0.7628545761108398, -0.7516320943832397, -0.7402421832084656, -0.7133764028549194], [-0.823006808757782, -0.8788955807685852, -0.8651255965232849, -0.8546963930130005, -0.8470472693443298, -0.8365318179130554, -0.8288320899009705, -0.8201844096183777, -0.8075999021530151, -0.7794746160507202], [-0.871015727519989, -0.9257641434669495, -0.9092665910720825, -0.9026606678962708, -0.8928801417350769, -0.8838359117507935, -0.8746796250343323, -0.8660393953323364, -0.8526513576507568, -0.8274926543235779], [-0.9132642149925232, -0.9672466516494751, -0.9545405507087708, -0.9452099204063416, -0.9343951344490051, -0.9270375370979309, -0.9181342720985413, -0.9096051454544067, -0.8950339555740356, -0.8678140044212341], [-0.9471878409385681, -0.9993525147438049, -0.9868711233139038, -0.9771628379821777, -0.9690840244293213, -0.9589864015579224, -0.9528095722198486, -0.9450174570083618, -0.928849458694458, -0.9052488207817078], [-0.9722622632980347, -1.0260173082351685, -1.0096479654312134, -1.0035113096237183, -0.9921924471855164, -0.9868318438529968, -0.9780248403549194, -0.9715474843978882, -0.9581559896469116, -0.9307646155357361], [-0.993030309677124, -1.0445995330810547, -1.02838933467865, -1.0199710130691528, -1.0161741971969604, -1.0065362453460693, -0.9999432563781738, -0.9899370670318604, -0.9769928455352783, -0.9522680640220642], [-0.9983770251274109, -1.0482085943222046, -1.0351521968841553, -1.0253326892852783, -1.0201287269592285, -1.0117563009262085, -1.0037412643432617, -0.9932277202606201, -0.9841731786727905, -0.9561595320701599], [-0.9951111674308777, -1.0487850904464722, -1.034677505493164, -1.0276175737380981, -1.0170265436172485, -1.0083779096603394, -1.0026178359985352, -0.9953686594963074, -0.9783610105514526, -0.9498707056045532], [-0.9751679301261902, -1.0336204767227173, -1.0197542905807495, -1.0091567039489746, -1.001073956489563, -0.9936821460723877, -0.9833110570907593, -0.9721393585205078, -0.9576309323310852, -0.9286714196205139], [-0.9523268938064575, -1.0063425302505493, -0.9937847852706909, -0.9878801107406616, -0.9742593765258789, -0.9698545336723328, -0.9595088362693787, -0.9507485628128052, -0.9364583492279053, -0.9088870286941528], [-0.9239387512207031, -0.9685194492340088, -0.9590251445770264, -0.9478150606155396, -0.9413342475891113, -0.9337328672409058, -0.9264644384384155, -0.9164618253707886, -0.9029384255409241, -0.8795707821846008], [-0.8778331875801086, -0.9250085353851318, -0.9099541902542114, -0.9057812094688416, -0.8977198600769043, -0.8898342847824097, -0.8809473514556885, -0.873111367225647, -0.8629295825958252, -0.8423212170600891], [-0.8221471309661865, -0.8664389252662659, -0.8576057553291321, -0.8451348543167114, -0.8405380249023438, -0.8332356214523315, -0.8303651213645935, -0.8236575126647949, -0.8091045618057251, -0.7895864844322205], [-0.7614054083824158, -0.8098872900009155, -0.7933744192123413, -0.7851796746253967, -0.7777791619300842, -0.7708438038825989, -0.766051173210144, -0.7629365921020508, -0.7500770688056946, -0.7272577285766602], [-0.697418212890625, -0.7414866089820862, -0.7274132966995239, -0.7212051749229431, -0.7142653465270996, -0.7066746950149536, -0.7021088004112244, -0.6946803331375122, -0.6819791793823242, -0.6622287631034851], [-0.6242297887802124, -0.6730546951293945, -0.6566762924194336, -0.6507211327552795, -0.6421511769294739, -0.6369198560714722, -0.6298829317092896, -0.6232910752296448, -0.6080250144004822, -0.5864733457565308], [-0.542637825012207, -0.589080810546875, -0.5737441778182983, -0.5662021040916443, -0.5594803690910339, -0.5504714250564575, -0.544367253780365, -0.5375046133995056, -0.5248382091522217, -0.5016492009162903], [-0.45279932022094727, -0.4958130121231079, -0.48169779777526855, -0.47621646523475647, -0.46377822756767273, -0.46009841561317444, -0.45344018936157227, -0.4449649453163147, -0.43129855394363403, -0.4099624454975128], [-0.3571987450122833, -0.4059199392795563, -0.3879925608634949, -0.37824746966362, -0.3694395124912262, -0.36348822712898254, -0.35529008507728577, -0.3487616181373596, -0.3358745574951172, -0.3135506212711334], [-0.25580883026123047, -0.3110722005367279, -0.2947986423969269, -0.2845902442932129, -0.2744712829589844, -0.2679364085197449, -0.25808122754096985, -0.24985241889953613, -0.2386309951543808, -0.21414321660995483], [-0.16068685054779053, -0.21623408794403076, -0.20190174877643585, -0.19063019752502441, -0.17943954467773438, -0.17309680581092834, -0.16632722318172455, -0.15517860651016235, -0.14107121527194977, -0.11445586383342743], [-0.06773640960454941, -0.11528147757053375, -0.10093781352043152, -0.09166233986616135, -0.08081700652837753, -0.07432304322719574, -0.06733929365873337, -0.058741334825754166, -0.04549766704440117, -0.020828846842050552], [0.03952750936150551, -0.009567052125930786, 0.005510726012289524, 0.01418079063296318, 0.021669358015060425, 0.03333938866853714, 0.03811836987733841, 0.04763166978955269, 0.058700934052467346, 0.08403269946575165], [0.1372349113225937, 0.09264520555734634, 0.10959240794181824, 0.12000682950019836, 0.1277874857187271, 0.13373954594135284, 0.1422378569841385, 0.14954987168312073, 0.1639718860387802, 0.18721675872802734], [0.23905900120735168, 0.19130511581897736, 0.20612072944641113, 0.21948616206645966, 0.2263527661561966, 0.23184418678283691, 0.24179932475090027, 0.247712180018425, 0.2628999948501587, 0.28932955861091614], [0.3390362858772278, 0.2874429523944855, 0.30544528365135193, 0.3146110475063324, 0.3232857882976532, 0.32886409759521484, 0.3394800126552582, 0.34779006242752075, 0.36350908875465393, 0.390529066324234], [0.4334881007671356, 0.3823384940624237, 0.40030720829963684, 0.40876081585884094, 0.41757914423942566, 0.4266352951526642, 0.43297773599624634, 0.4408009648323059, 0.460688978433609, 0.4854121208190918], [0.5224712491035461, 0.4688970148563385, 0.4861147105693817, 0.49578195810317993, 0.505956768989563, 0.5128366351127625, 0.5208608508110046, 0.5343668460845947, 0.5455158948898315, 0.575466513633728], [0.6034648418426514, 0.5519389510154724, 0.5672262907028198, 0.5787611603736877, 0.5881013870239258, 0.5973736643791199, 0.6087948083877563, 0.6147425770759583, 0.6336119174957275, 0.662283182144165], [0.6778661608695984, 0.6280238032341003, 0.6424969434738159, 0.6544819474220276, 0.6666222214698792, 0.6744862198829651, 0.6815311312675476, 0.6946320533752441, 0.7081436514854431, 0.7367303967475891], [0.7549285292625427, 0.7024083137512207, 0.720765233039856, 0.7306362986564636, 0.7397187948226929, 0.7511122822761536, 0.7611849308013916, 0.7713038921356201, 0.7847211360931396, 0.8165533542633057], [0.8238229155540466, 0.7694540023803711, 0.7863326668739319, 0.7988730072975159, 0.8090898990631104, 0.8177449703216553, 0.8286854028701782, 0.8390372395515442, 0.8537949323654175, 0.8855072855949402], [0.8786442875862122, 0.8187488317489624, 0.8424710631370544, 0.8540303707122803, 0.862227201461792, 0.8740304112434387, 0.8869699835777283, 0.8971858620643616, 0.9132164716720581, 0.9438221454620361], [0.9279500842094421, 0.869321346282959, 0.893325924873352, 0.9034476280212402, 0.9124012589454651, 0.9242603182792664, 0.9310927391052246, 0.942514181137085, 0.9594241976737976, 0.9884973168373108], [0.968464195728302, 0.9110279083251953, 0.930510401725769, 0.9401227831840515, 0.9511589407920837, 0.9614608287811279, 0.9719671010971069, 0.9819871783256531, 0.99837327003479, 1.0255497694015503], [0.9910354018211365, 0.9323559403419495, 0.955851674079895, 0.9685541987419128, 0.977807879447937, 0.9899217486381531, 0.9957759976387024, 1.0097142457962036, 1.0178945064544678, 1.046384572982788], [1.0036978721618652, 0.9502938985824585, 0.9729858040809631, 0.9838401079177856, 0.9957118034362793, 1.0052214860916138, 1.0132049322128296, 1.0219063758850098, 1.0376771688461304, 1.0643396377563477]]]\n",
            "Quantile forecasts: [[[1.0043781995773315, 0.9964931607246399, 1.0003752708435059, 1.0008394718170166, 1.0039756298065186, 1.005436658859253, 1.0056800842285156, 1.0084688663482666, 1.0087385177612305, 1.010801911354065], [1.0092754364013672, 1.0070488452911377, 1.0083211660385132, 1.0102981328964233, 1.0114203691482544, 1.0125560760498047, 1.0135935544967651, 1.0146788358688354, 1.017307996749878, 1.019616961479187], [1.0227643251419067, 1.0190834999084473, 1.0224491357803345, 1.0227755308151245, 1.0232449769973755, 1.0257290601730347, 1.0263395309448242, 1.0293549299240112, 1.0302257537841797, 1.0338783264160156], [1.0290114879608154, 1.028061866760254, 1.0298761129379272, 1.0324273109436035, 1.0327552556991577, 1.032736897468567, 1.0354316234588623, 1.0374864339828491, 1.0396769046783447, 1.0435012578964233], [1.042575716972351, 1.0382112264633179, 1.0403856039047241, 1.0417512655258179, 1.0431783199310303, 1.0440962314605713, 1.0437211990356445, 1.047159194946289, 1.0487821102142334, 1.052635669708252], [1.0458625555038452, 1.04702627658844, 1.0496313571929932, 1.0509238243103027, 1.0517290830612183, 1.0516256093978882, 1.0531095266342163, 1.0544277429580688, 1.0580284595489502, 1.060739278793335], [1.0602072477340698, 1.0534920692443848, 1.057948112487793, 1.0589191913604736, 1.0606180429458618, 1.0619550943374634, 1.0630868673324585, 1.0647571086883545, 1.0668431520462036, 1.0708123445510864], [1.073277235031128, 1.0653102397918701, 1.0698243379592896, 1.070924997329712, 1.0740612745285034, 1.0755878686904907, 1.0777783393859863, 1.079472541809082, 1.0812495946884155, 1.084646224975586], [1.079963207244873, 1.0743534564971924, 1.0776889324188232, 1.0796699523925781, 1.0816909074783325, 1.0836820602416992, 1.083598017692566, 1.086469292640686, 1.088147521018982, 1.0921130180358887], [1.0858573913574219, 1.0824834108352661, 1.085818886756897, 1.088989496231079, 1.0887582302093506, 1.091368317604065, 1.0931129455566406, 1.0948593616485596, 1.0975556373596191, 1.1014127731323242], [1.1012295484542847, 1.092066764831543, 1.1004585027694702, 1.1017508506774902, 1.103019118309021, 1.1056382656097412, 1.1068880558013916, 1.1100077629089355, 1.1110808849334717, 1.1173455715179443], [1.1140187978744507, 1.1042264699935913, 1.1125929355621338, 1.114392638206482, 1.1158336400985718, 1.1172916889190674, 1.1194766759872437, 1.1221394538879395, 1.1241902112960815, 1.126995325088501], [1.1229411363601685, 1.115374207496643, 1.1205430030822754, 1.1237229108810425, 1.1255615949630737, 1.1275192499160767, 1.1291229724884033, 1.1308565139770508, 1.1335755586624146, 1.138120412826538], [1.1302417516708374, 1.1237791776657104, 1.1311651468276978, 1.134778618812561, 1.1350648403167725, 1.137439250946045, 1.141351342201233, 1.1430692672729492, 1.1435143947601318, 1.1492689847946167], [1.1442620754241943, 1.1357066631317139, 1.1408699750900269, 1.1442307233810425, 1.147107481956482, 1.1497234106063843, 1.1499114036560059, 1.1520799398422241, 1.1568251848220825, 1.1588308811187744], [1.1492640972137451, 1.1398990154266357, 1.1473770141601562, 1.1510086059570312, 1.1530144214630127, 1.1564586162567139, 1.157443642616272, 1.158780813217163, 1.1620965003967285, 1.1637232303619385], [1.1576710939407349, 1.152052879333496, 1.1594891548156738, 1.1640130281448364, 1.1651638746261597, 1.1667007207870483, 1.168892741203308, 1.1698307991027832, 1.1731243133544922, 1.1746361255645752], [1.1708849668502808, 1.1630629301071167, 1.1706475019454956, 1.1744906902313232, 1.177764892578125, 1.178046703338623, 1.1802780628204346, 1.1805769205093384, 1.1827056407928467, 1.1854279041290283], [1.1724050045013428, 1.1707004308700562, 1.1800744533538818, 1.1808665990829468, 1.1847095489501953, 1.1880041360855103, 1.187778353691101, 1.1871439218521118, 1.189985990524292, 1.1910966634750366], [1.1844656467437744, 1.1817175149917603, 1.1887731552124023, 1.1910048723220825, 1.1943238973617554, 1.195365071296692, 1.1966520547866821, 1.1993190050125122, 1.1975380182266235, 1.1990009546279907], [1.192319631576538, 1.1930676698684692, 1.1994752883911133, 1.202433466911316, 1.2074975967407227, 1.209064245223999, 1.2095762491226196, 1.2094148397445679, 1.2112219333648682, 1.2128924131393433], [1.2014856338500977, 1.197884202003479, 1.2077845335006714, 1.2118334770202637, 1.2141658067703247, 1.2166372537612915, 1.2171987295150757, 1.2194435596466064, 1.2207716703414917, 1.2209110260009766], [1.2107980251312256, 1.2079589366912842, 1.2180241346359253, 1.2236889600753784, 1.2253156900405884, 1.2276320457458496, 1.2289010286331177, 1.2312419414520264, 1.233473777770996, 1.2344731092453003], [1.2246273756027222, 1.2206392288208008, 1.2297966480255127, 1.2353308200836182, 1.2375602722167969, 1.240389108657837, 1.2409802675247192, 1.243191123008728, 1.2472418546676636, 1.2491648197174072], [1.2303953170776367, 1.2280118465423584, 1.2383922338485718, 1.2427173852920532, 1.246105432510376, 1.246800184249878, 1.2493513822555542, 1.2519023418426514, 1.2528735399246216, 1.2552754878997803], [1.2399992942810059, 1.2404457330703735, 1.2528350353240967, 1.2546597719192505, 1.256529688835144, 1.260288119316101, 1.2611929178237915, 1.261738896369934, 1.2642265558242798, 1.2659474611282349], [1.25645911693573, 1.2497316598892212, 1.2620638608932495, 1.267858624458313, 1.2700265645980835, 1.2710015773773193, 1.2729740142822266, 1.275451898574829, 1.2764021158218384, 1.2777705192565918], [1.2656104564666748, 1.2593802213668823, 1.2711036205291748, 1.2758833169937134, 1.2775046825408936, 1.2801157236099243, 1.2813613414764404, 1.2837796211242676, 1.2848809957504272, 1.286853313446045], [1.281044840812683, 1.2680646181106567, 1.2818667888641357, 1.2858600616455078, 1.2896426916122437, 1.2928930521011353, 1.29367995262146, 1.2952760457992554, 1.297086477279663, 1.2991769313812256], [1.2851701974868774, 1.2774633169174194, 1.2916115522384644, 1.295566439628601, 1.298352599143982, 1.3004082441329956, 1.3026533126831055, 1.3052597045898438, 1.3054105043411255, 1.3070015907287598], [1.2962744235992432, 1.2842925786972046, 1.298972725868225, 1.3048373460769653, 1.3080545663833618, 1.310219168663025, 1.3114314079284668, 1.314054012298584, 1.3155683279037476, 1.3180294036865234], [1.307445764541626, 1.2956379652023315, 1.312767505645752, 1.316454529762268, 1.3206064701080322, 1.3228610754013062, 1.3239617347717285, 1.3275201320648193, 1.329261064529419, 1.329240322113037], [1.3179616928100586, 1.3071340322494507, 1.3221666812896729, 1.3283474445343018, 1.3317680358886719, 1.3331902027130127, 1.3351993560791016, 1.3384889364242554, 1.3376781940460205, 1.3418400287628174], [1.3209153413772583, 1.310214877128601, 1.3275847434997559, 1.3337328433990479, 1.3379850387573242, 1.3388875722885132, 1.3417235612869263, 1.3439021110534668, 1.3450078964233398, 1.3478126525878906], [1.3350214958190918, 1.3220338821411133, 1.3404465913772583, 1.3477745056152344, 1.3499113321304321, 1.3511539697647095, 1.3542990684509277, 1.356640338897705, 1.3585205078125, 1.359687328338623], [1.3493108749389648, 1.3350223302841187, 1.3562928438186646, 1.359808325767517, 1.3640422821044922, 1.365325927734375, 1.3693211078643799, 1.3689830303192139, 1.3729099035263062, 1.3750660419464111], [1.3600586652755737, 1.3387601375579834, 1.3625212907791138, 1.369443655014038, 1.3736857175827026, 1.3754760026931763, 1.3757400512695312, 1.3797829151153564, 1.3813399076461792, 1.3821803331375122], [1.3627506494522095, 1.3458020687103271, 1.370304822921753, 1.3753825426101685, 1.379162073135376, 1.3823660612106323, 1.3842803239822388, 1.3865854740142822, 1.3869714736938477, 1.3895148038864136], [1.370786190032959, 1.351981282234192, 1.3789639472961426, 1.3853589296340942, 1.390209674835205, 1.3909459114074707, 1.394050121307373, 1.3947980403900146, 1.397088885307312, 1.3985579013824463], [1.375531554222107, 1.359522819519043, 1.3872995376586914, 1.393259048461914, 1.3950539827346802, 1.3984718322753906, 1.401564598083496, 1.4026789665222168, 1.4051917791366577, 1.4055838584899902], [1.382254719734192, 1.3678646087646484, 1.396485686302185, 1.405834436416626, 1.4081629514694214, 1.4103355407714844, 1.411853313446045, 1.4125131368637085, 1.4154192209243774, 1.4170253276824951], [1.3978770971298218, 1.3746172189712524, 1.4092780351638794, 1.4161391258239746, 1.4179844856262207, 1.4221991300582886, 1.424140453338623, 1.4243783950805664, 1.4264461994171143, 1.4269962310791016], [1.4098271131515503, 1.383914589881897, 1.4213926792144775, 1.4286587238311768, 1.4336317777633667, 1.4349530935287476, 1.4361313581466675, 1.437110424041748, 1.442253589630127, 1.442785620689392], [1.4204648733139038, 1.3971995115280151, 1.4328324794769287, 1.4395345449447632, 1.4448882341384888, 1.4465532302856445, 1.4470127820968628, 1.4499975442886353, 1.4513496160507202, 1.4518423080444336], [1.4319243431091309, 1.4025880098342896, 1.445078730583191, 1.453292965888977, 1.4547247886657715, 1.4602711200714111, 1.4600274562835693, 1.4624627828598022, 1.4655035734176636, 1.4665071964263916], [1.4392064809799194, 1.4018065929412842, 1.4484741687774658, 1.4560467004776, 1.4604957103729248, 1.4612494707107544, 1.4658160209655762, 1.4667502641677856, 1.468084454536438, 1.4711833000183105], [1.4434936046600342, 1.4094977378845215, 1.457119345664978, 1.4643508195877075, 1.4681211709976196, 1.4712436199188232, 1.4731507301330566, 1.4749892950057983, 1.4762054681777954, 1.480181336402893], [1.4548120498657227, 1.4222363233566284, 1.4700583219528198, 1.4766969680786133, 1.4810763597488403, 1.485863208770752, 1.486056923866272, 1.488142728805542, 1.4922195672988892, 1.4921133518218994], [1.4614330530166626, 1.4275013208389282, 1.4752891063690186, 1.4847193956375122, 1.489202857017517, 1.4921741485595703, 1.4918403625488281, 1.4942288398742676, 1.498425841331482, 1.4990824460983276], [1.4742146730422974, 1.4308578968048096, 1.485507607460022, 1.4952911138534546, 1.4992766380310059, 1.5024819374084473, 1.5056262016296387, 1.5069869756698608, 1.5104566812515259, 1.5121917724609375], [1.4800151586532593, 1.4351698160171509, 1.4928648471832275, 1.503680944442749, 1.5067863464355469, 1.5101957321166992, 1.5141819715499878, 1.515216588973999, 1.5184125900268555, 1.5221140384674072], [1.4872852563858032, 1.4383642673492432, 1.50015127658844, 1.5108733177185059, 1.5159516334533691, 1.5189974308013916, 1.5224148035049438, 1.5236061811447144, 1.5267421007156372, 1.5302523374557495], [1.4999523162841797, 1.4493883848190308, 1.5143766403198242, 1.5269888639450073, 1.5297921895980835, 1.5323060750961304, 1.5354830026626587, 1.5391465425491333, 1.541280746459961, 1.544922947883606], [1.509232521057129, 1.4552098512649536, 1.5247033834457397, 1.53440260887146, 1.537523627281189, 1.5417568683624268, 1.542424201965332, 1.544607162475586, 1.547881007194519, 1.5519583225250244], [1.5120716094970703, 1.4603883028030396, 1.5283738374710083, 1.54006028175354, 1.543670415878296, 1.5446380376815796, 1.5492680072784424, 1.5525238513946533, 1.5535728931427002, 1.556968331336975], [1.5250388383865356, 1.4679579734802246, 1.5408991575241089, 1.55141282081604, 1.5547138452529907, 1.5576651096343994, 1.5612467527389526, 1.5630797147750854, 1.5674808025360107, 1.5688320398330688], [1.535513997077942, 1.478294849395752, 1.5507358312606812, 1.5650668144226074, 1.5690079927444458, 1.5710347890853882, 1.5737379789352417, 1.5755995512008667, 1.5786089897155762, 1.5816470384597778], [1.5422911643981934, 1.47915518283844, 1.5568263530731201, 1.570392370223999, 1.5756720304489136, 1.5751402378082275, 1.5806026458740234, 1.5823564529418945, 1.5848710536956787, 1.590599536895752], [1.5477027893066406, 1.4833041429519653, 1.5645467042922974, 1.5773789882659912, 1.5820542573928833, 1.5856759548187256, 1.5894782543182373, 1.5904557704925537, 1.593850016593933, 1.597883939743042], [1.5590629577636719, 1.4874467849731445, 1.5756280422210693, 1.5908727645874023, 1.5947952270507812, 1.5992640256881714, 1.601973295211792, 1.6044726371765137, 1.6078804731369019, 1.6121957302093506], [1.5652592182159424, 1.4912810325622559, 1.5813437700271606, 1.5989104509353638, 1.603011965751648, 1.6070629358291626, 1.6110880374908447, 1.6134315729141235, 1.6174466609954834, 1.6242858171463013], [1.5744000673294067, 1.496427297592163, 1.5896140336990356, 1.6042983531951904, 1.6119556427001953, 1.615453839302063, 1.6189290285110474, 1.6214547157287598, 1.6270748376846313, 1.6307293176651], [1.5830588340759277, 1.5039979219436646, 1.5997008085250854, 1.6142501831054688, 1.6222292184829712, 1.6250834465026855, 1.6279288530349731, 1.6320297718048096, 1.6395033597946167, 1.6427189111709595], [1.591856598854065, 1.5077632665634155, 1.6053062677383423, 1.6257562637329102, 1.6317154169082642, 1.6359845399856567, 1.638923168182373, 1.6424148082733154, 1.648063063621521, 1.6527998447418213], [1.6006760597229004, 1.5154443979263306, 1.617747187614441, 1.6363898515701294, 1.644730567932129, 1.6478939056396484, 1.650830626487732, 1.6553868055343628, 1.6586710214614868, 1.6646298170089722], [1.6114616394042969, 1.5252933502197266, 1.629992961883545, 1.648308515548706, 1.6542625427246094, 1.6599124670028687, 1.6625083684921265, 1.664517879486084, 1.670252799987793, 1.6736847162246704], [1.6216742992401123, 1.5330970287322998, 1.6381866931915283, 1.6590391397476196, 1.6641886234283447, 1.6697560548782349, 1.672998070716858, 1.6751922369003296, 1.679155945777893, 1.6810418367385864], [1.627734661102295, 1.5430421829223633, 1.6499543190002441, 1.6705507040023804, 1.675134539604187, 1.6773781776428223, 1.6792865991592407, 1.6846128702163696, 1.687016248703003, 1.6896013021469116], [1.6394544839859009, 1.5520424842834473, 1.6605006456375122, 1.6808183193206787, 1.6870986223220825, 1.6912447214126587, 1.6936568021774292, 1.695855975151062, 1.6985057592391968, 1.7001911401748657], [1.644767165184021, 1.5562922954559326, 1.6684701442718506, 1.6892447471618652, 1.6934068202972412, 1.6988227367401123, 1.702358603477478, 1.7039679288864136, 1.7073543071746826, 1.7094014883041382], [1.6542679071426392, 1.5636714696884155, 1.6730866432189941, 1.6949362754821777, 1.7035614252090454, 1.7051782608032227, 1.7100164890289307, 1.7129778861999512, 1.7142630815505981, 1.717298984527588], [1.6669540405273438, 1.5696442127227783, 1.6859573125839233, 1.7060569524765015, 1.7115353345870972, 1.7163141965866089, 1.7206623554229736, 1.726169466972351, 1.7269299030303955, 1.7314552068710327], [1.6724578142166138, 1.5711369514465332, 1.6874005794525146, 1.715146541595459, 1.7208737134933472, 1.7244815826416016, 1.7285882234573364, 1.731562614440918, 1.7337702512741089, 1.739988923072815], [1.6829780340194702, 1.5809739828109741, 1.699701189994812, 1.7273573875427246, 1.7343446016311646, 1.7404015064239502, 1.7412298917770386, 1.7446463108062744, 1.7480111122131348, 1.7519102096557617], [1.6970185041427612, 1.5877857208251953, 1.7081868648529053, 1.7362391948699951, 1.7455335855484009, 1.7493053674697876, 1.7531808614730835, 1.7553672790527344, 1.7592488527297974, 1.7645618915557861], [1.703606367111206, 1.5909260511398315, 1.7180585861206055, 1.7431920766830444, 1.7538682222366333, 1.7560776472091675, 1.7591297626495361, 1.7621697187423706, 1.7661786079406738, 1.7692190408706665], [1.7124449014663696, 1.6020511388778687, 1.7279490232467651, 1.7548331022262573, 1.7632098197937012, 1.7689636945724487, 1.770314335823059, 1.775728464126587, 1.781009316444397, 1.7815231084823608], [1.724508285522461, 1.605554223060608, 1.7340883016586304, 1.7666524648666382, 1.7748662233352661, 1.7801178693771362, 1.781912922859192, 1.7844722270965576, 1.7912206649780273, 1.7925236225128174], [1.7268669605255127, 1.6079026460647583, 1.7404749393463135, 1.773292064666748, 1.7799078226089478, 1.7864192724227905, 1.7911922931671143, 1.792109727859497, 1.7961031198501587, 1.7986496686935425], [1.7412086725234985, 1.6163225173950195, 1.7513010501861572, 1.7839597463607788, 1.794594407081604, 1.8000938892364502, 1.8012834787368774, 1.8039610385894775, 1.8068994283676147, 1.8110142946243286], [1.7492197751998901, 1.6232973337173462, 1.761649489402771, 1.7970104217529297, 1.805781364440918, 1.8092360496520996, 1.8168606758117676, 1.8181654214859009, 1.8220523595809937, 1.8242279291152954], [1.7539281845092773, 1.6268539428710938, 1.766321063041687, 1.8032928705215454, 1.8111399412155151, 1.815946102142334, 1.8209208250045776, 1.8234691619873047, 1.8285919427871704, 1.8292686939239502], [1.7606782913208008, 1.629709005355835, 1.7718729972839355, 1.8122615814208984, 1.822526454925537, 1.8287566900253296, 1.8307297229766846, 1.8364112377166748, 1.8407074213027954, 1.843096137046814], [1.7700893878936768, 1.632942795753479, 1.7821611166000366, 1.823543906211853, 1.8334475755691528, 1.8380752801895142, 1.8435131311416626, 1.8475404977798462, 1.851364254951477, 1.8529609441757202], [1.7792534828186035, 1.6370669603347778, 1.7858508825302124, 1.8306703567504883, 1.8425167798995972, 1.849593997001648, 1.8536670207977295, 1.8574049472808838, 1.8641562461853027, 1.8704638481140137], [1.7860242128372192, 1.6398382186889648, 1.7939801216125488, 1.8395252227783203, 1.8501075506210327, 1.8580663204193115, 1.8612667322158813, 1.8665509223937988, 1.872664213180542, 1.876584529876709], [1.7960203886032104, 1.6438031196594238, 1.7967149019241333, 1.849008321762085, 1.8612315654754639, 1.867256999015808, 1.8731567859649658, 1.8781490325927734, 1.8822177648544312, 1.8897442817687988], [1.802981972694397, 1.6459864377975464, 1.8044087886810303, 1.8576663732528687, 1.8706660270690918, 1.8782985210418701, 1.8823140859603882, 1.8876665830612183, 1.8923242092132568, 1.8977562189102173], [1.808966040611267, 1.6529768705368042, 1.8121157884597778, 1.8687920570373535, 1.8818763494491577, 1.8896877765655518, 1.8945187330245972, 1.8964799642562866, 1.9015674591064453, 1.9069494009017944], [1.8156554698944092, 1.6607586145401, 1.8210066556930542, 1.8781102895736694, 1.8895965814590454, 1.8954843282699585, 1.9013231992721558, 1.90766179561615, 1.9095063209533691, 1.9137952327728271], [1.8211387395858765, 1.6585239171981812, 1.823292851448059, 1.8835369348526, 1.895446538925171, 1.9024548530578613, 1.9102500677108765, 1.913699746131897, 1.9170336723327637, 1.9219952821731567], [1.8300542831420898, 1.6669045686721802, 1.8286406993865967, 1.8903597593307495, 1.905844807624817, 1.912415623664856, 1.918266773223877, 1.9244908094406128, 1.9282466173171997, 1.931567907333374], [1.8391450643539429, 1.6712698936462402, 1.840659260749817, 1.9009312391281128, 1.918371319770813, 1.9266010522842407, 1.9321415424346924, 1.9344934225082397, 1.938647985458374, 1.9428538084030151], [1.846596598625183, 1.6686155796051025, 1.8372423648834229, 1.9090090990066528, 1.9252766370773315, 1.9359089136123657, 1.937116026878357, 1.9440608024597168, 1.9499986171722412, 1.9521186351776123], [1.8559911251068115, 1.675036072731018, 1.8476426601409912, 1.9218991994857788, 1.9360620975494385, 1.9454994201660156, 1.9505255222320557, 1.957109808921814, 1.9609397649765015, 1.9679994583129883], [1.8655413389205933, 1.6804429292678833, 1.8522785902023315, 1.9314056634902954, 1.9487156867980957, 1.9571152925491333, 1.9621721506118774, 1.9673712253570557, 1.9740921258926392, 1.9781533479690552], [1.8661037683486938, 1.6777827739715576, 1.8544061183929443, 1.9359558820724487, 1.9518887996673584, 1.960931420326233, 1.9677921533584595, 1.9727129936218262, 1.978637456893921, 1.9838522672653198], [1.8770958185195923, 1.6848201751708984, 1.866214394569397, 1.9470113515853882, 1.9628163576126099, 1.973885178565979, 1.981765627861023, 1.9861713647842407, 1.9924540519714355, 1.9997872114181519], [1.8859964609146118, 1.6885746717453003, 1.8694944381713867, 1.9537098407745361, 1.974874496459961, 1.9851961135864258, 1.992060661315918, 1.9988669157028198, 2.0073933601379395, 2.0126426219940186], [1.8930383920669556, 1.6882930994033813, 1.870566964149475, 1.9609994888305664, 1.9822874069213867, 1.992343783378601, 2.001868724822998, 2.0078887939453125, 2.015170097351074, 2.020620584487915], [1.9036734104156494, 1.6925034523010254, 1.8796831369400024, 1.9712355136871338, 1.9931445121765137, 2.0040810108184814, 2.0128538608551025, 2.0195553302764893, 2.0278286933898926, 2.034451961517334], [1.9126991033554077, 1.6934980154037476, 1.885505199432373, 1.9802526235580444, 2.006408929824829, 2.0172901153564453, 2.025751829147339, 2.033850908279419, 2.0427439212799072, 2.048466920852661], [1.9187463521957397, 1.6917815208435059, 1.8823145627975464, 1.9852278232574463, 2.0134634971618652, 2.0238842964172363, 2.0319113731384277, 2.040163516998291, 2.0488297939300537, 2.0585825443267822], [1.9234896898269653, 1.696030616760254, 1.8897578716278076, 1.9933573007583618, 2.022998094558716, 2.033365488052368, 2.04293155670166, 2.051791191101074, 2.059197187423706, 2.067780017852783], [1.9363824129104614, 1.7048254013061523, 1.8957594633102417, 2.0038163661956787, 2.035794258117676, 2.047189235687256, 2.0556318759918213, 2.064701557159424, 2.07155442237854, 2.079955816268921], [1.9428141117095947, 1.7103908061981201, 1.905563235282898, 2.0126750469207764, 2.043743133544922, 2.056255578994751, 2.0642433166503906, 2.0740275382995605, 2.0819084644317627, 2.092811346054077], [1.9542028903961182, 1.7161935567855835, 1.9094581604003906, 2.0236446857452393, 2.053361654281616, 2.0664734840393066, 2.0759694576263428, 2.083430290222168, 2.093222141265869, 2.0985376834869385], [1.9647477865219116, 1.722234845161438, 1.9175502061843872, 2.032463312149048, 2.067143440246582, 2.079864740371704, 2.0882480144500732, 2.0957753658294678, 2.104018449783325, 2.1124460697174072], [1.9716122150421143, 1.7274760007858276, 1.9231765270233154, 2.038295030593872, 2.074237108230591, 2.087190628051758, 2.093275785446167, 2.1038689613342285, 2.1112682819366455, 2.1219515800476074], [1.976961612701416, 1.7282148599624634, 1.9264658689498901, 2.0457775592803955, 2.080031394958496, 2.095013380050659, 2.1032907962799072, 2.111823797225952, 2.121171474456787, 2.126823663711548], [1.981932520866394, 1.7308192253112793, 1.9292742013931274, 2.0464584827423096, 2.085218667984009, 2.100736141204834, 2.1097631454467773, 2.119288206100464, 2.128445863723755, 2.1371636390686035], [1.9888893365859985, 1.7338775396347046, 1.9304161071777344, 2.057727098464966, 2.092783212661743, 2.1080219745635986, 2.118638277053833, 2.129053831100464, 2.1372296810150146, 2.1459689140319824], [1.9969871044158936, 1.736193060874939, 1.9389272928237915, 2.0631799697875977, 2.107131242752075, 2.121697425842285, 2.133593797683716, 2.1425297260284424, 2.152059316635132, 2.162473678588867], [2.0090184211730957, 1.7419660091400146, 1.9466685056686401, 2.0767452716827393, 2.120424509048462, 2.137742280960083, 2.1461455821990967, 2.1563875675201416, 2.1644411087036133, 2.1744654178619385], [2.0206453800201416, 1.7482331991195679, 1.9567409753799438, 2.0902137756347656, 2.134098529815674, 2.1513285636901855, 2.161973714828491, 2.170842409133911, 2.179103136062622, 2.1910059452056885], [2.0365664958953857, 1.7601960897445679, 1.9708658456802368, 2.1052072048187256, 2.1495659351348877, 2.167163372039795, 2.1782052516937256, 2.1860387325286865, 2.196837902069092, 2.208040952682495], [2.048849105834961, 1.7719948291778564, 1.980489730834961, 2.113696336746216, 2.16109299659729, 2.1805076599121094, 2.192356824874878, 2.2005715370178223, 2.211075782775879, 2.2239222526550293], [2.0562078952789307, 1.7763574123382568, 1.9889016151428223, 2.120368719100952, 2.1721150875091553, 2.1899218559265137, 2.200944662094116, 2.21073842048645, 2.2207446098327637, 2.229702949523926], [2.0660414695739746, 1.784997820854187, 1.9976553916931152, 2.1275603771209717, 2.1787452697753906, 2.199676752090454, 2.208219289779663, 2.2198867797851562, 2.2287416458129883, 2.2407097816467285], [2.0779454708099365, 1.791856288909912, 2.0001938343048096, 2.139404535293579, 2.190492630004883, 2.2090201377868652, 2.2227630615234375, 2.2335851192474365, 2.2432548999786377, 2.255460739135742], [2.077317953109741, 1.7949177026748657, 2.002469778060913, 2.139876365661621, 2.194981575012207, 2.2117350101470947, 2.226436138153076, 2.2353336811065674, 2.2453460693359375, 2.257242441177368], [2.0842065811157227, 1.7986369132995605, 2.009382963180542, 2.1454248428344727, 2.205183982849121, 2.2249886989593506, 2.2365870475769043, 2.2466044425964355, 2.257728338241577, 2.271113634109497], [2.09609317779541, 1.8044803142547607, 2.015805721282959, 2.1578381061553955, 2.2172892093658447, 2.2361016273498535, 2.2490220069885254, 2.2615606784820557, 2.2720706462860107, 2.284106492996216], [2.1015233993530273, 1.8066903352737427, 2.021355390548706, 2.160475254058838, 2.2238166332244873, 2.2437844276428223, 2.256406307220459, 2.2675418853759766, 2.2802798748016357, 2.2931013107299805], [2.1107842922210693, 1.807169795036316, 2.026935338973999, 2.1691627502441406, 2.2302443981170654, 2.2514841556549072, 2.266120672225952, 2.2788267135620117, 2.2900421619415283, 2.3055708408355713], [2.1178200244903564, 1.8099240064620972, 2.0277504920959473, 2.170454263687134, 2.2370359897613525, 2.259782552719116, 2.2761523723602295, 2.2885448932647705, 2.3002400398254395, 2.3149569034576416], [2.1197073459625244, 1.8091427087783813, 2.0289254188537598, 2.1723551750183105, 2.2452449798583984, 2.268606662750244, 2.2831435203552246, 2.2953908443450928, 2.3086464405059814, 2.326845645904541], [2.1255080699920654, 1.8055001497268677, 2.031975269317627, 2.182141065597534, 2.248746871948242, 2.2762534618377686, 2.293254852294922, 2.3078739643096924, 2.3213844299316406, 2.3398585319519043]], [[0.9735910892486572, 0.9500691890716553, 0.9576488733291626, 0.9589818120002747, 0.96272873878479, 0.9644877910614014, 0.9674175381660461, 0.9747830629348755, 0.9750398397445679, 0.9838906526565552], [1.0024527311325073, 0.9830749034881592, 0.9891871809959412, 0.9929514527320862, 0.9957160353660583, 0.9979663491249084, 1.0031499862670898, 1.0050076246261597, 1.0116419792175293, 1.0191972255706787], [1.0195703506469727, 0.9935184121131897, 1.001400351524353, 1.0054205656051636, 1.0085563659667969, 1.0137029886245728, 1.0160590410232544, 1.0219995975494385, 1.0272319316864014, 1.036623477935791], [1.0256524085998535, 0.9993587732315063, 1.006493330001831, 1.0134830474853516, 1.0164915323257446, 1.0197844505310059, 1.0254417657852173, 1.0283976793289185, 1.0333632230758667, 1.0455899238586426], [1.0168533325195312, 0.9968147277832031, 1.0023181438446045, 1.0072546005249023, 1.0107015371322632, 1.014594316482544, 1.0170481204986572, 1.0253362655639648, 1.0282410383224487, 1.040534257888794], [1.0073509216308594, 0.9843028783798218, 0.9931467175483704, 0.9960347414016724, 0.9996582865715027, 1.0009099245071411, 1.0103710889816284, 1.0125083923339844, 1.019891619682312, 1.027910590171814], [0.979281485080719, 0.9587151408195496, 0.9645711183547974, 0.9685037732124329, 0.9745202660560608, 0.9764014482498169, 0.9803972244262695, 0.9866121411323547, 0.9922677874565125, 1.0033435821533203], [0.9471696019172668, 0.924706757068634, 0.9344167709350586, 0.9375537037849426, 0.9423378705978394, 0.9484832286834717, 0.9497835040092468, 0.9535463452339172, 0.9577922224998474, 0.968323290348053], [0.9019151926040649, 0.8836467862129211, 0.8905214071273804, 0.8925436735153198, 0.8980107307434082, 0.9020283222198486, 0.903080940246582, 0.9075513482093811, 0.9122772812843323, 0.9233629703521729], [0.8528010249137878, 0.8349243998527527, 0.8417728543281555, 0.8459489941596985, 0.8474395275115967, 0.8527711033821106, 0.8550228476524353, 0.8551352024078369, 0.8628280162811279, 0.8685201406478882], [0.790381669998169, 0.7755953669548035, 0.7828577160835266, 0.7843318581581116, 0.7894676923751831, 0.7922325134277344, 0.7960575819015503, 0.7988077402114868, 0.8044923543930054, 0.8114556670188904], [0.724743664264679, 0.7076823115348816, 0.7139856219291687, 0.7159469723701477, 0.7205724716186523, 0.7192521691322327, 0.7251080274581909, 0.7285559177398682, 0.7317177653312683, 0.7370054721832275], [0.6485754251480103, 0.6349140405654907, 0.6392428278923035, 0.6416323184967041, 0.6469677090644836, 0.6481139659881592, 0.6520275473594666, 0.655646562576294, 0.6555234789848328, 0.6632044315338135], [0.56720370054245, 0.5524382591247559, 0.5575228929519653, 0.5607216358184814, 0.5645109415054321, 0.5676533579826355, 0.5718747973442078, 0.573824942111969, 0.5765730142593384, 0.5843124985694885], [0.47890758514404297, 0.45818600058555603, 0.4660146236419678, 0.46986818313598633, 0.47535616159439087, 0.4780575633049011, 0.47980570793151855, 0.4827542006969452, 0.4910772442817688, 0.4962797462940216], [0.38198545575141907, 0.36187684535980225, 0.3678843677043915, 0.3741317391395569, 0.3784485459327698, 0.3821779787540436, 0.3862653374671936, 0.3893073499202728, 0.3954896926879883, 0.40230488777160645], [0.2821505069732666, 0.260724812746048, 0.2694318890571594, 0.27302202582359314, 0.2801050841808319, 0.28050696849823, 0.28485870361328125, 0.2886196970939636, 0.2955471873283386, 0.3022942841053009], [0.18920135498046875, 0.1696574091911316, 0.17592459917068481, 0.1796511858701706, 0.1829116940498352, 0.18773655593395233, 0.18904848396778107, 0.19404205679893494, 0.19966016709804535, 0.20510800182819366], [0.08537191897630692, 0.06500452756881714, 0.07214878499507904, 0.0779741182923317, 0.08384032547473907, 0.08258562535047531, 0.08900243043899536, 0.0912896916270256, 0.09734850376844406, 0.10582730919122696], [-0.008927542716264725, -0.03169608861207962, -0.026921425014734268, -0.020307956263422966, -0.01865774393081665, -0.014916406013071537, -0.007908004336059093, -0.007292335387319326, -0.0012658449122682214, 0.006769611034542322], [-0.1021464541554451, -0.13358615338802338, -0.1196657344698906, -0.11891603469848633, -0.11398158967494965, -0.11017759144306183, -0.10694104433059692, -0.10096076875925064, -0.09308765083551407, -0.08767373114824295], [-0.20491404831409454, -0.2295226752758026, -0.22192737460136414, -0.21830399334430695, -0.21468117833137512, -0.2093811184167862, -0.20468245446681976, -0.20168665051460266, -0.19475045800209045, -0.1839389204978943], [-0.3009810149669647, -0.3238844871520996, -0.3181547522544861, -0.3144524097442627, -0.30870363116264343, -0.3068276643753052, -0.3000238835811615, -0.29387569427490234, -0.2894080579280853, -0.2783591151237488], [-0.3947799503803253, -0.4199380576610565, -0.4131315052509308, -0.40587398409843445, -0.4054425060749054, -0.3978023827075958, -0.39473477005958557, -0.3918767273426056, -0.3843853771686554, -0.3761557936668396], [-0.48819902539253235, -0.5093131065368652, -0.503764808177948, -0.4980688691139221, -0.4952601194381714, -0.4919091761112213, -0.4898501932621002, -0.4850759208202362, -0.47758588194847107, -0.4736252725124359], [-0.5671283006668091, -0.5887041687965393, -0.5833612084388733, -0.5827633142471313, -0.576621413230896, -0.5739080905914307, -0.5712020993232727, -0.5689951181411743, -0.563780665397644, -0.5551556348800659], [-0.6520344018936157, -0.6719245910644531, -0.6639873385429382, -0.6600809097290039, -0.6600227952003479, -0.6563572883605957, -0.6521305441856384, -0.6477779746055603, -0.6427052617073059, -0.6387820839881897], [-0.7237132787704468, -0.7483949661254883, -0.7396568059921265, -0.7345535159111023, -0.7312678694725037, -0.7275499105453491, -0.7244263291358948, -0.7214266061782837, -0.7143883109092712, -0.7075154185295105], [-0.7849451899528503, -0.8146324753761292, -0.8087254762649536, -0.802349865436554, -0.7994072437286377, -0.7953293919563293, -0.7891653180122375, -0.7885796427726746, -0.7832958102226257, -0.7703980803489685], [-0.8413645029067993, -0.861142098903656, -0.8558991551399231, -0.8533364534378052, -0.8489598035812378, -0.8428085446357727, -0.8404024839401245, -0.8383086323738098, -0.8330597281455994, -0.8225620985031128], [-0.888508677482605, -0.9102490544319153, -0.9035449028015137, -0.901478111743927, -0.8975810408592224, -0.8936829566955566, -0.8896567821502686, -0.8850703239440918, -0.879573404788971, -0.8715247511863708], [-0.9320813417434692, -0.9547977447509766, -0.9460425972938538, -0.9418695569038391, -0.9387328624725342, -0.935788094997406, -0.9309126734733582, -0.9260662794113159, -0.9249693155288696, -0.9152896404266357], [-0.9732257127761841, -0.9865279793739319, -0.9856392741203308, -0.9826255440711975, -0.9768402576446533, -0.9745588898658752, -0.9682350754737854, -0.967155396938324, -0.9650529026985168, -0.9570024609565735], [-0.9942431449890137, -1.0138866901397705, -1.0078060626983643, -1.0028517246246338, -0.999953031539917, -0.9978660941123962, -0.9958776235580444, -0.9918588399887085, -0.989112913608551, -0.982062578201294], [-1.0040332078933716, -1.026585340499878, -1.0202240943908691, -1.0134059190750122, -1.0100061893463135, -1.00653874874115, -1.0036476850509644, -1.0003668069839478, -0.9955505728721619, -0.9885785579681396], [-1.0028421878814697, -1.025280475616455, -1.016960859298706, -1.0127606391906738, -1.013124704360962, -1.0083335638046265, -1.0022227764129639, -1.0010125637054443, -0.9944140315055847, -0.9864389300346375], [-0.9905840158462524, -1.0176876783370972, -1.0080453157424927, -1.0050214529037476, -1.0037440061569214, -0.9996511936187744, -0.9935234785079956, -0.9879372119903564, -0.9840264916419983, -0.9751519560813904], [-0.9733614921569824, -0.9927958250045776, -0.9878796339035034, -0.9819475412368774, -0.9795249700546265, -0.9749004244804382, -0.9691469669342041, -0.9704067707061768, -0.9668818116188049, -0.953141450881958], [-0.9461737871170044, -0.9743313193321228, -0.9649204611778259, -0.9582971334457397, -0.9507491588592529, -0.9474185705184937, -0.9426168203353882, -0.9385859966278076, -0.9346424341201782, -0.9265201091766357], [-0.911666989326477, -0.9330295920372009, -0.9246693253517151, -0.9184754490852356, -0.9161911010742188, -0.9101365208625793, -0.9083250164985657, -0.9018795490264893, -0.8950839042663574, -0.8861836791038513], [-0.8579093217849731, -0.8885121941566467, -0.88019198179245, -0.8746376037597656, -0.8691682815551758, -0.8656967282295227, -0.8595897555351257, -0.8564447164535522, -0.8516586422920227, -0.8395172953605652], [-0.8020860552787781, -0.8280230760574341, -0.8207157850265503, -0.8144906163215637, -0.8102285265922546, -0.808198094367981, -0.8020915985107422, -0.7994787096977234, -0.7922943234443665, -0.7812896370887756], [-0.7366887927055359, -0.7657301425933838, -0.7547600865364075, -0.7489721179008484, -0.7448841333389282, -0.7419036626815796, -0.7361927628517151, -0.7329518795013428, -0.7229945659637451, -0.7140568494796753], [-0.6639584898948669, -0.693800151348114, -0.6870642304420471, -0.6809496879577637, -0.6756119132041931, -0.6689797043800354, -0.6644242405891418, -0.6595571637153625, -0.6521062850952148, -0.6405205726623535], [-0.5763968825340271, -0.6107290983200073, -0.6047349572181702, -0.5969366431236267, -0.5941891670227051, -0.5886331796646118, -0.583246111869812, -0.5755849480628967, -0.5698058605194092, -0.5572903156280518], [-0.49701184034347534, -0.5254330635070801, -0.5184771418571472, -0.5115783214569092, -0.5091226696968079, -0.5009027719497681, -0.49614205956459045, -0.4903213679790497, -0.4842773973941803, -0.4707346260547638], [-0.40419816970825195, -0.432358056306839, -0.42276254296302795, -0.422064870595932, -0.41747233271598816, -0.41167736053466797, -0.40713751316070557, -0.4040994644165039, -0.39465513825416565, -0.381175696849823], [-0.3018384277820587, -0.33095595240592957, -0.32637977600097656, -0.3199681341648102, -0.31572532653808594, -0.31310388445854187, -0.3100747764110565, -0.30414870381355286, -0.29598549008369446, -0.2861238718032837], [-0.20715512335300446, -0.23247461020946503, -0.22759105265140533, -0.22676725685596466, -0.21934902667999268, -0.21820944547653198, -0.21245862543582916, -0.2100982815027237, -0.2010309398174286, -0.19012179970741272], [-0.10307042300701141, -0.1302114874124527, -0.12532255053520203, -0.122466541826725, -0.11573996394872665, -0.111935555934906, -0.11149246245622635, -0.10430653393268585, -0.10106298327445984, -0.08751319348812103], [-0.00524465087801218, -0.029775353148579597, -0.0235324427485466, -0.02030823566019535, -0.017962809652090073, -0.01195107027888298, -0.009191085584461689, -0.002590260235592723, 0.0025158626958727837, 0.014693150296807289], [0.09973104298114777, 0.0707884430885315, 0.07547970861196518, 0.08021806180477142, 0.08504106849431992, 0.08572056144475937, 0.093216672539711, 0.0966126099228859, 0.10174613445997238, 0.11546499282121658], [0.18970389664173126, 0.16888810694217682, 0.17593668401241302, 0.17918717861175537, 0.18117523193359375, 0.18594428896903992, 0.19194677472114563, 0.19549381732940674, 0.20223115384578705, 0.21250754594802856], [0.28932657837867737, 0.2707892060279846, 0.27685782313346863, 0.27785253524780273, 0.2801453769207001, 0.2878473401069641, 0.28861328959465027, 0.291515052318573, 0.2975541651248932, 0.3069459795951843], [0.3874680995941162, 0.36550405621528625, 0.372528612613678, 0.37744662165641785, 0.3796074390411377, 0.3806905448436737, 0.39003488421440125, 0.3896164298057556, 0.393322616815567, 0.40678051114082336], [0.47816500067710876, 0.45657655596733093, 0.4628300964832306, 0.4668646454811096, 0.4714809060096741, 0.4773944318294525, 0.4768081605434418, 0.48558303713798523, 0.492159366607666, 0.5017699599266052], [0.5636317729949951, 0.5374100804328918, 0.5456149578094482, 0.5501967072486877, 0.5530795454978943, 0.5581281185150146, 0.5638718605041504, 0.565685510635376, 0.5722576975822449, 0.5812312364578247], [0.6424326300621033, 0.6200396418571472, 0.6256226301193237, 0.6278499364852905, 0.6350411176681519, 0.637018084526062, 0.6424634456634521, 0.6468324661254883, 0.6515606641769409, 0.6662984490394592], [0.7135756611824036, 0.6960691213607788, 0.7032281160354614, 0.7071578502655029, 0.7095880508422852, 0.7129719257354736, 0.712979257106781, 0.7199151515960693, 0.7259194254875183, 0.7354905009269714], [0.7830427885055542, 0.7598816156387329, 0.7708079218864441, 0.7744627594947815, 0.774321973323822, 0.7823538184165955, 0.7859284281730652, 0.7887043952941895, 0.7933050394058228, 0.8008905649185181], [0.8411860466003418, 0.8264003396034241, 0.8325443863868713, 0.8347621560096741, 0.8358808755874634, 0.8431210517883301, 0.8435733318328857, 0.845196008682251, 0.8550492525100708, 0.8610464334487915], [0.8932070136070251, 0.8781780004501343, 0.8851913809776306, 0.8867211937904358, 0.8895310163497925, 0.8936633467674255, 0.8979848623275757, 0.9007974863052368, 0.9072549343109131, 0.9148966073989868], [0.9391488432884216, 0.9154039621353149, 0.922663152217865, 0.9279353618621826, 0.9332857131958008, 0.9357128739356995, 0.9405708909034729, 0.9452442526817322, 0.9500864148139954, 0.9634901881217957], [0.9717853665351868, 0.9466623067855835, 0.9533323645591736, 0.9594293832778931, 0.9621840715408325, 0.9711698293685913, 0.9713294506072998, 0.9777826070785522, 0.9827188849449158, 0.9982373714447021], [0.9958571195602417, 0.9657987356185913, 0.9761071801185608, 0.9816049933433533, 0.985993504524231, 0.9912031888961792, 0.9949365854263306, 1.0034788846969604, 1.0107460021972656, 1.0283348560333252], [1.0132368803024292, 0.985660195350647, 0.9968224167823792, 1.000128149986267, 1.0082833766937256, 1.0127933025360107, 1.0207185745239258, 1.0210939645767212, 1.029529333114624, 1.0445599555969238], [1.020599126815796, 0.9879456162452698, 0.9998126029968262, 1.0055688619613647, 1.012316346168518, 1.0187803506851196, 1.0215214490890503, 1.0288527011871338, 1.0401352643966675, 1.0508430004119873], [1.0103111267089844, 0.9838654398918152, 0.9936470985412598, 1.0015760660171509, 1.0051064491271973, 1.0096646547317505, 1.0147043466567993, 1.020857810974121, 1.0311402082443237, 1.0479722023010254], [0.998502790927887, 0.9629355072975159, 0.9733726382255554, 0.9798374772071838, 0.9861059784889221, 0.9959586262702942, 0.9998266696929932, 1.004170298576355, 1.0159993171691895, 1.0313628911972046], [0.9613048434257507, 0.9333656430244446, 0.9436357617378235, 0.9484175443649292, 0.9554433822631836, 0.9601373672485352, 0.96340012550354, 0.9721359014511108, 0.9830024838447571, 1.0016738176345825], [0.9277815222740173, 0.8945762515068054, 0.9020222425460815, 0.9109387397766113, 0.9147462248802185, 0.9226893186569214, 0.9282004237174988, 0.9337375164031982, 0.942834734916687, 0.9630703330039978], [0.8890515565872192, 0.8499776124954224, 0.8612425327301025, 0.8650891780853271, 0.8710736632347107, 0.8802896738052368, 0.8871328830718994, 0.8934153318405151, 0.9040877819061279, 0.9199406504631042], [0.8333668112754822, 0.8008101582527161, 0.8089900612831116, 0.8173605799674988, 0.8236958980560303, 0.8266205191612244, 0.8373203277587891, 0.8381842970848083, 0.8487160205841064, 0.870094895362854], [0.7776334881782532, 0.739902138710022, 0.7494836449623108, 0.7565405368804932, 0.7601244449615479, 0.7694203853607178, 0.7761996388435364, 0.7813180088996887, 0.7939075827598572, 0.8118483424186707], [0.7056025862693787, 0.6677505373954773, 0.6777242422103882, 0.6825472116470337, 0.6893308162689209, 0.7005825042724609, 0.7063267230987549, 0.7118043303489685, 0.7239195108413696, 0.7396066188812256], [0.6261623501777649, 0.5828713178634644, 0.5946119427680969, 0.6035665273666382, 0.611615777015686, 0.6195927262306213, 0.6271933913230896, 0.6354665160179138, 0.6455816030502319, 0.6667830348014832], [0.5375349521636963, 0.49314576387405396, 0.5094773173332214, 0.5161195993423462, 0.5219868421554565, 0.5320071578025818, 0.5379724502563477, 0.5480039715766907, 0.5572195649147034, 0.5827444195747375], [0.45057013630867004, 0.40677955746650696, 0.4219001531600952, 0.4290785789489746, 0.4381411671638489, 0.4434712827205658, 0.4503234326839447, 0.46105679869651794, 0.4728434085845947, 0.49457287788391113], [0.3583762049674988, 0.31290873885154724, 0.32751980423927307, 0.33701837062835693, 0.3418938219547272, 0.3538701832294464, 0.35926371812820435, 0.3706875741481781, 0.37945371866226196, 0.40319696068763733], [0.2619885802268982, 0.2162199169397354, 0.22869178652763367, 0.23673267662525177, 0.2462412267923355, 0.25422564148902893, 0.2609183192253113, 0.2685209810733795, 0.27915555238723755, 0.2990018427371979], [0.1573731154203415, 0.1160128191113472, 0.13211777806282043, 0.13677261769771576, 0.14287637174129486, 0.15307483077049255, 0.160519078373909, 0.16622960567474365, 0.1773427128791809, 0.19879594445228577], [0.05235598608851433, 0.011013228446245193, 0.025793366134166718, 0.031512897461652756, 0.040505994111299515, 0.04571270942687988, 0.05241204425692558, 0.062305551022291183, 0.07191748917102814, 0.09239400178194046], [-0.04753296077251434, -0.09123340994119644, -0.08021174371242523, -0.06994090229272842, -0.06151566654443741, -0.05629899725317955, -0.04844154790043831, -0.03888528794050217, -0.030444897711277008, -0.010545485652983189], [-0.1520068645477295, -0.198968306183815, -0.18288281559944153, -0.17397208511829376, -0.16858485341072083, -0.1601969450712204, -0.15184350311756134, -0.14517070353031158, -0.13396140933036804, -0.11620895564556122], [-0.2501671314239502, -0.2935773730278015, -0.28191810846328735, -0.2729928195476532, -0.2664158344268799, -0.26099807024002075, -0.25183171033859253, -0.24918177723884583, -0.23384177684783936, -0.21391090750694275], [-0.34496721625328064, -0.38924354314804077, -0.3754359781742096, -0.36826637387275696, -0.3588046431541443, -0.3563089370727539, -0.34691739082336426, -0.33896002173423767, -0.3240348994731903, -0.3073212206363678], [-0.43800488114356995, -0.4883645474910736, -0.47226473689079285, -0.46466293931007385, -0.45788314938545227, -0.4491879642009735, -0.44004151225090027, -0.4329036772251129, -0.42155733704566956, -0.3969162404537201], [-0.5267589688301086, -0.5767347812652588, -0.5597904324531555, -0.5565723180770874, -0.5432851910591125, -0.5364742875099182, -0.5323851704597473, -0.5225388407707214, -0.5087743997573853, -0.487699031829834], [-0.609660804271698, -0.6586393713951111, -0.6457995772361755, -0.6358709335327148, -0.6290690302848816, -0.6211658716201782, -0.6133109927177429, -0.6052488684654236, -0.5931163430213928, -0.568920910358429], [-0.6808998584747314, -0.7324433922767639, -0.7183749675750732, -0.7101686000823975, -0.704512357711792, -0.695906937122345, -0.686689555644989, -0.6780508756637573, -0.6661470532417297, -0.6428034901618958], [-0.7561715245246887, -0.8092892169952393, -0.7960225939750671, -0.7849832773208618, -0.7780853509902954, -0.770775556564331, -0.7628545761108398, -0.7516320943832397, -0.7402421832084656, -0.7133764028549194], [-0.823006808757782, -0.8788955807685852, -0.8651255965232849, -0.8546963930130005, -0.8470472693443298, -0.8365318179130554, -0.8288320899009705, -0.8201844096183777, -0.8075999021530151, -0.7794746160507202], [-0.871015727519989, -0.9257641434669495, -0.9092665910720825, -0.9026606678962708, -0.8928801417350769, -0.8838359117507935, -0.8746796250343323, -0.8660393953323364, -0.8526513576507568, -0.8274926543235779], [-0.9132642149925232, -0.9672466516494751, -0.9545405507087708, -0.9452099204063416, -0.9343951344490051, -0.9270375370979309, -0.9181342720985413, -0.9096051454544067, -0.8950339555740356, -0.8678140044212341], [-0.9471878409385681, -0.9993525147438049, -0.9868711233139038, -0.9771628379821777, -0.9690840244293213, -0.9589864015579224, -0.9528095722198486, -0.9450174570083618, -0.928849458694458, -0.9052488207817078], [-0.9722622632980347, -1.0260173082351685, -1.0096479654312134, -1.0035113096237183, -0.9921924471855164, -0.9868318438529968, -0.9780248403549194, -0.9715474843978882, -0.9581559896469116, -0.9307646155357361], [-0.993030309677124, -1.0445995330810547, -1.02838933467865, -1.0199710130691528, -1.0161741971969604, -1.0065362453460693, -0.9999432563781738, -0.9899370670318604, -0.9769928455352783, -0.9522680640220642], [-0.9983770251274109, -1.0482085943222046, -1.0351521968841553, -1.0253326892852783, -1.0201287269592285, -1.0117563009262085, -1.0037412643432617, -0.9932277202606201, -0.9841731786727905, -0.9561595320701599], [-0.9951111674308777, -1.0487850904464722, -1.034677505493164, -1.0276175737380981, -1.0170265436172485, -1.0083779096603394, -1.0026178359985352, -0.9953686594963074, -0.9783610105514526, -0.9498707056045532], [-0.9751679301261902, -1.0336204767227173, -1.0197542905807495, -1.0091567039489746, -1.001073956489563, -0.9936821460723877, -0.9833110570907593, -0.9721393585205078, -0.9576309323310852, -0.9286714196205139], [-0.9523268938064575, -1.0063425302505493, -0.9937847852706909, -0.9878801107406616, -0.9742593765258789, -0.9698545336723328, -0.9595088362693787, -0.9507485628128052, -0.9364583492279053, -0.9088870286941528], [-0.9239387512207031, -0.9685194492340088, -0.9590251445770264, -0.9478150606155396, -0.9413342475891113, -0.9337328672409058, -0.9264644384384155, -0.9164618253707886, -0.9029384255409241, -0.8795707821846008], [-0.8778331875801086, -0.9250085353851318, -0.9099541902542114, -0.9057812094688416, -0.8977198600769043, -0.8898342847824097, -0.8809473514556885, -0.873111367225647, -0.8629295825958252, -0.8423212170600891], [-0.8221471309661865, -0.8664389252662659, -0.8576057553291321, -0.8451348543167114, -0.8405380249023438, -0.8332356214523315, -0.8303651213645935, -0.8236575126647949, -0.8091045618057251, -0.7895864844322205], [-0.7614054083824158, -0.8098872900009155, -0.7933744192123413, -0.7851796746253967, -0.7777791619300842, -0.7708438038825989, -0.766051173210144, -0.7629365921020508, -0.7500770688056946, -0.7272577285766602], [-0.697418212890625, -0.7414866089820862, -0.7274132966995239, -0.7212051749229431, -0.7142653465270996, -0.7066746950149536, -0.7021088004112244, -0.6946803331375122, -0.6819791793823242, -0.6622287631034851], [-0.6242297887802124, -0.6730546951293945, -0.6566762924194336, -0.6507211327552795, -0.6421511769294739, -0.6369198560714722, -0.6298829317092896, -0.6232910752296448, -0.6080250144004822, -0.5864733457565308], [-0.542637825012207, -0.589080810546875, -0.5737441778182983, -0.5662021040916443, -0.5594803690910339, -0.5504714250564575, -0.544367253780365, -0.5375046133995056, -0.5248382091522217, -0.5016492009162903], [-0.45279932022094727, -0.4958130121231079, -0.48169779777526855, -0.47621646523475647, -0.46377822756767273, -0.46009841561317444, -0.45344018936157227, -0.4449649453163147, -0.43129855394363403, -0.4099624454975128], [-0.3571987450122833, -0.4059199392795563, -0.3879925608634949, -0.37824746966362, -0.3694395124912262, -0.36348822712898254, -0.35529008507728577, -0.3487616181373596, -0.3358745574951172, -0.3135506212711334], [-0.25580883026123047, -0.3110722005367279, -0.2947986423969269, -0.2845902442932129, -0.2744712829589844, -0.2679364085197449, -0.25808122754096985, -0.24985241889953613, -0.2386309951543808, -0.21414321660995483], [-0.16068685054779053, -0.21623408794403076, -0.20190174877643585, -0.19063019752502441, -0.17943954467773438, -0.17309680581092834, -0.16632722318172455, -0.15517860651016235, -0.14107121527194977, -0.11445586383342743], [-0.06773640960454941, -0.11528147757053375, -0.10093781352043152, -0.09166233986616135, -0.08081700652837753, -0.07432304322719574, -0.06733929365873337, -0.058741334825754166, -0.04549766704440117, -0.020828846842050552], [0.03952750936150551, -0.009567052125930786, 0.005510726012289524, 0.01418079063296318, 0.021669358015060425, 0.03333938866853714, 0.03811836987733841, 0.04763166978955269, 0.058700934052467346, 0.08403269946575165], [0.1372349113225937, 0.09264520555734634, 0.10959240794181824, 0.12000682950019836, 0.1277874857187271, 0.13373954594135284, 0.1422378569841385, 0.14954987168312073, 0.1639718860387802, 0.18721675872802734], [0.23905900120735168, 0.19130511581897736, 0.20612072944641113, 0.21948616206645966, 0.2263527661561966, 0.23184418678283691, 0.24179932475090027, 0.247712180018425, 0.2628999948501587, 0.28932955861091614], [0.3390362858772278, 0.2874429523944855, 0.30544528365135193, 0.3146110475063324, 0.3232857882976532, 0.32886409759521484, 0.3394800126552582, 0.34779006242752075, 0.36350908875465393, 0.390529066324234], [0.4334881007671356, 0.3823384940624237, 0.40030720829963684, 0.40876081585884094, 0.41757914423942566, 0.4266352951526642, 0.43297773599624634, 0.4408009648323059, 0.460688978433609, 0.4854121208190918], [0.5224712491035461, 0.4688970148563385, 0.4861147105693817, 0.49578195810317993, 0.505956768989563, 0.5128366351127625, 0.5208608508110046, 0.5343668460845947, 0.5455158948898315, 0.575466513633728], [0.6034648418426514, 0.5519389510154724, 0.5672262907028198, 0.5787611603736877, 0.5881013870239258, 0.5973736643791199, 0.6087948083877563, 0.6147425770759583, 0.6336119174957275, 0.662283182144165], [0.6778661608695984, 0.6280238032341003, 0.6424969434738159, 0.6544819474220276, 0.6666222214698792, 0.6744862198829651, 0.6815311312675476, 0.6946320533752441, 0.7081436514854431, 0.7367303967475891], [0.7549285292625427, 0.7024083137512207, 0.720765233039856, 0.7306362986564636, 0.7397187948226929, 0.7511122822761536, 0.7611849308013916, 0.7713038921356201, 0.7847211360931396, 0.8165533542633057], [0.8238229155540466, 0.7694540023803711, 0.7863326668739319, 0.7988730072975159, 0.8090898990631104, 0.8177449703216553, 0.8286854028701782, 0.8390372395515442, 0.8537949323654175, 0.8855072855949402], [0.8786442875862122, 0.8187488317489624, 0.8424710631370544, 0.8540303707122803, 0.862227201461792, 0.8740304112434387, 0.8869699835777283, 0.8971858620643616, 0.9132164716720581, 0.9438221454620361], [0.9279500842094421, 0.869321346282959, 0.893325924873352, 0.9034476280212402, 0.9124012589454651, 0.9242603182792664, 0.9310927391052246, 0.942514181137085, 0.9594241976737976, 0.9884973168373108], [0.968464195728302, 0.9110279083251953, 0.930510401725769, 0.9401227831840515, 0.9511589407920837, 0.9614608287811279, 0.9719671010971069, 0.9819871783256531, 0.99837327003479, 1.0255497694015503], [0.9910354018211365, 0.9323559403419495, 0.955851674079895, 0.9685541987419128, 0.977807879447937, 0.9899217486381531, 0.9957759976387024, 1.0097142457962036, 1.0178945064544678, 1.046384572982788], [1.0036978721618652, 0.9502938985824585, 0.9729858040809631, 0.9838401079177856, 0.9957118034362793, 1.0052214860916138, 1.0132049322128296, 1.0219063758850098, 1.0376771688461304, 1.0643396377563477]]]\n",
            "{'predictions': [{'point_forecast': [1.0043781995773315, 1.0092754364013672, 1.0227643251419067, 1.0290114879608154, 1.042575716972351, 1.0458625555038452, 1.0602072477340698, 1.073277235031128, 1.079963207244873, 1.0858573913574219, 1.1012295484542847, 1.1140187978744507, 1.1229411363601685, 1.1302417516708374, 1.1442620754241943, 1.1492640972137451, 1.1576710939407349, 1.1708849668502808, 1.1724050045013428, 1.1844656467437744, 1.192319631576538, 1.2014856338500977, 1.2107980251312256, 1.2246273756027222, 1.2303953170776367, 1.2399992942810059, 1.25645911693573, 1.2656104564666748, 1.281044840812683, 1.2851701974868774, 1.2962744235992432, 1.307445764541626, 1.3179616928100586, 1.3209153413772583, 1.3350214958190918, 1.3493108749389648, 1.3600586652755737, 1.3627506494522095, 1.370786190032959, 1.375531554222107, 1.382254719734192, 1.3978770971298218, 1.4098271131515503, 1.4204648733139038, 1.4319243431091309, 1.4392064809799194, 1.4434936046600342, 1.4548120498657227, 1.4614330530166626, 1.4742146730422974, 1.4800151586532593, 1.4872852563858032, 1.4999523162841797, 1.509232521057129, 1.5120716094970703, 1.5250388383865356, 1.535513997077942, 1.5422911643981934, 1.5477027893066406, 1.5590629577636719, 1.5652592182159424, 1.5744000673294067, 1.5830588340759277, 1.591856598854065, 1.6006760597229004, 1.6114616394042969, 1.6216742992401123, 1.627734661102295, 1.6394544839859009, 1.644767165184021, 1.6542679071426392, 1.6669540405273438, 1.6724578142166138, 1.6829780340194702, 1.6970185041427612, 1.703606367111206, 1.7124449014663696, 1.724508285522461, 1.7268669605255127, 1.7412086725234985, 1.7492197751998901, 1.7539281845092773, 1.7606782913208008, 1.7700893878936768, 1.7792534828186035, 1.7860242128372192, 1.7960203886032104, 1.802981972694397, 1.808966040611267, 1.8156554698944092, 1.8211387395858765, 1.8300542831420898, 1.8391450643539429, 1.846596598625183, 1.8559911251068115, 1.8655413389205933, 1.8661037683486938, 1.8770958185195923, 1.8859964609146118, 1.8930383920669556, 1.9036734104156494, 1.9126991033554077, 1.9187463521957397, 1.9234896898269653, 1.9363824129104614, 1.9428141117095947, 1.9542028903961182, 1.9647477865219116, 1.9716122150421143, 1.976961612701416, 1.981932520866394, 1.9888893365859985, 1.9969871044158936, 2.0090184211730957, 2.0206453800201416, 2.0365664958953857, 2.048849105834961, 2.0562078952789307, 2.0660414695739746, 2.0779454708099365, 2.077317953109741, 2.0842065811157227, 2.09609317779541, 2.1015233993530273, 2.1107842922210693, 2.1178200244903564, 2.1197073459625244, 2.1255080699920654], 'quantile_forecast': [[1.0043781995773315, 0.9964931607246399, 1.0003752708435059, 1.0008394718170166, 1.0039756298065186, 1.005436658859253, 1.0056800842285156, 1.0084688663482666, 1.0087385177612305, 1.010801911354065], [1.0092754364013672, 1.0070488452911377, 1.0083211660385132, 1.0102981328964233, 1.0114203691482544, 1.0125560760498047, 1.0135935544967651, 1.0146788358688354, 1.017307996749878, 1.019616961479187], [1.0227643251419067, 1.0190834999084473, 1.0224491357803345, 1.0227755308151245, 1.0232449769973755, 1.0257290601730347, 1.0263395309448242, 1.0293549299240112, 1.0302257537841797, 1.0338783264160156], [1.0290114879608154, 1.028061866760254, 1.0298761129379272, 1.0324273109436035, 1.0327552556991577, 1.032736897468567, 1.0354316234588623, 1.0374864339828491, 1.0396769046783447, 1.0435012578964233], [1.042575716972351, 1.0382112264633179, 1.0403856039047241, 1.0417512655258179, 1.0431783199310303, 1.0440962314605713, 1.0437211990356445, 1.047159194946289, 1.0487821102142334, 1.052635669708252], [1.0458625555038452, 1.04702627658844, 1.0496313571929932, 1.0509238243103027, 1.0517290830612183, 1.0516256093978882, 1.0531095266342163, 1.0544277429580688, 1.0580284595489502, 1.060739278793335], [1.0602072477340698, 1.0534920692443848, 1.057948112487793, 1.0589191913604736, 1.0606180429458618, 1.0619550943374634, 1.0630868673324585, 1.0647571086883545, 1.0668431520462036, 1.0708123445510864], [1.073277235031128, 1.0653102397918701, 1.0698243379592896, 1.070924997329712, 1.0740612745285034, 1.0755878686904907, 1.0777783393859863, 1.079472541809082, 1.0812495946884155, 1.084646224975586], [1.079963207244873, 1.0743534564971924, 1.0776889324188232, 1.0796699523925781, 1.0816909074783325, 1.0836820602416992, 1.083598017692566, 1.086469292640686, 1.088147521018982, 1.0921130180358887], [1.0858573913574219, 1.0824834108352661, 1.085818886756897, 1.088989496231079, 1.0887582302093506, 1.091368317604065, 1.0931129455566406, 1.0948593616485596, 1.0975556373596191, 1.1014127731323242], [1.1012295484542847, 1.092066764831543, 1.1004585027694702, 1.1017508506774902, 1.103019118309021, 1.1056382656097412, 1.1068880558013916, 1.1100077629089355, 1.1110808849334717, 1.1173455715179443], [1.1140187978744507, 1.1042264699935913, 1.1125929355621338, 1.114392638206482, 1.1158336400985718, 1.1172916889190674, 1.1194766759872437, 1.1221394538879395, 1.1241902112960815, 1.126995325088501], [1.1229411363601685, 1.115374207496643, 1.1205430030822754, 1.1237229108810425, 1.1255615949630737, 1.1275192499160767, 1.1291229724884033, 1.1308565139770508, 1.1335755586624146, 1.138120412826538], [1.1302417516708374, 1.1237791776657104, 1.1311651468276978, 1.134778618812561, 1.1350648403167725, 1.137439250946045, 1.141351342201233, 1.1430692672729492, 1.1435143947601318, 1.1492689847946167], [1.1442620754241943, 1.1357066631317139, 1.1408699750900269, 1.1442307233810425, 1.147107481956482, 1.1497234106063843, 1.1499114036560059, 1.1520799398422241, 1.1568251848220825, 1.1588308811187744], [1.1492640972137451, 1.1398990154266357, 1.1473770141601562, 1.1510086059570312, 1.1530144214630127, 1.1564586162567139, 1.157443642616272, 1.158780813217163, 1.1620965003967285, 1.1637232303619385], [1.1576710939407349, 1.152052879333496, 1.1594891548156738, 1.1640130281448364, 1.1651638746261597, 1.1667007207870483, 1.168892741203308, 1.1698307991027832, 1.1731243133544922, 1.1746361255645752], [1.1708849668502808, 1.1630629301071167, 1.1706475019454956, 1.1744906902313232, 1.177764892578125, 1.178046703338623, 1.1802780628204346, 1.1805769205093384, 1.1827056407928467, 1.1854279041290283], [1.1724050045013428, 1.1707004308700562, 1.1800744533538818, 1.1808665990829468, 1.1847095489501953, 1.1880041360855103, 1.187778353691101, 1.1871439218521118, 1.189985990524292, 1.1910966634750366], [1.1844656467437744, 1.1817175149917603, 1.1887731552124023, 1.1910048723220825, 1.1943238973617554, 1.195365071296692, 1.1966520547866821, 1.1993190050125122, 1.1975380182266235, 1.1990009546279907], [1.192319631576538, 1.1930676698684692, 1.1994752883911133, 1.202433466911316, 1.2074975967407227, 1.209064245223999, 1.2095762491226196, 1.2094148397445679, 1.2112219333648682, 1.2128924131393433], [1.2014856338500977, 1.197884202003479, 1.2077845335006714, 1.2118334770202637, 1.2141658067703247, 1.2166372537612915, 1.2171987295150757, 1.2194435596466064, 1.2207716703414917, 1.2209110260009766], [1.2107980251312256, 1.2079589366912842, 1.2180241346359253, 1.2236889600753784, 1.2253156900405884, 1.2276320457458496, 1.2289010286331177, 1.2312419414520264, 1.233473777770996, 1.2344731092453003], [1.2246273756027222, 1.2206392288208008, 1.2297966480255127, 1.2353308200836182, 1.2375602722167969, 1.240389108657837, 1.2409802675247192, 1.243191123008728, 1.2472418546676636, 1.2491648197174072], [1.2303953170776367, 1.2280118465423584, 1.2383922338485718, 1.2427173852920532, 1.246105432510376, 1.246800184249878, 1.2493513822555542, 1.2519023418426514, 1.2528735399246216, 1.2552754878997803], [1.2399992942810059, 1.2404457330703735, 1.2528350353240967, 1.2546597719192505, 1.256529688835144, 1.260288119316101, 1.2611929178237915, 1.261738896369934, 1.2642265558242798, 1.2659474611282349], [1.25645911693573, 1.2497316598892212, 1.2620638608932495, 1.267858624458313, 1.2700265645980835, 1.2710015773773193, 1.2729740142822266, 1.275451898574829, 1.2764021158218384, 1.2777705192565918], [1.2656104564666748, 1.2593802213668823, 1.2711036205291748, 1.2758833169937134, 1.2775046825408936, 1.2801157236099243, 1.2813613414764404, 1.2837796211242676, 1.2848809957504272, 1.286853313446045], [1.281044840812683, 1.2680646181106567, 1.2818667888641357, 1.2858600616455078, 1.2896426916122437, 1.2928930521011353, 1.29367995262146, 1.2952760457992554, 1.297086477279663, 1.2991769313812256], [1.2851701974868774, 1.2774633169174194, 1.2916115522384644, 1.295566439628601, 1.298352599143982, 1.3004082441329956, 1.3026533126831055, 1.3052597045898438, 1.3054105043411255, 1.3070015907287598], [1.2962744235992432, 1.2842925786972046, 1.298972725868225, 1.3048373460769653, 1.3080545663833618, 1.310219168663025, 1.3114314079284668, 1.314054012298584, 1.3155683279037476, 1.3180294036865234], [1.307445764541626, 1.2956379652023315, 1.312767505645752, 1.316454529762268, 1.3206064701080322, 1.3228610754013062, 1.3239617347717285, 1.3275201320648193, 1.329261064529419, 1.329240322113037], [1.3179616928100586, 1.3071340322494507, 1.3221666812896729, 1.3283474445343018, 1.3317680358886719, 1.3331902027130127, 1.3351993560791016, 1.3384889364242554, 1.3376781940460205, 1.3418400287628174], [1.3209153413772583, 1.310214877128601, 1.3275847434997559, 1.3337328433990479, 1.3379850387573242, 1.3388875722885132, 1.3417235612869263, 1.3439021110534668, 1.3450078964233398, 1.3478126525878906], [1.3350214958190918, 1.3220338821411133, 1.3404465913772583, 1.3477745056152344, 1.3499113321304321, 1.3511539697647095, 1.3542990684509277, 1.356640338897705, 1.3585205078125, 1.359687328338623], [1.3493108749389648, 1.3350223302841187, 1.3562928438186646, 1.359808325767517, 1.3640422821044922, 1.365325927734375, 1.3693211078643799, 1.3689830303192139, 1.3729099035263062, 1.3750660419464111], [1.3600586652755737, 1.3387601375579834, 1.3625212907791138, 1.369443655014038, 1.3736857175827026, 1.3754760026931763, 1.3757400512695312, 1.3797829151153564, 1.3813399076461792, 1.3821803331375122], [1.3627506494522095, 1.3458020687103271, 1.370304822921753, 1.3753825426101685, 1.379162073135376, 1.3823660612106323, 1.3842803239822388, 1.3865854740142822, 1.3869714736938477, 1.3895148038864136], [1.370786190032959, 1.351981282234192, 1.3789639472961426, 1.3853589296340942, 1.390209674835205, 1.3909459114074707, 1.394050121307373, 1.3947980403900146, 1.397088885307312, 1.3985579013824463], [1.375531554222107, 1.359522819519043, 1.3872995376586914, 1.393259048461914, 1.3950539827346802, 1.3984718322753906, 1.401564598083496, 1.4026789665222168, 1.4051917791366577, 1.4055838584899902], [1.382254719734192, 1.3678646087646484, 1.396485686302185, 1.405834436416626, 1.4081629514694214, 1.4103355407714844, 1.411853313446045, 1.4125131368637085, 1.4154192209243774, 1.4170253276824951], [1.3978770971298218, 1.3746172189712524, 1.4092780351638794, 1.4161391258239746, 1.4179844856262207, 1.4221991300582886, 1.424140453338623, 1.4243783950805664, 1.4264461994171143, 1.4269962310791016], [1.4098271131515503, 1.383914589881897, 1.4213926792144775, 1.4286587238311768, 1.4336317777633667, 1.4349530935287476, 1.4361313581466675, 1.437110424041748, 1.442253589630127, 1.442785620689392], [1.4204648733139038, 1.3971995115280151, 1.4328324794769287, 1.4395345449447632, 1.4448882341384888, 1.4465532302856445, 1.4470127820968628, 1.4499975442886353, 1.4513496160507202, 1.4518423080444336], [1.4319243431091309, 1.4025880098342896, 1.445078730583191, 1.453292965888977, 1.4547247886657715, 1.4602711200714111, 1.4600274562835693, 1.4624627828598022, 1.4655035734176636, 1.4665071964263916], [1.4392064809799194, 1.4018065929412842, 1.4484741687774658, 1.4560467004776, 1.4604957103729248, 1.4612494707107544, 1.4658160209655762, 1.4667502641677856, 1.468084454536438, 1.4711833000183105], [1.4434936046600342, 1.4094977378845215, 1.457119345664978, 1.4643508195877075, 1.4681211709976196, 1.4712436199188232, 1.4731507301330566, 1.4749892950057983, 1.4762054681777954, 1.480181336402893], [1.4548120498657227, 1.4222363233566284, 1.4700583219528198, 1.4766969680786133, 1.4810763597488403, 1.485863208770752, 1.486056923866272, 1.488142728805542, 1.4922195672988892, 1.4921133518218994], [1.4614330530166626, 1.4275013208389282, 1.4752891063690186, 1.4847193956375122, 1.489202857017517, 1.4921741485595703, 1.4918403625488281, 1.4942288398742676, 1.498425841331482, 1.4990824460983276], [1.4742146730422974, 1.4308578968048096, 1.485507607460022, 1.4952911138534546, 1.4992766380310059, 1.5024819374084473, 1.5056262016296387, 1.5069869756698608, 1.5104566812515259, 1.5121917724609375], [1.4800151586532593, 1.4351698160171509, 1.4928648471832275, 1.503680944442749, 1.5067863464355469, 1.5101957321166992, 1.5141819715499878, 1.515216588973999, 1.5184125900268555, 1.5221140384674072], [1.4872852563858032, 1.4383642673492432, 1.50015127658844, 1.5108733177185059, 1.5159516334533691, 1.5189974308013916, 1.5224148035049438, 1.5236061811447144, 1.5267421007156372, 1.5302523374557495], [1.4999523162841797, 1.4493883848190308, 1.5143766403198242, 1.5269888639450073, 1.5297921895980835, 1.5323060750961304, 1.5354830026626587, 1.5391465425491333, 1.541280746459961, 1.544922947883606], [1.509232521057129, 1.4552098512649536, 1.5247033834457397, 1.53440260887146, 1.537523627281189, 1.5417568683624268, 1.542424201965332, 1.544607162475586, 1.547881007194519, 1.5519583225250244], [1.5120716094970703, 1.4603883028030396, 1.5283738374710083, 1.54006028175354, 1.543670415878296, 1.5446380376815796, 1.5492680072784424, 1.5525238513946533, 1.5535728931427002, 1.556968331336975], [1.5250388383865356, 1.4679579734802246, 1.5408991575241089, 1.55141282081604, 1.5547138452529907, 1.5576651096343994, 1.5612467527389526, 1.5630797147750854, 1.5674808025360107, 1.5688320398330688], [1.535513997077942, 1.478294849395752, 1.5507358312606812, 1.5650668144226074, 1.5690079927444458, 1.5710347890853882, 1.5737379789352417, 1.5755995512008667, 1.5786089897155762, 1.5816470384597778], [1.5422911643981934, 1.47915518283844, 1.5568263530731201, 1.570392370223999, 1.5756720304489136, 1.5751402378082275, 1.5806026458740234, 1.5823564529418945, 1.5848710536956787, 1.590599536895752], [1.5477027893066406, 1.4833041429519653, 1.5645467042922974, 1.5773789882659912, 1.5820542573928833, 1.5856759548187256, 1.5894782543182373, 1.5904557704925537, 1.593850016593933, 1.597883939743042], [1.5590629577636719, 1.4874467849731445, 1.5756280422210693, 1.5908727645874023, 1.5947952270507812, 1.5992640256881714, 1.601973295211792, 1.6044726371765137, 1.6078804731369019, 1.6121957302093506], [1.5652592182159424, 1.4912810325622559, 1.5813437700271606, 1.5989104509353638, 1.603011965751648, 1.6070629358291626, 1.6110880374908447, 1.6134315729141235, 1.6174466609954834, 1.6242858171463013], [1.5744000673294067, 1.496427297592163, 1.5896140336990356, 1.6042983531951904, 1.6119556427001953, 1.615453839302063, 1.6189290285110474, 1.6214547157287598, 1.6270748376846313, 1.6307293176651], [1.5830588340759277, 1.5039979219436646, 1.5997008085250854, 1.6142501831054688, 1.6222292184829712, 1.6250834465026855, 1.6279288530349731, 1.6320297718048096, 1.6395033597946167, 1.6427189111709595], [1.591856598854065, 1.5077632665634155, 1.6053062677383423, 1.6257562637329102, 1.6317154169082642, 1.6359845399856567, 1.638923168182373, 1.6424148082733154, 1.648063063621521, 1.6527998447418213], [1.6006760597229004, 1.5154443979263306, 1.617747187614441, 1.6363898515701294, 1.644730567932129, 1.6478939056396484, 1.650830626487732, 1.6553868055343628, 1.6586710214614868, 1.6646298170089722], [1.6114616394042969, 1.5252933502197266, 1.629992961883545, 1.648308515548706, 1.6542625427246094, 1.6599124670028687, 1.6625083684921265, 1.664517879486084, 1.670252799987793, 1.6736847162246704], [1.6216742992401123, 1.5330970287322998, 1.6381866931915283, 1.6590391397476196, 1.6641886234283447, 1.6697560548782349, 1.672998070716858, 1.6751922369003296, 1.679155945777893, 1.6810418367385864], [1.627734661102295, 1.5430421829223633, 1.6499543190002441, 1.6705507040023804, 1.675134539604187, 1.6773781776428223, 1.6792865991592407, 1.6846128702163696, 1.687016248703003, 1.6896013021469116], [1.6394544839859009, 1.5520424842834473, 1.6605006456375122, 1.6808183193206787, 1.6870986223220825, 1.6912447214126587, 1.6936568021774292, 1.695855975151062, 1.6985057592391968, 1.7001911401748657], [1.644767165184021, 1.5562922954559326, 1.6684701442718506, 1.6892447471618652, 1.6934068202972412, 1.6988227367401123, 1.702358603477478, 1.7039679288864136, 1.7073543071746826, 1.7094014883041382], [1.6542679071426392, 1.5636714696884155, 1.6730866432189941, 1.6949362754821777, 1.7035614252090454, 1.7051782608032227, 1.7100164890289307, 1.7129778861999512, 1.7142630815505981, 1.717298984527588], [1.6669540405273438, 1.5696442127227783, 1.6859573125839233, 1.7060569524765015, 1.7115353345870972, 1.7163141965866089, 1.7206623554229736, 1.726169466972351, 1.7269299030303955, 1.7314552068710327], [1.6724578142166138, 1.5711369514465332, 1.6874005794525146, 1.715146541595459, 1.7208737134933472, 1.7244815826416016, 1.7285882234573364, 1.731562614440918, 1.7337702512741089, 1.739988923072815], [1.6829780340194702, 1.5809739828109741, 1.699701189994812, 1.7273573875427246, 1.7343446016311646, 1.7404015064239502, 1.7412298917770386, 1.7446463108062744, 1.7480111122131348, 1.7519102096557617], [1.6970185041427612, 1.5877857208251953, 1.7081868648529053, 1.7362391948699951, 1.7455335855484009, 1.7493053674697876, 1.7531808614730835, 1.7553672790527344, 1.7592488527297974, 1.7645618915557861], [1.703606367111206, 1.5909260511398315, 1.7180585861206055, 1.7431920766830444, 1.7538682222366333, 1.7560776472091675, 1.7591297626495361, 1.7621697187423706, 1.7661786079406738, 1.7692190408706665], [1.7124449014663696, 1.6020511388778687, 1.7279490232467651, 1.7548331022262573, 1.7632098197937012, 1.7689636945724487, 1.770314335823059, 1.775728464126587, 1.781009316444397, 1.7815231084823608], [1.724508285522461, 1.605554223060608, 1.7340883016586304, 1.7666524648666382, 1.7748662233352661, 1.7801178693771362, 1.781912922859192, 1.7844722270965576, 1.7912206649780273, 1.7925236225128174], [1.7268669605255127, 1.6079026460647583, 1.7404749393463135, 1.773292064666748, 1.7799078226089478, 1.7864192724227905, 1.7911922931671143, 1.792109727859497, 1.7961031198501587, 1.7986496686935425], [1.7412086725234985, 1.6163225173950195, 1.7513010501861572, 1.7839597463607788, 1.794594407081604, 1.8000938892364502, 1.8012834787368774, 1.8039610385894775, 1.8068994283676147, 1.8110142946243286], [1.7492197751998901, 1.6232973337173462, 1.761649489402771, 1.7970104217529297, 1.805781364440918, 1.8092360496520996, 1.8168606758117676, 1.8181654214859009, 1.8220523595809937, 1.8242279291152954], [1.7539281845092773, 1.6268539428710938, 1.766321063041687, 1.8032928705215454, 1.8111399412155151, 1.815946102142334, 1.8209208250045776, 1.8234691619873047, 1.8285919427871704, 1.8292686939239502], [1.7606782913208008, 1.629709005355835, 1.7718729972839355, 1.8122615814208984, 1.822526454925537, 1.8287566900253296, 1.8307297229766846, 1.8364112377166748, 1.8407074213027954, 1.843096137046814], [1.7700893878936768, 1.632942795753479, 1.7821611166000366, 1.823543906211853, 1.8334475755691528, 1.8380752801895142, 1.8435131311416626, 1.8475404977798462, 1.851364254951477, 1.8529609441757202], [1.7792534828186035, 1.6370669603347778, 1.7858508825302124, 1.8306703567504883, 1.8425167798995972, 1.849593997001648, 1.8536670207977295, 1.8574049472808838, 1.8641562461853027, 1.8704638481140137], [1.7860242128372192, 1.6398382186889648, 1.7939801216125488, 1.8395252227783203, 1.8501075506210327, 1.8580663204193115, 1.8612667322158813, 1.8665509223937988, 1.872664213180542, 1.876584529876709], [1.7960203886032104, 1.6438031196594238, 1.7967149019241333, 1.849008321762085, 1.8612315654754639, 1.867256999015808, 1.8731567859649658, 1.8781490325927734, 1.8822177648544312, 1.8897442817687988], [1.802981972694397, 1.6459864377975464, 1.8044087886810303, 1.8576663732528687, 1.8706660270690918, 1.8782985210418701, 1.8823140859603882, 1.8876665830612183, 1.8923242092132568, 1.8977562189102173], [1.808966040611267, 1.6529768705368042, 1.8121157884597778, 1.8687920570373535, 1.8818763494491577, 1.8896877765655518, 1.8945187330245972, 1.8964799642562866, 1.9015674591064453, 1.9069494009017944], [1.8156554698944092, 1.6607586145401, 1.8210066556930542, 1.8781102895736694, 1.8895965814590454, 1.8954843282699585, 1.9013231992721558, 1.90766179561615, 1.9095063209533691, 1.9137952327728271], [1.8211387395858765, 1.6585239171981812, 1.823292851448059, 1.8835369348526, 1.895446538925171, 1.9024548530578613, 1.9102500677108765, 1.913699746131897, 1.9170336723327637, 1.9219952821731567], [1.8300542831420898, 1.6669045686721802, 1.8286406993865967, 1.8903597593307495, 1.905844807624817, 1.912415623664856, 1.918266773223877, 1.9244908094406128, 1.9282466173171997, 1.931567907333374], [1.8391450643539429, 1.6712698936462402, 1.840659260749817, 1.9009312391281128, 1.918371319770813, 1.9266010522842407, 1.9321415424346924, 1.9344934225082397, 1.938647985458374, 1.9428538084030151], [1.846596598625183, 1.6686155796051025, 1.8372423648834229, 1.9090090990066528, 1.9252766370773315, 1.9359089136123657, 1.937116026878357, 1.9440608024597168, 1.9499986171722412, 1.9521186351776123], [1.8559911251068115, 1.675036072731018, 1.8476426601409912, 1.9218991994857788, 1.9360620975494385, 1.9454994201660156, 1.9505255222320557, 1.957109808921814, 1.9609397649765015, 1.9679994583129883], [1.8655413389205933, 1.6804429292678833, 1.8522785902023315, 1.9314056634902954, 1.9487156867980957, 1.9571152925491333, 1.9621721506118774, 1.9673712253570557, 1.9740921258926392, 1.9781533479690552], [1.8661037683486938, 1.6777827739715576, 1.8544061183929443, 1.9359558820724487, 1.9518887996673584, 1.960931420326233, 1.9677921533584595, 1.9727129936218262, 1.978637456893921, 1.9838522672653198], [1.8770958185195923, 1.6848201751708984, 1.866214394569397, 1.9470113515853882, 1.9628163576126099, 1.973885178565979, 1.981765627861023, 1.9861713647842407, 1.9924540519714355, 1.9997872114181519], [1.8859964609146118, 1.6885746717453003, 1.8694944381713867, 1.9537098407745361, 1.974874496459961, 1.9851961135864258, 1.992060661315918, 1.9988669157028198, 2.0073933601379395, 2.0126426219940186], [1.8930383920669556, 1.6882930994033813, 1.870566964149475, 1.9609994888305664, 1.9822874069213867, 1.992343783378601, 2.001868724822998, 2.0078887939453125, 2.015170097351074, 2.020620584487915], [1.9036734104156494, 1.6925034523010254, 1.8796831369400024, 1.9712355136871338, 1.9931445121765137, 2.0040810108184814, 2.0128538608551025, 2.0195553302764893, 2.0278286933898926, 2.034451961517334], [1.9126991033554077, 1.6934980154037476, 1.885505199432373, 1.9802526235580444, 2.006408929824829, 2.0172901153564453, 2.025751829147339, 2.033850908279419, 2.0427439212799072, 2.048466920852661], [1.9187463521957397, 1.6917815208435059, 1.8823145627975464, 1.9852278232574463, 2.0134634971618652, 2.0238842964172363, 2.0319113731384277, 2.040163516998291, 2.0488297939300537, 2.0585825443267822], [1.9234896898269653, 1.696030616760254, 1.8897578716278076, 1.9933573007583618, 2.022998094558716, 2.033365488052368, 2.04293155670166, 2.051791191101074, 2.059197187423706, 2.067780017852783], [1.9363824129104614, 1.7048254013061523, 1.8957594633102417, 2.0038163661956787, 2.035794258117676, 2.047189235687256, 2.0556318759918213, 2.064701557159424, 2.07155442237854, 2.079955816268921], [1.9428141117095947, 1.7103908061981201, 1.905563235282898, 2.0126750469207764, 2.043743133544922, 2.056255578994751, 2.0642433166503906, 2.0740275382995605, 2.0819084644317627, 2.092811346054077], [1.9542028903961182, 1.7161935567855835, 1.9094581604003906, 2.0236446857452393, 2.053361654281616, 2.0664734840393066, 2.0759694576263428, 2.083430290222168, 2.093222141265869, 2.0985376834869385], [1.9647477865219116, 1.722234845161438, 1.9175502061843872, 2.032463312149048, 2.067143440246582, 2.079864740371704, 2.0882480144500732, 2.0957753658294678, 2.104018449783325, 2.1124460697174072], [1.9716122150421143, 1.7274760007858276, 1.9231765270233154, 2.038295030593872, 2.074237108230591, 2.087190628051758, 2.093275785446167, 2.1038689613342285, 2.1112682819366455, 2.1219515800476074], [1.976961612701416, 1.7282148599624634, 1.9264658689498901, 2.0457775592803955, 2.080031394958496, 2.095013380050659, 2.1032907962799072, 2.111823797225952, 2.121171474456787, 2.126823663711548], [1.981932520866394, 1.7308192253112793, 1.9292742013931274, 2.0464584827423096, 2.085218667984009, 2.100736141204834, 2.1097631454467773, 2.119288206100464, 2.128445863723755, 2.1371636390686035], [1.9888893365859985, 1.7338775396347046, 1.9304161071777344, 2.057727098464966, 2.092783212661743, 2.1080219745635986, 2.118638277053833, 2.129053831100464, 2.1372296810150146, 2.1459689140319824], [1.9969871044158936, 1.736193060874939, 1.9389272928237915, 2.0631799697875977, 2.107131242752075, 2.121697425842285, 2.133593797683716, 2.1425297260284424, 2.152059316635132, 2.162473678588867], [2.0090184211730957, 1.7419660091400146, 1.9466685056686401, 2.0767452716827393, 2.120424509048462, 2.137742280960083, 2.1461455821990967, 2.1563875675201416, 2.1644411087036133, 2.1744654178619385], [2.0206453800201416, 1.7482331991195679, 1.9567409753799438, 2.0902137756347656, 2.134098529815674, 2.1513285636901855, 2.161973714828491, 2.170842409133911, 2.179103136062622, 2.1910059452056885], [2.0365664958953857, 1.7601960897445679, 1.9708658456802368, 2.1052072048187256, 2.1495659351348877, 2.167163372039795, 2.1782052516937256, 2.1860387325286865, 2.196837902069092, 2.208040952682495], [2.048849105834961, 1.7719948291778564, 1.980489730834961, 2.113696336746216, 2.16109299659729, 2.1805076599121094, 2.192356824874878, 2.2005715370178223, 2.211075782775879, 2.2239222526550293], [2.0562078952789307, 1.7763574123382568, 1.9889016151428223, 2.120368719100952, 2.1721150875091553, 2.1899218559265137, 2.200944662094116, 2.21073842048645, 2.2207446098327637, 2.229702949523926], [2.0660414695739746, 1.784997820854187, 1.9976553916931152, 2.1275603771209717, 2.1787452697753906, 2.199676752090454, 2.208219289779663, 2.2198867797851562, 2.2287416458129883, 2.2407097816467285], [2.0779454708099365, 1.791856288909912, 2.0001938343048096, 2.139404535293579, 2.190492630004883, 2.2090201377868652, 2.2227630615234375, 2.2335851192474365, 2.2432548999786377, 2.255460739135742], [2.077317953109741, 1.7949177026748657, 2.002469778060913, 2.139876365661621, 2.194981575012207, 2.2117350101470947, 2.226436138153076, 2.2353336811065674, 2.2453460693359375, 2.257242441177368], [2.0842065811157227, 1.7986369132995605, 2.009382963180542, 2.1454248428344727, 2.205183982849121, 2.2249886989593506, 2.2365870475769043, 2.2466044425964355, 2.257728338241577, 2.271113634109497], [2.09609317779541, 1.8044803142547607, 2.015805721282959, 2.1578381061553955, 2.2172892093658447, 2.2361016273498535, 2.2490220069885254, 2.2615606784820557, 2.2720706462860107, 2.284106492996216], [2.1015233993530273, 1.8066903352737427, 2.021355390548706, 2.160475254058838, 2.2238166332244873, 2.2437844276428223, 2.256406307220459, 2.2675418853759766, 2.2802798748016357, 2.2931013107299805], [2.1107842922210693, 1.807169795036316, 2.026935338973999, 2.1691627502441406, 2.2302443981170654, 2.2514841556549072, 2.266120672225952, 2.2788267135620117, 2.2900421619415283, 2.3055708408355713], [2.1178200244903564, 1.8099240064620972, 2.0277504920959473, 2.170454263687134, 2.2370359897613525, 2.259782552719116, 2.2761523723602295, 2.2885448932647705, 2.3002400398254395, 2.3149569034576416], [2.1197073459625244, 1.8091427087783813, 2.0289254188537598, 2.1723551750183105, 2.2452449798583984, 2.268606662750244, 2.2831435203552246, 2.2953908443450928, 2.3086464405059814, 2.326845645904541], [2.1255080699920654, 1.8055001497268677, 2.031975269317627, 2.182141065597534, 2.248746871948242, 2.2762534618377686, 2.293254852294922, 2.3078739643096924, 2.3213844299316406, 2.3398585319519043]]}, {'point_forecast': [0.9735910892486572, 1.0024527311325073, 1.0195703506469727, 1.0256524085998535, 1.0168533325195312, 1.0073509216308594, 0.979281485080719, 0.9471696019172668, 0.9019151926040649, 0.8528010249137878, 0.790381669998169, 0.724743664264679, 0.6485754251480103, 0.56720370054245, 0.47890758514404297, 0.38198545575141907, 0.2821505069732666, 0.18920135498046875, 0.08537191897630692, -0.008927542716264725, -0.1021464541554451, -0.20491404831409454, -0.3009810149669647, -0.3947799503803253, -0.48819902539253235, -0.5671283006668091, -0.6520344018936157, -0.7237132787704468, -0.7849451899528503, -0.8413645029067993, -0.888508677482605, -0.9320813417434692, -0.9732257127761841, -0.9942431449890137, -1.0040332078933716, -1.0028421878814697, -0.9905840158462524, -0.9733614921569824, -0.9461737871170044, -0.911666989326477, -0.8579093217849731, -0.8020860552787781, -0.7366887927055359, -0.6639584898948669, -0.5763968825340271, -0.49701184034347534, -0.40419816970825195, -0.3018384277820587, -0.20715512335300446, -0.10307042300701141, -0.00524465087801218, 0.09973104298114777, 0.18970389664173126, 0.28932657837867737, 0.3874680995941162, 0.47816500067710876, 0.5636317729949951, 0.6424326300621033, 0.7135756611824036, 0.7830427885055542, 0.8411860466003418, 0.8932070136070251, 0.9391488432884216, 0.9717853665351868, 0.9958571195602417, 1.0132368803024292, 1.020599126815796, 1.0103111267089844, 0.998502790927887, 0.9613048434257507, 0.9277815222740173, 0.8890515565872192, 0.8333668112754822, 0.7776334881782532, 0.7056025862693787, 0.6261623501777649, 0.5375349521636963, 0.45057013630867004, 0.3583762049674988, 0.2619885802268982, 0.1573731154203415, 0.05235598608851433, -0.04753296077251434, -0.1520068645477295, -0.2501671314239502, -0.34496721625328064, -0.43800488114356995, -0.5267589688301086, -0.609660804271698, -0.6808998584747314, -0.7561715245246887, -0.823006808757782, -0.871015727519989, -0.9132642149925232, -0.9471878409385681, -0.9722622632980347, -0.993030309677124, -0.9983770251274109, -0.9951111674308777, -0.9751679301261902, -0.9523268938064575, -0.9239387512207031, -0.8778331875801086, -0.8221471309661865, -0.7614054083824158, -0.697418212890625, -0.6242297887802124, -0.542637825012207, -0.45279932022094727, -0.3571987450122833, -0.25580883026123047, -0.16068685054779053, -0.06773640960454941, 0.03952750936150551, 0.1372349113225937, 0.23905900120735168, 0.3390362858772278, 0.4334881007671356, 0.5224712491035461, 0.6034648418426514, 0.6778661608695984, 0.7549285292625427, 0.8238229155540466, 0.8786442875862122, 0.9279500842094421, 0.968464195728302, 0.9910354018211365, 1.0036978721618652], 'quantile_forecast': [[0.9735910892486572, 0.9500691890716553, 0.9576488733291626, 0.9589818120002747, 0.96272873878479, 0.9644877910614014, 0.9674175381660461, 0.9747830629348755, 0.9750398397445679, 0.9838906526565552], [1.0024527311325073, 0.9830749034881592, 0.9891871809959412, 0.9929514527320862, 0.9957160353660583, 0.9979663491249084, 1.0031499862670898, 1.0050076246261597, 1.0116419792175293, 1.0191972255706787], [1.0195703506469727, 0.9935184121131897, 1.001400351524353, 1.0054205656051636, 1.0085563659667969, 1.0137029886245728, 1.0160590410232544, 1.0219995975494385, 1.0272319316864014, 1.036623477935791], [1.0256524085998535, 0.9993587732315063, 1.006493330001831, 1.0134830474853516, 1.0164915323257446, 1.0197844505310059, 1.0254417657852173, 1.0283976793289185, 1.0333632230758667, 1.0455899238586426], [1.0168533325195312, 0.9968147277832031, 1.0023181438446045, 1.0072546005249023, 1.0107015371322632, 1.014594316482544, 1.0170481204986572, 1.0253362655639648, 1.0282410383224487, 1.040534257888794], [1.0073509216308594, 0.9843028783798218, 0.9931467175483704, 0.9960347414016724, 0.9996582865715027, 1.0009099245071411, 1.0103710889816284, 1.0125083923339844, 1.019891619682312, 1.027910590171814], [0.979281485080719, 0.9587151408195496, 0.9645711183547974, 0.9685037732124329, 0.9745202660560608, 0.9764014482498169, 0.9803972244262695, 0.9866121411323547, 0.9922677874565125, 1.0033435821533203], [0.9471696019172668, 0.924706757068634, 0.9344167709350586, 0.9375537037849426, 0.9423378705978394, 0.9484832286834717, 0.9497835040092468, 0.9535463452339172, 0.9577922224998474, 0.968323290348053], [0.9019151926040649, 0.8836467862129211, 0.8905214071273804, 0.8925436735153198, 0.8980107307434082, 0.9020283222198486, 0.903080940246582, 0.9075513482093811, 0.9122772812843323, 0.9233629703521729], [0.8528010249137878, 0.8349243998527527, 0.8417728543281555, 0.8459489941596985, 0.8474395275115967, 0.8527711033821106, 0.8550228476524353, 0.8551352024078369, 0.8628280162811279, 0.8685201406478882], [0.790381669998169, 0.7755953669548035, 0.7828577160835266, 0.7843318581581116, 0.7894676923751831, 0.7922325134277344, 0.7960575819015503, 0.7988077402114868, 0.8044923543930054, 0.8114556670188904], [0.724743664264679, 0.7076823115348816, 0.7139856219291687, 0.7159469723701477, 0.7205724716186523, 0.7192521691322327, 0.7251080274581909, 0.7285559177398682, 0.7317177653312683, 0.7370054721832275], [0.6485754251480103, 0.6349140405654907, 0.6392428278923035, 0.6416323184967041, 0.6469677090644836, 0.6481139659881592, 0.6520275473594666, 0.655646562576294, 0.6555234789848328, 0.6632044315338135], [0.56720370054245, 0.5524382591247559, 0.5575228929519653, 0.5607216358184814, 0.5645109415054321, 0.5676533579826355, 0.5718747973442078, 0.573824942111969, 0.5765730142593384, 0.5843124985694885], [0.47890758514404297, 0.45818600058555603, 0.4660146236419678, 0.46986818313598633, 0.47535616159439087, 0.4780575633049011, 0.47980570793151855, 0.4827542006969452, 0.4910772442817688, 0.4962797462940216], [0.38198545575141907, 0.36187684535980225, 0.3678843677043915, 0.3741317391395569, 0.3784485459327698, 0.3821779787540436, 0.3862653374671936, 0.3893073499202728, 0.3954896926879883, 0.40230488777160645], [0.2821505069732666, 0.260724812746048, 0.2694318890571594, 0.27302202582359314, 0.2801050841808319, 0.28050696849823, 0.28485870361328125, 0.2886196970939636, 0.2955471873283386, 0.3022942841053009], [0.18920135498046875, 0.1696574091911316, 0.17592459917068481, 0.1796511858701706, 0.1829116940498352, 0.18773655593395233, 0.18904848396778107, 0.19404205679893494, 0.19966016709804535, 0.20510800182819366], [0.08537191897630692, 0.06500452756881714, 0.07214878499507904, 0.0779741182923317, 0.08384032547473907, 0.08258562535047531, 0.08900243043899536, 0.0912896916270256, 0.09734850376844406, 0.10582730919122696], [-0.008927542716264725, -0.03169608861207962, -0.026921425014734268, -0.020307956263422966, -0.01865774393081665, -0.014916406013071537, -0.007908004336059093, -0.007292335387319326, -0.0012658449122682214, 0.006769611034542322], [-0.1021464541554451, -0.13358615338802338, -0.1196657344698906, -0.11891603469848633, -0.11398158967494965, -0.11017759144306183, -0.10694104433059692, -0.10096076875925064, -0.09308765083551407, -0.08767373114824295], [-0.20491404831409454, -0.2295226752758026, -0.22192737460136414, -0.21830399334430695, -0.21468117833137512, -0.2093811184167862, -0.20468245446681976, -0.20168665051460266, -0.19475045800209045, -0.1839389204978943], [-0.3009810149669647, -0.3238844871520996, -0.3181547522544861, -0.3144524097442627, -0.30870363116264343, -0.3068276643753052, -0.3000238835811615, -0.29387569427490234, -0.2894080579280853, -0.2783591151237488], [-0.3947799503803253, -0.4199380576610565, -0.4131315052509308, -0.40587398409843445, -0.4054425060749054, -0.3978023827075958, -0.39473477005958557, -0.3918767273426056, -0.3843853771686554, -0.3761557936668396], [-0.48819902539253235, -0.5093131065368652, -0.503764808177948, -0.4980688691139221, -0.4952601194381714, -0.4919091761112213, -0.4898501932621002, -0.4850759208202362, -0.47758588194847107, -0.4736252725124359], [-0.5671283006668091, -0.5887041687965393, -0.5833612084388733, -0.5827633142471313, -0.576621413230896, -0.5739080905914307, -0.5712020993232727, -0.5689951181411743, -0.563780665397644, -0.5551556348800659], [-0.6520344018936157, -0.6719245910644531, -0.6639873385429382, -0.6600809097290039, -0.6600227952003479, -0.6563572883605957, -0.6521305441856384, -0.6477779746055603, -0.6427052617073059, -0.6387820839881897], [-0.7237132787704468, -0.7483949661254883, -0.7396568059921265, -0.7345535159111023, -0.7312678694725037, -0.7275499105453491, -0.7244263291358948, -0.7214266061782837, -0.7143883109092712, -0.7075154185295105], [-0.7849451899528503, -0.8146324753761292, -0.8087254762649536, -0.802349865436554, -0.7994072437286377, -0.7953293919563293, -0.7891653180122375, -0.7885796427726746, -0.7832958102226257, -0.7703980803489685], [-0.8413645029067993, -0.861142098903656, -0.8558991551399231, -0.8533364534378052, -0.8489598035812378, -0.8428085446357727, -0.8404024839401245, -0.8383086323738098, -0.8330597281455994, -0.8225620985031128], [-0.888508677482605, -0.9102490544319153, -0.9035449028015137, -0.901478111743927, -0.8975810408592224, -0.8936829566955566, -0.8896567821502686, -0.8850703239440918, -0.879573404788971, -0.8715247511863708], [-0.9320813417434692, -0.9547977447509766, -0.9460425972938538, -0.9418695569038391, -0.9387328624725342, -0.935788094997406, -0.9309126734733582, -0.9260662794113159, -0.9249693155288696, -0.9152896404266357], [-0.9732257127761841, -0.9865279793739319, -0.9856392741203308, -0.9826255440711975, -0.9768402576446533, -0.9745588898658752, -0.9682350754737854, -0.967155396938324, -0.9650529026985168, -0.9570024609565735], [-0.9942431449890137, -1.0138866901397705, -1.0078060626983643, -1.0028517246246338, -0.999953031539917, -0.9978660941123962, -0.9958776235580444, -0.9918588399887085, -0.989112913608551, -0.982062578201294], [-1.0040332078933716, -1.026585340499878, -1.0202240943908691, -1.0134059190750122, -1.0100061893463135, -1.00653874874115, -1.0036476850509644, -1.0003668069839478, -0.9955505728721619, -0.9885785579681396], [-1.0028421878814697, -1.025280475616455, -1.016960859298706, -1.0127606391906738, -1.013124704360962, -1.0083335638046265, -1.0022227764129639, -1.0010125637054443, -0.9944140315055847, -0.9864389300346375], [-0.9905840158462524, -1.0176876783370972, -1.0080453157424927, -1.0050214529037476, -1.0037440061569214, -0.9996511936187744, -0.9935234785079956, -0.9879372119903564, -0.9840264916419983, -0.9751519560813904], [-0.9733614921569824, -0.9927958250045776, -0.9878796339035034, -0.9819475412368774, -0.9795249700546265, -0.9749004244804382, -0.9691469669342041, -0.9704067707061768, -0.9668818116188049, -0.953141450881958], [-0.9461737871170044, -0.9743313193321228, -0.9649204611778259, -0.9582971334457397, -0.9507491588592529, -0.9474185705184937, -0.9426168203353882, -0.9385859966278076, -0.9346424341201782, -0.9265201091766357], [-0.911666989326477, -0.9330295920372009, -0.9246693253517151, -0.9184754490852356, -0.9161911010742188, -0.9101365208625793, -0.9083250164985657, -0.9018795490264893, -0.8950839042663574, -0.8861836791038513], [-0.8579093217849731, -0.8885121941566467, -0.88019198179245, -0.8746376037597656, -0.8691682815551758, -0.8656967282295227, -0.8595897555351257, -0.8564447164535522, -0.8516586422920227, -0.8395172953605652], [-0.8020860552787781, -0.8280230760574341, -0.8207157850265503, -0.8144906163215637, -0.8102285265922546, -0.808198094367981, -0.8020915985107422, -0.7994787096977234, -0.7922943234443665, -0.7812896370887756], [-0.7366887927055359, -0.7657301425933838, -0.7547600865364075, -0.7489721179008484, -0.7448841333389282, -0.7419036626815796, -0.7361927628517151, -0.7329518795013428, -0.7229945659637451, -0.7140568494796753], [-0.6639584898948669, -0.693800151348114, -0.6870642304420471, -0.6809496879577637, -0.6756119132041931, -0.6689797043800354, -0.6644242405891418, -0.6595571637153625, -0.6521062850952148, -0.6405205726623535], [-0.5763968825340271, -0.6107290983200073, -0.6047349572181702, -0.5969366431236267, -0.5941891670227051, -0.5886331796646118, -0.583246111869812, -0.5755849480628967, -0.5698058605194092, -0.5572903156280518], [-0.49701184034347534, -0.5254330635070801, -0.5184771418571472, -0.5115783214569092, -0.5091226696968079, -0.5009027719497681, -0.49614205956459045, -0.4903213679790497, -0.4842773973941803, -0.4707346260547638], [-0.40419816970825195, -0.432358056306839, -0.42276254296302795, -0.422064870595932, -0.41747233271598816, -0.41167736053466797, -0.40713751316070557, -0.4040994644165039, -0.39465513825416565, -0.381175696849823], [-0.3018384277820587, -0.33095595240592957, -0.32637977600097656, -0.3199681341648102, -0.31572532653808594, -0.31310388445854187, -0.3100747764110565, -0.30414870381355286, -0.29598549008369446, -0.2861238718032837], [-0.20715512335300446, -0.23247461020946503, -0.22759105265140533, -0.22676725685596466, -0.21934902667999268, -0.21820944547653198, -0.21245862543582916, -0.2100982815027237, -0.2010309398174286, -0.19012179970741272], [-0.10307042300701141, -0.1302114874124527, -0.12532255053520203, -0.122466541826725, -0.11573996394872665, -0.111935555934906, -0.11149246245622635, -0.10430653393268585, -0.10106298327445984, -0.08751319348812103], [-0.00524465087801218, -0.029775353148579597, -0.0235324427485466, -0.02030823566019535, -0.017962809652090073, -0.01195107027888298, -0.009191085584461689, -0.002590260235592723, 0.0025158626958727837, 0.014693150296807289], [0.09973104298114777, 0.0707884430885315, 0.07547970861196518, 0.08021806180477142, 0.08504106849431992, 0.08572056144475937, 0.093216672539711, 0.0966126099228859, 0.10174613445997238, 0.11546499282121658], [0.18970389664173126, 0.16888810694217682, 0.17593668401241302, 0.17918717861175537, 0.18117523193359375, 0.18594428896903992, 0.19194677472114563, 0.19549381732940674, 0.20223115384578705, 0.21250754594802856], [0.28932657837867737, 0.2707892060279846, 0.27685782313346863, 0.27785253524780273, 0.2801453769207001, 0.2878473401069641, 0.28861328959465027, 0.291515052318573, 0.2975541651248932, 0.3069459795951843], [0.3874680995941162, 0.36550405621528625, 0.372528612613678, 0.37744662165641785, 0.3796074390411377, 0.3806905448436737, 0.39003488421440125, 0.3896164298057556, 0.393322616815567, 0.40678051114082336], [0.47816500067710876, 0.45657655596733093, 0.4628300964832306, 0.4668646454811096, 0.4714809060096741, 0.4773944318294525, 0.4768081605434418, 0.48558303713798523, 0.492159366607666, 0.5017699599266052], [0.5636317729949951, 0.5374100804328918, 0.5456149578094482, 0.5501967072486877, 0.5530795454978943, 0.5581281185150146, 0.5638718605041504, 0.565685510635376, 0.5722576975822449, 0.5812312364578247], [0.6424326300621033, 0.6200396418571472, 0.6256226301193237, 0.6278499364852905, 0.6350411176681519, 0.637018084526062, 0.6424634456634521, 0.6468324661254883, 0.6515606641769409, 0.6662984490394592], [0.7135756611824036, 0.6960691213607788, 0.7032281160354614, 0.7071578502655029, 0.7095880508422852, 0.7129719257354736, 0.712979257106781, 0.7199151515960693, 0.7259194254875183, 0.7354905009269714], [0.7830427885055542, 0.7598816156387329, 0.7708079218864441, 0.7744627594947815, 0.774321973323822, 0.7823538184165955, 0.7859284281730652, 0.7887043952941895, 0.7933050394058228, 0.8008905649185181], [0.8411860466003418, 0.8264003396034241, 0.8325443863868713, 0.8347621560096741, 0.8358808755874634, 0.8431210517883301, 0.8435733318328857, 0.845196008682251, 0.8550492525100708, 0.8610464334487915], [0.8932070136070251, 0.8781780004501343, 0.8851913809776306, 0.8867211937904358, 0.8895310163497925, 0.8936633467674255, 0.8979848623275757, 0.9007974863052368, 0.9072549343109131, 0.9148966073989868], [0.9391488432884216, 0.9154039621353149, 0.922663152217865, 0.9279353618621826, 0.9332857131958008, 0.9357128739356995, 0.9405708909034729, 0.9452442526817322, 0.9500864148139954, 0.9634901881217957], [0.9717853665351868, 0.9466623067855835, 0.9533323645591736, 0.9594293832778931, 0.9621840715408325, 0.9711698293685913, 0.9713294506072998, 0.9777826070785522, 0.9827188849449158, 0.9982373714447021], [0.9958571195602417, 0.9657987356185913, 0.9761071801185608, 0.9816049933433533, 0.985993504524231, 0.9912031888961792, 0.9949365854263306, 1.0034788846969604, 1.0107460021972656, 1.0283348560333252], [1.0132368803024292, 0.985660195350647, 0.9968224167823792, 1.000128149986267, 1.0082833766937256, 1.0127933025360107, 1.0207185745239258, 1.0210939645767212, 1.029529333114624, 1.0445599555969238], [1.020599126815796, 0.9879456162452698, 0.9998126029968262, 1.0055688619613647, 1.012316346168518, 1.0187803506851196, 1.0215214490890503, 1.0288527011871338, 1.0401352643966675, 1.0508430004119873], [1.0103111267089844, 0.9838654398918152, 0.9936470985412598, 1.0015760660171509, 1.0051064491271973, 1.0096646547317505, 1.0147043466567993, 1.020857810974121, 1.0311402082443237, 1.0479722023010254], [0.998502790927887, 0.9629355072975159, 0.9733726382255554, 0.9798374772071838, 0.9861059784889221, 0.9959586262702942, 0.9998266696929932, 1.004170298576355, 1.0159993171691895, 1.0313628911972046], [0.9613048434257507, 0.9333656430244446, 0.9436357617378235, 0.9484175443649292, 0.9554433822631836, 0.9601373672485352, 0.96340012550354, 0.9721359014511108, 0.9830024838447571, 1.0016738176345825], [0.9277815222740173, 0.8945762515068054, 0.9020222425460815, 0.9109387397766113, 0.9147462248802185, 0.9226893186569214, 0.9282004237174988, 0.9337375164031982, 0.942834734916687, 0.9630703330039978], [0.8890515565872192, 0.8499776124954224, 0.8612425327301025, 0.8650891780853271, 0.8710736632347107, 0.8802896738052368, 0.8871328830718994, 0.8934153318405151, 0.9040877819061279, 0.9199406504631042], [0.8333668112754822, 0.8008101582527161, 0.8089900612831116, 0.8173605799674988, 0.8236958980560303, 0.8266205191612244, 0.8373203277587891, 0.8381842970848083, 0.8487160205841064, 0.870094895362854], [0.7776334881782532, 0.739902138710022, 0.7494836449623108, 0.7565405368804932, 0.7601244449615479, 0.7694203853607178, 0.7761996388435364, 0.7813180088996887, 0.7939075827598572, 0.8118483424186707], [0.7056025862693787, 0.6677505373954773, 0.6777242422103882, 0.6825472116470337, 0.6893308162689209, 0.7005825042724609, 0.7063267230987549, 0.7118043303489685, 0.7239195108413696, 0.7396066188812256], [0.6261623501777649, 0.5828713178634644, 0.5946119427680969, 0.6035665273666382, 0.611615777015686, 0.6195927262306213, 0.6271933913230896, 0.6354665160179138, 0.6455816030502319, 0.6667830348014832], [0.5375349521636963, 0.49314576387405396, 0.5094773173332214, 0.5161195993423462, 0.5219868421554565, 0.5320071578025818, 0.5379724502563477, 0.5480039715766907, 0.5572195649147034, 0.5827444195747375], [0.45057013630867004, 0.40677955746650696, 0.4219001531600952, 0.4290785789489746, 0.4381411671638489, 0.4434712827205658, 0.4503234326839447, 0.46105679869651794, 0.4728434085845947, 0.49457287788391113], [0.3583762049674988, 0.31290873885154724, 0.32751980423927307, 0.33701837062835693, 0.3418938219547272, 0.3538701832294464, 0.35926371812820435, 0.3706875741481781, 0.37945371866226196, 0.40319696068763733], [0.2619885802268982, 0.2162199169397354, 0.22869178652763367, 0.23673267662525177, 0.2462412267923355, 0.25422564148902893, 0.2609183192253113, 0.2685209810733795, 0.27915555238723755, 0.2990018427371979], [0.1573731154203415, 0.1160128191113472, 0.13211777806282043, 0.13677261769771576, 0.14287637174129486, 0.15307483077049255, 0.160519078373909, 0.16622960567474365, 0.1773427128791809, 0.19879594445228577], [0.05235598608851433, 0.011013228446245193, 0.025793366134166718, 0.031512897461652756, 0.040505994111299515, 0.04571270942687988, 0.05241204425692558, 0.062305551022291183, 0.07191748917102814, 0.09239400178194046], [-0.04753296077251434, -0.09123340994119644, -0.08021174371242523, -0.06994090229272842, -0.06151566654443741, -0.05629899725317955, -0.04844154790043831, -0.03888528794050217, -0.030444897711277008, -0.010545485652983189], [-0.1520068645477295, -0.198968306183815, -0.18288281559944153, -0.17397208511829376, -0.16858485341072083, -0.1601969450712204, -0.15184350311756134, -0.14517070353031158, -0.13396140933036804, -0.11620895564556122], [-0.2501671314239502, -0.2935773730278015, -0.28191810846328735, -0.2729928195476532, -0.2664158344268799, -0.26099807024002075, -0.25183171033859253, -0.24918177723884583, -0.23384177684783936, -0.21391090750694275], [-0.34496721625328064, -0.38924354314804077, -0.3754359781742096, -0.36826637387275696, -0.3588046431541443, -0.3563089370727539, -0.34691739082336426, -0.33896002173423767, -0.3240348994731903, -0.3073212206363678], [-0.43800488114356995, -0.4883645474910736, -0.47226473689079285, -0.46466293931007385, -0.45788314938545227, -0.4491879642009735, -0.44004151225090027, -0.4329036772251129, -0.42155733704566956, -0.3969162404537201], [-0.5267589688301086, -0.5767347812652588, -0.5597904324531555, -0.5565723180770874, -0.5432851910591125, -0.5364742875099182, -0.5323851704597473, -0.5225388407707214, -0.5087743997573853, -0.487699031829834], [-0.609660804271698, -0.6586393713951111, -0.6457995772361755, -0.6358709335327148, -0.6290690302848816, -0.6211658716201782, -0.6133109927177429, -0.6052488684654236, -0.5931163430213928, -0.568920910358429], [-0.6808998584747314, -0.7324433922767639, -0.7183749675750732, -0.7101686000823975, -0.704512357711792, -0.695906937122345, -0.686689555644989, -0.6780508756637573, -0.6661470532417297, -0.6428034901618958], [-0.7561715245246887, -0.8092892169952393, -0.7960225939750671, -0.7849832773208618, -0.7780853509902954, -0.770775556564331, -0.7628545761108398, -0.7516320943832397, -0.7402421832084656, -0.7133764028549194], [-0.823006808757782, -0.8788955807685852, -0.8651255965232849, -0.8546963930130005, -0.8470472693443298, -0.8365318179130554, -0.8288320899009705, -0.8201844096183777, -0.8075999021530151, -0.7794746160507202], [-0.871015727519989, -0.9257641434669495, -0.9092665910720825, -0.9026606678962708, -0.8928801417350769, -0.8838359117507935, -0.8746796250343323, -0.8660393953323364, -0.8526513576507568, -0.8274926543235779], [-0.9132642149925232, -0.9672466516494751, -0.9545405507087708, -0.9452099204063416, -0.9343951344490051, -0.9270375370979309, -0.9181342720985413, -0.9096051454544067, -0.8950339555740356, -0.8678140044212341], [-0.9471878409385681, -0.9993525147438049, -0.9868711233139038, -0.9771628379821777, -0.9690840244293213, -0.9589864015579224, -0.9528095722198486, -0.9450174570083618, -0.928849458694458, -0.9052488207817078], [-0.9722622632980347, -1.0260173082351685, -1.0096479654312134, -1.0035113096237183, -0.9921924471855164, -0.9868318438529968, -0.9780248403549194, -0.9715474843978882, -0.9581559896469116, -0.9307646155357361], [-0.993030309677124, -1.0445995330810547, -1.02838933467865, -1.0199710130691528, -1.0161741971969604, -1.0065362453460693, -0.9999432563781738, -0.9899370670318604, -0.9769928455352783, -0.9522680640220642], [-0.9983770251274109, -1.0482085943222046, -1.0351521968841553, -1.0253326892852783, -1.0201287269592285, -1.0117563009262085, -1.0037412643432617, -0.9932277202606201, -0.9841731786727905, -0.9561595320701599], [-0.9951111674308777, -1.0487850904464722, -1.034677505493164, -1.0276175737380981, -1.0170265436172485, -1.0083779096603394, -1.0026178359985352, -0.9953686594963074, -0.9783610105514526, -0.9498707056045532], [-0.9751679301261902, -1.0336204767227173, -1.0197542905807495, -1.0091567039489746, -1.001073956489563, -0.9936821460723877, -0.9833110570907593, -0.9721393585205078, -0.9576309323310852, -0.9286714196205139], [-0.9523268938064575, -1.0063425302505493, -0.9937847852706909, -0.9878801107406616, -0.9742593765258789, -0.9698545336723328, -0.9595088362693787, -0.9507485628128052, -0.9364583492279053, -0.9088870286941528], [-0.9239387512207031, -0.9685194492340088, -0.9590251445770264, -0.9478150606155396, -0.9413342475891113, -0.9337328672409058, -0.9264644384384155, -0.9164618253707886, -0.9029384255409241, -0.8795707821846008], [-0.8778331875801086, -0.9250085353851318, -0.9099541902542114, -0.9057812094688416, -0.8977198600769043, -0.8898342847824097, -0.8809473514556885, -0.873111367225647, -0.8629295825958252, -0.8423212170600891], [-0.8221471309661865, -0.8664389252662659, -0.8576057553291321, -0.8451348543167114, -0.8405380249023438, -0.8332356214523315, -0.8303651213645935, -0.8236575126647949, -0.8091045618057251, -0.7895864844322205], [-0.7614054083824158, -0.8098872900009155, -0.7933744192123413, -0.7851796746253967, -0.7777791619300842, -0.7708438038825989, -0.766051173210144, -0.7629365921020508, -0.7500770688056946, -0.7272577285766602], [-0.697418212890625, -0.7414866089820862, -0.7274132966995239, -0.7212051749229431, -0.7142653465270996, -0.7066746950149536, -0.7021088004112244, -0.6946803331375122, -0.6819791793823242, -0.6622287631034851], [-0.6242297887802124, -0.6730546951293945, -0.6566762924194336, -0.6507211327552795, -0.6421511769294739, -0.6369198560714722, -0.6298829317092896, -0.6232910752296448, -0.6080250144004822, -0.5864733457565308], [-0.542637825012207, -0.589080810546875, -0.5737441778182983, -0.5662021040916443, -0.5594803690910339, -0.5504714250564575, -0.544367253780365, -0.5375046133995056, -0.5248382091522217, -0.5016492009162903], [-0.45279932022094727, -0.4958130121231079, -0.48169779777526855, -0.47621646523475647, -0.46377822756767273, -0.46009841561317444, -0.45344018936157227, -0.4449649453163147, -0.43129855394363403, -0.4099624454975128], [-0.3571987450122833, -0.4059199392795563, -0.3879925608634949, -0.37824746966362, -0.3694395124912262, -0.36348822712898254, -0.35529008507728577, -0.3487616181373596, -0.3358745574951172, -0.3135506212711334], [-0.25580883026123047, -0.3110722005367279, -0.2947986423969269, -0.2845902442932129, -0.2744712829589844, -0.2679364085197449, -0.25808122754096985, -0.24985241889953613, -0.2386309951543808, -0.21414321660995483], [-0.16068685054779053, -0.21623408794403076, -0.20190174877643585, -0.19063019752502441, -0.17943954467773438, -0.17309680581092834, -0.16632722318172455, -0.15517860651016235, -0.14107121527194977, -0.11445586383342743], [-0.06773640960454941, -0.11528147757053375, -0.10093781352043152, -0.09166233986616135, -0.08081700652837753, -0.07432304322719574, -0.06733929365873337, -0.058741334825754166, -0.04549766704440117, -0.020828846842050552], [0.03952750936150551, -0.009567052125930786, 0.005510726012289524, 0.01418079063296318, 0.021669358015060425, 0.03333938866853714, 0.03811836987733841, 0.04763166978955269, 0.058700934052467346, 0.08403269946575165], [0.1372349113225937, 0.09264520555734634, 0.10959240794181824, 0.12000682950019836, 0.1277874857187271, 0.13373954594135284, 0.1422378569841385, 0.14954987168312073, 0.1639718860387802, 0.18721675872802734], [0.23905900120735168, 0.19130511581897736, 0.20612072944641113, 0.21948616206645966, 0.2263527661561966, 0.23184418678283691, 0.24179932475090027, 0.247712180018425, 0.2628999948501587, 0.28932955861091614], [0.3390362858772278, 0.2874429523944855, 0.30544528365135193, 0.3146110475063324, 0.3232857882976532, 0.32886409759521484, 0.3394800126552582, 0.34779006242752075, 0.36350908875465393, 0.390529066324234], [0.4334881007671356, 0.3823384940624237, 0.40030720829963684, 0.40876081585884094, 0.41757914423942566, 0.4266352951526642, 0.43297773599624634, 0.4408009648323059, 0.460688978433609, 0.4854121208190918], [0.5224712491035461, 0.4688970148563385, 0.4861147105693817, 0.49578195810317993, 0.505956768989563, 0.5128366351127625, 0.5208608508110046, 0.5343668460845947, 0.5455158948898315, 0.575466513633728], [0.6034648418426514, 0.5519389510154724, 0.5672262907028198, 0.5787611603736877, 0.5881013870239258, 0.5973736643791199, 0.6087948083877563, 0.6147425770759583, 0.6336119174957275, 0.662283182144165], [0.6778661608695984, 0.6280238032341003, 0.6424969434738159, 0.6544819474220276, 0.6666222214698792, 0.6744862198829651, 0.6815311312675476, 0.6946320533752441, 0.7081436514854431, 0.7367303967475891], [0.7549285292625427, 0.7024083137512207, 0.720765233039856, 0.7306362986564636, 0.7397187948226929, 0.7511122822761536, 0.7611849308013916, 0.7713038921356201, 0.7847211360931396, 0.8165533542633057], [0.8238229155540466, 0.7694540023803711, 0.7863326668739319, 0.7988730072975159, 0.8090898990631104, 0.8177449703216553, 0.8286854028701782, 0.8390372395515442, 0.8537949323654175, 0.8855072855949402], [0.8786442875862122, 0.8187488317489624, 0.8424710631370544, 0.8540303707122803, 0.862227201461792, 0.8740304112434387, 0.8869699835777283, 0.8971858620643616, 0.9132164716720581, 0.9438221454620361], [0.9279500842094421, 0.869321346282959, 0.893325924873352, 0.9034476280212402, 0.9124012589454651, 0.9242603182792664, 0.9310927391052246, 0.942514181137085, 0.9594241976737976, 0.9884973168373108], [0.968464195728302, 0.9110279083251953, 0.930510401725769, 0.9401227831840515, 0.9511589407920837, 0.9614608287811279, 0.9719671010971069, 0.9819871783256531, 0.99837327003479, 1.0255497694015503], [0.9910354018211365, 0.9323559403419495, 0.955851674079895, 0.9685541987419128, 0.977807879447937, 0.9899217486381531, 0.9957759976387024, 1.0097142457962036, 1.0178945064544678, 1.046384572982788], [1.0036978721618652, 0.9502938985824585, 0.9729858040809631, 0.9838401079177856, 0.9957118034362793, 1.0052214860916138, 1.0132049322128296, 1.0219063758850098, 1.0376771688461304, 1.0643396377563477]]}]}\n"
          ]
        }
      ]
    },
    {
      "cell_type": "code",
      "source": [
        "%%writefile $PATH_TO_THE_SOURCE_DIR/main.py\n",
        "import os\n",
        "\n",
        "import json\n",
        "import flask\n",
        "\n",
        "from predictor import TimesFMPredictor\n",
        "\n",
        "# Creation of the Flask app\n",
        "app = flask.Flask(__name__)\n",
        "\n",
        "# define predictor and Load model checkpoint\n",
        "predictor = TimesFMPredictor()\n",
        "\n",
        "predictor.load(os.environ['AIP_STORAGE_URI'])\n",
        "\n",
        "@app.route(os.environ['AIP_HEALTH_ROUTE'], methods=['GET'])\n",
        "def health() -> flask.Response:\n",
        "    return flask.Response(status=200)\n",
        "\n",
        "@app.route(os.environ['AIP_PREDICT_ROUTE'], methods=['GET', 'POST'])\n",
        "def predict() -> flask.Response:\n",
        "    try:\n",
        "        body = flask.request.get_json(silent=True, force=True)\n",
        "        preprocessed_inputs = predictor.preprocess(body)\n",
        "        outputs = predictor.predict(preprocessed_inputs)\n",
        "        postprocessed_outputs = predictor.postprocess(outputs)\n",
        "        return flask.Response(json.dumps(postprocessed_outputs), status=200, mimetype='application/json')\n",
        "\n",
        "        except Exception as e:  # pylint: disable=broad-except-caught\n",
        "            return flask.Response(json.dumps({'error': str(e)}), status=500, mimetype='application/json')\n",
        "\n",
        "        if __name__ == '__main__':\n",
        "            app.run(host='0.0.0.0', port=os.environ['AIP_HTTP_PORT'])"
      ],
      "metadata": {
        "colab": {
          "base_uri": "https://localhost:8080/"
        },
        "id": "tjR2KiVjkzcK",
        "outputId": "f15c4bbc-9fa6-41c5-bdc3-3fbefa29a95d"
      },
      "execution_count": 25,
      "outputs": [
        {
          "output_type": "stream",
          "name": "stdout",
          "text": [
            "Writing src/timesfm_serving/main.py\n"
          ]
        }
      ]
    },
    {
      "cell_type": "code",
      "source": [
        "#@title Create Requirements.txt file in timesfm_serving\n",
        "%%writefile src/timesfm_serving/requirements.txt\n",
        "einshape\n",
        "paxml\n",
        "praxis\n",
        "jax\n",
        "numpy\n",
        "pandas\n",
        "utilsforecast\n",
        "fastapi\n",
        "docker"
      ],
      "metadata": {
        "colab": {
          "base_uri": "https://localhost:8080/"
        },
        "id": "nRwGHWS-Gi4b",
        "outputId": "8470c2bf-5137-4838-f9a7-dc7dd017ca8a"
      },
      "execution_count": 42,
      "outputs": [
        {
          "output_type": "stream",
          "name": "stdout",
          "text": [
            "Writing src/timesfm_serving/requirements.txt\n"
          ]
        }
      ]
    },
    {
      "cell_type": "code",
      "source": [
        "#@title Step 5: Build a Custom Container\n",
        "%%writefile src/Dockerfile\n",
        "FROM tiangolo/uvicorn-gunicorn-fastapi:python3.10\n",
        "\n",
        "# install dependencies\n",
        "COPY timesfm_serving/requirements.txt /app/\n",
        "\n",
        "RUN pip install -r /app/requirements.txt\n",
        "\n",
        "# copy app files\n",
        "COPY timesfm_serving/ /app\n",
        "\n",
        "# download timesfm inference modules\n",
        "RUN git clone https://github.com/google-research/timesfm.git\n",
        "\n",
        "RUN rm timesfm/__init__.py\n",
        "RUN sed -i 's#^from src#from .#g' timesfm/src/timesfm.py\n",
        "\n",
        "# run inference\n",
        "CMD [\"python\", \"main.py\"]\n"
      ],
      "metadata": {
        "colab": {
          "base_uri": "https://localhost:8080/"
        },
        "id": "ttGsDnm_sMIu",
        "outputId": "b912a011-dbe8-432a-ecfc-24346401e690"
      },
      "execution_count": 45,
      "outputs": [
        {
          "output_type": "stream",
          "name": "stdout",
          "text": [
            "Overwriting src/Dockerfile\n"
          ]
        }
      ]
    },
    {
      "cell_type": "code",
      "source": [
        "!echo $TIMESFM_IMAGE_URI"
      ],
      "metadata": {
        "colab": {
          "base_uri": "https://localhost:8080/"
        },
        "id": "bcfDV86hGEAe",
        "outputId": "cc154be1-5d90-4c6b-d40c-187b66cb0fde"
      },
      "execution_count": 38,
      "outputs": [
        {
          "output_type": "stream",
          "name": "stdout",
          "text": [
            "us-central1-docker.pkg.dev/argolis-project-340214/googleio24/timesfm-001-200m\n"
          ]
        }
      ]
    },
    {
      "cell_type": "code",
      "source": [
        "%cd src\n",
        "!gcloud builds submit --tag=$TIMESFM_IMAGE_URI\n",
        "%cd .."
      ],
      "metadata": {
        "colab": {
          "base_uri": "https://localhost:8080/"
        },
        "id": "A-Q1drSsDj-n",
        "outputId": "1eee7e16-9727-4468-ae93-5f7e0e701b74"
      },
      "execution_count": 46,
      "outputs": [
        {
          "output_type": "stream",
          "name": "stdout",
          "text": [
            "/content/src\n",
            "Creating temporary archive of 7 file(s) totalling 16.4 KiB before compression.\n",
            "Uploading tarball of [.] to [gs://argolis-project-340214_cloudbuild/source/1716513794.648469-5b9660f810954df8aa352c2e483d6291.tgz]\n",
            "Created [https://cloudbuild.googleapis.com/v1/projects/argolis-project-340214/locations/global/builds/0e3254ec-7ca6-4c6c-9d4b-e6eb1727cb63].\n",
            "Logs are available at [ https://console.cloud.google.com/cloud-build/builds/0e3254ec-7ca6-4c6c-9d4b-e6eb1727cb63?project=742458474659 ].\n",
            "Waiting for build to complete. Polling interval: 1 second(s).\n",
            " REMOTE BUILD OUTPUT\n",
            "starting build \"0e3254ec-7ca6-4c6c-9d4b-e6eb1727cb63\"\n",
            "\n",
            "FETCHSOURCE\n",
            "Fetching storage object: gs://argolis-project-340214_cloudbuild/source/1716513794.648469-5b9660f810954df8aa352c2e483d6291.tgz#1716513795062969\n",
            "Copying gs://argolis-project-340214_cloudbuild/source/1716513794.648469-5b9660f810954df8aa352c2e483d6291.tgz#1716513795062969...\n",
            "/ [1 files][  6.0 KiB/  6.0 KiB]                                                \n",
            "Operation completed over 1 objects/6.0 KiB.\n",
            "BUILD\n",
            "Already have image (with digest): gcr.io/cloud-builders/docker\n",
            "Sending build context to Docker daemon  24.06kB\n",
            "Step 1/8 : FROM tiangolo/uvicorn-gunicorn-fastapi:python3.10\n",
            "python3.10: Pulling from tiangolo/uvicorn-gunicorn-fastapi\n",
            "c6cf28de8a06: Already exists\n",
            "891494355808: Already exists\n",
            "6582c62583ef: Already exists\n",
            "bf2c3e352f3d: Already exists\n",
            "a99509a32390: Already exists\n",
            "946285778af4: Pulling fs layer\n",
            "b2ab5d29389b: Pulling fs layer\n",
            "d76e704b1be9: Pulling fs layer\n",
            "32b14c58fcfc: Pulling fs layer\n",
            "49c9ff2efd6b: Pulling fs layer\n",
            "5119e73f1536: Pulling fs layer\n",
            "b82c8e4a85c6: Pulling fs layer\n",
            "30c0e033ca4b: Pulling fs layer\n",
            "88ccd20b36d3: Pulling fs layer\n",
            "abf00b58c1b0: Pulling fs layer\n",
            "8e6b754449a4: Pulling fs layer\n",
            "4f4fb700ef54: Pulling fs layer\n",
            "12eeb765d0fa: Pulling fs layer\n",
            "9bab74df5c6b: Pulling fs layer\n",
            "e64e5e7eb223: Pulling fs layer\n",
            "32b14c58fcfc: Waiting\n",
            "49c9ff2efd6b: Waiting\n",
            "5119e73f1536: Waiting\n",
            "b82c8e4a85c6: Waiting\n",
            "30c0e033ca4b: Waiting\n",
            "88ccd20b36d3: Waiting\n",
            "abf00b58c1b0: Waiting\n",
            "8e6b754449a4: Waiting\n",
            "4f4fb700ef54: Waiting\n",
            "12eeb765d0fa: Waiting\n",
            "9bab74df5c6b: Waiting\n",
            "e64e5e7eb223: Waiting\n",
            "b2ab5d29389b: Verifying Checksum\n",
            "b2ab5d29389b: Download complete\n",
            "d76e704b1be9: Verifying Checksum\n",
            "d76e704b1be9: Download complete\n",
            "946285778af4: Verifying Checksum\n",
            "946285778af4: Download complete\n",
            "32b14c58fcfc: Verifying Checksum\n",
            "32b14c58fcfc: Download complete\n",
            "5119e73f1536: Verifying Checksum\n",
            "5119e73f1536: Download complete\n",
            "49c9ff2efd6b: Verifying Checksum\n",
            "49c9ff2efd6b: Download complete\n",
            "b82c8e4a85c6: Verifying Checksum\n",
            "b82c8e4a85c6: Download complete\n",
            "30c0e033ca4b: Verifying Checksum\n",
            "30c0e033ca4b: Download complete\n",
            "946285778af4: Pull complete\n",
            "b2ab5d29389b: Pull complete\n",
            "abf00b58c1b0: Verifying Checksum\n",
            "abf00b58c1b0: Download complete\n",
            "88ccd20b36d3: Verifying Checksum\n",
            "88ccd20b36d3: Download complete\n",
            "8e6b754449a4: Verifying Checksum\n",
            "8e6b754449a4: Download complete\n",
            "d76e704b1be9: Pull complete\n",
            "4f4fb700ef54: Verifying Checksum\n",
            "4f4fb700ef54: Download complete\n",
            "32b14c58fcfc: Pull complete\n",
            "12eeb765d0fa: Verifying Checksum\n",
            "12eeb765d0fa: Download complete\n",
            "e64e5e7eb223: Verifying Checksum\n",
            "e64e5e7eb223: Download complete\n",
            "9bab74df5c6b: Verifying Checksum\n",
            "9bab74df5c6b: Download complete\n",
            "49c9ff2efd6b: Pull complete\n",
            "5119e73f1536: Pull complete\n",
            "b82c8e4a85c6: Pull complete\n",
            "30c0e033ca4b: Pull complete\n",
            "88ccd20b36d3: Pull complete\n",
            "abf00b58c1b0: Pull complete\n",
            "8e6b754449a4: Pull complete\n",
            "4f4fb700ef54: Pull complete\n",
            "12eeb765d0fa: Pull complete\n",
            "9bab74df5c6b: Pull complete\n",
            "e64e5e7eb223: Pull complete\n",
            "Digest: sha256:378a01a6d466a79271aacb5b824f4e6915817698f66f263dc64c9e39f0995972\n",
            "Status: Downloaded newer image for tiangolo/uvicorn-gunicorn-fastapi:python3.10\n",
            " ---> 8483dc505071\n",
            "Step 2/8 : COPY timesfm_serving/requirements.txt /app/\n",
            " ---> 5fe40d2254a0\n",
            "Step 3/8 : RUN pip install -r /app/requirements.txt\n",
            " ---> Running in f67b582310b3\n",
            "Collecting einshape\n",
            "  Downloading einshape-1.0-py3-none-any.whl (21 kB)\n",
            "Collecting paxml\n",
            "  Downloading paxml-1.4.0-py3-none-any.whl (440 kB)\n",
            "     ━━━━━━━━━━━━━━━━━━━━━━━━━━━━━━━━━━━━━━ 440.2/440.2 kB 12.5 MB/s eta 0:00:00\n",
            "Collecting praxis\n",
            "  Downloading praxis-1.4.0-py3-none-any.whl (772 kB)\n",
            "     ━━━━━━━━━━━━━━━━━━━━━━━━━━━━━━━━━━━━━━ 772.5/772.5 kB 31.6 MB/s eta 0:00:00\n",
            "Collecting jax\n",
            "  Downloading jax-0.4.28-py3-none-any.whl (1.9 MB)\n",
            "     ━━━━━━━━━━━━━━━━━━━━━━━━━━━━━━━━━━━━━━━━ 1.9/1.9 MB 49.8 MB/s eta 0:00:00\n",
            "Collecting numpy\n",
            "  Downloading numpy-1.26.4-cp310-cp310-manylinux_2_17_x86_64.manylinux2014_x86_64.whl (18.2 MB)\n",
            "     ━━━━━━━━━━━━━━━━━━━━━━━━━━━━━━━━━━━━━━━━ 18.2/18.2 MB 64.1 MB/s eta 0:00:00\n",
            "Collecting pandas\n",
            "  Downloading pandas-2.2.2-cp310-cp310-manylinux_2_17_x86_64.manylinux2014_x86_64.whl (13.0 MB)\n",
            "     ━━━━━━━━━━━━━━━━━━━━━━━━━━━━━━━━━━━━━━━━ 13.0/13.0 MB 76.8 MB/s eta 0:00:00\n",
            "Collecting utilsforecast\n",
            "  Downloading utilsforecast-0.1.10-py3-none-any.whl (40 kB)\n",
            "     ━━━━━━━━━━━━━━━━━━━━━━━━━━━━━━━━━━━━━━━━ 40.5/40.5 kB 6.4 MB/s eta 0:00:00\n",
            "Requirement already satisfied: fastapi in /usr/local/lib/python3.10/site-packages (from -r /app/requirements.txt (line 8)) (0.88.0)\n",
            "Collecting docker\n",
            "  Downloading docker-7.1.0-py3-none-any.whl (147 kB)\n",
            "     ━━━━━━━━━━━━━━━━━━━━━━━━━━━━━━━━━━━━━━ 147.8/147.8 kB 21.1 MB/s eta 0:00:00\n",
            "Collecting absl-py\n",
            "  Downloading absl_py-2.1.0-py3-none-any.whl (133 kB)\n",
            "     ━━━━━━━━━━━━━━━━━━━━━━━━━━━━━━━━━━━━━━ 133.7/133.7 kB 21.8 MB/s eta 0:00:00\n",
            "Collecting tensorflow-datasets==4.8.3\n",
            "  Downloading tensorflow_datasets-4.8.3-py3-none-any.whl (5.4 MB)\n",
            "     ━━━━━━━━━━━━━━━━━━━━━━━━━━━━━━━━━━━━━━━━ 5.4/5.4 MB 80.9 MB/s eta 0:00:00\n",
            "Collecting lingvo==0.12.7\n",
            "  Downloading lingvo-0.12.7-cp310-cp310-manylinux_2_17_x86_64.manylinux2014_x86_64.whl (18.0 MB)\n",
            "     ━━━━━━━━━━━━━━━━━━━━━━━━━━━━━━━━━━━━━━━━ 18.0/18.0 MB 62.4 MB/s eta 0:00:00\n",
            "Collecting seqio-nightly==0.0.17.dev20231010\n",
            "  Downloading seqio_nightly-0.0.17.dev20231010-py3-none-any.whl (353 kB)\n",
            "     ━━━━━━━━━━━━━━━━━━━━━━━━━━━━━━━━━━━━━━ 353.1/353.1 kB 42.3 MB/s eta 0:00:00\n",
            "Collecting orbax-checkpoint==0.5.9\n",
            "  Downloading orbax_checkpoint-0.5.9-py3-none-any.whl (168 kB)\n",
            "     ━━━━━━━━━━━━━━━━━━━━━━━━━━━━━━━━━━━━━━ 168.0/168.0 kB 24.1 MB/s eta 0:00:00\n",
            "Collecting t5==0.9.4\n",
            "  Downloading t5-0.9.4-py2.py3-none-any.whl (164 kB)\n",
            "     ━━━━━━━━━━━━━━━━━━━━━━━━━━━━━━━━━━━━━━ 164.5/164.5 kB 22.5 MB/s eta 0:00:00\n",
            "Collecting pyglove==0.4.4\n",
            "  Downloading pyglove-0.4.4-py3-none-any.whl (577 kB)\n",
            "     ━━━━━━━━━━━━━━━━━━━━━━━━━━━━━━━━━━━━━━ 577.8/577.8 kB 48.9 MB/s eta 0:00:00\n",
            "Collecting absl-py\n",
            "  Downloading absl_py-1.4.0-py3-none-any.whl (126 kB)\n",
            "     ━━━━━━━━━━━━━━━━━━━━━━━━━━━━━━━━━━━━━━ 126.5/126.5 kB 20.6 MB/s eta 0:00:00\n",
            "Collecting flax==0.8.2\n",
            "  Downloading flax-0.8.2-py3-none-any.whl (686 kB)\n",
            "     ━━━━━━━━━━━━━━━━━━━━━━━━━━━━━━━━━━━━━━ 686.8/686.8 kB 52.9 MB/s eta 0:00:00\n",
            "Collecting graphviz==0.20.1\n",
            "  Downloading graphviz-0.20.1-py3-none-any.whl (47 kB)\n",
            "     ━━━━━━━━━━━━━━━━━━━━━━━━━━━━━━━━━━━━━━━━ 47.0/47.0 kB 6.8 MB/s eta 0:00:00\n",
            "Collecting tensorstore==0.1.55\n",
            "  Downloading tensorstore-0.1.55-cp310-cp310-manylinux_2_17_x86_64.manylinux2014_x86_64.whl (14.3 MB)\n",
            "     ━━━━━━━━━━━━━━━━━━━━━━━━━━━━━━━━━━━━━━━━ 14.3/14.3 MB 72.8 MB/s eta 0:00:00\n",
            "Collecting jax\n",
            "  Downloading jax-0.4.26-py3-none-any.whl (1.9 MB)\n",
            "     ━━━━━━━━━━━━━━━━━━━━━━━━━━━━━━━━━━━━━━━━ 1.9/1.9 MB 72.1 MB/s eta 0:00:00\n",
            "Collecting protobuf==3.19.6\n",
            "  Downloading protobuf-3.19.6-cp310-cp310-manylinux_2_17_x86_64.manylinux2014_x86_64.whl (1.1 MB)\n",
            "     ━━━━━━━━━━━━━━━━━━━━━━━━━━━━━━━━━━━━━━━━ 1.1/1.1 MB 69.3 MB/s eta 0:00:00\n",
            "Collecting tensorflow-text~=2.9.0\n",
            "  Downloading tensorflow_text-2.9.0-cp310-cp310-manylinux_2_17_x86_64.manylinux2014_x86_64.whl (4.6 MB)\n",
            "     ━━━━━━━━━━━━━━━━━━━━━━━━━━━━━━━━━━━━━━━━ 4.6/4.6 MB 76.7 MB/s eta 0:00:00\n",
            "Collecting tfds-nightly==4.8.3.dev202303280045\n",
            "  Downloading tfds_nightly-4.8.3.dev202303280045-py3-none-any.whl (5.4 MB)\n",
            "     ━━━━━━━━━━━━━━━━━━━━━━━━━━━━━━━━━━━━━━━━ 5.4/5.4 MB 80.4 MB/s eta 0:00:00\n",
            "Collecting etils==1.7.0\n",
            "  Downloading etils-1.7.0-py3-none-any.whl (152 kB)\n",
            "     ━━━━━━━━━━━━━━━━━━━━━━━━━━━━━━━━━━━━━━ 152.4/152.4 kB 22.9 MB/s eta 0:00:00\n",
            "Collecting tensorflow-metadata==1.12.0\n",
            "  Downloading tensorflow_metadata-1.12.0-py3-none-any.whl (52 kB)\n",
            "     ━━━━━━━━━━━━━━━━━━━━━━━━━━━━━━━━━━━━━━━━ 52.3/52.3 kB 3.7 MB/s eta 0:00:00\n",
            "Collecting tensorflow~=2.9.2\n",
            "  Downloading tensorflow-2.9.3-cp310-cp310-manylinux_2_17_x86_64.manylinux2014_x86_64.whl (511.8 MB)\n",
            "     ━━━━━━━━━━━━━━━━━━━━━━━━━━━━━━━━━━━━━━━ 511.8/511.8 MB 2.7 MB/s eta 0:00:00\n",
            "Collecting clu==0.0.11\n",
            "  Downloading clu-0.0.11-py3-none-any.whl (101 kB)\n",
            "     ━━━━━━━━━━━━━━━━━━━━━━━━━━━━━━━━━━━━━━ 101.4/101.4 kB 16.1 MB/s eta 0:00:00\n",
            "Collecting sentencepiece==0.1.99\n",
            "  Downloading sentencepiece-0.1.99-cp310-cp310-manylinux_2_17_x86_64.manylinux2014_x86_64.whl (1.3 MB)\n",
            "     ━━━━━━━━━━━━━━━━━━━━━━━━━━━━━━━━━━━━━━━━ 1.3/1.3 MB 73.0 MB/s eta 0:00:00\n",
            "Collecting jaxtyping==0.2.28\n",
            "  Downloading jaxtyping-0.2.28-py3-none-any.whl (40 kB)\n",
            "     ━━━━━━━━━━━━━━━━━━━━━━━━━━━━━━━━━━━━━━━━ 40.7/40.7 kB 6.8 MB/s eta 0:00:00\n",
            "Collecting einops==0.7.0\n",
            "  Downloading einops-0.7.0-py3-none-any.whl (44 kB)\n",
            "     ━━━━━━━━━━━━━━━━━━━━━━━━━━━━━━━━━━━━━━━━ 44.6/44.6 kB 7.6 MB/s eta 0:00:00\n",
            "Collecting opt-einsum==3.3.0\n",
            "  Downloading opt_einsum-3.3.0-py3-none-any.whl (65 kB)\n",
            "     ━━━━━━━━━━━━━━━━━━━━━━━━━━━━━━━━━━━━━━━━ 65.5/65.5 kB 11.5 MB/s eta 0:00:00\n",
            "Collecting chex>=0.1.85\n",
            "  Downloading chex-0.1.86-py3-none-any.whl (98 kB)\n",
            "     ━━━━━━━━━━━━━━━━━━━━━━━━━━━━━━━━━━━━━━━━ 98.2/98.2 kB 15.1 MB/s eta 0:00:00\n",
            "Collecting jax-bitempered-loss==0.0.2\n",
            "  Downloading jax_bitempered_loss-0.0.2-py3-none-any.whl (12 kB)\n",
            "Collecting optax==0.2.2\n",
            "  Downloading optax-0.2.2-py3-none-any.whl (223 kB)\n",
            "     ━━━━━━━━━━━━━━━━━━━━━━━━━━━━━━━━━━━━━━ 223.7/223.7 kB 31.0 MB/s eta 0:00:00\n",
            "Collecting typeguard==2.13.3\n",
            "  Downloading typeguard-2.13.3-py3-none-any.whl (17 kB)\n",
            "Collecting optax-shampoo==0.0.6\n",
            "  Downloading optax_shampoo-0.0.6-py3-none-any.whl (32 kB)\n",
            "Collecting fiddle==0.3.0\n",
            "  Downloading fiddle-0.3.0-py3-none-any.whl (419 kB)\n",
            "     ━━━━━━━━━━━━━━━━━━━━━━━━━━━━━━━━━━━━━━ 419.8/419.8 kB 42.8 MB/s eta 0:00:00\n",
            "Collecting scipy>=1.9\n",
            "  Downloading scipy-1.13.1-cp310-cp310-manylinux_2_17_x86_64.manylinux2014_x86_64.whl (38.6 MB)\n",
            "     ━━━━━━━━━━━━━━━━━━━━━━━━━━━━━━━━━━━━━━━━ 38.6/38.6 MB 41.0 MB/s eta 0:00:00\n",
            "Collecting ml-dtypes>=0.2.0\n",
            "  Downloading ml_dtypes-0.4.0-cp310-cp310-manylinux_2_17_x86_64.manylinux2014_x86_64.whl (2.2 MB)\n",
            "     ━━━━━━━━━━━━━━━━━━━━━━━━━━━━━━━━━━━━━━━━ 2.2/2.2 MB 78.9 MB/s eta 0:00:00\n",
            "Requirement already satisfied: packaging in /usr/local/lib/python3.10/site-packages (from clu==0.0.11->paxml->-r /app/requirements.txt (line 2)) (24.0)\n",
            "Collecting ml-collections\n",
            "  Downloading ml_collections-0.1.1.tar.gz (77 kB)\n",
            "     ━━━━━━━━━━━━━━━━━━━━━━━━━━━━━━━━━━━━━━━━ 77.9/77.9 kB 13.5 MB/s eta 0:00:00\n",
            "  Preparing metadata (setup.py): started\n",
            "  Preparing metadata (setup.py): finished with status 'done'\n",
            "Requirement already satisfied: typing-extensions in /usr/local/lib/python3.10/site-packages (from clu==0.0.11->paxml->-r /app/requirements.txt (line 2)) (4.11.0)\n",
            "Collecting wrapt\n",
            "  Downloading wrapt-1.16.0-cp310-cp310-manylinux_2_5_x86_64.manylinux1_x86_64.manylinux_2_17_x86_64.manylinux2014_x86_64.whl (80 kB)\n",
            "     ━━━━━━━━━━━━━━━━━━━━━━━━━━━━━━━━━━━━━━━━ 80.3/80.3 kB 12.8 MB/s eta 0:00:00\n",
            "Collecting jaxlib\n",
            "  Downloading jaxlib-0.4.28-cp310-cp310-manylinux2014_x86_64.whl (77.5 MB)\n",
            "     ━━━━━━━━━━━━━━━━━━━━━━━━━━━━━━━━━━━━━━━━ 77.5/77.5 MB 21.6 MB/s eta 0:00:00\n",
            "Collecting libcst\n",
            "  Downloading libcst-1.4.0-cp310-cp310-manylinux_2_17_x86_64.manylinux2014_x86_64.whl (2.3 MB)\n",
            "     ━━━━━━━━━━━━━━━━━━━━━━━━━━━━━━━━━━━━━━━━ 2.3/2.3 MB 82.4 MB/s eta 0:00:00\n",
            "Collecting rich>=11.1\n",
            "  Downloading rich-13.7.1-py3-none-any.whl (240 kB)\n",
            "     ━━━━━━━━━━━━━━━━━━━━━━━━━━━━━━━━━━━━━━ 240.7/240.7 kB 33.9 MB/s eta 0:00:00\n",
            "Collecting msgpack\n",
            "  Downloading msgpack-1.0.8-cp310-cp310-manylinux_2_17_x86_64.manylinux2014_x86_64.whl (385 kB)\n",
            "     ━━━━━━━━━━━━━━━━━━━━━━━━━━━━━━━━━━━━━━ 385.1/385.1 kB 41.9 MB/s eta 0:00:00\n",
            "Requirement already satisfied: PyYAML>=5.4.1 in /usr/local/lib/python3.10/site-packages (from flax==0.8.2->paxml->-r /app/requirements.txt (line 2)) (6.0.1)\n",
            "Collecting matplotlib\n",
            "  Downloading matplotlib-3.9.0-cp310-cp310-manylinux_2_17_x86_64.manylinux2014_x86_64.whl (8.3 MB)\n",
            "     ━━━━━━━━━━━━━━━━━━━━━━━━━━━━━━━━━━━━━━━━ 8.3/8.3 MB 89.1 MB/s eta 0:00:00\n",
            "Collecting attrs\n",
            "  Downloading attrs-23.2.0-py3-none-any.whl (60 kB)\n",
            "     ━━━━━━━━━━━━━━━━━━━━━━━━━━━━━━━━━━━━━━━━ 60.8/60.8 kB 9.7 MB/s eta 0:00:00\n",
            "Collecting Pillow\n",
            "  Downloading pillow-10.3.0-cp310-cp310-manylinux_2_28_x86_64.whl (4.5 MB)\n",
            "     ━━━━━━━━━━━━━━━━━━━━━━━━━━━━━━━━━━━━━━━━ 4.5/4.5 MB 90.6 MB/s eta 0:00:00\n",
            "Collecting model-pruning-google-research\n",
            "  Downloading model_pruning_google_research-0.0.5-py3-none-any.whl (52 kB)\n",
            "     ━━━━━━━━━━━━━━━━━━━━━━━━━━━━━━━━━━━━━━━━ 52.6/52.6 kB 8.9 MB/s eta 0:00:00\n",
            "Collecting sympy\n",
            "  Downloading sympy-1.12-py3-none-any.whl (5.7 MB)\n",
            "     ━━━━━━━━━━━━━━━━━━━━━━━━━━━━━━━━━━━━━━━━ 5.7/5.7 MB 36.5 MB/s eta 0:00:00\n",
            "Collecting scikit-learn\n",
            "  Downloading scikit_learn-1.5.0-cp310-cp310-manylinux_2_17_x86_64.manylinux2014_x86_64.whl (13.3 MB)\n",
            "     ━━━━━━━━━━━━━━━━━━━━━━━━━━━━━━━━━━━━━━━━ 13.3/13.3 MB 80.2 MB/s eta 0:00:00\n",
            "Collecting graph-compression-google-research\n",
            "  Downloading graph_compression_google_research-0.0.4-py3-none-any.whl (90 kB)\n",
            "     ━━━━━━━━━━━━━━━━━━━━━━━━━━━━━━━━━━━━━━━━ 90.0/90.0 kB 13.9 MB/s eta 0:00:00\n",
            "Collecting tensorflow-hub\n",
            "  Downloading tensorflow_hub-0.16.1-py2.py3-none-any.whl (30 kB)\n",
            "Collecting ipykernel\n",
            "  Downloading ipykernel-6.29.4-py3-none-any.whl (117 kB)\n",
            "     ━━━━━━━━━━━━━━━━━━━━━━━━━━━━━━━━━━━━━━ 117.1/117.1 kB 18.6 MB/s eta 0:00:00\n",
            "Collecting jupyter-http-over-ws\n",
            "  Downloading jupyter_http_over_ws-0.0.8-py2.py3-none-any.whl (18 kB)\n",
            "Collecting jupyter\n",
            "  Downloading jupyter-1.0.0-py2.py3-none-any.whl (2.7 kB)\n",
            "Collecting nest_asyncio\n",
            "  Downloading nest_asyncio-1.6.0-py3-none-any.whl (5.2 kB)\n",
            "Collecting docstring-parser>=0.12\n",
            "  Downloading docstring_parser-0.16-py3-none-any.whl (36 kB)\n",
            "Collecting editdistance\n",
            "  Downloading editdistance-0.8.1-cp310-cp310-manylinux_2_17_x86_64.manylinux2014_x86_64.whl (401 kB)\n",
            "     ━━━━━━━━━━━━━━━━━━━━━━━━━━━━━━━━━━━━━━ 401.8/401.8 kB 45.1 MB/s eta 0:00:00\n",
            "Collecting gin-config\n",
            "  Downloading gin_config-0.5.0-py3-none-any.whl (61 kB)\n",
            "     ━━━━━━━━━━━━━━━━━━━━━━━━━━━━━━━━━━━━━━━━ 61.3/61.3 kB 10.4 MB/s eta 0:00:00\n",
            "Collecting six>=1.14\n",
            "  Downloading six-1.16.0-py2.py3-none-any.whl (11 kB)\n",
            "Collecting nltk\n",
            "  Downloading nltk-3.8.1-py3-none-any.whl (1.5 MB)\n",
            "     ━━━━━━━━━━━━━━━━━━━━━━━━━━━━━━━━━━━━━━━━ 1.5/1.5 MB 67.5 MB/s eta 0:00:00\n",
            "Collecting babel\n",
            "  Downloading Babel-2.15.0-py3-none-any.whl (9.6 MB)\n",
            "     ━━━━━━━━━━━━━━━━━━━━━━━━━━━━━━━━━━━━━━━━ 9.6/9.6 MB 89.9 MB/s eta 0:00:00\n",
            "Collecting mesh-tensorflow[transformer]>=0.1.13\n",
            "  Downloading mesh_tensorflow-0.1.21-py3-none-any.whl (385 kB)\n",
            "     ━━━━━━━━━━━━━━━━━━━━━━━━━━━━━━━━━━━━━━ 385.2/385.2 kB 40.9 MB/s eta 0:00:00\n",
            "Collecting rouge-score>=0.1.2\n",
            "  Downloading rouge_score-0.1.2.tar.gz (17 kB)\n",
            "  Preparing metadata (setup.py): started\n",
            "  Preparing metadata (setup.py): finished with status 'done'\n",
            "Collecting sacrebleu\n",
            "  Downloading sacrebleu-2.4.2-py3-none-any.whl (106 kB)\n",
            "     ━━━━━━━━━━━━━━━━━━━━━━━━━━━━━━━━━━━━━━ 106.7/106.7 kB 18.9 MB/s eta 0:00:00\n",
            "Collecting transformers>=2.7.0\n",
            "  Downloading transformers-4.41.1-py3-none-any.whl (9.1 MB)\n",
            "     ━━━━━━━━━━━━━━━━━━━━━━━━━━━━━━━━━━━━━━━━ 9.1/9.1 MB 87.6 MB/s eta 0:00:00\n",
            "Collecting immutabledict\n",
            "  Downloading immutabledict-4.2.0-py3-none-any.whl (4.7 kB)\n",
            "Collecting toml\n",
            "  Downloading toml-0.10.2-py2.py3-none-any.whl (16 kB)\n",
            "Collecting promise\n",
            "  Downloading promise-2.3.tar.gz (19 kB)\n",
            "  Preparing metadata (setup.py): started\n",
            "  Preparing metadata (setup.py): finished with status 'done'\n",
            "Collecting tqdm\n",
            "  Downloading tqdm-4.66.4-py3-none-any.whl (78 kB)\n",
            "     ━━━━━━━━━━━━━━━━━━━━━━━━━━━━━━━━━━━━━━━━ 78.3/78.3 kB 14.1 MB/s eta 0:00:00\n",
            "Collecting requests>=2.19.0\n",
            "  Downloading requests-2.32.2-py3-none-any.whl (63 kB)\n",
            "     ━━━━━━━━━━━━━━━━━━━━━━━━━━━━━━━━━━━━━━━━ 63.9/63.9 kB 11.4 MB/s eta 0:00:00\n",
            "Collecting termcolor\n",
            "  Downloading termcolor-2.4.0-py3-none-any.whl (7.7 kB)\n",
            "Requirement already satisfied: click in /usr/local/lib/python3.10/site-packages (from tensorflow-datasets==4.8.3->paxml->-r /app/requirements.txt (line 2)) (8.1.7)\n",
            "Collecting psutil\n",
            "  Downloading psutil-5.9.8-cp36-abi3-manylinux_2_12_x86_64.manylinux2010_x86_64.manylinux_2_17_x86_64.manylinux2014_x86_64.whl (288 kB)\n",
            "     ━━━━━━━━━━━━━━━━━━━━━━━━━━━━━━━━━━━━━━ 288.2/288.2 kB 27.7 MB/s eta 0:00:00\n",
            "Collecting dm-tree\n",
            "  Downloading dm_tree-0.1.8-cp310-cp310-manylinux_2_17_x86_64.manylinux2014_x86_64.whl (152 kB)\n",
            "     ━━━━━━━━━━━━━━━━━━━━━━━━━━━━━━━━━━━━━━ 152.8/152.8 kB 21.3 MB/s eta 0:00:00\n",
            "Collecting googleapis-common-protos<2,>=1.52.0\n",
            "  Downloading googleapis_common_protos-1.63.0-py2.py3-none-any.whl (229 kB)\n",
            "     ━━━━━━━━━━━━━━━━━━━━━━━━━━━━━━━━━━━━━━ 229.1/229.1 kB 26.7 MB/s eta 0:00:00\n",
            "Collecting array-record\n",
            "  Downloading array_record-0.5.1-cp310-cp310-manylinux_2_17_x86_64.manylinux2014_x86_64.whl (2.2 MB)\n",
            "     ━━━━━━━━━━━━━━━━━━━━━━━━━━━━━━━━━━━━━━━━ 2.2/2.2 MB 80.6 MB/s eta 0:00:00\n",
            "Collecting tzdata>=2022.7\n",
            "  Downloading tzdata-2024.1-py2.py3-none-any.whl (345 kB)\n",
            "     ━━━━━━━━━━━━━━━━━━━━━━━━━━━━━━━━━━━━━━ 345.4/345.4 kB 39.4 MB/s eta 0:00:00\n",
            "Collecting python-dateutil>=2.8.2\n",
            "  Downloading python_dateutil-2.9.0.post0-py2.py3-none-any.whl (229 kB)\n",
            "     ━━━━━━━━━━━━━━━━━━━━━━━━━━━━━━━━━━━━━━ 229.9/229.9 kB 30.2 MB/s eta 0:00:00\n",
            "Collecting pytz>=2020.1\n",
            "  Downloading pytz-2024.1-py2.py3-none-any.whl (505 kB)\n",
            "     ━━━━━━━━━━━━━━━━━━━━━━━━━━━━━━━━━━━━━━ 505.5/505.5 kB 45.8 MB/s eta 0:00:00\n",
            "Requirement already satisfied: starlette==0.22.0 in /usr/local/lib/python3.10/site-packages (from fastapi->-r /app/requirements.txt (line 8)) (0.22.0)\n",
            "Requirement already satisfied: pydantic!=1.7,!=1.7.1,!=1.7.2,!=1.7.3,!=1.8,!=1.8.1,<2.0.0,>=1.6.2 in /usr/local/lib/python3.10/site-packages (from fastapi->-r /app/requirements.txt (line 8)) (1.10.15)\n",
            "Requirement already satisfied: anyio<5,>=3.4.0 in /usr/local/lib/python3.10/site-packages (from starlette==0.22.0->fastapi->-r /app/requirements.txt (line 8)) (4.3.0)\n",
            "Collecting urllib3>=1.26.0\n",
            "  Downloading urllib3-2.2.1-py3-none-any.whl (121 kB)\n",
            "     ━━━━━━━━━━━━━━━━━━━━━━━━━━━━━━━━━━━━━━ 121.1/121.1 kB 19.6 MB/s eta 0:00:00\n",
            "Collecting toolz>=0.9.0\n",
            "  Downloading toolz-0.12.1-py3-none-any.whl (56 kB)\n",
            "     ━━━━━━━━━━━━━━━━━━━━━━━━━━━━━━━━━━━━━━━━ 56.1/56.1 kB 9.8 MB/s eta 0:00:00\n",
            "Requirement already satisfied: certifi>=2017.4.17 in /usr/local/lib/python3.10/site-packages (from requests>=2.19.0->tensorflow-datasets==4.8.3->paxml->-r /app/requirements.txt (line 2)) (2024.2.2)\n",
            "Collecting charset-normalizer<4,>=2\n",
            "  Downloading charset_normalizer-3.3.2-cp310-cp310-manylinux_2_17_x86_64.manylinux2014_x86_64.whl (142 kB)\n",
            "     ━━━━━━━━━━━━━━━━━━━━━━━━━━━━━━━━━━━━━━ 142.1/142.1 kB 22.3 MB/s eta 0:00:00\n",
            "Requirement already satisfied: idna<4,>=2.5 in /usr/local/lib/python3.10/site-packages (from requests>=2.19.0->tensorflow-datasets==4.8.3->paxml->-r /app/requirements.txt (line 2)) (3.7)\n",
            "Collecting grpcio<2.0,>=1.24.3\n",
            "  Downloading grpcio-1.64.0-cp310-cp310-manylinux_2_17_x86_64.manylinux2014_x86_64.whl (5.6 MB)\n",
            "     ━━━━━━━━━━━━━━━━━━━━━━━━━━━━━━━━━━━━━━━━ 5.6/5.6 MB 90.6 MB/s eta 0:00:00\n",
            "Collecting tensorflow-io-gcs-filesystem>=0.23.1\n",
            "  Downloading tensorflow_io_gcs_filesystem-0.37.0-cp310-cp310-manylinux_2_17_x86_64.manylinux2014_x86_64.whl (5.1 MB)\n",
            "     ━━━━━━━━━━━━━━━━━━━━━━━━━━━━━━━━━━━━━━━━ 5.1/5.1 MB 91.5 MB/s eta 0:00:00\n",
            "Collecting astunparse>=1.6.0\n",
            "  Downloading astunparse-1.6.3-py2.py3-none-any.whl (12 kB)\n",
            "Collecting tensorboard<2.10,>=2.9\n",
            "  Downloading tensorboard-2.9.1-py3-none-any.whl (5.8 MB)\n",
            "     ━━━━━━━━━━━━━━━━━━━━━━━━━━━━━━━━━━━━━━━━ 5.8/5.8 MB 87.7 MB/s eta 0:00:00\n",
            "Requirement already satisfied: setuptools in /usr/local/lib/python3.10/site-packages (from tensorflow~=2.9.2->paxml->-r /app/requirements.txt (line 2)) (65.5.1)\n",
            "Collecting gast<=0.4.0,>=0.2.1\n",
            "  Downloading gast-0.4.0-py3-none-any.whl (9.8 kB)\n",
            "Collecting libclang>=13.0.0\n",
            "  Downloading libclang-18.1.1-py2.py3-none-manylinux2010_x86_64.whl (24.5 MB)\n",
            "     ━━━━━━━━━━━━━━━━━━━━━━━━━━━━━━━━━━━━━━━━ 24.5/24.5 MB 56.4 MB/s eta 0:00:00\n",
            "Collecting flatbuffers<2,>=1.12\n",
            "  Downloading flatbuffers-1.12-py2.py3-none-any.whl (15 kB)\n",
            "Collecting tensorflow-estimator<2.10.0,>=2.9.0rc0\n",
            "  Downloading tensorflow_estimator-2.9.0-py2.py3-none-any.whl (438 kB)\n",
            "     ━━━━━━━━━━━━━━━━━━━━━━━━━━━━━━━━━━━━━━ 438.7/438.7 kB 45.0 MB/s eta 0:00:00\n",
            "Collecting h5py>=2.9.0\n",
            "  Downloading h5py-3.11.0-cp310-cp310-manylinux_2_17_x86_64.manylinux2014_x86_64.whl (5.3 MB)\n",
            "     ━━━━━━━━━━━━━━━━━━━━━━━━━━━━━━━━━━━━━━━━ 5.3/5.3 MB 90.5 MB/s eta 0:00:00\n",
            "Collecting google-pasta>=0.1.1\n",
            "  Downloading google_pasta-0.2.0-py3-none-any.whl (57 kB)\n",
            "     ━━━━━━━━━━━━━━━━━━━━━━━━━━━━━━━━━━━━━━━━ 57.5/57.5 kB 10.2 MB/s eta 0:00:00\n",
            "Collecting keras-preprocessing>=1.1.1\n",
            "  Downloading Keras_Preprocessing-1.1.2-py2.py3-none-any.whl (42 kB)\n",
            "     ━━━━━━━━━━━━━━━━━━━━━━━━━━━━━━━━━━━━━━━━ 42.6/42.6 kB 7.4 MB/s eta 0:00:00\n",
            "Collecting keras<2.10.0,>=2.9.0rc0\n",
            "  Downloading keras-2.9.0-py2.py3-none-any.whl (1.6 MB)\n",
            "     ━━━━━━━━━━━━━━━━━━━━━━━━━━━━━━━━━━━━━━━━ 1.6/1.6 MB 52.0 MB/s eta 0:00:00\n",
            "Requirement already satisfied: exceptiongroup>=1.0.2 in /usr/local/lib/python3.10/site-packages (from anyio<5,>=3.4.0->starlette==0.22.0->fastapi->-r /app/requirements.txt (line 8)) (1.2.1)\n",
            "Requirement already satisfied: sniffio>=1.1 in /usr/local/lib/python3.10/site-packages (from anyio<5,>=3.4.0->starlette==0.22.0->fastapi->-r /app/requirements.txt (line 8)) (1.3.1)\n",
            "Requirement already satisfied: wheel<1.0,>=0.23.0 in /usr/local/lib/python3.10/site-packages (from astunparse>=1.6.0->tensorflow~=2.9.2->paxml->-r /app/requirements.txt (line 2)) (0.43.0)\n",
            "Collecting zipp\n",
            "  Downloading zipp-3.18.2-py3-none-any.whl (8.3 kB)\n",
            "Collecting fsspec\n",
            "  Downloading fsspec-2024.5.0-py3-none-any.whl (316 kB)\n",
            "     ━━━━━━━━━━━━━━━━━━━━━━━━━━━━━━━━━━━━━━ 316.1/316.1 kB 37.5 MB/s eta 0:00:00\n",
            "Collecting importlib_resources\n",
            "  Downloading importlib_resources-6.4.0-py3-none-any.whl (38 kB)\n",
            "Collecting future\n",
            "  Downloading future-1.0.0-py3-none-any.whl (491 kB)\n",
            "     ━━━━━━━━━━━━━━━━━━━━━━━━━━━━━━━━━━━━━━ 491.3/491.3 kB 44.4 MB/s eta 0:00:00\n",
            "Collecting pygments<3.0.0,>=2.13.0\n",
            "  Downloading pygments-2.18.0-py3-none-any.whl (1.2 MB)\n",
            "     ━━━━━━━━━━━━━━━━━━━━━━━━━━━━━━━━━━━━━━━━ 1.2/1.2 MB 66.5 MB/s eta 0:00:00\n",
            "Collecting markdown-it-py>=2.2.0\n",
            "  Downloading markdown_it_py-3.0.0-py3-none-any.whl (87 kB)\n",
            "     ━━━━━━━━━━━━━━━━━━━━━━━━━━━━━━━━━━━━━━━━ 87.5/87.5 kB 15.6 MB/s eta 0:00:00\n",
            "Collecting google-auth<3,>=1.6.3\n",
            "  Downloading google_auth-2.29.0-py2.py3-none-any.whl (189 kB)\n",
            "     ━━━━━━━━━━━━━━━━━━━━━━━━━━━━━━━━━━━━━━ 189.2/189.2 kB 27.9 MB/s eta 0:00:00\n",
            "Collecting tensorboard-plugin-wit>=1.6.0\n",
            "  Downloading tensorboard_plugin_wit-1.8.1-py3-none-any.whl (781 kB)\n",
            "     ━━━━━━━━━━━━━━━━━━━━━━━━━━━━━━━━━━━━━━ 781.3/781.3 kB 54.6 MB/s eta 0:00:00\n",
            "Collecting markdown>=2.6.8\n",
            "  Downloading Markdown-3.6-py3-none-any.whl (105 kB)\n",
            "     ━━━━━━━━━━━━━━━━━━━━━━━━━━━━━━━━━━━━━━ 105.4/105.4 kB 16.6 MB/s eta 0:00:00\n",
            "Collecting werkzeug>=1.0.1\n",
            "  Downloading werkzeug-3.0.3-py3-none-any.whl (227 kB)\n",
            "     ━━━━━━━━━━━━━━━━━━━━━━━━━━━━━━━━━━━━━━ 227.3/227.3 kB 31.4 MB/s eta 0:00:00\n",
            "Collecting tensorboard-data-server<0.7.0,>=0.6.0\n",
            "  Downloading tensorboard_data_server-0.6.1-py3-none-manylinux2010_x86_64.whl (4.9 MB)\n",
            "     ━━━━━━━━━━━━━━━━━━━━━━━━━━━━━━━━━━━━━━━━ 4.9/4.9 MB 89.3 MB/s eta 0:00:00\n",
            "Collecting google-auth-oauthlib<0.5,>=0.4.1\n",
            "  Downloading google_auth_oauthlib-0.4.6-py2.py3-none-any.whl (18 kB)\n",
            "Collecting tf-keras>=2.14.1\n",
            "  Downloading tf_keras-2.16.0-py3-none-any.whl (1.7 MB)\n",
            "     ━━━━━━━━━━━━━━━━━━━━━━━━━━━━━━━━━━━━━━━━ 1.7/1.7 MB 77.0 MB/s eta 0:00:00\n",
            "Collecting filelock\n",
            "  Downloading filelock-3.14.0-py3-none-any.whl (12 kB)\n",
            "Collecting huggingface-hub<1.0,>=0.23.0\n",
            "  Downloading huggingface_hub-0.23.1-py3-none-any.whl (401 kB)\n",
            "     ━━━━━━━━━━━━━━━━━━━━━━━━━━━━━━━━━━━━━━ 401.3/401.3 kB 43.0 MB/s eta 0:00:00\n",
            "Collecting tokenizers<0.20,>=0.19\n",
            "  Downloading tokenizers-0.19.1-cp310-cp310-manylinux_2_17_x86_64.manylinux2014_x86_64.whl (3.6 MB)\n",
            "     ━━━━━━━━━━━━━━━━━━━━━━━━━━━━━━━━━━━━━━━━ 3.6/3.6 MB 72.2 MB/s eta 0:00:00\n",
            "Collecting safetensors>=0.4.1\n",
            "  Downloading safetensors-0.4.3-cp310-cp310-manylinux_2_17_x86_64.manylinux2014_x86_64.whl (1.2 MB)\n",
            "     ━━━━━━━━━━━━━━━━━━━━━━━━━━━━━━━━━━━━━━━━ 1.2/1.2 MB 73.5 MB/s eta 0:00:00\n",
            "Collecting regex!=2019.12.17\n",
            "  Downloading regex-2024.5.15-cp310-cp310-manylinux_2_17_x86_64.manylinux2014_x86_64.whl (775 kB)\n",
            "     ━━━━━━━━━━━━━━━━━━━━━━━━━━━━━━━━━━━━━━ 775.1/775.1 kB 56.9 MB/s eta 0:00:00\n",
            "Collecting pyzmq>=24\n",
            "  Downloading pyzmq-26.0.3-cp310-cp310-manylinux_2_28_x86_64.whl (919 kB)\n",
            "     ━━━━━━━━━━━━━━━━━━━━━━━━━━━━━━━━━━━━━━ 919.8/919.8 kB 59.5 MB/s eta 0:00:00\n",
            "Collecting jupyter-client>=6.1.12\n",
            "  Downloading jupyter_client-8.6.2-py3-none-any.whl (105 kB)\n",
            "     ━━━━━━━━━━━━━━━━━━━━━━━━━━━━━━━━━━━━━━ 105.9/105.9 kB 16.9 MB/s eta 0:00:00\n",
            "Collecting ipython>=7.23.1\n",
            "  Downloading ipython-8.24.0-py3-none-any.whl (816 kB)\n",
            "     ━━━━━━━━━━━━━━━━━━━━━━━━━━━━━━━━━━━━━━ 816.5/816.5 kB 53.7 MB/s eta 0:00:00\n",
            "Collecting matplotlib-inline>=0.1\n",
            "  Downloading matplotlib_inline-0.1.7-py3-none-any.whl (9.9 kB)\n",
            "Collecting debugpy>=1.6.5\n",
            "  Downloading debugpy-1.8.1-cp310-cp310-manylinux_2_17_x86_64.manylinux2014_x86_64.whl (3.0 MB)\n",
            "     ━━━━━━━━━━━━━━━━━━━━━━━━━━━━━━━━━━━━━━━━ 3.0/3.0 MB 85.2 MB/s eta 0:00:00\n",
            "Collecting jupyter-core!=5.0.*,>=4.12\n",
            "  Downloading jupyter_core-5.7.2-py3-none-any.whl (28 kB)\n",
            "Collecting traitlets>=5.4.0\n",
            "  Downloading traitlets-5.14.3-py3-none-any.whl (85 kB)\n",
            "     ━━━━━━━━━━━━━━━━━━━━━━━━━━━━━━━━━━━━━━━━ 85.4/85.4 kB 13.3 MB/s eta 0:00:00\n",
            "Collecting comm>=0.1.1\n",
            "  Downloading comm-0.2.2-py3-none-any.whl (7.2 kB)\n",
            "Collecting tornado>=6.1\n",
            "  Downloading tornado-6.4-cp38-abi3-manylinux_2_5_x86_64.manylinux1_x86_64.manylinux_2_17_x86_64.manylinux2014_x86_64.whl (435 kB)\n",
            "     ━━━━━━━━━━━━━━━━━━━━━━━━━━━━━━━━━━━━━━ 435.4/435.4 kB 44.4 MB/s eta 0:00:00\n",
            "Collecting notebook\n",
            "  Downloading notebook-7.2.0-py3-none-any.whl (5.0 MB)\n",
            "     ━━━━━━━━━━━━━━━━━━━━━━━━━━━━━━━━━━━━━━━━ 5.0/5.0 MB 86.4 MB/s eta 0:00:00\n",
            "Collecting qtconsole\n",
            "  Downloading qtconsole-5.5.2-py3-none-any.whl (123 kB)\n",
            "     ━━━━━━━━━━━━━━━━━━━━━━━━━━━━━━━━━━━━━━ 123.4/123.4 kB 19.9 MB/s eta 0:00:00\n",
            "Collecting ipywidgets\n",
            "  Downloading ipywidgets-8.1.2-py3-none-any.whl (139 kB)\n",
            "     ━━━━━━━━━━━━━━━━━━━━━━━━━━━━━━━━━━━━━━ 139.4/139.4 kB 18.5 MB/s eta 0:00:00\n",
            "Collecting jupyter-console\n",
            "  Downloading jupyter_console-6.6.3-py3-none-any.whl (24 kB)\n",
            "Collecting nbconvert\n",
            "  Downloading nbconvert-7.16.4-py3-none-any.whl (257 kB)\n",
            "     ━━━━━━━━━━━━━━━━━━━━━━━━━━━━━━━━━━━━━━ 257.4/257.4 kB 34.9 MB/s eta 0:00:00\n",
            "Collecting kiwisolver>=1.3.1\n",
            "  Downloading kiwisolver-1.4.5-cp310-cp310-manylinux_2_12_x86_64.manylinux2010_x86_64.whl (1.6 MB)\n",
            "     ━━━━━━━━━━━━━━━━━━━━━━━━━━━━━━━━━━━━━━━━ 1.6/1.6 MB 76.1 MB/s eta 0:00:00\n",
            "Collecting pyparsing>=2.3.1\n",
            "  Downloading pyparsing-3.1.2-py3-none-any.whl (103 kB)\n",
            "     ━━━━━━━━━━━━━━━━━━━━━━━━━━━━━━━━━━━━━━ 103.2/103.2 kB 16.1 MB/s eta 0:00:00\n",
            "Collecting fonttools>=4.22.0\n",
            "  Downloading fonttools-4.51.0-cp310-cp310-manylinux_2_17_x86_64.manylinux2014_x86_64.whl (4.6 MB)\n",
            "     ━━━━━━━━━━━━━━━━━━━━━━━━━━━━━━━━━━━━━━━━ 4.6/4.6 MB 20.2 MB/s eta 0:00:00\n",
            "Collecting contourpy>=1.0.1\n",
            "  Downloading contourpy-1.2.1-cp310-cp310-manylinux_2_17_x86_64.manylinux2014_x86_64.whl (305 kB)\n",
            "     ━━━━━━━━━━━━━━━━━━━━━━━━━━━━━━━━━━━━━━ 305.2/305.2 kB 34.4 MB/s eta 0:00:00\n",
            "Collecting cycler>=0.10\n",
            "  Downloading cycler-0.12.1-py3-none-any.whl (8.3 kB)\n",
            "Collecting contextlib2\n",
            "  Downloading contextlib2-21.6.0-py2.py3-none-any.whl (13 kB)\n",
            "Collecting joblib\n",
            "  Downloading joblib-1.4.2-py3-none-any.whl (301 kB)\n",
            "     ━━━━━━━━━━━━━━━━━━━━━━━━━━━━━━━━━━━━━━ 301.8/301.8 kB 37.3 MB/s eta 0:00:00\n",
            "Collecting portalocker\n",
            "  Downloading portalocker-2.8.2-py3-none-any.whl (17 kB)\n",
            "Collecting tabulate>=0.8.9\n",
            "  Downloading tabulate-0.9.0-py3-none-any.whl (35 kB)\n",
            "Collecting lxml\n",
            "  Downloading lxml-5.2.2-cp310-cp310-manylinux_2_28_x86_64.whl (5.0 MB)\n",
            "     ━━━━━━━━━━━━━━━━━━━━━━━━━━━━━━━━━━━━━━━━ 5.0/5.0 MB 90.2 MB/s eta 0:00:00\n",
            "Collecting colorama\n",
            "  Downloading colorama-0.4.6-py2.py3-none-any.whl (25 kB)\n",
            "Collecting threadpoolctl>=3.1.0\n",
            "  Downloading threadpoolctl-3.5.0-py3-none-any.whl (18 kB)\n",
            "Collecting mpmath>=0.19\n",
            "  Downloading mpmath-1.3.0-py3-none-any.whl (536 kB)\n",
            "     ━━━━━━━━━━━━━━━━━━━━━━━━━━━━━━━━━━━━━━ 536.2/536.2 kB 51.4 MB/s eta 0:00:00\n",
            "Collecting cachetools<6.0,>=2.0.0\n",
            "  Downloading cachetools-5.3.3-py3-none-any.whl (9.3 kB)\n",
            "Collecting pyasn1-modules>=0.2.1\n",
            "  Downloading pyasn1_modules-0.4.0-py3-none-any.whl (181 kB)\n",
            "     ━━━━━━━━━━━━━━━━━━━━━━━━━━━━━━━━━━━━━━ 181.2/181.2 kB 27.7 MB/s eta 0:00:00\n",
            "Collecting rsa<5,>=3.1.4\n",
            "  Downloading rsa-4.9-py3-none-any.whl (34 kB)\n",
            "Collecting requests-oauthlib>=0.7.0\n",
            "  Downloading requests_oauthlib-2.0.0-py2.py3-none-any.whl (24 kB)\n",
            "Collecting decorator\n",
            "  Downloading decorator-5.1.1-py3-none-any.whl (9.1 kB)\n",
            "Collecting prompt-toolkit<3.1.0,>=3.0.41\n",
            "  Downloading prompt_toolkit-3.0.43-py3-none-any.whl (386 kB)\n",
            "     ━━━━━━━━━━━━━━━━━━━━━━━━━━━━━━━━━━━━━━ 386.1/386.1 kB 41.1 MB/s eta 0:00:00\n",
            "Collecting pexpect>4.3\n",
            "  Downloading pexpect-4.9.0-py2.py3-none-any.whl (63 kB)\n",
            "     ━━━━━━━━━━━━━━━━━━━━━━━━━━━━━━━━━━━━━━━━ 63.8/63.8 kB 9.9 MB/s eta 0:00:00\n",
            "Collecting jedi>=0.16\n",
            "  Downloading jedi-0.19.1-py2.py3-none-any.whl (1.6 MB)\n",
            "     ━━━━━━━━━━━━━━━━━━━━━━━━━━━━━━━━━━━━━━━━ 1.6/1.6 MB 75.8 MB/s eta 0:00:00\n",
            "Collecting stack-data\n",
            "  Downloading stack_data-0.6.3-py3-none-any.whl (24 kB)\n",
            "Collecting platformdirs>=2.5\n",
            "  Downloading platformdirs-4.2.2-py3-none-any.whl (18 kB)\n",
            "Collecting mdurl~=0.1\n",
            "  Downloading mdurl-0.1.2-py3-none-any.whl (10.0 kB)\n",
            "Collecting notebook-shim<0.3,>=0.2\n",
            "  Downloading notebook_shim-0.2.4-py3-none-any.whl (13 kB)\n",
            "Collecting jupyterlab<4.3,>=4.2.0\n",
            "  Downloading jupyterlab-4.2.1-py3-none-any.whl (11.6 MB)\n",
            "     ━━━━━━━━━━━━━━━━━━━━━━━━━━━━━━━━━━━━━━━━ 11.6/11.6 MB 84.7 MB/s eta 0:00:00\n",
            "Collecting jupyter-server<3,>=2.4.0\n",
            "  Downloading jupyter_server-2.14.0-py3-none-any.whl (383 kB)\n",
            "     ━━━━━━━━━━━━━━━━━━━━━━━━━━━━━━━━━━━━━━ 383.3/383.3 kB 41.2 MB/s eta 0:00:00\n",
            "Collecting jupyterlab-server<3,>=2.27.1\n",
            "  Downloading jupyterlab_server-2.27.2-py3-none-any.whl (59 kB)\n",
            "     ━━━━━━━━━━━━━━━━━━━━━━━━━━━━━━━━━━━━━━━━ 59.4/59.4 kB 9.6 MB/s eta 0:00:00\n",
            "Collecting tf-keras>=2.14.1\n",
            "  Downloading tf_keras-2.15.1-py3-none-any.whl (1.7 MB)\n",
            "     ━━━━━━━━━━━━━━━━━━━━━━━━━━━━━━━━━━━━━━━━ 1.7/1.7 MB 76.1 MB/s eta 0:00:00\n",
            "  Downloading tf_keras-2.15.0-py3-none-any.whl (1.7 MB)\n",
            "     ━━━━━━━━━━━━━━━━━━━━━━━━━━━━━━━━━━━━━━━━ 1.7/1.7 MB 78.7 MB/s eta 0:00:00\n",
            "Requirement already satisfied: MarkupSafe>=2.1.1 in /usr/local/lib/python3.10/site-packages (from werkzeug>=1.0.1->tensorboard<2.10,>=2.9->tensorflow~=2.9.2->paxml->-r /app/requirements.txt (line 2)) (2.1.5)\n",
            "Collecting widgetsnbextension~=4.0.10\n",
            "  Downloading widgetsnbextension-4.0.10-py3-none-any.whl (2.3 MB)\n",
            "     ━━━━━━━━━━━━━━━━━━━━━━━━━━━━━━━━━━━━━━━━ 2.3/2.3 MB 81.6 MB/s eta 0:00:00\n",
            "Collecting jupyterlab-widgets~=3.0.10\n",
            "  Downloading jupyterlab_widgets-3.0.10-py3-none-any.whl (215 kB)\n",
            "     ━━━━━━━━━━━━━━━━━━━━━━━━━━━━━━━━━━━━━━ 215.0/215.0 kB 30.0 MB/s eta 0:00:00\n",
            "Collecting beautifulsoup4\n",
            "  Downloading beautifulsoup4-4.12.3-py3-none-any.whl (147 kB)\n",
            "     ━━━━━━━━━━━━━━━━━━━━━━━━━━━━━━━━━━━━━━ 147.9/147.9 kB 22.8 MB/s eta 0:00:00\n",
            "Collecting bleach!=5.0.0\n",
            "  Downloading bleach-6.1.0-py3-none-any.whl (162 kB)\n",
            "     ━━━━━━━━━━━━━━━━━━━━━━━━━━━━━━━━━━━━━━ 162.8/162.8 kB 25.5 MB/s eta 0:00:00\n",
            "Collecting nbformat>=5.7\n",
            "  Downloading nbformat-5.10.4-py3-none-any.whl (78 kB)\n",
            "     ━━━━━━━━━━━━━━━━━━━━━━━━━━━━━━━━━━━━━━━━ 78.5/78.5 kB 12.1 MB/s eta 0:00:00\n",
            "Collecting pandocfilters>=1.4.1\n",
            "  Downloading pandocfilters-1.5.1-py2.py3-none-any.whl (8.7 kB)\n",
            "Collecting jupyterlab-pygments\n",
            "  Downloading jupyterlab_pygments-0.3.0-py3-none-any.whl (15 kB)\n",
            "Collecting tinycss2\n",
            "  Downloading tinycss2-1.3.0-py3-none-any.whl (22 kB)\n",
            "Collecting defusedxml\n",
            "  Downloading defusedxml-0.7.1-py2.py3-none-any.whl (25 kB)\n",
            "Collecting mistune<4,>=2.0.3\n",
            "  Downloading mistune-3.0.2-py3-none-any.whl (47 kB)\n",
            "     ━━━━━━━━━━━━━━━━━━━━━━━━━━━━━━━━━━━━━━━━ 48.0/48.0 kB 8.2 MB/s eta 0:00:00\n",
            "Requirement already satisfied: jinja2>=3.0 in /usr/local/lib/python3.10/site-packages (from nbconvert->jupyter->lingvo==0.12.7->paxml->-r /app/requirements.txt (line 2)) (3.1.4)\n",
            "Collecting nbclient>=0.5.0\n",
            "  Downloading nbclient-0.10.0-py3-none-any.whl (25 kB)\n",
            "Collecting qtpy>=2.4.0\n",
            "  Downloading QtPy-2.4.1-py3-none-any.whl (93 kB)\n",
            "     ━━━━━━━━━━━━━━━━━━━━━━━━━━━━━━━━━━━━━━━━ 93.5/93.5 kB 15.2 MB/s eta 0:00:00\n",
            "Collecting webencodings\n",
            "  Downloading webencodings-0.5.1-py2.py3-none-any.whl (11 kB)\n",
            "Collecting parso<0.9.0,>=0.8.3\n",
            "  Downloading parso-0.8.4-py2.py3-none-any.whl (103 kB)\n",
            "     ━━━━━━━━━━━━━━━━━━━━━━━━━━━━━━━━━━━━━━ 103.7/103.7 kB 17.1 MB/s eta 0:00:00\n",
            "Collecting jupyter-events>=0.9.0\n",
            "  Downloading jupyter_events-0.10.0-py3-none-any.whl (18 kB)\n",
            "Collecting overrides>=5.0\n",
            "  Downloading overrides-7.7.0-py3-none-any.whl (17 kB)\n",
            "Collecting terminado>=0.8.3\n",
            "  Downloading terminado-0.18.1-py3-none-any.whl (14 kB)\n",
            "Collecting jupyter-server-terminals>=0.4.4\n",
            "  Downloading jupyter_server_terminals-0.5.3-py3-none-any.whl (13 kB)\n",
            "Collecting websocket-client>=1.7\n",
            "  Downloading websocket_client-1.8.0-py3-none-any.whl (58 kB)\n",
            "     ━━━━━━━━━━━━━━━━━━━━━━━━━━━━━━━━━━━━━━━━ 58.8/58.8 kB 10.1 MB/s eta 0:00:00\n",
            "Collecting argon2-cffi>=21.1\n",
            "  Downloading argon2_cffi-23.1.0-py3-none-any.whl (15 kB)\n",
            "Collecting prometheus-client>=0.9\n",
            "  Downloading prometheus_client-0.20.0-py3-none-any.whl (54 kB)\n",
            "     ━━━━━━━━━━━━━━━━━━━━━━━━━━━━━━━━━━━━━━━━ 54.5/54.5 kB 6.7 MB/s eta 0:00:00\n",
            "Collecting send2trash>=1.8.2\n",
            "  Downloading Send2Trash-1.8.3-py3-none-any.whl (18 kB)\n",
            "Collecting async-lru>=1.0.0\n",
            "  Downloading async_lru-2.0.4-py3-none-any.whl (6.1 kB)\n",
            "Collecting jupyter-lsp>=2.0.0\n",
            "  Downloading jupyter_lsp-2.2.5-py3-none-any.whl (69 kB)\n",
            "     ━━━━━━━━━━━━━━━━━━━━━━━━━━━━━━━━━━━━━━━━ 69.1/69.1 kB 9.3 MB/s eta 0:00:00\n",
            "Requirement already satisfied: httpx>=0.25.0 in /usr/local/lib/python3.10/site-packages (from jupyterlab<4.3,>=4.2.0->notebook->jupyter->lingvo==0.12.7->paxml->-r /app/requirements.txt (line 2)) (0.27.0)\n",
            "Collecting tomli>=1.2.2\n",
            "  Downloading tomli-2.0.1-py3-none-any.whl (12 kB)\n",
            "Collecting json5>=0.9.0\n",
            "  Downloading json5-0.9.25-py3-none-any.whl (30 kB)\n",
            "Collecting jsonschema>=4.18.0\n",
            "  Downloading jsonschema-4.22.0-py3-none-any.whl (88 kB)\n",
            "     ━━━━━━━━━━━━━━━━━━━━━━━━━━━━━━━━━━━━━━━━ 88.3/88.3 kB 14.6 MB/s eta 0:00:00\n",
            "Collecting fastjsonschema>=2.15\n",
            "  Downloading fastjsonschema-2.19.1-py3-none-any.whl (23 kB)\n",
            "Collecting ptyprocess>=0.5\n",
            "  Downloading ptyprocess-0.7.0-py2.py3-none-any.whl (13 kB)\n",
            "Collecting wcwidth\n",
            "  Downloading wcwidth-0.2.13-py2.py3-none-any.whl (34 kB)\n",
            "Collecting pyasn1<0.7.0,>=0.4.6\n",
            "  Downloading pyasn1-0.6.0-py2.py3-none-any.whl (85 kB)\n",
            "     ━━━━━━━━━━━━━━━━━━━━━━━━━━━━━━━━━━━━━━━━ 85.3/85.3 kB 14.9 MB/s eta 0:00:00\n",
            "Collecting oauthlib>=3.0.0\n",
            "  Downloading oauthlib-3.2.2-py3-none-any.whl (151 kB)\n",
            "     ━━━━━━━━━━━━━━━━━━━━━━━━━━━━━━━━━━━━━━ 151.7/151.7 kB 25.0 MB/s eta 0:00:00\n",
            "Collecting soupsieve>1.2\n",
            "  Downloading soupsieve-2.5-py3-none-any.whl (36 kB)\n",
            "Collecting asttokens>=2.1.0\n",
            "  Downloading asttokens-2.4.1-py2.py3-none-any.whl (27 kB)\n",
            "Collecting executing>=1.2.0\n",
            "  Downloading executing-2.0.1-py2.py3-none-any.whl (24 kB)\n",
            "Collecting pure-eval\n",
            "  Downloading pure_eval-0.2.2-py3-none-any.whl (11 kB)\n",
            "Collecting argon2-cffi-bindings\n",
            "  Downloading argon2_cffi_bindings-21.2.0-cp36-abi3-manylinux_2_17_x86_64.manylinux2014_x86_64.whl (86 kB)\n",
            "     ━━━━━━━━━━━━━━━━━━━━━━━━━━━━━━━━━━━━━━━━ 86.2/86.2 kB 13.1 MB/s eta 0:00:00\n",
            "Requirement already satisfied: httpcore==1.* in /usr/local/lib/python3.10/site-packages (from httpx>=0.25.0->jupyterlab<4.3,>=4.2.0->notebook->jupyter->lingvo==0.12.7->paxml->-r /app/requirements.txt (line 2)) (1.0.5)\n",
            "Requirement already satisfied: h11<0.15,>=0.13 in /usr/local/lib/python3.10/site-packages (from httpcore==1.*->httpx>=0.25.0->jupyterlab<4.3,>=4.2.0->notebook->jupyter->lingvo==0.12.7->paxml->-r /app/requirements.txt (line 2)) (0.14.0)\n",
            "Collecting rpds-py>=0.7.1\n",
            "  Downloading rpds_py-0.18.1-cp310-cp310-manylinux_2_17_x86_64.manylinux2014_x86_64.whl (1.1 MB)\n",
            "     ━━━━━━━━━━━━━━━━━━━━━━━━━━━━━━━━━━━━━━━━ 1.1/1.1 MB 67.5 MB/s eta 0:00:00\n",
            "Collecting jsonschema-specifications>=2023.03.6\n",
            "  Downloading jsonschema_specifications-2023.12.1-py3-none-any.whl (18 kB)\n",
            "Collecting referencing>=0.28.4\n",
            "  Downloading referencing-0.35.1-py3-none-any.whl (26 kB)\n",
            "Collecting rfc3986-validator>=0.1.1\n",
            "  Downloading rfc3986_validator-0.1.1-py2.py3-none-any.whl (4.2 kB)\n",
            "Collecting python-json-logger>=2.0.4\n",
            "  Downloading python_json_logger-2.0.7-py3-none-any.whl (8.1 kB)\n",
            "Collecting rfc3339-validator\n",
            "  Downloading rfc3339_validator-0.1.4-py2.py3-none-any.whl (3.5 kB)\n",
            "Collecting fqdn\n",
            "  Downloading fqdn-1.5.1-py3-none-any.whl (9.1 kB)\n",
            "Collecting jsonpointer>1.13\n",
            "  Downloading jsonpointer-2.4-py2.py3-none-any.whl (7.8 kB)\n",
            "Collecting isoduration\n",
            "  Downloading isoduration-20.11.0-py3-none-any.whl (11 kB)\n",
            "Collecting webcolors>=1.11\n",
            "  Downloading webcolors-1.13-py3-none-any.whl (14 kB)\n",
            "Collecting uri-template\n",
            "  Downloading uri_template-1.3.0-py3-none-any.whl (11 kB)\n",
            "Collecting cffi>=1.0.1\n",
            "  Downloading cffi-1.16.0-cp310-cp310-manylinux_2_17_x86_64.manylinux2014_x86_64.whl (443 kB)\n",
            "     ━━━━━━━━━━━━━━━━━━━━━━━━━━━━━━━━━━━━━━ 443.9/443.9 kB 46.1 MB/s eta 0:00:00\n",
            "Collecting pycparser\n",
            "  Downloading pycparser-2.22-py3-none-any.whl (117 kB)\n",
            "     ━━━━━━━━━━━━━━━━━━━━━━━━━━━━━━━━━━━━━━ 117.6/117.6 kB 16.5 MB/s eta 0:00:00\n",
            "Collecting arrow>=0.15.0\n",
            "  Downloading arrow-1.3.0-py3-none-any.whl (66 kB)\n",
            "     ━━━━━━━━━━━━━━━━━━━━━━━━━━━━━━━━━━━━━━━━ 66.4/66.4 kB 10.7 MB/s eta 0:00:00\n",
            "Collecting types-python-dateutil>=2.8.10\n",
            "  Downloading types_python_dateutil-2.9.0.20240316-py3-none-any.whl (9.7 kB)\n",
            "Building wheels for collected packages: rouge-score, ml-collections, promise\n",
            "  Building wheel for rouge-score (setup.py): started\n",
            "  Building wheel for rouge-score (setup.py): finished with status 'done'\n",
            "  Created wheel for rouge-score: filename=rouge_score-0.1.2-py3-none-any.whl size=24933 sha256=5e39af5dfa8ceee2d569739cfee0161cabed44bf3c5a04d2f71b12a8be33c0b6\n",
            "  Stored in directory: /root/.cache/pip/wheels/5f/dd/89/461065a73be61a532ff8599a28e9beef17985c9e9c31e541b4\n",
            "  Building wheel for ml-collections (setup.py): started\n",
            "  Building wheel for ml-collections (setup.py): finished with status 'done'\n",
            "  Created wheel for ml-collections: filename=ml_collections-0.1.1-py3-none-any.whl size=94506 sha256=0ffd90828dbbe6af3b48fe989d9eb84cd05a09b254b65f9bd6b027289b636996\n",
            "  Stored in directory: /root/.cache/pip/wheels/7b/89/c9/a9b87790789e94aadcfc393c283e3ecd5ab916aed0a31be8fe\n",
            "  Building wheel for promise (setup.py): started\n",
            "  Building wheel for promise (setup.py): finished with status 'done'\n",
            "  Created wheel for promise: filename=promise-2.3-py3-none-any.whl size=21483 sha256=a7c8321da60755567b6e2ebfa417e8822cd650694407efdff132a828d1c35b27\n",
            "  Stored in directory: /root/.cache/pip/wheels/54/4e/28/3ed0e1c8a752867445bab994d2340724928aa3ab059c57c8db\n",
            "Successfully built rouge-score ml-collections promise\n",
            "Installing collected packages: webencodings, wcwidth, tensorboard-plugin-wit, sentencepiece, pytz, pure-eval, ptyprocess, mpmath, libclang, keras, gin-config, flatbuffers, fastjsonschema, dm-tree, zipp, wrapt, widgetsnbextension, werkzeug, websocket-client, webcolors, urllib3, uri-template, tzdata, types-python-dateutil, typeguard, traitlets, tqdm, tornado, toolz, tomli, toml, tinycss2, threadpoolctl, tf-keras, termcolor, tensorflow-io-gcs-filesystem, tensorflow-estimator, tensorboard-data-server, tabulate, sympy, soupsieve, six, send2trash, safetensors, rpds-py, rfc3986-validator, regex, qtpy, pyzmq, python-json-logger, pyparsing, pygments, pycparser, pyasn1, psutil, protobuf, prompt-toolkit, prometheus-client, portalocker, platformdirs, Pillow, pexpect, parso, pandocfilters, overrides, optax-shampoo, oauthlib, numpy, nest_asyncio, msgpack, model-pruning-google-research, mistune, mdurl, markdown, lxml, libcst, kiwisolver, jupyterlab-widgets, jupyterlab-pygments, jsonpointer, json5, joblib, jax-bitempered-loss, importlib_resources, immutabledict, grpcio, graphviz, graph-compression-google-research, gast, future, fsspec, fqdn, fonttools, filelock, executing, etils, einops, editdistance, docstring-parser, defusedxml, decorator, debugpy, cycler, contextlib2, colorama, charset-normalizer, cachetools, babel, attrs, async-lru, absl-py, terminado, tensorflow-hub, scipy, sacrebleu, rsa, rfc3339-validator, requests, referencing, python-dateutil, pyglove, pyasn1-modules, promise, opt-einsum, nltk, ml-dtypes, ml-collections, mesh-tensorflow, matplotlib-inline, markdown-it-py, keras-preprocessing, jupyter-core, jedi, jaxtyping, h5py, googleapis-common-protos, google-pasta, fiddle, einshape, contourpy, comm, cffi, bleach, beautifulsoup4, astunparse, asttokens, tensorstore, tensorflow-metadata, stack-data, scikit-learn, rouge-score, rich, requests-oauthlib, pandas, matplotlib, jupyter-server-terminals, jupyter-client, jsonschema-specifications, jaxlib, jax, huggingface-hub, google-auth, docker, arrow, argon2-cffi-bindings, utilsforecast, tokenizers, tensorflow-datasets, orbax-checkpoint, jsonschema, isoduration, ipython, google-auth-oauthlib, chex, array-record, argon2-cffi, transformers, tfds-nightly, tensorboard, optax, nbformat, ipywidgets, ipykernel, tensorflow, qtconsole, nbclient, jupyter-events, jupyter-console, flax, tensorflow-text, nbconvert, clu, seqio-nightly, jupyter-server, t5, notebook-shim, jupyterlab-server, jupyter-lsp, jupyterlab, notebook, jupyter-http-over-ws, jupyter, lingvo, praxis, paxml\n",
            "Successfully installed Pillow-10.3.0 absl-py-1.4.0 argon2-cffi-23.1.0 argon2-cffi-bindings-21.2.0 array-record-0.5.1 arrow-1.3.0 asttokens-2.4.1 astunparse-1.6.3 async-lru-2.0.4 attrs-23.2.0 babel-2.15.0 beautifulsoup4-4.12.3 bleach-6.1.0 cachetools-5.3.3 cffi-1.16.0 charset-normalizer-3.3.2 chex-0.1.86 clu-0.0.11 colorama-0.4.6 comm-0.2.2 contextlib2-21.6.0 contourpy-1.2.1 cycler-0.12.1 debugpy-1.8.1 decorator-5.1.1 defusedxml-0.7.1 dm-tree-0.1.8 docker-7.1.0 docstring-parser-0.16 editdistance-0.8.1 einops-0.7.0 einshape-1.0 etils-1.7.0 executing-2.0.1 fastjsonschema-2.19.1 fiddle-0.3.0 filelock-3.14.0 flatbuffers-1.12 flax-0.8.2 fonttools-4.51.0 fqdn-1.5.1 fsspec-2024.5.0 future-1.0.0 gast-0.4.0 gin-config-0.5.0 google-auth-2.29.0 google-auth-oauthlib-0.4.6 google-pasta-0.2.0 googleapis-common-protos-1.63.0 graph-compression-google-research-0.0.4 graphviz-0.20.1 grpcio-1.64.0 h5py-3.11.0 huggingface-hub-0.23.1 immutabledict-4.2.0 importlib_resources-6.4.0 ipykernel-6.29.4 ipython-8.24.0 ipywidgets-8.1.2 isoduration-20.11.0 jax-0.4.26 jax-bitempered-loss-0.0.2 jaxlib-0.4.28 jaxtyping-0.2.28 jedi-0.19.1 joblib-1.4.2 json5-0.9.25 jsonpointer-2.4 jsonschema-4.22.0 jsonschema-specifications-2023.12.1 jupyter-1.0.0 jupyter-client-8.6.2 jupyter-console-6.6.3 jupyter-core-5.7.2 jupyter-events-0.10.0 jupyter-http-over-ws-0.0.8 jupyter-lsp-2.2.5 jupyter-server-2.14.0 jupyter-server-terminals-0.5.3 jupyterlab-4.2.1 jupyterlab-pygments-0.3.0 jupyterlab-server-2.27.2 jupyterlab-widgets-3.0.10 keras-2.9.0 keras-preprocessing-1.1.2 kiwisolver-1.4.5 libclang-18.1.1 libcst-1.4.0 lingvo-0.12.7 lxml-5.2.2 markdown-3.6 markdown-it-py-3.0.0 matplotlib-3.9.0 matplotlib-inline-0.1.7 mdurl-0.1.2 mesh-tensorflow-0.1.21 mistune-3.0.2 ml-collections-0.1.1 ml-dtypes-0.4.0 model-pruning-google-research-0.0.5 mpmath-1.3.0 msgpack-1.0.8 nbclient-0.10.0 nbconvert-7.16.4 nbformat-5.10.4 nest_asyncio-1.6.0 nltk-3.8.1 notebook-7.2.0 notebook-shim-0.2.4 numpy-1.26.4 oauthlib-3.2.2 opt-einsum-3.3.0 optax-0.2.2 optax-shampoo-0.0.6 orbax-checkpoint-0.5.9 overrides-7.7.0 pandas-2.2.2 pandocfilters-1.5.1 parso-0.8.4 paxml-1.4.0 pexpect-4.9.0 platformdirs-4.2.2 portalocker-2.8.2 praxis-1.4.0 prometheus-client-0.20.0 promise-2.3 prompt-toolkit-3.0.43 protobuf-3.19.6 psutil-5.9.8 ptyprocess-0.7.0 pure-eval-0.2.2 pyasn1-0.6.0 pyasn1-modules-0.4.0 pycparser-2.22 pyglove-0.4.4 pygments-2.18.0 pyparsing-3.1.2 python-dateutil-2.9.0.post0 python-json-logger-2.0.7 pytz-2024.1 pyzmq-26.0.3 qtconsole-5.5.2 qtpy-2.4.1 referencing-0.35.1 regex-2024.5.15 requests-2.32.2 requests-oauthlib-2.0.0 rfc3339-validator-0.1.4 rfc3986-validator-0.1.1 rich-13.7.1 rouge-score-0.1.2 rpds-py-0.18.1 rsa-4.9 sacrebleu-2.4.2 safetensors-0.4.3 scikit-learn-1.5.0 scipy-1.13.1 send2trash-1.8.3 sentencepiece-0.1.99 seqio-nightly-0.0.17.dev20231010 six-1.16.0 soupsieve-2.5 stack-data-0.6.3 sympy-1.12 t5-0.9.4 tabulate-0.9.0 tensorboard-2.9.1 tensorboard-data-server-0.6.1 tensorboard-plugin-wit-1.8.1 tensorflow-2.9.3 tensorflow-datasets-4.8.3 tensorflow-estimator-2.9.0 tensorflow-hub-0.16.1 tensorflow-io-gcs-filesystem-0.37.0 tensorflow-metadata-1.12.0 tensorflow-text-2.9.0 tensorstore-0.1.55 termcolor-2.4.0 terminado-0.18.1 tf-keras-2.15.0 tfds-nightly-4.8.3.dev202303280045 threadpoolctl-3.5.0 tinycss2-1.3.0 tokenizers-0.19.1 toml-0.10.2 tomli-2.0.1 toolz-0.12.1 tornado-6.4 tqdm-4.66.4 traitlets-5.14.3 transformers-4.41.1 typeguard-2.13.3 types-python-dateutil-2.9.0.20240316 tzdata-2024.1 uri-template-1.3.0 urllib3-2.2.1 utilsforecast-0.1.10 wcwidth-0.2.13 webcolors-1.13 webencodings-0.5.1 websocket-client-1.8.0 werkzeug-3.0.3 widgetsnbextension-4.0.10 wrapt-1.16.0 zipp-3.18.2\n",
            "\u001b[91mWARNING: Running pip as the 'root' user can result in broken permissions and conflicting behaviour with the system package manager. It is recommended to use a virtual environment instead: https://pip.pypa.io/warnings/venv\n",
            "\u001b[0m\u001b[91m\n",
            "[notice] A new release of pip is available: 23.0.1 -> 24.0\n",
            "[notice] To update, run: pip install --upgrade pip\n",
            "\u001b[0mRemoving intermediate container f67b582310b3\n",
            " ---> 921d88a323c8\n",
            "Step 4/8 : COPY timesfm_serving/ /app\n",
            " ---> a06409b6560a\n",
            "Step 5/8 : RUN git clone https://github.com/google-research/timesfm.git\n",
            " ---> Running in 571dd64e1aa4\n",
            "\u001b[91mCloning into 'timesfm'...\n",
            "\u001b[0mRemoving intermediate container 571dd64e1aa4\n",
            " ---> 49c7e94393c6\n",
            "Step 6/8 : RUN rm timesfm/__init__.py\n",
            " ---> Running in 637ae899a7e8\n",
            "Removing intermediate container 637ae899a7e8\n",
            " ---> 312fa85463bc\n",
            "Step 7/8 : RUN sed -i 's#^from src#from .#g' timesfm/src/timesfm.py\n",
            " ---> Running in 995be9d195a9\n",
            "Removing intermediate container 995be9d195a9\n",
            " ---> e4c1002cbc08\n",
            "Step 8/8 : CMD [\"python\", \"main.py\"]\n",
            " ---> Running in 0589af10ce7d\n",
            "Removing intermediate container 0589af10ce7d\n",
            " ---> 7506935aa657\n",
            "Successfully built 7506935aa657\n",
            "Successfully tagged us-central1-docker.pkg.dev/argolis-project-340214/googleio24/timesfm-001-200m:latest\n",
            "PUSH\n",
            "Pushing us-central1-docker.pkg.dev/argolis-project-340214/googleio24/timesfm-001-200m\n",
            "The push refers to repository [us-central1-docker.pkg.dev/argolis-project-340214/googleio24/timesfm-001-200m]\n",
            "48548fa161b9: Preparing\n",
            "8e232fc6a4f4: Preparing\n",
            "2160814a19c9: Preparing\n",
            "78c3b9764d55: Preparing\n",
            "2ef22edebea9: Preparing\n",
            "059a541084b1: Preparing\n",
            "c693c81ba348: Preparing\n",
            "557222c7dbce: Preparing\n",
            "dea29dede57a: Preparing\n",
            "5f70bf18a086: Preparing\n",
            "19b2919547f9: Preparing\n",
            "c8c7004cad14: Preparing\n",
            "d26a05b398ec: Preparing\n",
            "ccdf5363c32f: Preparing\n",
            "c089cd8e039b: Preparing\n",
            "f8b912b0934e: Preparing\n",
            "11204877a559: Preparing\n",
            "7b4a7e75d6ce: Preparing\n",
            "b43c1d914be6: Preparing\n",
            "0a1f19c0d90d: Preparing\n",
            "a8273e3b1197: Preparing\n",
            "cbe4fb5e267b: Preparing\n",
            "734c0f0b65c2: Preparing\n",
            "8845ab872c1c: Preparing\n",
            "d7d4c2f9d26b: Preparing\n",
            "bbe1a212f7e9: Preparing\n",
            "059a541084b1: Waiting\n",
            "c693c81ba348: Waiting\n",
            "557222c7dbce: Waiting\n",
            "dea29dede57a: Waiting\n",
            "5f70bf18a086: Waiting\n",
            "19b2919547f9: Waiting\n",
            "c8c7004cad14: Waiting\n",
            "d26a05b398ec: Waiting\n",
            "ccdf5363c32f: Waiting\n",
            "c089cd8e039b: Waiting\n",
            "f8b912b0934e: Waiting\n",
            "11204877a559: Waiting\n",
            "7b4a7e75d6ce: Waiting\n",
            "b43c1d914be6: Waiting\n",
            "0a1f19c0d90d: Waiting\n",
            "a8273e3b1197: Waiting\n",
            "cbe4fb5e267b: Waiting\n",
            "734c0f0b65c2: Waiting\n",
            "8845ab872c1c: Waiting\n",
            "d7d4c2f9d26b: Waiting\n",
            "bbe1a212f7e9: Waiting\n",
            "78c3b9764d55: Pushed\n",
            "48548fa161b9: Pushed\n",
            "8e232fc6a4f4: Pushed\n",
            "2160814a19c9: Pushed\n",
            "059a541084b1: Pushed\n",
            "c693c81ba348: Pushed\n",
            "dea29dede57a: Pushed\n",
            "5f70bf18a086: Layer already exists\n",
            "557222c7dbce: Pushed\n",
            "19b2919547f9: Pushed\n",
            "c8c7004cad14: Pushed\n",
            "d26a05b398ec: Pushed\n",
            "ccdf5363c32f: Pushed\n",
            "f8b912b0934e: Pushed\n",
            "c089cd8e039b: Pushed\n",
            "7b4a7e75d6ce: Pushed\n",
            "11204877a559: Pushed\n",
            "0a1f19c0d90d: Pushed\n",
            "b43c1d914be6: Pushed\n",
            "cbe4fb5e267b: Pushed\n",
            "a8273e3b1197: Pushed\n",
            "d7d4c2f9d26b: Pushed\n",
            "8845ab872c1c: Pushed\n",
            "bbe1a212f7e9: Pushed\n",
            "734c0f0b65c2: Pushed\n",
            "2ef22edebea9: Pushed\n",
            "latest: digest: sha256:ae941bfe39a080ac21a60c3f781c92b7cbee7f59429fd0e25aa1607d95604766 size: 5754\n",
            "DONE\n",
            "\n",
            "ID                                    CREATE_TIME                DURATION  SOURCE                                                                                                IMAGES                                                                                   STATUS\n",
            "0e3254ec-7ca6-4c6c-9d4b-e6eb1727cb63  2024-05-24T01:23:15+00:00  7M30S     gs://argolis-project-340214_cloudbuild/source/1716513794.648469-5b9660f810954df8aa352c2e483d6291.tgz  us-central1-docker.pkg.dev/argolis-project-340214/googleio24/timesfm-001-200m (+1 more)  SUCCESS\n",
            "/content\n"
          ]
        }
      ]
    },
    {
      "cell_type": "code",
      "source": [
        "!echo $TIMESFM_IMAGE_URI"
      ],
      "metadata": {
        "colab": {
          "base_uri": "https://localhost:8080/"
        },
        "id": "k5tof6IIWOi-",
        "outputId": "85332bec-5230-449f-b659-5356949245a0"
      },
      "execution_count": 26,
      "outputs": [
        {
          "output_type": "stream",
          "name": "stdout",
          "text": [
            "us-central1-docker.pkg.dev/argolis-project-340214/googleio24/timesfm-001-200m\n"
          ]
        }
      ]
    },
    {
      "cell_type": "code",
      "source": [
        "DEPLOY_IMAGE = \"https://cloudbuild.googleapis.com/v1/projects/argolis-project-340214/locations/global/builds/0e3254ec-7ca6-4c6c-9d4b-e6eb1727cb63\""
      ],
      "metadata": {
        "id": "WWCShMTxXR_Y"
      },
      "execution_count": 27,
      "outputs": []
    },
    {
      "cell_type": "code",
      "source": [
        "#@title Run the container locally\n",
        "local_model = LocalModel(\n",
        "    serving_container_image_uri=TIMESFM_IMAGE_URI,\n",
        "    serving_container_predict_route=DEFAULT_PREDICT_ROUTE,\n",
        "    serving_container_health_route=DEFAULT_HEALTH_ROUTE,\n",
        "    serving_container_ports=[DEFAULT_HTTP_PORT],\n",
        ")"
      ],
      "metadata": {
        "id": "RBzB5prl5IPX"
      },
      "execution_count": 80,
      "outputs": []
    },
    {
      "cell_type": "code",
      "source": [
        "local_model.get_serving_container_spec()"
      ],
      "metadata": {
        "colab": {
          "base_uri": "https://localhost:8080/"
        },
        "id": "bur9wb2A5DP9",
        "outputId": "56473f28-8622-41de-a2a2-4f27bcc82084"
      },
      "execution_count": 81,
      "outputs": [
        {
          "output_type": "execute_result",
          "data": {
            "text/plain": [
              "image_uri: \"us-central1-docker.pkg.dev/argolis-project-340214/googleio24/timesfm-001-200m\"\n",
              "ports {\n",
              "  container_port: 8501\n",
              "}\n",
              "predict_route: \"/predict\"\n",
              "health_route: \"/health\""
            ]
          },
          "metadata": {},
          "execution_count": 81
        }
      ]
    },
    {
      "cell_type": "code",
      "source": [
        "inputs = [list(np.linspace(0, 1, 100)), list(np.sin(np.linspace(0, 20, 200)))]\n",
        "payload = {\"instances\": [{\"inputs\": inputs}]}\n",
        "\n",
        "with open('payload.json', 'w') as f:\n",
        "    json.dump(payload, f)"
      ],
      "metadata": {
        "id": "H2W_uJnqQKTS"
      },
      "execution_count": 82,
      "outputs": []
    },
    {
      "cell_type": "code",
      "source": [
        "!sudo service docker restart"
      ],
      "metadata": {
        "id": "1RhU7MDIRqkc"
      },
      "execution_count": 90,
      "outputs": []
    },
    {
      "cell_type": "code",
      "source": [
        "from google.cloud import aiplatform\n",
        "print(\"aiplatform version: \", aiplatform.__version__)"
      ],
      "metadata": {
        "colab": {
          "base_uri": "https://localhost:8080/"
        },
        "id": "0uNpxMOLSOvo",
        "outputId": "ba7a118f-74ce-460d-9b6e-7f87b4d32454"
      },
      "execution_count": 61,
      "outputs": [
        {
          "output_type": "stream",
          "name": "stdout",
          "text": [
            "aiplatform version:  1.52.0\n"
          ]
        }
      ]
    },
    {
      "cell_type": "code",
      "source": [
        "IS_COLAB = False\n",
        "if \"google.colab\" in sys.modules:\n",
        "  IS_COLAB = True\n",
        "#%%bash -s $IS_COLAB $DEPLOY_IMAGE $TIMESFM_IMAGE_URI\n"
      ],
      "metadata": {
        "id": "8cPcgX2KYF5n"
      },
      "execution_count": null,
      "outputs": []
    },
    {
      "cell_type": "code",
      "source": [
        "TIMESFM_IMAGE_URI"
      ],
      "metadata": {
        "colab": {
          "base_uri": "https://localhost:8080/",
          "height": 35
        },
        "id": "45HSSZokZs40",
        "outputId": "86ffa450-eea3-41c7-9172-b795c9e40810"
      },
      "execution_count": 41,
      "outputs": [
        {
          "output_type": "execute_result",
          "data": {
            "text/plain": [
              "'us-central1-docker.pkg.dev/argolis-project-340214/googleio24/timesfm-001-200m'"
            ],
            "application/vnd.google.colaboratory.intrinsic+json": {
              "type": "string"
            }
          },
          "metadata": {},
          "execution_count": 41
        }
      ]
    },
    {
      "cell_type": "code",
      "source": [
        "!TIMESFM_IMAGE_URI=$TIMESFM_IMAGE_URI\n",
        "!DEPLOY_IMAGE=$DEPLOY_IMAGE\n"
      ],
      "metadata": {
        "id": "7Mn8Apj4Y-Rb"
      },
      "execution_count": 71,
      "outputs": []
    },
    {
      "cell_type": "code",
      "source": [
        "%%bash -s $TIMESFM_IMAGE_URI $DEPLOY_IMAGE\n",
        "set -x\n",
        "echo \"Got param1 as:\" $1\n",
        "echo \"Got param2 as:\" $2\n",
        "dockerd -b none --iptables=0 -l warn &\n",
        "for i in $(seq 5); do [ ! -S \"/var/run/docker.sock\" ] && sleep 2 || break; done\n",
        "docker pull $1\n",
        "docker tag $1 $2\n",
        "docker push $2\n",
        "kill $(jobs -p)"
      ],
      "metadata": {
        "colab": {
          "base_uri": "https://localhost:8080/"
        },
        "id": "7QLa4REPTJND",
        "outputId": "831d0ca4-8026-4931-c3a5-942e09a08113"
      },
      "execution_count": 83,
      "outputs": [
        {
          "output_type": "stream",
          "name": "stdout",
          "text": [
            "Got param1 as: us-central1-docker.pkg.dev/argolis-project-340214/googleio24/timesfm-001-200m\n",
            "Got param2 as: https://cloudbuild.googleapis.com/v1/projects/argolis-project-340214/locations/global/builds/0e3254ec-7ca6-4c6c-9d4b-e6eb1727cb63\n",
            "Using default tag: latest\n",
            "latest: Pulling from argolis-project-340214/googleio24/timesfm-001-200m\n",
            "c6cf28de8a06: Already exists\n",
            "891494355808: Already exists\n",
            "6582c62583ef: Already exists\n",
            "bf2c3e352f3d: Already exists\n",
            "a99509a32390: Already exists\n",
            "946285778af4: Already exists\n",
            "b2ab5d29389b: Already exists\n",
            "d76e704b1be9: Already exists\n",
            "32b14c58fcfc: Already exists\n",
            "49c9ff2efd6b: Already exists\n",
            "5119e73f1536: Already exists\n",
            "b82c8e4a85c6: Already exists\n",
            "30c0e033ca4b: Already exists\n",
            "88ccd20b36d3: Already exists\n",
            "abf00b58c1b0: Pulling fs layer\n",
            "8e6b754449a4: Pulling fs layer\n",
            "4f4fb700ef54: Pulling fs layer\n",
            "12eeb765d0fa: Pulling fs layer\n",
            "9bab74df5c6b: Pulling fs layer\n",
            "e64e5e7eb223: Pulling fs layer\n",
            "e4f838478090: Pulling fs layer\n",
            "74e15fee10a2: Pulling fs layer\n",
            "af22d1c1dda2: Pulling fs layer\n",
            "50fbc783d0e0: Pulling fs layer\n",
            "369dd2ab46b3: Pulling fs layer\n",
            "6df29dd829f6: Pulling fs layer\n",
            "e4f838478090: Waiting\n",
            "74e15fee10a2: Waiting\n",
            "af22d1c1dda2: Waiting\n",
            "50fbc783d0e0: Waiting\n",
            "369dd2ab46b3: Waiting\n",
            "12eeb765d0fa: Waiting\n",
            "9bab74df5c6b: Waiting\n",
            "e64e5e7eb223: Waiting\n",
            "6df29dd829f6: Waiting\n",
            "4f4fb700ef54: Verifying Checksum\n",
            "4f4fb700ef54: Download complete\n",
            "abf00b58c1b0: Verifying Checksum\n",
            "abf00b58c1b0: Download complete\n",
            "8e6b754449a4: Verifying Checksum\n",
            "8e6b754449a4: Download complete\n",
            "12eeb765d0fa: Verifying Checksum\n",
            "12eeb765d0fa: Download complete\n",
            "e64e5e7eb223: Verifying Checksum\n",
            "e64e5e7eb223: Download complete\n",
            "e4f838478090: Verifying Checksum\n",
            "e4f838478090: Download complete\n",
            "9bab74df5c6b: Verifying Checksum\n",
            "9bab74df5c6b: Download complete\n",
            "af22d1c1dda2: Verifying Checksum\n",
            "af22d1c1dda2: Download complete\n",
            "50fbc783d0e0: Verifying Checksum\n",
            "50fbc783d0e0: Download complete\n",
            "369dd2ab46b3: Verifying Checksum\n",
            "369dd2ab46b3: Download complete\n",
            "6df29dd829f6: Verifying Checksum\n",
            "6df29dd829f6: Download complete\n",
            "abf00b58c1b0: Pull complete\n",
            "8e6b754449a4: Pull complete\n",
            "4f4fb700ef54: Pull complete\n",
            "74e15fee10a2: Verifying Checksum\n",
            "74e15fee10a2: Download complete\n",
            "12eeb765d0fa: Pull complete\n",
            "9bab74df5c6b: Pull complete\n",
            "e64e5e7eb223: Pull complete\n",
            "e4f838478090: Pull complete\n",
            "74e15fee10a2: Pull complete\n",
            "af22d1c1dda2: Pull complete\n",
            "50fbc783d0e0: Pull complete\n",
            "369dd2ab46b3: Pull complete\n",
            "6df29dd829f6: Pull complete\n",
            "Digest: sha256:ae941bfe39a080ac21a60c3f781c92b7cbee7f59429fd0e25aa1607d95604766\n",
            "Status: Downloaded newer image for us-central1-docker.pkg.dev/argolis-project-340214/googleio24/timesfm-001-200m:latest\n",
            "us-central1-docker.pkg.dev/argolis-project-340214/googleio24/timesfm-001-200m:latest\n"
          ]
        },
        {
          "output_type": "stream",
          "name": "stderr",
          "text": [
            "+ echo 'Got param1 as:' us-central1-docker.pkg.dev/argolis-project-340214/googleio24/timesfm-001-200m\n",
            "+ echo 'Got param2 as:' https://cloudbuild.googleapis.com/v1/projects/argolis-project-340214/locations/global/builds/0e3254ec-7ca6-4c6c-9d4b-e6eb1727cb63\n",
            "++ seq 5\n",
            "+ for i in $(seq 5)\n",
            "+ '[' '!' -S /var/run/docker.sock ']'\n",
            "+ sleep 2\n",
            "+ dockerd -b none --iptables=0 -l warn\n",
            "time=\"2024-05-24T02:28:21.838829849Z\" level=warning msg=\"failed to load plugin io.containerd.snapshotter.v1.devmapper\" error=\"devmapper not configured\"\n",
            "time=\"2024-05-24T02:28:21.839344540Z\" level=warning msg=\"could not use snapshotter devmapper in metadata plugin\" error=\"devmapper not configured\"\n",
            "time=\"2024-05-24T02:28:21.841938820Z\" level=error msg=\"failed to initialize a tracing processor \\\"otlp\\\"\" error=\"no OpenTelemetry endpoint: skip plugin\"\n",
            "time=\"2024-05-24T02:28:21.887473307Z\" level=error msg=\"failed to mount overlay: invalid argument\" storage-driver=overlay2\n",
            "time=\"2024-05-24T02:28:21.887602376Z\" level=error msg=\"exec: \\\"fuse-overlayfs\\\": executable file not found in $PATH\" storage-driver=fuse-overlayfs\n",
            "time=\"2024-05-24T02:28:21.919831641Z\" level=warning msg=\"Failed to disable IPv6 on all interfaces on network namespace \\\"/var/run/docker/netns/65678b632bca\\\": failed to disable IPv6 forwarding for container's interface all: open /proc/sys/net/ipv6/conf/all/disable_ipv6: read-only file system\"\n",
            "time=\"2024-05-24T02:28:21.920152565Z\" level=error msg=\"failed to create osl sandbox while trying to restore sandbox 65678b6 for cleanup: operation not permitted\"\n",
            "time=\"2024-05-24T02:28:21.937188913Z\" level=warning msg=\"WARNING: No swap limit support\"\n",
            "+ for i in $(seq 5)\n",
            "+ '[' '!' -S /var/run/docker.sock ']'\n",
            "+ break\n",
            "+ docker pull us-central1-docker.pkg.dev/argolis-project-340214/googleio24/timesfm-001-200m\n",
            "+ docker tag us-central1-docker.pkg.dev/argolis-project-340214/googleio24/timesfm-001-200m https://cloudbuild.googleapis.com/v1/projects/argolis-project-340214/locations/global/builds/0e3254ec-7ca6-4c6c-9d4b-e6eb1727cb63\n",
            "Error parsing reference: \"https://cloudbuild.googleapis.com/v1/projects/argolis-project-340214/locations/global/builds/0e3254ec-7ca6-4c6c-9d4b-e6eb1727cb63\" is not a valid repository/tag: invalid reference format\n",
            "+ docker push https://cloudbuild.googleapis.com/v1/projects/argolis-project-340214/locations/global/builds/0e3254ec-7ca6-4c6c-9d4b-e6eb1727cb63\n",
            "invalid reference format\n",
            "++ jobs -p\n",
            "+ kill 83663\n"
          ]
        }
      ]
    },
    {
      "cell_type": "code",
      "source": [
        "%%writefile dockerstart.sh\n",
        "nohup dockerd -b none --iptables=0 -l warn &\n",
        "#cat /var/run/docker.sock"
      ],
      "metadata": {
        "colab": {
          "base_uri": "https://localhost:8080/"
        },
        "id": "1X70zVJYtgd_",
        "outputId": "6737c15c-afa0-4722-c4e1-27152187be04"
      },
      "execution_count": 99,
      "outputs": [
        {
          "output_type": "stream",
          "name": "stdout",
          "text": [
            "Overwriting dockerstart.sh\n"
          ]
        }
      ]
    },
    {
      "cell_type": "code",
      "source": [
        "%%bash\n",
        "chmod +x dockerstart.sh\n",
        "./dockerstart.sh"
      ],
      "metadata": {
        "colab": {
          "base_uri": "https://localhost:8080/"
        },
        "id": "XUxDFq02EaLn",
        "outputId": "c087fc86-8565-421c-9492-5714ab474000"
      },
      "execution_count": 102,
      "outputs": [
        {
          "output_type": "stream",
          "name": "stdout",
          "text": [
            "Process is interrupted.\n"
          ]
        }
      ]
    },
    {
      "cell_type": "code",
      "source": [
        "%%bash\n",
        "ps -ef | grep docker"
      ],
      "metadata": {
        "colab": {
          "base_uri": "https://localhost:8080/"
        },
        "id": "R_3VkQWewohb",
        "outputId": "8897ed9e-d1c4-4bd3-e6ba-fbfd0b7e2feb"
      },
      "execution_count": 94,
      "outputs": [
        {
          "output_type": "stream",
          "name": "stdout",
          "text": [
            "root           1       0  0 15:49 ?        00:00:01 /sbin/docker-init -- /datalab/run.sh\n",
            "root      113976  113974  0 23:22 ?        00:00:00 grep docker\n"
          ]
        }
      ]
    },
    {
      "cell_type": "code",
      "source": [
        "\n",
        "%%bash -s $TIMESFM_IMAGE_URI $DEPLOY_IMAGE\n",
        "set -x\n",
        "echo \"Got param1 as:\" $1\n",
        "echo \"Got param2 as:\" $2\n",
        "dockerd -b none --iptables=0 -l warn &\n",
        "for i in $(seq 5); do [ ! -S \"/var/run/docker.sock\" ] && sleep 2 || break; done\n",
        "docker pull $1\n"
      ],
      "metadata": {
        "colab": {
          "base_uri": "https://localhost:8080/"
        },
        "id": "stInjdOHokae",
        "outputId": "63608ae4-1f10-4f38-ff5e-ca08600f44ba"
      },
      "execution_count": 47,
      "outputs": [
        {
          "output_type": "stream",
          "name": "stdout",
          "text": [
            "Process is interrupted.\n"
          ]
        }
      ]
    },
    {
      "cell_type": "code",
      "source": [
        "endpoint = local_model.deploy_to_local_endpoint(    artifact_uri=f'{GCS_TIMESFM_CKPT_PATH}/checkpoints',\n",
        "    host_port=DEFAULT_HTTP_PORT)"
      ],
      "metadata": {
        "id": "5wJ-Dk5vnOUZ"
      },
      "execution_count": 88,
      "outputs": []
    },
    {
      "cell_type": "code",
      "source": [
        "!ls \"/var/run/docker.sock\""
      ],
      "metadata": {
        "colab": {
          "base_uri": "https://localhost:8080/"
        },
        "id": "5nKdNx2UojT8",
        "outputId": "b2061856-5766-4a18-df05-e34cd74ce63e"
      },
      "execution_count": 91,
      "outputs": [
        {
          "output_type": "stream",
          "name": "stdout",
          "text": [
            "ls: cannot access '/var/run/docker.sock': No such file or directory\n"
          ]
        }
      ]
    },
    {
      "cell_type": "code",
      "source": [
        "#endpoint.artifact_uri = f'{GCS_TIMESFM_CKPT_PATH}/checkpoints'\n",
        "print(\"Serve:\", endpoint.serve())\n",
        "print(endpoint.artifact_uri,\n",
        "endpoint.container_port,\n",
        "endpoint.container_is_running,\n",
        "      endpoint.run_health_check())"
      ],
      "metadata": {
        "id": "h1Q0OLSKnS5Z"
      },
      "execution_count": null,
      "outputs": []
    },
    {
      "cell_type": "code",
      "source": [
        "with local_model.deploy_to_local_endpoint(\n",
        "    artifact_uri=f'{GCS_TIMESFM_CKPT_PATH}/checkpoints',\n",
        "    host_port=DEFAULT_HTTP_PORT\n",
        ") as local_endpoint:\n",
        "\n",
        "    health_check_response = local_endpoint.run_health_check()\n",
        "    predict_response = local_endpoint.predict(\n",
        "        request_file='payload.json',\n",
        "        headers={\"Content-Type\": \"application/json\"}\n",
        "    )"
      ],
      "metadata": {
        "id": "HOmBtqOlQQhL"
      },
      "execution_count": null,
      "outputs": []
    },
    {
      "cell_type": "code",
      "source": [
        "%%shell\n",
        "\n",
        "sudo apt update -qq\n",
        "\n",
        "sudo apt install apt-transport-https ca-certificates curl software-properties-common -qq\n",
        "\n",
        "curl -fsSL https://download.docker.com/linux/ubuntu/gpg | sudo apt-key add -\n",
        "\n",
        "sudo add-apt-repository \"deb [arch=amd64] https://download.docker.com/linux/ubuntu bionic stable\" &\n",
        "\n",
        "sudo apt update -qq\n",
        "\n",
        "sudo apt install docker-ce\n"
      ],
      "metadata": {
        "colab": {
          "base_uri": "https://localhost:8080/"
        },
        "id": "co9VZPxN0XkG",
        "outputId": "520742f1-8ef3-4005-f21e-3437c0946aaa"
      },
      "execution_count": 45,
      "outputs": [
        {
          "output_type": "stream",
          "name": "stdout",
          "text": [
            "45 packages can be upgraded. Run 'apt list --upgradable' to see them.\n",
            "ca-certificates is already the newest version (20230311ubuntu0.22.04.1).\n",
            "curl is already the newest version (7.81.0-1ubuntu1.16).\n",
            "software-properties-common is already the newest version (0.99.22.9).\n",
            "The following NEW packages will be installed:\n",
            "  apt-transport-https\n",
            "0 upgraded, 1 newly installed, 0 to remove and 45 not upgraded.\n",
            "Need to get 1,510 B of archives.\n",
            "After this operation, 170 kB of additional disk space will be used.\n",
            "debconf: unable to initialize frontend: Dialog\n",
            "debconf: (No usable dialog-like program is installed, so the dialog based frontend cannot be used. at /usr/share/perl5/Debconf/FrontEnd/Dialog.pm line 78, <> line 1.)\n",
            "debconf: falling back to frontend: Readline\n",
            "debconf: unable to initialize frontend: Readline\n",
            "debconf: (This frontend requires a controlling tty.)\n",
            "debconf: falling back to frontend: Teletype\n",
            "dpkg-preconfigure: unable to re-open stdin: \n",
            "Selecting previously unselected package apt-transport-https.\n",
            "(Reading database ... 121918 files and directories currently installed.)\n",
            "Preparing to unpack .../apt-transport-https_2.4.12_all.deb ...\n",
            "Unpacking apt-transport-https (2.4.12) ...\n",
            "Setting up apt-transport-https (2.4.12) ...\n",
            "Warning: apt-key is deprecated. Manage keyring files in trusted.gpg.d instead (see apt-key(8)).\n",
            "OK\n",
            "Repository: 'deb [arch=amd64] https://download.docker.com/linux/ubuntu bionic stable'\n",
            "Description:\n",
            "Archive for codename: bionic components: stable\n",
            "More info: https://download.docker.com/linux/ubuntu\n",
            "Adding repository.\n",
            "Adding deb entry to /etc/apt/sources.list.d/archive_uri-https_download_docker_com_linux_ubuntu-jammy.list\n",
            "Adding disabled deb-src entry to /etc/apt/sources.list.d/archive_uri-https_download_docker_com_linux_ubuntu-jammy.list\n",
            "Hit:1 http://security.ubuntu.com/ubuntu jammy-security InRelease\n",
            "Get:2 https://download.docker.com/linux/ubuntu bionic InRelease [64.4 kB]\n",
            "Hit:3 https://cloud.r-project.org/bin/linux/ubuntu jammy-cran40/ InRelease\n",
            "Hit:4 https://developer.download.nvidia.com/compute/cuda/repos/ubuntu2204/x86_64  InRelease\n",
            "Hit:5 https://ppa.launchpadcontent.net/c2d4u.team/c2d4u4.0+/ubuntu jammy InRelease\n",
            "Hit:6 http://archive.ubuntu.com/ubuntu jammy InRelease\n",
            "Hit:7 https://ppa.launchpadcontent.net/deadsnakes/ppa/ubuntu jammy InRelease\n",
            "Hit:8 https://ppa.launchpadcontent.net/graphics-drivers/ppa/ubuntu jammy InRelease\n",
            "Hit:9 https://ppa.launchpadcontent.net/ubuntugis/ppa/ubuntu jammy InRelease\n",
            "Hit:10 http://archive.ubuntu.com/ubuntu jammy-updates InRelease\n",
            "Hit:11 http://archive.ubuntu.com/ubuntu jammy-backports InRelease\n",
            "Get:12 https://download.docker.com/linux/ubuntu bionic/stable amd64 Packages [46.4 kB]\n",
            "Fetched 111 kB in 3s (35.5 kB/s)\n",
            "45 packages can be upgraded. Run 'apt list --upgradable' to see them.\n",
            "Reading package lists... Done\n",
            "W: https://download.docker.com/linux/ubuntu/dists/bionic/InRelease: Key is stored in legacy trusted.gpg keyring (/etc/apt/trusted.gpg), see the DEPRECATION section in apt-key(8) for details.\n",
            "Reading package lists... Done\n",
            "Building dependency tree... Done\n",
            "Reading state information... Done\n",
            "The following additional packages will be installed:\n",
            "  apparmor containerd.io docker-buildx-plugin docker-ce-cli\n",
            "  docker-ce-rootless-extras docker-compose-plugin iptables libip6tc2\n",
            "  libnetfilter-conntrack3 libnfnetlink0 libnftnl11 libslirp0 netbase pigz\n",
            "  slirp4netns\n",
            "Suggested packages:\n",
            "  apparmor-profiles-extra apparmor-utils aufs-tools cgroupfs-mount\n",
            "  | cgroup-lite firewalld nftables\n",
            "The following NEW packages will be installed:\n",
            "  apparmor containerd.io docker-buildx-plugin docker-ce docker-ce-cli\n",
            "  docker-ce-rootless-extras docker-compose-plugin iptables libip6tc2\n",
            "  libnetfilter-conntrack3 libnfnetlink0 libnftnl11 libslirp0 netbase pigz\n",
            "  slirp4netns\n",
            "0 upgraded, 16 newly installed, 0 to remove and 45 not upgraded.\n",
            "Need to get 112 MB of archives.\n",
            "After this operation, 407 MB of additional disk space will be used.\n",
            "Get:1 https://download.docker.com/linux/ubuntu bionic/stable amd64 containerd.io amd64 1.6.21-1 [28.3 MB]\n",
            "Get:2 http://archive.ubuntu.com/ubuntu jammy/universe amd64 pigz amd64 2.6-1 [63.6 kB]\n",
            "Get:3 http://archive.ubuntu.com/ubuntu jammy/main amd64 netbase all 6.3 [12.9 kB]\n",
            "Get:4 http://archive.ubuntu.com/ubuntu jammy-updates/main amd64 apparmor amd64 3.0.4-2ubuntu2.3 [595 kB]\n",
            "Get:5 https://download.docker.com/linux/ubuntu bionic/stable amd64 docker-buildx-plugin amd64 0.10.5-1~ubuntu.18.04~bionic [26.1 MB]\n",
            "Get:6 http://archive.ubuntu.com/ubuntu jammy-updates/main amd64 libip6tc2 amd64 1.8.7-1ubuntu5.2 [20.3 kB]\n",
            "Get:7 http://archive.ubuntu.com/ubuntu jammy/main amd64 libnfnetlink0 amd64 1.0.1-3build3 [14.6 kB]\n",
            "Get:8 http://archive.ubuntu.com/ubuntu jammy/main amd64 libnetfilter-conntrack3 amd64 1.0.9-1 [45.3 kB]\n",
            "Get:9 http://archive.ubuntu.com/ubuntu jammy/main amd64 libnftnl11 amd64 1.2.1-1build1 [65.5 kB]\n",
            "Get:10 http://archive.ubuntu.com/ubuntu jammy-updates/main amd64 iptables amd64 1.8.7-1ubuntu5.2 [455 kB]\n",
            "Get:11 http://archive.ubuntu.com/ubuntu jammy/main amd64 libslirp0 amd64 4.6.1-1build1 [61.5 kB]\n",
            "Get:12 http://archive.ubuntu.com/ubuntu jammy/universe amd64 slirp4netns amd64 1.0.1-2 [28.2 kB]\n",
            "Get:13 https://download.docker.com/linux/ubuntu bionic/stable amd64 docker-ce-cli amd64 5:24.0.2-1~ubuntu.18.04~bionic [13.3 MB]\n",
            "Get:14 https://download.docker.com/linux/ubuntu bionic/stable amd64 docker-ce amd64 5:24.0.2-1~ubuntu.18.04~bionic [22.9 MB]\n",
            "Get:15 https://download.docker.com/linux/ubuntu bionic/stable amd64 docker-ce-rootless-extras amd64 5:24.0.2-1~ubuntu.18.04~bionic [9,014 kB]\n",
            "Get:16 https://download.docker.com/linux/ubuntu bionic/stable amd64 docker-compose-plugin amd64 2.18.1-1~ubuntu.18.04~bionic [10.9 MB]\n",
            "Fetched 112 MB in 2s (64.9 MB/s)\n",
            "debconf: unable to initialize frontend: Dialog\n",
            "debconf: (No usable dialog-like program is installed, so the dialog based frontend cannot be used. at /usr/share/perl5/Debconf/FrontEnd/Dialog.pm line 78, <> line 16.)\n",
            "debconf: falling back to frontend: Readline\n",
            "debconf: unable to initialize frontend: Readline\n",
            "debconf: (This frontend requires a controlling tty.)\n",
            "debconf: falling back to frontend: Teletype\n",
            "dpkg-preconfigure: unable to re-open stdin: \n",
            "Selecting previously unselected package pigz.\n",
            "(Reading database ... 121922 files and directories currently installed.)\n",
            "Preparing to unpack .../00-pigz_2.6-1_amd64.deb ...\n",
            "Unpacking pigz (2.6-1) ...\n",
            "Selecting previously unselected package netbase.\n",
            "Preparing to unpack .../01-netbase_6.3_all.deb ...\n",
            "Unpacking netbase (6.3) ...\n",
            "Selecting previously unselected package apparmor.\n",
            "Preparing to unpack .../02-apparmor_3.0.4-2ubuntu2.3_amd64.deb ...\n",
            "Unpacking apparmor (3.0.4-2ubuntu2.3) ...\n",
            "Selecting previously unselected package libip6tc2:amd64.\n",
            "Preparing to unpack .../03-libip6tc2_1.8.7-1ubuntu5.2_amd64.deb ...\n",
            "Unpacking libip6tc2:amd64 (1.8.7-1ubuntu5.2) ...\n",
            "Selecting previously unselected package libnfnetlink0:amd64.\n",
            "Preparing to unpack .../04-libnfnetlink0_1.0.1-3build3_amd64.deb ...\n",
            "Unpacking libnfnetlink0:amd64 (1.0.1-3build3) ...\n",
            "Selecting previously unselected package libnetfilter-conntrack3:amd64.\n",
            "Preparing to unpack .../05-libnetfilter-conntrack3_1.0.9-1_amd64.deb ...\n",
            "Unpacking libnetfilter-conntrack3:amd64 (1.0.9-1) ...\n",
            "Selecting previously unselected package libnftnl11:amd64.\n",
            "Preparing to unpack .../06-libnftnl11_1.2.1-1build1_amd64.deb ...\n",
            "Unpacking libnftnl11:amd64 (1.2.1-1build1) ...\n",
            "Selecting previously unselected package iptables.\n",
            "Preparing to unpack .../07-iptables_1.8.7-1ubuntu5.2_amd64.deb ...\n",
            "Unpacking iptables (1.8.7-1ubuntu5.2) ...\n",
            "Selecting previously unselected package containerd.io.\n",
            "Preparing to unpack .../08-containerd.io_1.6.21-1_amd64.deb ...\n",
            "Unpacking containerd.io (1.6.21-1) ...\n",
            "Selecting previously unselected package docker-buildx-plugin.\n",
            "Preparing to unpack .../09-docker-buildx-plugin_0.10.5-1~ubuntu.18.04~bionic_amd64.deb ...\n",
            "Unpacking docker-buildx-plugin (0.10.5-1~ubuntu.18.04~bionic) ...\n",
            "Selecting previously unselected package docker-ce-cli.\n",
            "Preparing to unpack .../10-docker-ce-cli_5%3a24.0.2-1~ubuntu.18.04~bionic_amd64.deb ...\n",
            "Unpacking docker-ce-cli (5:24.0.2-1~ubuntu.18.04~bionic) ...\n",
            "Selecting previously unselected package docker-ce.\n",
            "Preparing to unpack .../11-docker-ce_5%3a24.0.2-1~ubuntu.18.04~bionic_amd64.deb ...\n",
            "Unpacking docker-ce (5:24.0.2-1~ubuntu.18.04~bionic) ...\n",
            "Selecting previously unselected package docker-ce-rootless-extras.\n",
            "Preparing to unpack .../12-docker-ce-rootless-extras_5%3a24.0.2-1~ubuntu.18.04~bionic_amd64.deb ...\n",
            "Unpacking docker-ce-rootless-extras (5:24.0.2-1~ubuntu.18.04~bionic) ...\n",
            "Selecting previously unselected package docker-compose-plugin.\n",
            "Preparing to unpack .../13-docker-compose-plugin_2.18.1-1~ubuntu.18.04~bionic_amd64.deb ...\n",
            "Unpacking docker-compose-plugin (2.18.1-1~ubuntu.18.04~bionic) ...\n",
            "Selecting previously unselected package libslirp0:amd64.\n",
            "Preparing to unpack .../14-libslirp0_4.6.1-1build1_amd64.deb ...\n",
            "Unpacking libslirp0:amd64 (4.6.1-1build1) ...\n",
            "Selecting previously unselected package slirp4netns.\n",
            "Preparing to unpack .../15-slirp4netns_1.0.1-2_amd64.deb ...\n",
            "Unpacking slirp4netns (1.0.1-2) ...\n",
            "Setting up libip6tc2:amd64 (1.8.7-1ubuntu5.2) ...\n",
            "Setting up libnftnl11:amd64 (1.2.1-1build1) ...\n",
            "Setting up apparmor (3.0.4-2ubuntu2.3) ...\n",
            "debconf: unable to initialize frontend: Dialog\n",
            "debconf: (No usable dialog-like program is installed, so the dialog based frontend cannot be used. at /usr/share/perl5/Debconf/FrontEnd/Dialog.pm line 78.)\n",
            "debconf: falling back to frontend: Readline\n",
            "Created symlink /etc/systemd/system/sysinit.target.wants/apparmor.service → /lib/systemd/system/apparmor.service.\n",
            "Setting up docker-buildx-plugin (0.10.5-1~ubuntu.18.04~bionic) ...\n",
            "Setting up containerd.io (1.6.21-1) ...\n",
            "Created symlink /etc/systemd/system/multi-user.target.wants/containerd.service → /lib/systemd/system/containerd.service.\n",
            "Setting up docker-compose-plugin (2.18.1-1~ubuntu.18.04~bionic) ...\n",
            "Setting up docker-ce-cli (5:24.0.2-1~ubuntu.18.04~bionic) ...\n",
            "Setting up libslirp0:amd64 (4.6.1-1build1) ...\n",
            "Setting up pigz (2.6-1) ...\n",
            "Setting up libnfnetlink0:amd64 (1.0.1-3build3) ...\n",
            "Setting up netbase (6.3) ...\n",
            "Setting up docker-ce-rootless-extras (5:24.0.2-1~ubuntu.18.04~bionic) ...\n",
            "Setting up slirp4netns (1.0.1-2) ...\n",
            "Setting up libnetfilter-conntrack3:amd64 (1.0.9-1) ...\n",
            "Setting up iptables (1.8.7-1ubuntu5.2) ...\n",
            "update-alternatives: using /usr/sbin/iptables-legacy to provide /usr/sbin/iptables (iptables) in auto mode\n",
            "update-alternatives: using /usr/sbin/ip6tables-legacy to provide /usr/sbin/ip6tables (ip6tables) in auto mode\n",
            "update-alternatives: using /usr/sbin/iptables-nft to provide /usr/sbin/iptables (iptables) in auto mode\n",
            "update-alternatives: using /usr/sbin/ip6tables-nft to provide /usr/sbin/ip6tables (ip6tables) in auto mode\n",
            "update-alternatives: using /usr/sbin/arptables-nft to provide /usr/sbin/arptables (arptables) in auto mode\n",
            "update-alternatives: using /usr/sbin/ebtables-nft to provide /usr/sbin/ebtables (ebtables) in auto mode\n",
            "Setting up docker-ce (5:24.0.2-1~ubuntu.18.04~bionic) ...\n",
            "Created symlink /etc/systemd/system/multi-user.target.wants/docker.service → /lib/systemd/system/docker.service.\n",
            "Created symlink /etc/systemd/system/sockets.target.wants/docker.socket → /lib/systemd/system/docker.socket.\n",
            "invoke-rc.d: could not determine current runlevel\n",
            "invoke-rc.d: policy-rc.d denied execution of start.\n",
            "Processing triggers for man-db (2.10.2-1) ...\n",
            "Processing triggers for libc-bin (2.35-0ubuntu3.4) ...\n",
            "/sbin/ldconfig.real: /usr/local/lib/libtbb.so.12 is not a symbolic link\n",
            "\n",
            "/sbin/ldconfig.real: /usr/local/lib/libtbbmalloc_proxy.so.2 is not a symbolic link\n",
            "\n",
            "/sbin/ldconfig.real: /usr/local/lib/libtbbbind_2_5.so.3 is not a symbolic link\n",
            "\n",
            "/sbin/ldconfig.real: /usr/local/lib/libtbbbind_2_0.so.3 is not a symbolic link\n",
            "\n",
            "/sbin/ldconfig.real: /usr/local/lib/libtbbbind.so.3 is not a symbolic link\n",
            "\n",
            "/sbin/ldconfig.real: /usr/local/lib/libtbbmalloc.so.2 is not a symbolic link\n",
            "\n"
          ]
        },
        {
          "output_type": "execute_result",
          "data": {
            "text/plain": []
          },
          "metadata": {},
          "execution_count": 45
        }
      ]
    },
    {
      "cell_type": "code",
      "source": [
        "!sudo dockerd\n",
        "#!systemctl status docker\n",
        "#!sudo systemctl start docker\n",
        "#!docker build -t my-image ."
      ],
      "metadata": {
        "id": "V9WWG8Al-wsW"
      },
      "execution_count": null,
      "outputs": []
    },
    {
      "cell_type": "code",
      "source": [
        "#%%shell\n",
        "\n",
        "!TIMESFM_IMAGE_URI=$TIMESFM_IMAGE_URI\n",
        "!echo $TIMESFM_IMAGE_URI\n",
        "#!dockerd -b none --iptables=0 -l warn &\n",
        "!dockerd -b none --iptables=0 -l warn &\n",
        "!docker  build --tag=$TIMESFM_IMAGE_URI ./src/"
      ],
      "metadata": {
        "colab": {
          "base_uri": "https://localhost:8080/"
        },
        "id": "vFFpyMH_2hev",
        "outputId": "eda09c8e-34f6-4dd1-cbf1-9eefcb1837af"
      },
      "execution_count": 31,
      "outputs": [
        {
          "output_type": "stream",
          "name": "stdout",
          "text": [
            "us-central1-docker.pkg.dev/argolis-project-340214/googleio24/timesfm-001-200m\n",
            "\u001b[33mWARN\u001b[0m[2024-05-24T00:19:56.633298637Z] failed to load plugin io.containerd.snapshotter.v1.devmapper  \u001b[33merror\u001b[0m=\"devmapper not configured\"\n",
            "\u001b[33mWARN\u001b[0m[2024-05-24T00:19:56.634507569Z] could not use snapshotter devmapper in metadata plugin  \u001b[33merror\u001b[0m=\"devmapper not configured\"\n",
            "\u001b[31mERRO\u001b[0m[2024-05-24T00:19:56.636233559Z] failed to initialize a tracing processor \"otlp\"  \u001b[31merror\u001b[0m=\"no OpenTelemetry endpoint: skip plugin\"\n",
            "\u001b[31mERRO\u001b[0m[2024-05-24T00:19:56.673711133Z] failed to mount overlay: invalid argument     \u001b[31mstorage-driver\u001b[0m=overlay2\n",
            "\u001b[31mERRO\u001b[0m[2024-05-24T00:19:56.673884998Z] exec: \"fuse-overlayfs\": executable file not found in $PATH  \u001b[31mstorage-driver\u001b[0m=fuse-overlayfs\n",
            "\u001b[33mWARN\u001b[0m[2024-05-24T00:19:56.715004047Z] Failed to disable IPv6 on all interfaces on network namespace \"/var/run/docker/netns/65678b632bca\": failed to disable IPv6 forwarding for container's interface all: open /proc/sys/net/ipv6/conf/all/disable_ipv6: read-only file system \n",
            "\u001b[31mERRO\u001b[0m[2024-05-24T00:19:56.715250854Z] failed to create osl sandbox while trying to restore sandbox 65678b6 for cleanup: operation not permitted \n",
            "\u001b[33mWARN\u001b[0m[2024-05-24T00:19:56.733782536Z] WARNING: No swap limit support               \n",
            "ERROR: Cannot connect to the Docker daemon at unix:///var/run/docker.sock. Is the docker daemon running?\n"
          ]
        }
      ]
    },
    {
      "cell_type": "code",
      "source": [
        "# Check version.\n",
        "!docker --version"
      ],
      "metadata": {
        "colab": {
          "base_uri": "https://localhost:8080/"
        },
        "id": "5kXInAGBxrQu",
        "outputId": "aeeaf799-deea-46e0-d557-fea1e013bfb0"
      },
      "execution_count": 92,
      "outputs": [
        {
          "output_type": "stream",
          "name": "stdout",
          "text": [
            "Docker version 24.0.2, build cb74dfc\n"
          ]
        }
      ]
    },
    {
      "cell_type": "code",
      "source": [
        "!docker  build --tag=$TIMESFM_IMAGE_URI ./src/"
      ],
      "metadata": {
        "id": "rTU6tX8N274x"
      },
      "execution_count": null,
      "outputs": []
    },
    {
      "cell_type": "code",
      "source": [
        "%%shell\n",
        "pip install udocker\n",
        "udocker --allow-root install"
      ],
      "metadata": {
        "colab": {
          "base_uri": "https://localhost:8080/"
        },
        "id": "3TVFpR6LvAtC",
        "outputId": "e09d2344-19b9-401c-b75d-77842110ec4d"
      },
      "execution_count": 26,
      "outputs": [
        {
          "output_type": "stream",
          "name": "stdout",
          "text": [
            "Collecting udocker\n",
            "  Downloading udocker-1.3.16-py2.py3-none-any.whl (119 kB)\n",
            "\u001b[2K     \u001b[90m━━━━━━━━━━━━━━━━━━━━━━━━━━━━━━━━━━━━━━━━\u001b[0m \u001b[32m119.4/119.4 kB\u001b[0m \u001b[31m1.2 MB/s\u001b[0m eta \u001b[36m0:00:00\u001b[0m\n",
            "\u001b[?25hInstalling collected packages: udocker\n",
            "Successfully installed udocker-1.3.16\n",
            "Info: creating repo: /root/.udocker\n",
            "Info: udocker command line interface 1.3.16\n",
            "Info: searching for udockertools >= 1.2.11\n",
            "Info: installing udockertools 1.2.11\n",
            "Info: installation of udockertools successful\n"
          ]
        },
        {
          "output_type": "execute_result",
          "data": {
            "text/plain": []
          },
          "metadata": {},
          "execution_count": 26
        }
      ]
    },
    {
      "cell_type": "code",
      "source": [
        "%%shell\n",
        "set -x\n",
        "dockerd -b none --iptables=0 -l warn &\n",
        "for i in $(seq 5); do [ ! -S \"/var/run/docker.sock\" ] && sleep 2 || break; done\n",
        "docker info\n",
        "docker network ls\n",
        "docker pull hello-world\n",
        "docker images\n",
        "docker run hello-world\n",
        "kill $(jobs -p)"
      ],
      "metadata": {
        "id": "KGPV1vYzwDUK"
      },
      "execution_count": null,
      "outputs": []
    },
    {
      "cell_type": "code",
      "source": [
        "#@title Run on Vertex AI Using Vertex AI Model Registry\n",
        "\n",
        "local_model.push_image()"
      ],
      "metadata": {
        "colab": {
          "base_uri": "https://localhost:8080/",
          "height": 428
        },
        "id": "J2gyK88jFqo_",
        "outputId": "179082ae-a390-4b54-b44e-d3a7dd5d579f"
      },
      "execution_count": 103,
      "outputs": [
        {
          "output_type": "stream",
          "name": "stderr",
          "text": [
            "/usr/lib/python3.10/subprocess.py:955: RuntimeWarning: line buffering (buffering=1) isn't supported in binary mode, the default buffer size will be used\n",
            "  self.stdin = io.open(p2cwrite, 'wb', bufsize)\n",
            "/usr/lib/python3.10/subprocess.py:961: RuntimeWarning: line buffering (buffering=1) isn't supported in binary mode, the default buffer size will be used\n",
            "  self.stdout = io.open(c2pread, 'rb', bufsize)\n"
          ]
        },
        {
          "output_type": "error",
          "ename": "DockerError",
          "evalue": "('\\nDocker failed with error code 1.\\nCommand: docker push us-central1-docker.pkg.dev/argolis-project-340214/googleio24/timesfm-001-200m\\n', ['docker', 'push', 'us-central1-docker.pkg.dev/argolis-project-340214/googleio24/timesfm-001-200m'], 1)",
          "traceback": [
            "\u001b[0;31m---------------------------------------------------------------------------\u001b[0m",
            "\u001b[0;31mDockerError\u001b[0m                               Traceback (most recent call last)",
            "\u001b[0;32m<ipython-input-103-cf18877b8392>\u001b[0m in \u001b[0;36m<cell line: 3>\u001b[0;34m()\u001b[0m\n\u001b[1;32m      1\u001b[0m \u001b[0;31m#@title Run on Vertex AI Using Vertex AI Model Registry\u001b[0m\u001b[0;34m\u001b[0m\u001b[0;34m\u001b[0m\u001b[0m\n\u001b[1;32m      2\u001b[0m \u001b[0;34m\u001b[0m\u001b[0m\n\u001b[0;32m----> 3\u001b[0;31m \u001b[0mlocal_model\u001b[0m\u001b[0;34m.\u001b[0m\u001b[0mpush_image\u001b[0m\u001b[0;34m(\u001b[0m\u001b[0;34m)\u001b[0m\u001b[0;34m\u001b[0m\u001b[0;34m\u001b[0m\u001b[0m\n\u001b[0m",
            "\u001b[0;32m/usr/local/lib/python3.10/dist-packages/google/cloud/aiplatform/prediction/local_model.py\u001b[0m in \u001b[0;36mpush_image\u001b[0;34m(self)\u001b[0m\n\u001b[1;32m    610\u001b[0m         \u001b[0mreturn_code\u001b[0m \u001b[0;34m=\u001b[0m \u001b[0mlocal_util\u001b[0m\u001b[0;34m.\u001b[0m\u001b[0mexecute_command\u001b[0m\u001b[0;34m(\u001b[0m\u001b[0mcommand\u001b[0m\u001b[0;34m)\u001b[0m\u001b[0;34m\u001b[0m\u001b[0;34m\u001b[0m\u001b[0m\n\u001b[1;32m    611\u001b[0m         \u001b[0;32mif\u001b[0m \u001b[0mreturn_code\u001b[0m \u001b[0;34m!=\u001b[0m \u001b[0;36m0\u001b[0m\u001b[0;34m:\u001b[0m\u001b[0;34m\u001b[0m\u001b[0;34m\u001b[0m\u001b[0m\n\u001b[0;32m--> 612\u001b[0;31m             \u001b[0merrors\u001b[0m\u001b[0;34m.\u001b[0m\u001b[0mraise_docker_error_with_command\u001b[0m\u001b[0;34m(\u001b[0m\u001b[0mcommand\u001b[0m\u001b[0;34m,\u001b[0m \u001b[0mreturn_code\u001b[0m\u001b[0;34m)\u001b[0m\u001b[0;34m\u001b[0m\u001b[0;34m\u001b[0m\u001b[0m\n\u001b[0m\u001b[1;32m    613\u001b[0m \u001b[0;34m\u001b[0m\u001b[0m\n\u001b[1;32m    614\u001b[0m     \u001b[0;32mdef\u001b[0m \u001b[0mpull_image_if_not_exists\u001b[0m\u001b[0;34m(\u001b[0m\u001b[0mself\u001b[0m\u001b[0;34m)\u001b[0m\u001b[0;34m:\u001b[0m\u001b[0;34m\u001b[0m\u001b[0;34m\u001b[0m\u001b[0m\n",
            "\u001b[0;32m/usr/local/lib/python3.10/dist-packages/google/cloud/aiplatform/docker_utils/errors.py\u001b[0m in \u001b[0;36mraise_docker_error_with_command\u001b[0;34m(command, return_code)\u001b[0m\n\u001b[1;32m     58\u001b[0m         )\n\u001b[1;32m     59\u001b[0m     )\n\u001b[0;32m---> 60\u001b[0;31m     \u001b[0;32mraise\u001b[0m \u001b[0mDockerError\u001b[0m\u001b[0;34m(\u001b[0m\u001b[0merror_msg\u001b[0m\u001b[0;34m,\u001b[0m \u001b[0mcommand\u001b[0m\u001b[0;34m,\u001b[0m \u001b[0mreturn_code\u001b[0m\u001b[0;34m)\u001b[0m\u001b[0;34m\u001b[0m\u001b[0;34m\u001b[0m\u001b[0m\n\u001b[0m",
            "\u001b[0;31mDockerError\u001b[0m: ('\\nDocker failed with error code 1.\\nCommand: docker push us-central1-docker.pkg.dev/argolis-project-340214/googleio24/timesfm-001-200m\\n', ['docker', 'push', 'us-central1-docker.pkg.dev/argolis-project-340214/googleio24/timesfm-001-200m'], 1)"
          ]
        }
      ]
    }
  ]
}